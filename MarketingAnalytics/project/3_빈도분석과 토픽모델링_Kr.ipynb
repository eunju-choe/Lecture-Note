{
 "cells": [
  {
   "cell_type": "markdown",
   "id": "17c7f530",
   "metadata": {},
   "source": [
    "'서부산 관광지의 마케팅 전략' 프로젝트 정리의 세 번째 시간입니다. 이전 게시글에서는 영어로 작성된 리뷰의 빈도 분석과 토픽 모델링을 진행하였습니다. 이번에는 한국어 리뷰의 빈도 분석과 토픽 모델링 과정에 대해 정리해보도록 하겠습니다.\n",
    "\n",
    "한국어 데이터는 비교적 외국인의 방문이 적은 서부산 관광지의 5곳에서 수집하였습니다. 5개의 데이터에 동일한 방법을 적용하였기 때문에, 이번에도 다대포 해수욕장의 리뷰를 텍스트 분석하는 과정만 예시로 사용하였습니다."
   ]
  },
  {
   "cell_type": "code",
   "execution_count": 21,
   "id": "22c3ca9a",
   "metadata": {
    "ExecuteTime": {
     "end_time": "2023-04-14T07:45:24.077475Z",
     "start_time": "2023-04-14T07:45:24.064704Z"
    }
   },
   "outputs": [],
   "source": [
    "import pandas as pd\n",
    "import matplotlib.pyplot as plt\n",
    "import re\n",
    "from wordcloud import WordCloud\n",
    "from sklearn.feature_extraction.text import TfidfVectorizer\n",
    "from ckonlpy.tag import Twitter\n",
    "import warnings\n",
    "import gensim\n",
    "from gensim import corpora, models\n",
    "from pprint import pprint\n",
    "\n",
    "warnings.filterwarnings(action='ignore')\n",
    "%matplotlib inline"
   ]
  },
  {
   "cell_type": "code",
   "execution_count": 4,
   "id": "5591a3ef",
   "metadata": {
    "ExecuteTime": {
     "end_time": "2023-04-14T07:41:47.481396Z",
     "start_time": "2023-04-14T07:41:47.451440Z"
    }
   },
   "outputs": [
    {
     "data": {
      "text/html": [
       "<div>\n",
       "<style scoped>\n",
       "    .dataframe tbody tr th:only-of-type {\n",
       "        vertical-align: middle;\n",
       "    }\n",
       "\n",
       "    .dataframe tbody tr th {\n",
       "        vertical-align: top;\n",
       "    }\n",
       "\n",
       "    .dataframe thead th {\n",
       "        text-align: right;\n",
       "    }\n",
       "</style>\n",
       "<table border=\"1\" class=\"dataframe\">\n",
       "  <thead>\n",
       "    <tr style=\"text-align: right;\">\n",
       "      <th></th>\n",
       "      <th>DATE</th>\n",
       "      <th>RATING</th>\n",
       "      <th>REVIEW</th>\n",
       "    </tr>\n",
       "  </thead>\n",
       "  <tbody>\n",
       "    <tr>\n",
       "      <th>0</th>\n",
       "      <td>2020-06-08</td>\n",
       "      <td>5</td>\n",
       "      <td>몰운대쪽도 좋아요 분수대있는곳에서 편의점.식당있는곳으로 작은 골목지나면 이런곳이 나...</td>\n",
       "    </tr>\n",
       "    <tr>\n",
       "      <th>1</th>\n",
       "      <td>2020-02-21</td>\n",
       "      <td>4</td>\n",
       "      <td>넓은 모래가 매력적 다대포 해수욕장의 모래사장은 다른 해수욕장보다 더 넓은 것 같다...</td>\n",
       "    </tr>\n",
       "    <tr>\n",
       "      <th>2</th>\n",
       "      <td>2019-11-17</td>\n",
       "      <td>5</td>\n",
       "      <td>해넘이를 보아야 할 부산의 일몰 명소 부산의 제일 서쪽 낙동강 하구에 있는 해수욕장...</td>\n",
       "    </tr>\n",
       "    <tr>\n",
       "      <th>3</th>\n",
       "      <td>2019-11-12</td>\n",
       "      <td>4</td>\n",
       "      <td>조용한 바닷가, 좋은 곳 해운대, 광안리, 송정과는 완전히 다른 바닷가와 해변......</td>\n",
       "    </tr>\n",
       "    <tr>\n",
       "      <th>4</th>\n",
       "      <td>2019-10-16</td>\n",
       "      <td>5</td>\n",
       "      <td>바다미술제 2년만에 한번씩 비엔날레로 바다미술제가 10월 28일까지 해요.지금도 다...</td>\n",
       "    </tr>\n",
       "  </tbody>\n",
       "</table>\n",
       "</div>"
      ],
      "text/plain": [
       "         DATE RATING                                             REVIEW\n",
       "0  2020-06-08      5  몰운대쪽도 좋아요 분수대있는곳에서 편의점.식당있는곳으로 작은 골목지나면 이런곳이 나...\n",
       "1  2020-02-21      4  넓은 모래가 매력적 다대포 해수욕장의 모래사장은 다른 해수욕장보다 더 넓은 것 같다...\n",
       "2  2019-11-17      5  해넘이를 보아야 할 부산의 일몰 명소 부산의 제일 서쪽 낙동강 하구에 있는 해수욕장...\n",
       "3  2019-11-12      4  조용한 바닷가, 좋은 곳 해운대, 광안리, 송정과는 완전히 다른 바닷가와 해변......\n",
       "4  2019-10-16      5  바다미술제 2년만에 한번씩 비엔날레로 바다미술제가 10월 28일까지 해요.지금도 다..."
      ]
     },
     "execution_count": 4,
     "metadata": {},
     "output_type": "execute_result"
    }
   ],
   "source": [
    "df = pd.read_csv('Dadaepo Final.csv')\n",
    "df.head()"
   ]
  },
  {
   "cell_type": "markdown",
   "id": "924c80ca",
   "metadata": {},
   "source": [
    "Topic Modeling을 진행할 때에는 리뷰 단위로 문서를 나누고 해당 리뷰의 의미를 찾아내기 위해 리스트로 분리해주어야합니다. 따라서 리스트의 형태로 저장해주었습니다."
   ]
  },
  {
   "cell_type": "code",
   "execution_count": 5,
   "id": "4ea4b438",
   "metadata": {
    "ExecuteTime": {
     "end_time": "2023-04-14T07:41:48.266918Z",
     "start_time": "2023-04-14T07:41:48.259353Z"
    }
   },
   "outputs": [
    {
     "data": {
      "text/plain": [
       "['몰운대쪽도 좋아요 분수대있는곳에서 편의점.식당있는곳으로 작은 골목지나면 이런곳이 나와요.몇년째 방문해오지만처음 와봤어요ㅋㅋ.새로 정비해서 해안가선도 이쁘고 깔끔해요.식당까페등 더 정비가 되면 더 좋을거같습니다',\n",
       " '넓은 모래가 매력적 다대포 해수욕장의 모래사장은 다른 해수욕장보다 더 넓은 것 같다.지하철로 갈 수 있어서 접근성은 좋지만 다른 곳에 비해서는 외진 곳에 위치해서 현지인들이나 주변도시 사람들이 찾는 듯하다.']"
      ]
     },
     "execution_count": 5,
     "metadata": {},
     "output_type": "execute_result"
    }
   ],
   "source": [
    "r_list = list(df['REVIEW'])\n",
    "r_list[:2]"
   ]
  },
  {
   "cell_type": "markdown",
   "id": "7f21e198",
   "metadata": {},
   "source": [
    "## 1. 텍스트 전처리"
   ]
  },
  {
   "cell_type": "markdown",
   "id": "9919a633",
   "metadata": {},
   "source": [
    "### 1.1. 리뷰 정제"
   ]
  },
  {
   "cell_type": "code",
   "execution_count": 6,
   "id": "f80d2fe6",
   "metadata": {
    "ExecuteTime": {
     "end_time": "2023-04-14T07:41:49.097473Z",
     "start_time": "2023-04-14T07:41:49.092417Z"
    }
   },
   "outputs": [],
   "source": [
    "def text_cleaning(review_list):\n",
    "    # 한글만 남기기\n",
    "    cleaned = [re.sub('[^가-힣]+', ' ', text) for text in review_list]\n",
    "    \n",
    "    return cleaned"
   ]
  },
  {
   "cell_type": "markdown",
   "id": "70b91a77",
   "metadata": {},
   "source": [
    "먼저, 리뷰 텍스트에서 특수문자와 숫자 등을 제거하고 한글만 남겼습니다."
   ]
  },
  {
   "cell_type": "code",
   "execution_count": 7,
   "id": "9137bc09",
   "metadata": {
    "ExecuteTime": {
     "end_time": "2023-04-14T07:41:49.649691Z",
     "start_time": "2023-04-14T07:41:49.635340Z"
    },
    "scrolled": true
   },
   "outputs": [
    {
     "data": {
      "text/plain": [
       "['몰운대쪽도 좋아요 분수대있는곳에서 편의점 식당있는곳으로 작은 골목지나면 이런곳이 나와요 몇년째 방문해오지만처음 와봤어요 새로 정비해서 해안가선도 이쁘고 깔끔해요 식당까페등 더 정비가 되면 더 좋을거같습니다',\n",
       " '넓은 모래가 매력적 다대포 해수욕장의 모래사장은 다른 해수욕장보다 더 넓은 것 같다 지하철로 갈 수 있어서 접근성은 좋지만 다른 곳에 비해서는 외진 곳에 위치해서 현지인들이나 주변도시 사람들이 찾는 듯하다 ']"
      ]
     },
     "execution_count": 7,
     "metadata": {},
     "output_type": "execute_result"
    }
   ],
   "source": [
    "clean_list = text_cleaning(r_list)\n",
    "clean_list[:2]"
   ]
  },
  {
   "cell_type": "markdown",
   "id": "1eb3e078",
   "metadata": {},
   "source": [
    "text_cleaning 함수를 적용하여 clean_list에 정제한 결과를 저장합니다."
   ]
  },
  {
   "cell_type": "markdown",
   "id": "01df6cfa",
   "metadata": {},
   "source": [
    "### 1.2. 어근 추출(Stemming)과 토큰화"
   ]
  },
  {
   "cell_type": "markdown",
   "id": "2ca0ec3d",
   "metadata": {},
   "source": [
    "리뷰 데이터는 인터넷에서 작성된 글의 특성상 신조어나 줄임말이 많습니다. 이러한 단어가 나누어지는 것을 방지하기 위해 형태소 분석기로 twitter를 사용하였습니다. twitter는 add_dictionary를 이용하여 사전에 추가할 수 있기 때문입니다."
   ]
  },
  {
   "cell_type": "code",
   "execution_count": 8,
   "id": "b94a9752",
   "metadata": {
    "ExecuteTime": {
     "end_time": "2023-04-14T07:41:54.786316Z",
     "start_time": "2023-04-14T07:41:50.507670Z"
    }
   },
   "outputs": [
    {
     "data": {
      "text/plain": [
       "['다대', '포', '해수욕장', '의', '모래사장', '은', '더', '넓은', '것', '같다']"
      ]
     },
     "execution_count": 8,
     "metadata": {},
     "output_type": "execute_result"
    }
   ],
   "source": [
    "# 사용 예시 - 사전 추가 전\n",
    "twitter = Twitter()\n",
    "twitter.morphs('다대포 해수욕장의 모래사장은 더 넓은 것 같다')"
   ]
  },
  {
   "cell_type": "code",
   "execution_count": 9,
   "id": "683aa001",
   "metadata": {
    "ExecuteTime": {
     "end_time": "2023-04-14T07:41:54.830720Z",
     "start_time": "2023-04-14T07:41:54.818578Z"
    },
    "scrolled": true
   },
   "outputs": [
    {
     "data": {
      "text/plain": [
       "['다대포', '해수욕장', '의', '모래사장', '은', '더', '넓은', '것', '같다']"
      ]
     },
     "execution_count": 9,
     "metadata": {},
     "output_type": "execute_result"
    }
   ],
   "source": [
    "# 사전에 추가\n",
    "twitter.add_dictionary('다대포', 'Noun')\n",
    "twitter.morphs('다대포 해수욕장의 모래사장은 더 넓은 것 같다')"
   ]
  },
  {
   "cell_type": "markdown",
   "id": "8f28e663",
   "metadata": {},
   "source": [
    "twitter 기본 형태소 분석기에서는 다대포를 다대 와 포로 분리하지만, 사전에 다대포를 추가한 후에는 다대포를 정상적으로 분리되는 것을 확인할 수 있습니다."
   ]
  },
  {
   "cell_type": "code",
   "execution_count": 10,
   "id": "f873bae0",
   "metadata": {
    "ExecuteTime": {
     "end_time": "2023-04-14T07:41:55.045021Z",
     "start_time": "2023-04-14T07:41:54.859034Z"
    }
   },
   "outputs": [],
   "source": [
    "# 다대포 해수욕장 리뷰 분석에서 사용할 사전\n",
    "twitter = Twitter()\n",
    "add_list = ['다대포', '분수쇼', '백사장', '낙조', '몰운대', '분수대',\n",
    "           '하구', '광안리', '미술제', '포토존', '하구', '서부산']\n",
    "for word in add_list:\n",
    "    twitter.add_dictionary(word, 'Noun')"
   ]
  },
  {
   "cell_type": "markdown",
   "id": "e1ea794d",
   "metadata": {},
   "source": [
    "add_list는 토큰화 과정을 반복하며 어근 추출이 제대로 이루어지는지를 확인하며, dictionary에 추가할 단어를 정리하였습니다."
   ]
  },
  {
   "cell_type": "code",
   "execution_count": 11,
   "id": "f12da600",
   "metadata": {
    "ExecuteTime": {
     "end_time": "2023-04-14T07:41:56.499044Z",
     "start_time": "2023-04-14T07:41:56.492462Z"
    }
   },
   "outputs": [],
   "source": [
    "# 토큰화 함수 정의\n",
    "def morphs_tokenizer(c):\n",
    "    global twitter\n",
    "\n",
    "    morphs = []\n",
    "    for i in range(len(c)):\n",
    "        # stem : 어근 추출 // norm : 정규화\n",
    "        morphs.append(twitter.morphs(c[i], stem=True, norm=True))\n",
    "\n",
    "    return morphs"
   ]
  },
  {
   "cell_type": "code",
   "execution_count": 12,
   "id": "426e4588",
   "metadata": {
    "ExecuteTime": {
     "end_time": "2023-04-14T07:41:59.249525Z",
     "start_time": "2023-04-14T07:41:56.730070Z"
    }
   },
   "outputs": [
    {
     "name": "stdout",
     "output_type": "stream",
     "text": [
      "['몰운대', '쪽', '도', '좋다', '분수대', '있다', '곳', '에서', '편의점', '식당', '있다', '곳', '으로', '작다', '골목', '지나', '면', '이런', '곳', '이', '나오다', '몇', '년', '째', '방', '문해', '오지', '만', '처음', '오다', '보다', '어요', '새롭다', '정비', '해서', '해안가', '선도', '이쁘다', '깔끔하다', '식당', '까페', '등', '더', '정비', '가', '되다', '더', '좋다', '같다']\n"
     ]
    }
   ],
   "source": [
    "morphs = morphs_tokenizer(clean_list)\n",
    "print(morphs[0])"
   ]
  },
  {
   "cell_type": "markdown",
   "id": "02a3e72c",
   "metadata": {},
   "source": [
    "다음과 같이 토큰화된 모습입니다."
   ]
  },
  {
   "cell_type": "markdown",
   "id": "ab4782cd",
   "metadata": {},
   "source": [
    "### 1.3. stopword 제거"
   ]
  },
  {
   "cell_type": "markdown",
   "id": "25700947",
   "metadata": {},
   "source": [
    "마지막으로 분석에 도움이 되지 않는 stopword를 제거하였으며, 한 글자의 단어들은 의미가 없는 경우가 많기 때문에 두 글자 이상의 단어만 남겨두었습니다."
   ]
  },
  {
   "cell_type": "code",
   "execution_count": 13,
   "id": "21f83645",
   "metadata": {
    "ExecuteTime": {
     "end_time": "2023-04-14T07:41:59.566935Z",
     "start_time": "2023-04-14T07:41:59.563286Z"
    }
   },
   "outputs": [],
   "source": [
    "def define_stopwords(path):\n",
    "    \n",
    "    # 한국어 불용어 txt 파일 불러오기 \n",
    "    SW = list(set())\n",
    "    with open(path, encoding='cp949') as f:\n",
    "        for word in f:\n",
    "            SW.append(word.rstrip())\n",
    "\n",
    "    return SW"
   ]
  },
  {
   "cell_type": "code",
   "execution_count": 14,
   "id": "afe6a28f",
   "metadata": {
    "ExecuteTime": {
     "end_time": "2023-04-14T07:41:59.832889Z",
     "start_time": "2023-04-14T07:41:59.826399Z"
    }
   },
   "outputs": [],
   "source": [
    "def delete_stopwords(text):\n",
    "    global SW\n",
    "    \n",
    "    morphs_sw = []\n",
    "    for i in range(len(text)):\n",
    "        t = []\n",
    "        for j in range(len(text[i])):\n",
    "            if (text[i][j] not in SW) and (len(text[i][j]) > 1):\n",
    "                t.append(text[i][j])\n",
    "        morphs_sw.append(t)\n",
    "    \n",
    "    return morphs_sw"
   ]
  },
  {
   "cell_type": "code",
   "execution_count": 43,
   "id": "3c5a40d3",
   "metadata": {
    "ExecuteTime": {
     "end_time": "2023-04-14T07:49:46.560158Z",
     "start_time": "2023-04-14T07:49:46.553465Z"
    }
   },
   "outputs": [],
   "source": [
    "SW = define_stopwords('stopwords-ko.txt')\n",
    "# stopword 추가\n",
    "SW += ['너무', '들다', '보다', '들이다', '다운', '않다', '많이']"
   ]
  },
  {
   "cell_type": "code",
   "execution_count": 44,
   "id": "046c66f9",
   "metadata": {
    "ExecuteTime": {
     "end_time": "2023-04-14T07:49:47.972100Z",
     "start_time": "2023-04-14T07:49:47.727945Z"
    },
    "scrolled": true
   },
   "outputs": [
    {
     "name": "stdout",
     "output_type": "stream",
     "text": [
      "['몰운대', '좋다', '분수대', '편의점', '식당', '작다', '골목', '나오다', '문해', '처음', '오다', '새롭다', '정비', '해안가', '선도', '이쁘다', '깔끔하다', '식당', '까페', '정비', '좋다']\n"
     ]
    }
   ],
   "source": [
    "tokenized = delete_stopwords(morphs)\n",
    "print(tokenized[0])"
   ]
  },
  {
   "cell_type": "markdown",
   "id": "6330d7fe",
   "metadata": {},
   "source": [
    "## 2. LDA Topic Modeling"
   ]
  },
  {
   "cell_type": "markdown",
   "id": "b40cfe91",
   "metadata": {},
   "source": [
    "전처리가 모두 끝났습니다. 전처리된 데이터를 가지고 LDA 토픽 모델링을 실시하였습니다."
   ]
  },
  {
   "cell_type": "code",
   "execution_count": 45,
   "id": "9587dab7",
   "metadata": {
    "ExecuteTime": {
     "end_time": "2023-04-14T07:49:48.228025Z",
     "start_time": "2023-04-14T07:49:48.206269Z"
    }
   },
   "outputs": [
    {
     "name": "stdout",
     "output_type": "stream",
     "text": [
      "Dictionary<1664 unique tokens: ['골목', '까페', '깔끔하다', '나오다', '몰운대']...>\n"
     ]
    }
   ],
   "source": [
    "dictionary = corpora.Dictionary(tokenized)\n",
    "print(dictionary)"
   ]
  },
  {
   "cell_type": "markdown",
   "id": "2d56be8f",
   "metadata": {},
   "source": [
    "<필터링 기준>\n",
    "- 10개 문서 이하에서 등장 (너무 개수가 적은 경우)\n",
    "- 전체 corpus 사이즈의 0.5 이상에서 등장 (너무 개수가 많은 경우)\n",
    "\n",
    "필터링 조건에 따라 빈도수 기준 상위 100,000개의 토큰만 추출하였습니다."
   ]
  },
  {
   "cell_type": "code",
   "execution_count": 69,
   "id": "25027512",
   "metadata": {
    "ExecuteTime": {
     "end_time": "2023-04-14T07:54:14.442127Z",
     "start_time": "2023-04-14T07:54:14.425334Z"
    }
   },
   "outputs": [],
   "source": [
    "dictionary.filter_extremes(no_below=10, no_above=0.5, keep_n=100000)\n",
    "corpus = [dictionary.doc2bow(text) for text in tokenized]"
   ]
  },
  {
   "cell_type": "markdown",
   "id": "5b298942",
   "metadata": {},
   "source": [
    "다음으로 단순 빈도 기반의 corpus를 tf-idf로 변환합니다."
   ]
  },
  {
   "cell_type": "code",
   "execution_count": 70,
   "id": "1908e7dd",
   "metadata": {
    "ExecuteTime": {
     "end_time": "2023-04-14T07:54:14.766240Z",
     "start_time": "2023-04-14T07:54:14.758617Z"
    }
   },
   "outputs": [
    {
     "name": "stdout",
     "output_type": "stream",
     "text": [
      "[(0, 0.3718207110444853),\n",
      " (1, 0.2945078956976876),\n",
      " (2, 0.3718207110444853),\n",
      " (3, 0.24680905884195836),\n",
      " (4, 0.2945078956976876),\n",
      " (5, 0.6993670030060993)]\n"
     ]
    }
   ],
   "source": [
    "tfidf = models.TfidfModel(corpus)\n",
    "corpus_tfidf = tfidf[corpus]\n",
    "for doc in corpus_tfidf:\n",
    "    pprint(doc)\n",
    "    break"
   ]
  },
  {
   "cell_type": "markdown",
   "id": "acef6c00",
   "metadata": {},
   "source": [
    "이제 7개의 토픽으로 LDA 토픽 모델링을 실시하겠습니다. gensim 패키지를 사용하여 LDA 모델링을 실시하였습니다."
   ]
  },
  {
   "cell_type": "code",
   "execution_count": 71,
   "id": "f1af4082",
   "metadata": {
    "ExecuteTime": {
     "end_time": "2023-04-14T07:54:20.022333Z",
     "start_time": "2023-04-14T07:54:15.265172Z"
    }
   },
   "outputs": [],
   "source": [
    "NUM_TOPICS = 7\n",
    "ldamodel = gensim.models.ldamodel.LdaModel(corpus_tfidf, num_topics = NUM_TOPICS, \n",
    "                                           id2word=dictionary, passes=15, random_state=902, \n",
    "                                           alpha=\"auto\", eta=\"auto\")"
   ]
  },
  {
   "cell_type": "code",
   "execution_count": 72,
   "id": "9b3016fa",
   "metadata": {
    "ExecuteTime": {
     "end_time": "2023-04-14T07:54:22.493841Z",
     "start_time": "2023-04-14T07:54:22.472411Z"
    }
   },
   "outputs": [
    {
     "data": {
      "text/html": [
       "<div>\n",
       "<style scoped>\n",
       "    .dataframe tbody tr th:only-of-type {\n",
       "        vertical-align: middle;\n",
       "    }\n",
       "\n",
       "    .dataframe tbody tr th {\n",
       "        vertical-align: top;\n",
       "    }\n",
       "\n",
       "    .dataframe thead th {\n",
       "        text-align: right;\n",
       "    }\n",
       "</style>\n",
       "<table border=\"1\" class=\"dataframe\">\n",
       "  <thead>\n",
       "    <tr style=\"text-align: right;\">\n",
       "      <th></th>\n",
       "      <th>Topic # 01</th>\n",
       "      <th>Topic # 02</th>\n",
       "      <th>Topic # 03</th>\n",
       "      <th>Topic # 04</th>\n",
       "      <th>Topic # 05</th>\n",
       "      <th>Topic # 06</th>\n",
       "      <th>Topic # 07</th>\n",
       "    </tr>\n",
       "  </thead>\n",
       "  <tbody>\n",
       "    <tr>\n",
       "      <th>0</th>\n",
       "      <td>바다</td>\n",
       "      <td>사람</td>\n",
       "      <td>일몰</td>\n",
       "      <td>자다</td>\n",
       "      <td>해수욕장</td>\n",
       "      <td>놀다</td>\n",
       "      <td>넓다</td>\n",
       "    </tr>\n",
       "    <tr>\n",
       "      <th>1</th>\n",
       "      <td>한적</td>\n",
       "      <td>오다</td>\n",
       "      <td>멋지다</td>\n",
       "      <td>주차</td>\n",
       "      <td>다대포</td>\n",
       "      <td>바닷가</td>\n",
       "      <td>경치</td>\n",
       "    </tr>\n",
       "    <tr>\n",
       "      <th>2</th>\n",
       "      <td>이쁘다</td>\n",
       "      <td>서핑</td>\n",
       "      <td>아름</td>\n",
       "      <td>가다</td>\n",
       "      <td>부산</td>\n",
       "      <td>가족</td>\n",
       "      <td>모래사장</td>\n",
       "    </tr>\n",
       "    <tr>\n",
       "      <th>3</th>\n",
       "      <td>없다</td>\n",
       "      <td>장소</td>\n",
       "      <td>최고</td>\n",
       "      <td>공원</td>\n",
       "      <td>시설</td>\n",
       "      <td>산책</td>\n",
       "      <td>그리</td>\n",
       "    </tr>\n",
       "    <tr>\n",
       "      <th>4</th>\n",
       "      <td>조개</td>\n",
       "      <td>사진</td>\n",
       "      <td>백사장</td>\n",
       "      <td>체험</td>\n",
       "      <td>낙동강</td>\n",
       "      <td>깨끗</td>\n",
       "      <td>지는</td>\n",
       "    </tr>\n",
       "    <tr>\n",
       "      <th>5</th>\n",
       "      <td>맛조개</td>\n",
       "      <td>모래</td>\n",
       "      <td>방문</td>\n",
       "      <td>바람</td>\n",
       "      <td>가기</td>\n",
       "      <td>좋아지다</td>\n",
       "      <td>풍경</td>\n",
       "    </tr>\n",
       "    <tr>\n",
       "      <th>6</th>\n",
       "      <td>잡다</td>\n",
       "      <td>많다</td>\n",
       "      <td>넓다</td>\n",
       "      <td>주차장</td>\n",
       "      <td>아름</td>\n",
       "      <td>얕다</td>\n",
       "      <td>깊다</td>\n",
       "    </tr>\n",
       "    <tr>\n",
       "      <th>7</th>\n",
       "      <td>분수</td>\n",
       "      <td>해운대</td>\n",
       "      <td>걷기</td>\n",
       "      <td>석양</td>\n",
       "      <td>몰운대</td>\n",
       "      <td>파도</td>\n",
       "      <td>여름</td>\n",
       "    </tr>\n",
       "    <tr>\n",
       "      <th>8</th>\n",
       "      <td>싶다</td>\n",
       "      <td>분수대</td>\n",
       "      <td>해수욕장</td>\n",
       "      <td>그늘</td>\n",
       "      <td>다대포해수욕장</td>\n",
       "      <td>수심</td>\n",
       "      <td>느낌</td>\n",
       "    </tr>\n",
       "    <tr>\n",
       "      <th>9</th>\n",
       "      <td>멀다</td>\n",
       "      <td>공간</td>\n",
       "      <td>재미</td>\n",
       "      <td>산책로</td>\n",
       "      <td>낙조</td>\n",
       "      <td>차다</td>\n",
       "      <td>해수욕장</td>\n",
       "    </tr>\n",
       "  </tbody>\n",
       "</table>\n",
       "</div>"
      ],
      "text/plain": [
       "  Topic # 01 Topic # 02 Topic # 03 Topic # 04 Topic # 05 Topic # 06 Topic # 07\n",
       "0         바다         사람         일몰         자다       해수욕장         놀다         넓다\n",
       "1         한적         오다        멋지다         주차        다대포        바닷가         경치\n",
       "2        이쁘다         서핑         아름         가다         부산         가족       모래사장\n",
       "3         없다         장소         최고         공원         시설         산책         그리\n",
       "4         조개         사진        백사장         체험        낙동강         깨끗         지는\n",
       "5        맛조개         모래         방문         바람         가기       좋아지다         풍경\n",
       "6         잡다         많다         넓다        주차장         아름         얕다         깊다\n",
       "7         분수        해운대         걷기         석양        몰운대         파도         여름\n",
       "8         싶다        분수대       해수욕장         그늘    다대포해수욕장         수심         느낌\n",
       "9         멀다         공간         재미        산책로         낙조         차다       해수욕장"
      ]
     },
     "execution_count": 72,
     "metadata": {},
     "output_type": "execute_result"
    }
   ],
   "source": [
    "word_dict = {};\n",
    "for i in range(NUM_TOPICS):\n",
    "    words = ldamodel.show_topic(i, topn = 10)\n",
    "    word_dict['Topic # ' + '{:02d}'.format(i+1)] = [i[0] for i in words]\n",
    "pd.DataFrame(word_dict)"
   ]
  },
  {
   "cell_type": "markdown",
   "id": "3ea4c927",
   "metadata": {},
   "source": [
    "다음과 같이 토픽 모델링이 완료되었습니다. 결과에 대한 해석은 다음 게시글에서 한 번에 진행하도록 하겠습니다."
   ]
  },
  {
   "cell_type": "markdown",
   "id": "da7c3fa8",
   "metadata": {},
   "source": [
    "## 3. TF-IDF 빈도분석"
   ]
  },
  {
   "cell_type": "markdown",
   "id": "a034632f",
   "metadata": {
    "ExecuteTime": {
     "end_time": "2023-04-14T07:51:03.938127Z",
     "start_time": "2023-04-14T07:51:03.924174Z"
    }
   },
   "source": [
    "토큰화된 텍스트 데이터를 띄워쓰기로 연결하여 역토큰화한 후 빈도 분석을 진행하였습니다."
   ]
  },
  {
   "cell_type": "code",
   "execution_count": 73,
   "id": "071beb00",
   "metadata": {
    "ExecuteTime": {
     "end_time": "2023-04-14T07:54:23.387913Z",
     "start_time": "2023-04-14T07:54:23.382373Z"
    }
   },
   "outputs": [],
   "source": [
    "detokenized_doc = []\n",
    "for i in range(len(df)):\n",
    "    t = ' '.join(tokenized[i])\n",
    "    detokenized_doc.append(t)\n",
    "\n",
    "df['REVIEW'] = detokenized_doc"
   ]
  },
  {
   "cell_type": "code",
   "execution_count": 74,
   "id": "f04b7d34",
   "metadata": {
    "ExecuteTime": {
     "end_time": "2023-04-14T07:54:23.580035Z",
     "start_time": "2023-04-14T07:54:23.556910Z"
    }
   },
   "outputs": [
    {
     "data": {
      "text/plain": [
       "(820, 1000)"
      ]
     },
     "execution_count": 74,
     "metadata": {},
     "output_type": "execute_result"
    }
   ],
   "source": [
    "vectorizer = TfidfVectorizer(max_features= 1000) # 상위 1,000개의 단어를 보존 \n",
    "tdm = vectorizer.fit_transform(df['REVIEW'])\n",
    "tdm.shape # TF-IDF 행렬의 크기 확인"
   ]
  },
  {
   "cell_type": "code",
   "execution_count": 75,
   "id": "9730a9d0",
   "metadata": {
    "ExecuteTime": {
     "end_time": "2023-04-14T07:54:23.965708Z",
     "start_time": "2023-04-14T07:54:23.725904Z"
    }
   },
   "outputs": [
    {
     "data": {
      "text/plain": [
       "[('몰운대', 5.598384902324651),\n",
       " ('좋다', 106.74388847216815),\n",
       " ('분수대', 4.685325526744318),\n",
       " ('식당', 1.5447491039808088),\n",
       " ('작다', 1.5941022493391785),\n",
       " ('나오다', 1.8564859807388148),\n",
       " ('처음', 3.746296729482263),\n",
       " ('오다', 11.279738354987536),\n",
       " ('새롭다', 1.7571735403145452),\n",
       " ('정비', 3.9036283886351004)]"
      ]
     },
     "execution_count": 75,
     "metadata": {},
     "output_type": "execute_result"
    }
   ],
   "source": [
    "tfidf_weights = [(word, tdm.getcol(idx).sum()) for word, idx in vectorizer.vocabulary_.items()]\n",
    "tfidf_weights[0:10]"
   ]
  },
  {
   "cell_type": "markdown",
   "id": "726373b3",
   "metadata": {},
   "source": [
    "### 3.1. TF-IDF 빈도분석 결과"
   ]
  },
  {
   "cell_type": "code",
   "execution_count": null,
   "id": "148e792c",
   "metadata": {
    "ExecuteTime": {
     "end_time": "2023-04-14T07:54:23.991732Z",
     "start_time": "2023-04-14T07:54:24.674Z"
    }
   },
   "outputs": [],
   "source": [
    "word_count = pd.DataFrame({'Word': vectorizer.get_feature_names(), \n",
    "                           'Frequency': tdm.sum(axis=0).flat})"
   ]
  },
  {
   "cell_type": "code",
   "execution_count": 77,
   "id": "b61bf5b1",
   "metadata": {
    "ExecuteTime": {
     "end_time": "2023-04-14T09:15:35.368990Z",
     "start_time": "2023-04-14T09:15:35.354656Z"
    }
   },
   "outputs": [
    {
     "data": {
      "text/html": [
       "<div>\n",
       "<style scoped>\n",
       "    .dataframe tbody tr th:only-of-type {\n",
       "        vertical-align: middle;\n",
       "    }\n",
       "\n",
       "    .dataframe tbody tr th {\n",
       "        vertical-align: top;\n",
       "    }\n",
       "\n",
       "    .dataframe thead th {\n",
       "        text-align: right;\n",
       "    }\n",
       "</style>\n",
       "<table border=\"1\" class=\"dataframe\">\n",
       "  <thead>\n",
       "    <tr style=\"text-align: right;\">\n",
       "      <th></th>\n",
       "      <th>Word</th>\n",
       "      <th>Frequency</th>\n",
       "    </tr>\n",
       "  </thead>\n",
       "  <tbody>\n",
       "    <tr>\n",
       "      <th>741</th>\n",
       "      <td>좋다</td>\n",
       "      <td>106.743888</td>\n",
       "    </tr>\n",
       "    <tr>\n",
       "      <th>213</th>\n",
       "      <td>놀다</td>\n",
       "      <td>32.703265</td>\n",
       "    </tr>\n",
       "    <tr>\n",
       "      <th>932</th>\n",
       "      <td>해수욕장</td>\n",
       "      <td>23.477106</td>\n",
       "    </tr>\n",
       "    <tr>\n",
       "      <th>617</th>\n",
       "      <td>일몰</td>\n",
       "      <td>22.768573</td>\n",
       "    </tr>\n",
       "    <tr>\n",
       "      <th>482</th>\n",
       "      <td>아름</td>\n",
       "      <td>19.921506</td>\n",
       "    </tr>\n",
       "    <tr>\n",
       "      <th>227</th>\n",
       "      <td>다대포</td>\n",
       "      <td>19.733799</td>\n",
       "    </tr>\n",
       "    <tr>\n",
       "      <th>401</th>\n",
       "      <td>산책</td>\n",
       "      <td>19.560301</td>\n",
       "    </tr>\n",
       "    <tr>\n",
       "      <th>100</th>\n",
       "      <td>공원</td>\n",
       "      <td>18.556797</td>\n",
       "    </tr>\n",
       "    <tr>\n",
       "      <th>208</th>\n",
       "      <td>넓다</td>\n",
       "      <td>17.192626</td>\n",
       "    </tr>\n",
       "    <tr>\n",
       "      <th>800</th>\n",
       "      <td>최고</td>\n",
       "      <td>16.961309</td>\n",
       "    </tr>\n",
       "  </tbody>\n",
       "</table>\n",
       "</div>"
      ],
      "text/plain": [
       "     Word   Frequency\n",
       "741    좋다  106.743888\n",
       "213    놀다   32.703265\n",
       "932  해수욕장   23.477106\n",
       "617    일몰   22.768573\n",
       "482    아름   19.921506\n",
       "227   다대포   19.733799\n",
       "401    산책   19.560301\n",
       "100    공원   18.556797\n",
       "208    넓다   17.192626\n",
       "800    최고   16.961309"
      ]
     },
     "execution_count": 77,
     "metadata": {},
     "output_type": "execute_result"
    }
   ],
   "source": [
    "word_count.sort_values('Frequency', ascending=False).head(10)"
   ]
  },
  {
   "cell_type": "markdown",
   "id": "4a79bb87",
   "metadata": {},
   "source": [
    "빈도분석 결과를 word_count에 저장하였습니다. 프로젝트에서 사용하지는 않았지만, 위의 결과를 바탕으로 빈도에 대한 그래프를 시각화하는 등의 활용이 가능합니다."
   ]
  },
  {
   "cell_type": "markdown",
   "id": "4e4f0ec6",
   "metadata": {},
   "source": [
    "### 3.2. 워드 클라우드"
   ]
  },
  {
   "cell_type": "code",
   "execution_count": 57,
   "id": "a9d7f66e",
   "metadata": {
    "ExecuteTime": {
     "end_time": "2023-04-14T07:52:50.863726Z",
     "start_time": "2023-04-14T07:52:48.525478Z"
    }
   },
   "outputs": [
    {
     "data": {
      "image/png": "[encoded data removed]",
      "text/plain": [
       "<Figure size 1440x360 with 1 Axes>"
      ]
     },
     "metadata": {
      "needs_background": "light"
     },
     "output_type": "display_data"
    }
   ],
   "source": [
    "wc = WordCloud(\n",
    "    width=1500,\n",
    "    height=1200,\n",
    "    font_path='/usr/share/fonts/NanumGothicCoding.ttf',\n",
    "    background_color='white',\n",
    "    max_words=100\n",
    ").fit_words(\n",
    "    dict(tfidf_weights)\n",
    ")  # 상위 100개 단어만 보기 \n",
    "\n",
    "plt.figure(figsize=(20,5))\n",
    "plt.imshow(wc)\n",
    "plt.axis('off');"
   ]
  },
  {
   "cell_type": "markdown",
   "id": "7c6818e5",
   "metadata": {},
   "source": [
    "마지막으로 빈도 분석 결과를 워드 클라우드로 나타냈습니다. 이 역시 다음 게시글에서 한 번에 해석해보도록 하겠습니다."
   ]
  },
  {
   "cell_type": "markdown",
   "id": "c4c7547c",
   "metadata": {},
   "source": [
    "영어 텍스트 분석과 과정이 동일하기 때문에 빠르게 한국어 텍스트 분석을 정리해보았습니다. SNA 분석은 제가 아닌 다른 팀원이 진행하여 코드 정리는 생략하기로 하였습니다.다음 게시글에서는 동부산의 영어 리뷰 분석 결과와 서부산의 한글 리뷰 분석 결과를 비교하고, 마케팅 전략을 제안하며 프로젝트 정리를 마무리해보도록 하겠습니다.\n",
    "\n",
    "오늘도 제 글 읽어주셔서 감사합니다."
   ]
  }
 ],
 "metadata": {
  "kernelspec": {
   "display_name": "Python 3",
   "language": "python",
   "name": "python3"
  },
  "language_info": {
   "codemirror_mode": {
    "name": "ipython",
    "version": 3
   },
   "file_extension": ".py",
   "mimetype": "text/x-python",
   "name": "python",
   "nbconvert_exporter": "python",
   "pygments_lexer": "ipython3",
   "version": "3.6.9"
  },
  "toc": {
   "base_numbering": 1,
   "nav_menu": {},
   "number_sections": true,
   "sideBar": true,
   "skip_h1_title": false,
   "title_cell": "Table of Contents",
   "title_sidebar": "Contents",
   "toc_cell": false,
   "toc_position": {
    "height": "calc(100% - 180px)",
    "left": "10px",
    "top": "150px",
    "width": "292.075px"
   },
   "toc_section_display": true,
   "toc_window_display": false
  },
  "varInspector": {
   "cols": {
    "lenName": 16,
    "lenType": 16,
    "lenVar": 40
   },
   "kernels_config": {
    "python": {
     "delete_cmd_postfix": "",
     "delete_cmd_prefix": "del ",
     "library": "var_list.py",
     "varRefreshCmd": "print(var_dic_list())"
    },
    "r": {
     "delete_cmd_postfix": ") ",
     "delete_cmd_prefix": "rm(",
     "library": "var_list.r",
     "varRefreshCmd": "cat(var_dic_list()) "
    }
   },
   "types_to_exclude": [
    "module",
    "function",
    "builtin_function_or_method",
    "instance",
    "_Feature"
   ],
   "window_display": false
  }
 },
 "nbformat": 4,
 "nbformat_minor": 5
}
