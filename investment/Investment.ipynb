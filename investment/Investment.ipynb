{
 "cells": [
  {
   "cell_type": "code",
   "execution_count": 1,
   "metadata": {
    "ExecuteTime": {
     "end_time": "2022-03-29T05:14:13.879149Z",
     "start_time": "2022-03-29T05:14:13.442892Z"
    },
    "slideshow": {
     "slide_type": "skip"
    }
   },
   "outputs": [],
   "source": [
    "import pandas as pd\n",
    "from itertools import product"
   ]
  },
  {
   "cell_type": "code",
   "execution_count": 3,
   "metadata": {
    "ExecuteTime": {
     "end_time": "2022-03-29T05:14:39.645065Z",
     "start_time": "2022-03-29T05:14:39.612085Z"
    },
    "slideshow": {
     "slide_type": "slide"
    }
   },
   "outputs": [
    {
     "data": {
      "text/html": [
       "<div>\n",
       "<style scoped>\n",
       "    .dataframe tbody tr th:only-of-type {\n",
       "        vertical-align: middle;\n",
       "    }\n",
       "\n",
       "    .dataframe tbody tr th {\n",
       "        vertical-align: top;\n",
       "    }\n",
       "\n",
       "    .dataframe thead th {\n",
       "        text-align: right;\n",
       "    }\n",
       "</style>\n",
       "<table border=\"1\" class=\"dataframe\">\n",
       "  <thead>\n",
       "    <tr style=\"text-align: right;\">\n",
       "      <th></th>\n",
       "      <th>삼성전자</th>\n",
       "      <th>SK하이닉스</th>\n",
       "      <th>셀트리온</th>\n",
       "      <th>현대차</th>\n",
       "      <th>POSCO</th>\n",
       "      <th>LG화학</th>\n",
       "      <th>NAVER</th>\n",
       "      <th>KB금융</th>\n",
       "      <th>삼성생명</th>\n",
       "      <th>현대모비스</th>\n",
       "      <th>...</th>\n",
       "      <th>한국타이어</th>\n",
       "      <th>현대제철</th>\n",
       "      <th>코웨이</th>\n",
       "      <th>롯데쇼핑</th>\n",
       "      <th>강원랜드</th>\n",
       "      <th>한화생명</th>\n",
       "      <th>한미사이언스</th>\n",
       "      <th>현대글로비스</th>\n",
       "      <th>CJ</th>\n",
       "      <th>한국항공우주</th>\n",
       "    </tr>\n",
       "    <tr>\n",
       "      <th>공분산</th>\n",
       "      <th></th>\n",
       "      <th></th>\n",
       "      <th></th>\n",
       "      <th></th>\n",
       "      <th></th>\n",
       "      <th></th>\n",
       "      <th></th>\n",
       "      <th></th>\n",
       "      <th></th>\n",
       "      <th></th>\n",
       "      <th></th>\n",
       "      <th></th>\n",
       "      <th></th>\n",
       "      <th></th>\n",
       "      <th></th>\n",
       "      <th></th>\n",
       "      <th></th>\n",
       "      <th></th>\n",
       "      <th></th>\n",
       "      <th></th>\n",
       "      <th></th>\n",
       "    </tr>\n",
       "  </thead>\n",
       "  <tbody>\n",
       "    <tr>\n",
       "      <th>삼성전자</th>\n",
       "      <td>0.004125</td>\n",
       "      <td>0.001539</td>\n",
       "      <td>-0.001319</td>\n",
       "      <td>0.000549</td>\n",
       "      <td>0.000424</td>\n",
       "      <td>0.000444</td>\n",
       "      <td>0.002138</td>\n",
       "      <td>0.001304</td>\n",
       "      <td>0.000770</td>\n",
       "      <td>0.000304</td>\n",
       "      <td>...</td>\n",
       "      <td>0.000798</td>\n",
       "      <td>0.000585</td>\n",
       "      <td>-0.000274</td>\n",
       "      <td>-0.001210</td>\n",
       "      <td>-0.000478</td>\n",
       "      <td>0.000439</td>\n",
       "      <td>-0.001711</td>\n",
       "      <td>-0.000688</td>\n",
       "      <td>-0.001838</td>\n",
       "      <td>0.001075</td>\n",
       "    </tr>\n",
       "    <tr>\n",
       "      <th>SK하이닉스</th>\n",
       "      <td>0.001539</td>\n",
       "      <td>0.006364</td>\n",
       "      <td>-0.001779</td>\n",
       "      <td>0.000064</td>\n",
       "      <td>-0.000170</td>\n",
       "      <td>-0.001080</td>\n",
       "      <td>0.000973</td>\n",
       "      <td>0.000583</td>\n",
       "      <td>-0.000089</td>\n",
       "      <td>-0.000891</td>\n",
       "      <td>...</td>\n",
       "      <td>0.000485</td>\n",
       "      <td>0.000270</td>\n",
       "      <td>-0.000348</td>\n",
       "      <td>0.000545</td>\n",
       "      <td>-0.000535</td>\n",
       "      <td>-0.000756</td>\n",
       "      <td>-0.004046</td>\n",
       "      <td>0.000585</td>\n",
       "      <td>-0.001211</td>\n",
       "      <td>-0.001909</td>\n",
       "    </tr>\n",
       "    <tr>\n",
       "      <th>셀트리온</th>\n",
       "      <td>-0.001319</td>\n",
       "      <td>-0.001779</td>\n",
       "      <td>0.043157</td>\n",
       "      <td>0.000302</td>\n",
       "      <td>0.000029</td>\n",
       "      <td>0.002433</td>\n",
       "      <td>-0.002729</td>\n",
       "      <td>-0.000797</td>\n",
       "      <td>-0.001556</td>\n",
       "      <td>0.002159</td>\n",
       "      <td>...</td>\n",
       "      <td>0.000787</td>\n",
       "      <td>-0.000002</td>\n",
       "      <td>-0.000686</td>\n",
       "      <td>0.000411</td>\n",
       "      <td>-0.001236</td>\n",
       "      <td>-0.001108</td>\n",
       "      <td>0.010505</td>\n",
       "      <td>-0.001077</td>\n",
       "      <td>0.000536</td>\n",
       "      <td>0.002597</td>\n",
       "    </tr>\n",
       "    <tr>\n",
       "      <th>현대차</th>\n",
       "      <td>0.000549</td>\n",
       "      <td>0.000064</td>\n",
       "      <td>0.000302</td>\n",
       "      <td>0.004454</td>\n",
       "      <td>0.000160</td>\n",
       "      <td>0.001691</td>\n",
       "      <td>0.000935</td>\n",
       "      <td>0.000715</td>\n",
       "      <td>0.000505</td>\n",
       "      <td>0.002703</td>\n",
       "      <td>...</td>\n",
       "      <td>0.000695</td>\n",
       "      <td>0.001204</td>\n",
       "      <td>0.000032</td>\n",
       "      <td>0.000939</td>\n",
       "      <td>0.000875</td>\n",
       "      <td>0.000137</td>\n",
       "      <td>-0.003135</td>\n",
       "      <td>0.001047</td>\n",
       "      <td>-0.001446</td>\n",
       "      <td>-0.001031</td>\n",
       "    </tr>\n",
       "    <tr>\n",
       "      <th>POSCO</th>\n",
       "      <td>0.000424</td>\n",
       "      <td>-0.000170</td>\n",
       "      <td>0.000029</td>\n",
       "      <td>0.000160</td>\n",
       "      <td>0.004510</td>\n",
       "      <td>0.001893</td>\n",
       "      <td>0.000131</td>\n",
       "      <td>0.001569</td>\n",
       "      <td>0.000594</td>\n",
       "      <td>0.000558</td>\n",
       "      <td>...</td>\n",
       "      <td>0.000384</td>\n",
       "      <td>0.002967</td>\n",
       "      <td>-0.000431</td>\n",
       "      <td>0.000377</td>\n",
       "      <td>0.000519</td>\n",
       "      <td>0.001132</td>\n",
       "      <td>-0.004783</td>\n",
       "      <td>0.000069</td>\n",
       "      <td>-0.001072</td>\n",
       "      <td>-0.000599</td>\n",
       "    </tr>\n",
       "  </tbody>\n",
       "</table>\n",
       "<p>5 rows × 46 columns</p>\n",
       "</div>"
      ],
      "text/plain": [
       "            삼성전자    SK하이닉스      셀트리온       현대차     POSCO      LG화학     NAVER  \\\n",
       "공분산                                                                            \n",
       "삼성전자    0.004125  0.001539 -0.001319  0.000549  0.000424  0.000444  0.002138   \n",
       "SK하이닉스  0.001539  0.006364 -0.001779  0.000064 -0.000170 -0.001080  0.000973   \n",
       "셀트리온   -0.001319 -0.001779  0.043157  0.000302  0.000029  0.002433 -0.002729   \n",
       "현대차     0.000549  0.000064  0.000302  0.004454  0.000160  0.001691  0.000935   \n",
       "POSCO   0.000424 -0.000170  0.000029  0.000160  0.004510  0.001893  0.000131   \n",
       "\n",
       "            KB금융      삼성생명     현대모비스  ...     한국타이어      현대제철       코웨이  \\\n",
       "공분산                                   ...                                 \n",
       "삼성전자    0.001304  0.000770  0.000304  ...  0.000798  0.000585 -0.000274   \n",
       "SK하이닉스  0.000583 -0.000089 -0.000891  ...  0.000485  0.000270 -0.000348   \n",
       "셀트리온   -0.000797 -0.001556  0.002159  ...  0.000787 -0.000002 -0.000686   \n",
       "현대차     0.000715  0.000505  0.002703  ...  0.000695  0.001204  0.000032   \n",
       "POSCO   0.001569  0.000594  0.000558  ...  0.000384  0.002967 -0.000431   \n",
       "\n",
       "            롯데쇼핑      강원랜드      한화생명    한미사이언스    현대글로비스        CJ    한국항공우주  \n",
       "공분산                                                                           \n",
       "삼성전자   -0.001210 -0.000478  0.000439 -0.001711 -0.000688 -0.001838  0.001075  \n",
       "SK하이닉스  0.000545 -0.000535 -0.000756 -0.004046  0.000585 -0.001211 -0.001909  \n",
       "셀트리온    0.000411 -0.001236 -0.001108  0.010505 -0.001077  0.000536  0.002597  \n",
       "현대차     0.000939  0.000875  0.000137 -0.003135  0.001047 -0.001446 -0.001031  \n",
       "POSCO   0.000377  0.000519  0.001132 -0.004783  0.000069 -0.001072 -0.000599  \n",
       "\n",
       "[5 rows x 46 columns]"
      ]
     },
     "execution_count": 3,
     "metadata": {},
     "output_type": "execute_result"
    }
   ],
   "source": [
    "data = pd.read_csv('investment.csv', index_col=0)\n",
    "data.head()"
   ]
  },
  {
   "cell_type": "markdown",
   "metadata": {
    "slideshow": {
     "slide_type": "subslide"
    }
   },
   "source": [
    "- FnGuide에서 개별 주식의 가격을 불러옵니다.\n",
    "- 개별주식의 기대수익률, 위험, 공분산을 계산합니다.\n",
    "- 공분산 매트릭스를 파이썬에서 불러왔습니다."
   ]
  },
  {
   "cell_type": "code",
   "execution_count": 6,
   "metadata": {
    "ExecuteTime": {
     "end_time": "2022-03-29T05:19:42.848863Z",
     "start_time": "2022-03-29T05:19:10.887499Z"
    },
    "scrolled": true,
    "slideshow": {
     "slide_type": "slide"
    }
   },
   "outputs": [
    {
     "data": {
      "text/plain": [
       "[('삼성전자', '삼성전자', '삼성전자'),\n",
       " ('삼성전자', '삼성전자', 'SK하이닉스'),\n",
       " ('삼성전자', '삼성전자', '셀트리온'),\n",
       " ('삼성전자', '삼성전자', '현대차'),\n",
       " ('삼성전자', '삼성전자', 'POSCO')]"
      ]
     },
     "execution_count": 6,
     "metadata": {},
     "output_type": "execute_result"
    }
   ],
   "source": [
    "items = [data.columns, data.columns, data.columns]\n",
    "pf = list(product(*items))\n",
    "pf[:5]"
   ]
  },
  {
   "cell_type": "markdown",
   "metadata": {
    "slideshow": {
     "slide_type": "subslide"
    }
   },
   "source": [
    "- 3개의 주식으로 포트폴리오를 구성합니다.\n",
    "- 모든 포트폴리오 구성을 위해 우선 중복이 포함된 포트폴리오를 생성하였습니다."
   ]
  },
  {
   "cell_type": "code",
   "execution_count": 7,
   "metadata": {
    "ExecuteTime": {
     "end_time": "2022-03-29T05:19:55.766026Z",
     "start_time": "2022-03-29T05:19:55.705546Z"
    },
    "slideshow": {
     "slide_type": "subslide"
    }
   },
   "outputs": [
    {
     "data": {
      "text/plain": [
       "[('삼성전자', 'SK하이닉스', '셀트리온'),\n",
       " ('삼성전자', 'SK하이닉스', '현대차'),\n",
       " ('삼성전자', 'SK하이닉스', 'POSCO'),\n",
       " ('삼성전자', 'SK하이닉스', 'LG화학'),\n",
       " ('삼성전자', 'SK하이닉스', 'NAVER')]"
      ]
     },
     "execution_count": 7,
     "metadata": {},
     "output_type": "execute_result"
    }
   ],
   "source": [
    "x = [i for i in pf if (i[0]!=i[1])&(i[1]!=i[2])&(i[0]!=i[2])]\n",
    "len(x)\n",
    "x[:5]"
   ]
  },
  {
   "cell_type": "markdown",
   "metadata": {
    "slideshow": {
     "slide_type": "subslide"
    }
   },
   "source": [
    "- 포트폴리오 내에 주식이 중복되지 않도록, 중복되는 주식을 제거합니다."
   ]
  },
  {
   "cell_type": "code",
   "execution_count": 8,
   "metadata": {
    "ExecuteTime": {
     "end_time": "2022-03-29T05:21:32.211464Z",
     "start_time": "2022-03-29T05:21:32.153520Z"
    },
    "slideshow": {
     "slide_type": "skip"
    }
   },
   "outputs": [
    {
     "data": {
      "text/plain": [
       "15180"
      ]
     },
     "execution_count": 8,
     "metadata": {},
     "output_type": "execute_result"
    }
   ],
   "source": [
    "y = [tuple(sorted(i)) for i in x]\n",
    "z = set(y)\n",
    "len(z)"
   ]
  },
  {
   "cell_type": "code",
   "execution_count": 10,
   "metadata": {
    "ExecuteTime": {
     "end_time": "2022-03-29T05:21:52.191461Z",
     "start_time": "2022-03-29T05:21:52.170745Z"
    },
    "slideshow": {
     "slide_type": "slide"
    }
   },
   "outputs": [
    {
     "name": "stdout",
     "output_type": "stream",
     "text": [
      "포트폴리오의 개수 :  15180\n"
     ]
    },
    {
     "data": {
      "text/plain": [
       "[('LG전자', 'S-Oil', '삼성전자'),\n",
       " ('삼성전자', '아모레퍼시픽', '한국전력'),\n",
       " ('KT&G', '엔씨소프트', '이마트'),\n",
       " ('셀트리온', '한국항공우주', '현대중공업'),\n",
       " ('CJ', 'LG', '강원랜드')]"
      ]
     },
     "execution_count": 10,
     "metadata": {},
     "output_type": "execute_result"
    }
   ],
   "source": [
    "pf_list = list(z)\n",
    "print('포트폴리오의 개수 : ', len(pf_list))\n",
    "pf_list[:5]"
   ]
  },
  {
   "cell_type": "markdown",
   "metadata": {
    "slideshow": {
     "slide_type": "subslide"
    }
   },
   "source": [
    "- 15180개의 서로 다른 포트폴리오가 완성되었습니다."
   ]
  },
  {
   "cell_type": "code",
   "execution_count": 11,
   "metadata": {
    "ExecuteTime": {
     "end_time": "2022-03-29T05:22:25.444443Z",
     "start_time": "2022-03-29T05:22:25.362663Z"
    },
    "slideshow": {
     "slide_type": "skip"
    }
   },
   "outputs": [
    {
     "ename": "KeyError",
     "evalue": "'공분산'",
     "output_type": "error",
     "traceback": [
      "\u001b[1;31m---------------------------------------------------------------------------\u001b[0m",
      "\u001b[1;31mKeyError\u001b[0m                                  Traceback (most recent call last)",
      "\u001b[1;32mC:\\ProgramData\\Anaconda3\\lib\\site-packages\\pandas\\core\\indexes\\base.py\u001b[0m in \u001b[0;36mget_loc\u001b[1;34m(self, key, method, tolerance)\u001b[0m\n\u001b[0;32m   2645\u001b[0m             \u001b[1;32mtry\u001b[0m\u001b[1;33m:\u001b[0m\u001b[1;33m\u001b[0m\u001b[1;33m\u001b[0m\u001b[0m\n\u001b[1;32m-> 2646\u001b[1;33m                 \u001b[1;32mreturn\u001b[0m \u001b[0mself\u001b[0m\u001b[1;33m.\u001b[0m\u001b[0m_engine\u001b[0m\u001b[1;33m.\u001b[0m\u001b[0mget_loc\u001b[0m\u001b[1;33m(\u001b[0m\u001b[0mkey\u001b[0m\u001b[1;33m)\u001b[0m\u001b[1;33m\u001b[0m\u001b[1;33m\u001b[0m\u001b[0m\n\u001b[0m\u001b[0;32m   2647\u001b[0m             \u001b[1;32mexcept\u001b[0m \u001b[0mKeyError\u001b[0m\u001b[1;33m:\u001b[0m\u001b[1;33m\u001b[0m\u001b[1;33m\u001b[0m\u001b[0m\n",
      "\u001b[1;32mpandas\\_libs\\index.pyx\u001b[0m in \u001b[0;36mpandas._libs.index.IndexEngine.get_loc\u001b[1;34m()\u001b[0m\n",
      "\u001b[1;32mpandas\\_libs\\index.pyx\u001b[0m in \u001b[0;36mpandas._libs.index.IndexEngine.get_loc\u001b[1;34m()\u001b[0m\n",
      "\u001b[1;32mpandas\\_libs\\hashtable_class_helper.pxi\u001b[0m in \u001b[0;36mpandas._libs.hashtable.PyObjectHashTable.get_item\u001b[1;34m()\u001b[0m\n",
      "\u001b[1;32mpandas\\_libs\\hashtable_class_helper.pxi\u001b[0m in \u001b[0;36mpandas._libs.hashtable.PyObjectHashTable.get_item\u001b[1;34m()\u001b[0m\n",
      "\u001b[1;31mKeyError\u001b[0m: '공분산'",
      "\nDuring handling of the above exception, another exception occurred:\n",
      "\u001b[1;31mKeyError\u001b[0m                                  Traceback (most recent call last)",
      "\u001b[1;32m<ipython-input-11-29f18c5da5ff>\u001b[0m in \u001b[0;36m<module>\u001b[1;34m\u001b[0m\n\u001b[0;32m      6\u001b[0m     \u001b[0mc\u001b[0m \u001b[1;33m=\u001b[0m \u001b[0mpf_list\u001b[0m\u001b[1;33m[\u001b[0m\u001b[0mi\u001b[0m\u001b[1;33m]\u001b[0m\u001b[1;33m[\u001b[0m\u001b[1;36m2\u001b[0m\u001b[1;33m]\u001b[0m\u001b[1;33m\u001b[0m\u001b[1;33m\u001b[0m\u001b[0m\n\u001b[0;32m      7\u001b[0m     \u001b[1;31m# aa ~ cc : w_i * w_j * sigma_i,j\u001b[0m\u001b[1;33m\u001b[0m\u001b[1;33m\u001b[0m\u001b[1;33m\u001b[0m\u001b[0m\n\u001b[1;32m----> 8\u001b[1;33m     \u001b[0maa\u001b[0m \u001b[1;33m=\u001b[0m \u001b[1;33m(\u001b[0m\u001b[1;36m1\u001b[0m\u001b[1;33m/\u001b[0m\u001b[1;36m3\u001b[0m\u001b[1;33m)\u001b[0m\u001b[1;33m**\u001b[0m\u001b[1;36m2\u001b[0m \u001b[1;33m*\u001b[0m \u001b[0mfloat\u001b[0m\u001b[1;33m(\u001b[0m\u001b[0mdata\u001b[0m\u001b[1;33m[\u001b[0m\u001b[0ma\u001b[0m\u001b[1;33m]\u001b[0m\u001b[1;33m[\u001b[0m\u001b[0mdata\u001b[0m\u001b[1;33m[\u001b[0m\u001b[1;34m'공분산'\u001b[0m\u001b[1;33m]\u001b[0m\u001b[1;33m==\u001b[0m\u001b[0ma\u001b[0m\u001b[1;33m]\u001b[0m\u001b[1;33m)\u001b[0m\u001b[1;33m\u001b[0m\u001b[1;33m\u001b[0m\u001b[0m\n\u001b[0m\u001b[0;32m      9\u001b[0m     \u001b[0mab\u001b[0m \u001b[1;33m=\u001b[0m \u001b[1;33m(\u001b[0m\u001b[1;36m1\u001b[0m\u001b[1;33m/\u001b[0m\u001b[1;36m3\u001b[0m\u001b[1;33m)\u001b[0m\u001b[1;33m**\u001b[0m\u001b[1;36m2\u001b[0m \u001b[1;33m*\u001b[0m \u001b[0mfloat\u001b[0m\u001b[1;33m(\u001b[0m\u001b[0mdata\u001b[0m\u001b[1;33m[\u001b[0m\u001b[0ma\u001b[0m\u001b[1;33m]\u001b[0m\u001b[1;33m[\u001b[0m\u001b[0mdata\u001b[0m\u001b[1;33m[\u001b[0m\u001b[1;34m'공분산'\u001b[0m\u001b[1;33m]\u001b[0m\u001b[1;33m==\u001b[0m\u001b[0mb\u001b[0m\u001b[1;33m]\u001b[0m\u001b[1;33m)\u001b[0m\u001b[1;33m\u001b[0m\u001b[1;33m\u001b[0m\u001b[0m\n\u001b[0;32m     10\u001b[0m     \u001b[0mac\u001b[0m \u001b[1;33m=\u001b[0m \u001b[1;33m(\u001b[0m\u001b[1;36m1\u001b[0m\u001b[1;33m/\u001b[0m\u001b[1;36m3\u001b[0m\u001b[1;33m)\u001b[0m\u001b[1;33m**\u001b[0m\u001b[1;36m2\u001b[0m \u001b[1;33m*\u001b[0m \u001b[0mfloat\u001b[0m\u001b[1;33m(\u001b[0m\u001b[0mdata\u001b[0m\u001b[1;33m[\u001b[0m\u001b[0ma\u001b[0m\u001b[1;33m]\u001b[0m\u001b[1;33m[\u001b[0m\u001b[0mdata\u001b[0m\u001b[1;33m[\u001b[0m\u001b[1;34m'공분산'\u001b[0m\u001b[1;33m]\u001b[0m\u001b[1;33m==\u001b[0m\u001b[0mc\u001b[0m\u001b[1;33m]\u001b[0m\u001b[1;33m)\u001b[0m\u001b[1;33m\u001b[0m\u001b[1;33m\u001b[0m\u001b[0m\n",
      "\u001b[1;32mC:\\ProgramData\\Anaconda3\\lib\\site-packages\\pandas\\core\\frame.py\u001b[0m in \u001b[0;36m__getitem__\u001b[1;34m(self, key)\u001b[0m\n\u001b[0;32m   2798\u001b[0m             \u001b[1;32mif\u001b[0m \u001b[0mself\u001b[0m\u001b[1;33m.\u001b[0m\u001b[0mcolumns\u001b[0m\u001b[1;33m.\u001b[0m\u001b[0mnlevels\u001b[0m \u001b[1;33m>\u001b[0m \u001b[1;36m1\u001b[0m\u001b[1;33m:\u001b[0m\u001b[1;33m\u001b[0m\u001b[1;33m\u001b[0m\u001b[0m\n\u001b[0;32m   2799\u001b[0m                 \u001b[1;32mreturn\u001b[0m \u001b[0mself\u001b[0m\u001b[1;33m.\u001b[0m\u001b[0m_getitem_multilevel\u001b[0m\u001b[1;33m(\u001b[0m\u001b[0mkey\u001b[0m\u001b[1;33m)\u001b[0m\u001b[1;33m\u001b[0m\u001b[1;33m\u001b[0m\u001b[0m\n\u001b[1;32m-> 2800\u001b[1;33m             \u001b[0mindexer\u001b[0m \u001b[1;33m=\u001b[0m \u001b[0mself\u001b[0m\u001b[1;33m.\u001b[0m\u001b[0mcolumns\u001b[0m\u001b[1;33m.\u001b[0m\u001b[0mget_loc\u001b[0m\u001b[1;33m(\u001b[0m\u001b[0mkey\u001b[0m\u001b[1;33m)\u001b[0m\u001b[1;33m\u001b[0m\u001b[1;33m\u001b[0m\u001b[0m\n\u001b[0m\u001b[0;32m   2801\u001b[0m             \u001b[1;32mif\u001b[0m \u001b[0mis_integer\u001b[0m\u001b[1;33m(\u001b[0m\u001b[0mindexer\u001b[0m\u001b[1;33m)\u001b[0m\u001b[1;33m:\u001b[0m\u001b[1;33m\u001b[0m\u001b[1;33m\u001b[0m\u001b[0m\n\u001b[0;32m   2802\u001b[0m                 \u001b[0mindexer\u001b[0m \u001b[1;33m=\u001b[0m \u001b[1;33m[\u001b[0m\u001b[0mindexer\u001b[0m\u001b[1;33m]\u001b[0m\u001b[1;33m\u001b[0m\u001b[1;33m\u001b[0m\u001b[0m\n",
      "\u001b[1;32mC:\\ProgramData\\Anaconda3\\lib\\site-packages\\pandas\\core\\indexes\\base.py\u001b[0m in \u001b[0;36mget_loc\u001b[1;34m(self, key, method, tolerance)\u001b[0m\n\u001b[0;32m   2646\u001b[0m                 \u001b[1;32mreturn\u001b[0m \u001b[0mself\u001b[0m\u001b[1;33m.\u001b[0m\u001b[0m_engine\u001b[0m\u001b[1;33m.\u001b[0m\u001b[0mget_loc\u001b[0m\u001b[1;33m(\u001b[0m\u001b[0mkey\u001b[0m\u001b[1;33m)\u001b[0m\u001b[1;33m\u001b[0m\u001b[1;33m\u001b[0m\u001b[0m\n\u001b[0;32m   2647\u001b[0m             \u001b[1;32mexcept\u001b[0m \u001b[0mKeyError\u001b[0m\u001b[1;33m:\u001b[0m\u001b[1;33m\u001b[0m\u001b[1;33m\u001b[0m\u001b[0m\n\u001b[1;32m-> 2648\u001b[1;33m                 \u001b[1;32mreturn\u001b[0m \u001b[0mself\u001b[0m\u001b[1;33m.\u001b[0m\u001b[0m_engine\u001b[0m\u001b[1;33m.\u001b[0m\u001b[0mget_loc\u001b[0m\u001b[1;33m(\u001b[0m\u001b[0mself\u001b[0m\u001b[1;33m.\u001b[0m\u001b[0m_maybe_cast_indexer\u001b[0m\u001b[1;33m(\u001b[0m\u001b[0mkey\u001b[0m\u001b[1;33m)\u001b[0m\u001b[1;33m)\u001b[0m\u001b[1;33m\u001b[0m\u001b[1;33m\u001b[0m\u001b[0m\n\u001b[0m\u001b[0;32m   2649\u001b[0m         \u001b[0mindexer\u001b[0m \u001b[1;33m=\u001b[0m \u001b[0mself\u001b[0m\u001b[1;33m.\u001b[0m\u001b[0mget_indexer\u001b[0m\u001b[1;33m(\u001b[0m\u001b[1;33m[\u001b[0m\u001b[0mkey\u001b[0m\u001b[1;33m]\u001b[0m\u001b[1;33m,\u001b[0m \u001b[0mmethod\u001b[0m\u001b[1;33m=\u001b[0m\u001b[0mmethod\u001b[0m\u001b[1;33m,\u001b[0m \u001b[0mtolerance\u001b[0m\u001b[1;33m=\u001b[0m\u001b[0mtolerance\u001b[0m\u001b[1;33m)\u001b[0m\u001b[1;33m\u001b[0m\u001b[1;33m\u001b[0m\u001b[0m\n\u001b[0;32m   2650\u001b[0m         \u001b[1;32mif\u001b[0m \u001b[0mindexer\u001b[0m\u001b[1;33m.\u001b[0m\u001b[0mndim\u001b[0m \u001b[1;33m>\u001b[0m \u001b[1;36m1\u001b[0m \u001b[1;32mor\u001b[0m \u001b[0mindexer\u001b[0m\u001b[1;33m.\u001b[0m\u001b[0msize\u001b[0m \u001b[1;33m>\u001b[0m \u001b[1;36m1\u001b[0m\u001b[1;33m:\u001b[0m\u001b[1;33m\u001b[0m\u001b[1;33m\u001b[0m\u001b[0m\n",
      "\u001b[1;32mpandas\\_libs\\index.pyx\u001b[0m in \u001b[0;36mpandas._libs.index.IndexEngine.get_loc\u001b[1;34m()\u001b[0m\n",
      "\u001b[1;32mpandas\\_libs\\index.pyx\u001b[0m in \u001b[0;36mpandas._libs.index.IndexEngine.get_loc\u001b[1;34m()\u001b[0m\n",
      "\u001b[1;32mpandas\\_libs\\hashtable_class_helper.pxi\u001b[0m in \u001b[0;36mpandas._libs.hashtable.PyObjectHashTable.get_item\u001b[1;34m()\u001b[0m\n",
      "\u001b[1;32mpandas\\_libs\\hashtable_class_helper.pxi\u001b[0m in \u001b[0;36mpandas._libs.hashtable.PyObjectHashTable.get_item\u001b[1;34m()\u001b[0m\n",
      "\u001b[1;31mKeyError\u001b[0m: '공분산'"
     ]
    }
   ],
   "source": [
    "test = []\n",
    "for i in range(0, len(pf_list)):\n",
    "    # a, b, c : 조합 내 개별 주식\n",
    "    a = pf_list[i][0]\n",
    "    b = pf_list[i][1]\n",
    "    c = pf_list[i][2]\n",
    "    # aa ~ cc : w_i * w_j * sigma_i,j\n",
    "    aa = (1/3)**2 * float(data[a][data['공분산']==a])\n",
    "    ab = (1/3)**2 * float(data[a][data['공분산']==b])\n",
    "    ac = (1/3)**2 * float(data[a][data['공분산']==c])\n",
    "    ba = (1/3)**2 * float(data[b][data['공분산']==a])\n",
    "    bb = (1/3)**2 * float(data[b][data['공분산']==b])\n",
    "    bc = (1/3)**2 * float(data[b][data['공분산']==c])\n",
    "    ca = (1/3)**2 * float(data[c][data['공분산']==a])\n",
    "    cb = (1/3)**2 * float(data[c][data['공분산']==b])\n",
    "    cc = (1/3)**2 * float(data[c][data['공분산']==c])\n",
    "    # Var = 포트폴리오 위험\n",
    "    Var = aa+ab+ac+ba+bb+bc+ca+cb+cc\n",
    "    test.append([pf_list[i], Var])"
   ]
  },
  {
   "cell_type": "code",
   "execution_count": 34,
   "metadata": {
    "scrolled": true
   },
   "outputs": [
    {
     "name": "stdout",
     "output_type": "stream",
     "text": [
      "15180\n"
     ]
    },
    {
     "data": {
      "text/plain": [
       "[[('NAVER', '고려아연', '한국항공우주'), 0.0034520002222222217],\n",
       " [('LG', '고려아연', '우리은행'), 0.24756244122222218],\n",
       " [('LG전자', '엔씨소프트', '한화생명'), 0.0021395528888888886],\n",
       " [('LG디스플레이', 'LG화학', '아모레G'), 0.00495744788888889],\n",
       " [('LG전자', '한국항공우주', '현대중공업'), 0.0027915507111111112]]"
      ]
     },
     "execution_count": 34,
     "metadata": {},
     "output_type": "execute_result"
    }
   ],
   "source": [
    "print(len(test))\n",
    "test[:5]"
   ]
  },
  {
   "cell_type": "code",
   "execution_count": 20,
   "metadata": {},
   "outputs": [
    {
     "data": {
      "text/html": [
       "<div>\n",
       "<style scoped>\n",
       "    .dataframe tbody tr th:only-of-type {\n",
       "        vertical-align: middle;\n",
       "    }\n",
       "\n",
       "    .dataframe tbody tr th {\n",
       "        vertical-align: top;\n",
       "    }\n",
       "\n",
       "    .dataframe thead th {\n",
       "        text-align: right;\n",
       "    }\n",
       "</style>\n",
       "<table border=\"1\" class=\"dataframe\">\n",
       "  <thead>\n",
       "    <tr style=\"text-align: right;\">\n",
       "      <th></th>\n",
       "      <th>portfolio</th>\n",
       "      <th>risk</th>\n",
       "    </tr>\n",
       "  </thead>\n",
       "  <tbody>\n",
       "    <tr>\n",
       "      <th>0</th>\n",
       "      <td>(NAVER, 고려아연, 한국항공우주)</td>\n",
       "      <td>0.003452</td>\n",
       "    </tr>\n",
       "    <tr>\n",
       "      <th>1</th>\n",
       "      <td>(LG, 고려아연, 우리은행)</td>\n",
       "      <td>0.247562</td>\n",
       "    </tr>\n",
       "    <tr>\n",
       "      <th>2</th>\n",
       "      <td>(LG전자, 엔씨소프트, 한화생명)</td>\n",
       "      <td>0.002140</td>\n",
       "    </tr>\n",
       "    <tr>\n",
       "      <th>3</th>\n",
       "      <td>(LG디스플레이, LG화학, 아모레G)</td>\n",
       "      <td>0.004957</td>\n",
       "    </tr>\n",
       "    <tr>\n",
       "      <th>4</th>\n",
       "      <td>(LG전자, 한국항공우주, 현대중공업)</td>\n",
       "      <td>0.002792</td>\n",
       "    </tr>\n",
       "    <tr>\n",
       "      <th>...</th>\n",
       "      <td>...</td>\n",
       "      <td>...</td>\n",
       "    </tr>\n",
       "    <tr>\n",
       "      <th>15175</th>\n",
       "      <td>(KT&amp;G, 신한지주, 현대중공업)</td>\n",
       "      <td>0.002276</td>\n",
       "    </tr>\n",
       "    <tr>\n",
       "      <th>15176</th>\n",
       "      <td>(LG생활건강, 카카오, 한미사이언스)</td>\n",
       "      <td>0.010636</td>\n",
       "    </tr>\n",
       "    <tr>\n",
       "      <th>15177</th>\n",
       "      <td>(KT, SK하이닉스, 셀트리온)</td>\n",
       "      <td>0.005347</td>\n",
       "    </tr>\n",
       "    <tr>\n",
       "      <th>15178</th>\n",
       "      <td>(KT&amp;G, POSCO, 현대차)</td>\n",
       "      <td>0.001715</td>\n",
       "    </tr>\n",
       "    <tr>\n",
       "      <th>15179</th>\n",
       "      <td>(SK이노베이션, 강원랜드, 아모레G)</td>\n",
       "      <td>0.003897</td>\n",
       "    </tr>\n",
       "  </tbody>\n",
       "</table>\n",
       "<p>15180 rows × 2 columns</p>\n",
       "</div>"
      ],
      "text/plain": [
       "                   portfolio      risk\n",
       "0      (NAVER, 고려아연, 한국항공우주)  0.003452\n",
       "1           (LG, 고려아연, 우리은행)  0.247562\n",
       "2        (LG전자, 엔씨소프트, 한화생명)  0.002140\n",
       "3      (LG디스플레이, LG화학, 아모레G)  0.004957\n",
       "4      (LG전자, 한국항공우주, 현대중공업)  0.002792\n",
       "...                      ...       ...\n",
       "15175    (KT&G, 신한지주, 현대중공업)  0.002276\n",
       "15176  (LG생활건강, 카카오, 한미사이언스)  0.010636\n",
       "15177     (KT, SK하이닉스, 셀트리온)  0.005347\n",
       "15178     (KT&G, POSCO, 현대차)  0.001715\n",
       "15179  (SK이노베이션, 강원랜드, 아모레G)  0.003897\n",
       "\n",
       "[15180 rows x 2 columns]"
      ]
     },
     "execution_count": 20,
     "metadata": {},
     "output_type": "execute_result"
    }
   ],
   "source": [
    "# 데이터프레임으로 변환\n",
    "result = pd.DataFrame(data = test, columns = ['portfolio', 'risk'])\n",
    "result"
   ]
  },
  {
   "cell_type": "code",
   "execution_count": 18,
   "metadata": {},
   "outputs": [
    {
     "data": {
      "text/html": [
       "<div>\n",
       "<style scoped>\n",
       "    .dataframe tbody tr th:only-of-type {\n",
       "        vertical-align: middle;\n",
       "    }\n",
       "\n",
       "    .dataframe tbody tr th {\n",
       "        vertical-align: top;\n",
       "    }\n",
       "\n",
       "    .dataframe thead th {\n",
       "        text-align: right;\n",
       "    }\n",
       "</style>\n",
       "<table border=\"1\" class=\"dataframe\">\n",
       "  <thead>\n",
       "    <tr style=\"text-align: right;\">\n",
       "      <th></th>\n",
       "      <th>portfolio</th>\n",
       "      <th>risk</th>\n",
       "    </tr>\n",
       "  </thead>\n",
       "  <tbody>\n",
       "    <tr>\n",
       "      <th>6165</th>\n",
       "      <td>(SK하이닉스, 신한지주, 한국전력)</td>\n",
       "      <td>0.000923</td>\n",
       "    </tr>\n",
       "  </tbody>\n",
       "</table>\n",
       "</div>"
      ],
      "text/plain": [
       "                 portfolio      risk\n",
       "6165  (SK하이닉스, 신한지주, 한국전력)  0.000923"
      ]
     },
     "execution_count": 18,
     "metadata": {},
     "output_type": "execute_result"
    }
   ],
   "source": [
    "# risk가 최솟값인 조합 확인\n",
    "result[result['risk']==result['risk'].min()]"
   ]
  },
  {
   "cell_type": "code",
   "execution_count": null,
   "metadata": {},
   "outputs": [],
   "source": []
  }
 ],
 "metadata": {
  "celltoolbar": "Slideshow",
  "kernelspec": {
   "display_name": "Python 3 (ipykernel)",
   "language": "python",
   "name": "python3"
  },
  "language_info": {
   "codemirror_mode": {
    "name": "ipython",
    "version": 3
   },
   "file_extension": ".py",
   "mimetype": "text/x-python",
   "name": "python",
   "nbconvert_exporter": "python",
   "pygments_lexer": "ipython3",
   "version": "3.9.7"
  },
  "toc": {
   "base_numbering": 1,
   "nav_menu": {},
   "number_sections": true,
   "sideBar": true,
   "skip_h1_title": false,
   "title_cell": "Table of Contents",
   "title_sidebar": "Contents",
   "toc_cell": false,
   "toc_position": {},
   "toc_section_display": true,
   "toc_window_display": false
  },
  "varInspector": {
   "cols": {
    "lenName": 16,
    "lenType": 16,
    "lenVar": 40
   },
   "kernels_config": {
    "python": {
     "delete_cmd_postfix": "",
     "delete_cmd_prefix": "del ",
     "library": "var_list.py",
     "varRefreshCmd": "print(var_dic_list())"
    },
    "r": {
     "delete_cmd_postfix": ") ",
     "delete_cmd_prefix": "rm(",
     "library": "var_list.r",
     "varRefreshCmd": "cat(var_dic_list()) "
    }
   },
   "types_to_exclude": [
    "module",
    "function",
    "builtin_function_or_method",
    "instance",
    "_Feature"
   ],
   "window_display": false
  }
 },
 "nbformat": 4,
 "nbformat_minor": 4
}
