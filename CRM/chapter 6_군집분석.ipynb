{
 "cells": [
  {
   "cell_type": "code",
   "execution_count": 1,
   "id": "4cd61153",
   "metadata": {
    "ExecuteTime": {
     "end_time": "2022-05-31T09:34:16.564668Z",
     "start_time": "2022-05-31T09:34:15.022686Z"
    }
   },
   "outputs": [],
   "source": [
    "import pandas as pd\n",
    "import numpy as np\n",
    "\n",
    "import matplotlib.pyplot as plt\n",
    "import seaborn as sns\n",
    "\n",
    "from sklearn.preprocessing import StandardScaler\n",
    "from sklearn.cluster import KMeans\n",
    "from sklearn.metrics import silhouette_score"
   ]
  },
  {
   "cell_type": "code",
   "execution_count": 2,
   "id": "a6fd8313",
   "metadata": {
    "ExecuteTime": {
     "end_time": "2022-05-31T09:34:16.611725Z",
     "start_time": "2022-05-31T09:34:16.564668Z"
    },
    "scrolled": true
   },
   "outputs": [
    {
     "data": {
      "text/html": [
       "<div>\n",
       "<style scoped>\n",
       "    .dataframe tbody tr th:only-of-type {\n",
       "        vertical-align: middle;\n",
       "    }\n",
       "\n",
       "    .dataframe tbody tr th {\n",
       "        vertical-align: top;\n",
       "    }\n",
       "\n",
       "    .dataframe thead th {\n",
       "        text-align: right;\n",
       "    }\n",
       "</style>\n",
       "<table border=\"1\" class=\"dataframe\">\n",
       "  <thead>\n",
       "    <tr style=\"text-align: right;\">\n",
       "      <th></th>\n",
       "      <th>CustomerID</th>\n",
       "      <th>Recency</th>\n",
       "      <th>Frequency</th>\n",
       "      <th>Monetary</th>\n",
       "      <th>R</th>\n",
       "      <th>F</th>\n",
       "      <th>M</th>\n",
       "      <th>RFM_Group</th>\n",
       "      <th>RFM_Score</th>\n",
       "    </tr>\n",
       "  </thead>\n",
       "  <tbody>\n",
       "    <tr>\n",
       "      <th>count</th>\n",
       "      <td>4339.000000</td>\n",
       "      <td>4339.000000</td>\n",
       "      <td>4339.000000</td>\n",
       "      <td>4339.000000</td>\n",
       "      <td>4339.000000</td>\n",
       "      <td>4339.000000</td>\n",
       "      <td>4339.000000</td>\n",
       "      <td>4339.000000</td>\n",
       "      <td>4339.000000</td>\n",
       "    </tr>\n",
       "    <tr>\n",
       "      <th>mean</th>\n",
       "      <td>15299.936852</td>\n",
       "      <td>93.041484</td>\n",
       "      <td>91.708689</td>\n",
       "      <td>2053.793018</td>\n",
       "      <td>2.493893</td>\n",
       "      <td>2.509103</td>\n",
       "      <td>2.500115</td>\n",
       "      <td>276.980410</td>\n",
       "      <td>7.503111</td>\n",
       "    </tr>\n",
       "    <tr>\n",
       "      <th>std</th>\n",
       "      <td>1721.889758</td>\n",
       "      <td>100.007757</td>\n",
       "      <td>228.792852</td>\n",
       "      <td>8988.248381</td>\n",
       "      <td>1.122159</td>\n",
       "      <td>1.122139</td>\n",
       "      <td>1.118266</td>\n",
       "      <td>118.413054</td>\n",
       "      <td>2.814485</td>\n",
       "    </tr>\n",
       "    <tr>\n",
       "      <th>min</th>\n",
       "      <td>12346.000000</td>\n",
       "      <td>1.000000</td>\n",
       "      <td>1.000000</td>\n",
       "      <td>0.000000</td>\n",
       "      <td>1.000000</td>\n",
       "      <td>1.000000</td>\n",
       "      <td>1.000000</td>\n",
       "      <td>111.000000</td>\n",
       "      <td>3.000000</td>\n",
       "    </tr>\n",
       "    <tr>\n",
       "      <th>25%</th>\n",
       "      <td>13812.500000</td>\n",
       "      <td>18.000000</td>\n",
       "      <td>17.000000</td>\n",
       "      <td>307.245000</td>\n",
       "      <td>1.000000</td>\n",
       "      <td>2.000000</td>\n",
       "      <td>1.500000</td>\n",
       "      <td>144.000000</td>\n",
       "      <td>5.000000</td>\n",
       "    </tr>\n",
       "    <tr>\n",
       "      <th>50%</th>\n",
       "      <td>15299.000000</td>\n",
       "      <td>51.000000</td>\n",
       "      <td>41.000000</td>\n",
       "      <td>674.450000</td>\n",
       "      <td>2.000000</td>\n",
       "      <td>3.000000</td>\n",
       "      <td>3.000000</td>\n",
       "      <td>244.000000</td>\n",
       "      <td>8.000000</td>\n",
       "    </tr>\n",
       "    <tr>\n",
       "      <th>75%</th>\n",
       "      <td>16778.500000</td>\n",
       "      <td>142.500000</td>\n",
       "      <td>100.000000</td>\n",
       "      <td>1661.640000</td>\n",
       "      <td>3.500000</td>\n",
       "      <td>4.000000</td>\n",
       "      <td>3.500000</td>\n",
       "      <td>377.500000</td>\n",
       "      <td>10.000000</td>\n",
       "    </tr>\n",
       "    <tr>\n",
       "      <th>max</th>\n",
       "      <td>18287.000000</td>\n",
       "      <td>374.000000</td>\n",
       "      <td>7847.000000</td>\n",
       "      <td>280206.020000</td>\n",
       "      <td>4.000000</td>\n",
       "      <td>4.000000</td>\n",
       "      <td>4.000000</td>\n",
       "      <td>444.000000</td>\n",
       "      <td>12.000000</td>\n",
       "    </tr>\n",
       "  </tbody>\n",
       "</table>\n",
       "</div>"
      ],
      "text/plain": [
       "         CustomerID      Recency    Frequency       Monetary            R  \\\n",
       "count   4339.000000  4339.000000  4339.000000    4339.000000  4339.000000   \n",
       "mean   15299.936852    93.041484    91.708689    2053.793018     2.493893   \n",
       "std     1721.889758   100.007757   228.792852    8988.248381     1.122159   \n",
       "min    12346.000000     1.000000     1.000000       0.000000     1.000000   \n",
       "25%    13812.500000    18.000000    17.000000     307.245000     1.000000   \n",
       "50%    15299.000000    51.000000    41.000000     674.450000     2.000000   \n",
       "75%    16778.500000   142.500000   100.000000    1661.640000     3.500000   \n",
       "max    18287.000000   374.000000  7847.000000  280206.020000     4.000000   \n",
       "\n",
       "                 F            M    RFM_Group    RFM_Score  \n",
       "count  4339.000000  4339.000000  4339.000000  4339.000000  \n",
       "mean      2.509103     2.500115   276.980410     7.503111  \n",
       "std       1.122139     1.118266   118.413054     2.814485  \n",
       "min       1.000000     1.000000   111.000000     3.000000  \n",
       "25%       2.000000     1.500000   144.000000     5.000000  \n",
       "50%       3.000000     3.000000   244.000000     8.000000  \n",
       "75%       4.000000     3.500000   377.500000    10.000000  \n",
       "max       4.000000     4.000000   444.000000    12.000000  "
      ]
     },
     "execution_count": 2,
     "metadata": {},
     "output_type": "execute_result"
    }
   ],
   "source": [
    "df = pd.read_csv('data/rfm.csv')\n",
    "df.describe()"
   ]
  },
  {
   "cell_type": "code",
   "execution_count": 3,
   "id": "2c956c6c",
   "metadata": {
    "ExecuteTime": {
     "end_time": "2022-05-31T09:34:16.627703Z",
     "start_time": "2022-05-31T09:34:16.613720Z"
    }
   },
   "outputs": [
    {
     "data": {
      "text/html": [
       "<div>\n",
       "<style scoped>\n",
       "    .dataframe tbody tr th:only-of-type {\n",
       "        vertical-align: middle;\n",
       "    }\n",
       "\n",
       "    .dataframe tbody tr th {\n",
       "        vertical-align: top;\n",
       "    }\n",
       "\n",
       "    .dataframe thead th {\n",
       "        text-align: right;\n",
       "    }\n",
       "</style>\n",
       "<table border=\"1\" class=\"dataframe\">\n",
       "  <thead>\n",
       "    <tr style=\"text-align: right;\">\n",
       "      <th></th>\n",
       "      <th>Recency</th>\n",
       "      <th>Frequency</th>\n",
       "      <th>Monetary</th>\n",
       "    </tr>\n",
       "    <tr>\n",
       "      <th>CustomerID</th>\n",
       "      <th></th>\n",
       "      <th></th>\n",
       "      <th></th>\n",
       "    </tr>\n",
       "  </thead>\n",
       "  <tbody>\n",
       "    <tr>\n",
       "      <th>12346</th>\n",
       "      <td>326</td>\n",
       "      <td>1</td>\n",
       "      <td>77183.60</td>\n",
       "    </tr>\n",
       "    <tr>\n",
       "      <th>12347</th>\n",
       "      <td>3</td>\n",
       "      <td>182</td>\n",
       "      <td>4310.00</td>\n",
       "    </tr>\n",
       "    <tr>\n",
       "      <th>12348</th>\n",
       "      <td>76</td>\n",
       "      <td>31</td>\n",
       "      <td>1797.24</td>\n",
       "    </tr>\n",
       "    <tr>\n",
       "      <th>12349</th>\n",
       "      <td>19</td>\n",
       "      <td>73</td>\n",
       "      <td>1757.55</td>\n",
       "    </tr>\n",
       "    <tr>\n",
       "      <th>12350</th>\n",
       "      <td>311</td>\n",
       "      <td>17</td>\n",
       "      <td>334.40</td>\n",
       "    </tr>\n",
       "  </tbody>\n",
       "</table>\n",
       "</div>"
      ],
      "text/plain": [
       "            Recency  Frequency  Monetary\n",
       "CustomerID                              \n",
       "12346           326          1  77183.60\n",
       "12347             3        182   4310.00\n",
       "12348            76         31   1797.24\n",
       "12349            19         73   1757.55\n",
       "12350           311         17    334.40"
      ]
     },
     "execution_count": 3,
     "metadata": {},
     "output_type": "execute_result"
    }
   ],
   "source": [
    "df_k = df[['CustomerID', 'Recency', 'Frequency', 'Monetary']]\n",
    "df_k.set_index('CustomerID', inplace=True)\n",
    "df_k.head()"
   ]
  },
  {
   "cell_type": "code",
   "execution_count": 4,
   "id": "b5021990",
   "metadata": {
    "ExecuteTime": {
     "end_time": "2022-05-31T09:34:16.657646Z",
     "start_time": "2022-05-31T09:34:16.629698Z"
    }
   },
   "outputs": [
    {
     "data": {
      "text/html": [
       "<div>\n",
       "<style scoped>\n",
       "    .dataframe tbody tr th:only-of-type {\n",
       "        vertical-align: middle;\n",
       "    }\n",
       "\n",
       "    .dataframe tbody tr th {\n",
       "        vertical-align: top;\n",
       "    }\n",
       "\n",
       "    .dataframe thead th {\n",
       "        text-align: right;\n",
       "    }\n",
       "</style>\n",
       "<table border=\"1\" class=\"dataframe\">\n",
       "  <thead>\n",
       "    <tr style=\"text-align: right;\">\n",
       "      <th></th>\n",
       "      <th>Recency</th>\n",
       "      <th>Frequency</th>\n",
       "      <th>Monetary</th>\n",
       "    </tr>\n",
       "  </thead>\n",
       "  <tbody>\n",
       "    <tr>\n",
       "      <th>count</th>\n",
       "      <td>4339.000000</td>\n",
       "      <td>4339.000000</td>\n",
       "      <td>4339.000000</td>\n",
       "    </tr>\n",
       "    <tr>\n",
       "      <th>mean</th>\n",
       "      <td>93.041484</td>\n",
       "      <td>91.708689</td>\n",
       "      <td>2053.793018</td>\n",
       "    </tr>\n",
       "    <tr>\n",
       "      <th>std</th>\n",
       "      <td>100.007757</td>\n",
       "      <td>228.792852</td>\n",
       "      <td>8988.248381</td>\n",
       "    </tr>\n",
       "    <tr>\n",
       "      <th>min</th>\n",
       "      <td>1.000000</td>\n",
       "      <td>1.000000</td>\n",
       "      <td>0.000000</td>\n",
       "    </tr>\n",
       "    <tr>\n",
       "      <th>25%</th>\n",
       "      <td>18.000000</td>\n",
       "      <td>17.000000</td>\n",
       "      <td>307.245000</td>\n",
       "    </tr>\n",
       "    <tr>\n",
       "      <th>50%</th>\n",
       "      <td>51.000000</td>\n",
       "      <td>41.000000</td>\n",
       "      <td>674.450000</td>\n",
       "    </tr>\n",
       "    <tr>\n",
       "      <th>75%</th>\n",
       "      <td>142.500000</td>\n",
       "      <td>100.000000</td>\n",
       "      <td>1661.640000</td>\n",
       "    </tr>\n",
       "    <tr>\n",
       "      <th>max</th>\n",
       "      <td>374.000000</td>\n",
       "      <td>7847.000000</td>\n",
       "      <td>280206.020000</td>\n",
       "    </tr>\n",
       "  </tbody>\n",
       "</table>\n",
       "</div>"
      ],
      "text/plain": [
       "           Recency    Frequency       Monetary\n",
       "count  4339.000000  4339.000000    4339.000000\n",
       "mean     93.041484    91.708689    2053.793018\n",
       "std     100.007757   228.792852    8988.248381\n",
       "min       1.000000     1.000000       0.000000\n",
       "25%      18.000000    17.000000     307.245000\n",
       "50%      51.000000    41.000000     674.450000\n",
       "75%     142.500000   100.000000    1661.640000\n",
       "max     374.000000  7847.000000  280206.020000"
      ]
     },
     "execution_count": 4,
     "metadata": {},
     "output_type": "execute_result"
    }
   ],
   "source": [
    "df_k.describe()"
   ]
  },
  {
   "attachments": {
    "image.png": {
     "image/png": "[encoded data removed]"
    }
   },
   "cell_type": "markdown",
   "id": "507f111e",
   "metadata": {},
   "source": [
    "![image.png](attachment:image.png)"
   ]
  },
  {
   "cell_type": "markdown",
   "id": "d1f3fbe8",
   "metadata": {},
   "source": [
    "# 이상치 처리"
   ]
  },
  {
   "cell_type": "code",
   "execution_count": 5,
   "id": "73423977",
   "metadata": {
    "ExecuteTime": {
     "end_time": "2022-05-31T09:34:16.831158Z",
     "start_time": "2022-05-31T09:34:16.658620Z"
    }
   },
   "outputs": [
    {
     "data": {
      "image/png": "[encoded data removed]",
      "text/plain": [
       "<Figure size 720x576 with 1 Axes>"
      ]
     },
     "metadata": {
      "needs_background": "light"
     },
     "output_type": "display_data"
    }
   ],
   "source": [
    "attributes = ['Monetary', 'Frequency', 'Recency']\n",
    "plt.rcParams['figure.figsize'] = [10, 8]\n",
    "sns.boxplot(data=df_k[attributes], orient='v', palette='Set2',\n",
    "           whis=1.5, saturation=1, width=0.7)\n",
    "plt.title('Outliers Variable Distribution', fontsize=14, fontweight='bold')\n",
    "plt.ylabel('Range', fontweight='bold')\n",
    "plt.xlabel('Attribute', fontweight='bold')\n",
    "plt.show()"
   ]
  },
  {
   "cell_type": "code",
   "execution_count": 6,
   "id": "64f5b92a",
   "metadata": {
    "ExecuteTime": {
     "end_time": "2022-05-31T09:34:16.863101Z",
     "start_time": "2022-05-31T09:34:16.832157Z"
    }
   },
   "outputs": [
    {
     "data": {
      "text/html": [
       "<div>\n",
       "<style scoped>\n",
       "    .dataframe tbody tr th:only-of-type {\n",
       "        vertical-align: middle;\n",
       "    }\n",
       "\n",
       "    .dataframe tbody tr th {\n",
       "        vertical-align: top;\n",
       "    }\n",
       "\n",
       "    .dataframe thead th {\n",
       "        text-align: right;\n",
       "    }\n",
       "</style>\n",
       "<table border=\"1\" class=\"dataframe\">\n",
       "  <thead>\n",
       "    <tr style=\"text-align: right;\">\n",
       "      <th></th>\n",
       "      <th>Recency</th>\n",
       "      <th>Frequency</th>\n",
       "      <th>Monetary</th>\n",
       "    </tr>\n",
       "  </thead>\n",
       "  <tbody>\n",
       "    <tr>\n",
       "      <th>count</th>\n",
       "      <td>3504.000000</td>\n",
       "      <td>3504.000000</td>\n",
       "      <td>3504.000000</td>\n",
       "    </tr>\n",
       "    <tr>\n",
       "      <th>mean</th>\n",
       "      <td>93.681507</td>\n",
       "      <td>49.218607</td>\n",
       "      <td>778.099878</td>\n",
       "    </tr>\n",
       "    <tr>\n",
       "      <th>std</th>\n",
       "      <td>89.936290</td>\n",
       "      <td>45.812070</td>\n",
       "      <td>668.806848</td>\n",
       "    </tr>\n",
       "    <tr>\n",
       "      <th>min</th>\n",
       "      <td>1.000000</td>\n",
       "      <td>1.000000</td>\n",
       "      <td>0.000000</td>\n",
       "    </tr>\n",
       "    <tr>\n",
       "      <th>25%</th>\n",
       "      <td>23.000000</td>\n",
       "      <td>15.000000</td>\n",
       "      <td>280.375000</td>\n",
       "    </tr>\n",
       "    <tr>\n",
       "      <th>50%</th>\n",
       "      <td>59.000000</td>\n",
       "      <td>33.000000</td>\n",
       "      <td>558.510000</td>\n",
       "    </tr>\n",
       "    <tr>\n",
       "      <th>75%</th>\n",
       "      <td>149.000000</td>\n",
       "      <td>69.000000</td>\n",
       "      <td>1080.655000</td>\n",
       "    </tr>\n",
       "    <tr>\n",
       "      <th>max</th>\n",
       "      <td>327.000000</td>\n",
       "      <td>228.000000</td>\n",
       "      <td>2925.910000</td>\n",
       "    </tr>\n",
       "  </tbody>\n",
       "</table>\n",
       "</div>"
      ],
      "text/plain": [
       "           Recency    Frequency     Monetary\n",
       "count  3504.000000  3504.000000  3504.000000\n",
       "mean     93.681507    49.218607   778.099878\n",
       "std      89.936290    45.812070   668.806848\n",
       "min       1.000000     1.000000     0.000000\n",
       "25%      23.000000    15.000000   280.375000\n",
       "50%      59.000000    33.000000   558.510000\n",
       "75%     149.000000    69.000000  1080.655000\n",
       "max     327.000000   228.000000  2925.910000"
      ]
     },
     "execution_count": 6,
     "metadata": {},
     "output_type": "execute_result"
    }
   ],
   "source": [
    "# 이상치 제거\n",
    "for col in df_k.columns:\n",
    "    q1 = df_k[col].quantile(.25)\n",
    "    q3 = df_k[col].quantile(.75)\n",
    "    iqr = q3 - q1\n",
    "    \n",
    "    df_k = df_k[(df_k[col] >= q1 - 1.5*iqr) & (df_k[col] <= q3 + 1.5*iqr)]\n",
    "    \n",
    "df_k.describe()"
   ]
  },
  {
   "cell_type": "markdown",
   "id": "ed2fd8b6",
   "metadata": {},
   "source": [
    "# 스케일링"
   ]
  },
  {
   "cell_type": "code",
   "execution_count": 7,
   "id": "6f2c5908",
   "metadata": {
    "ExecuteTime": {
     "end_time": "2022-05-31T09:34:16.879030Z",
     "start_time": "2022-05-31T09:34:16.864098Z"
    }
   },
   "outputs": [
    {
     "data": {
      "text/html": [
       "<div>\n",
       "<style scoped>\n",
       "    .dataframe tbody tr th:only-of-type {\n",
       "        vertical-align: middle;\n",
       "    }\n",
       "\n",
       "    .dataframe tbody tr th {\n",
       "        vertical-align: top;\n",
       "    }\n",
       "\n",
       "    .dataframe thead th {\n",
       "        text-align: right;\n",
       "    }\n",
       "</style>\n",
       "<table border=\"1\" class=\"dataframe\">\n",
       "  <thead>\n",
       "    <tr style=\"text-align: right;\">\n",
       "      <th></th>\n",
       "      <th>Recency</th>\n",
       "      <th>Frequency</th>\n",
       "      <th>Monetary</th>\n",
       "    </tr>\n",
       "    <tr>\n",
       "      <th>CustomerID</th>\n",
       "      <th></th>\n",
       "      <th></th>\n",
       "      <th></th>\n",
       "    </tr>\n",
       "  </thead>\n",
       "  <tbody>\n",
       "    <tr>\n",
       "      <th>12348</th>\n",
       "      <td>-0.196628</td>\n",
       "      <td>-0.397738</td>\n",
       "      <td>1.524036</td>\n",
       "    </tr>\n",
       "    <tr>\n",
       "      <th>12349</th>\n",
       "      <td>-0.830501</td>\n",
       "      <td>0.519182</td>\n",
       "      <td>1.464683</td>\n",
       "    </tr>\n",
       "    <tr>\n",
       "      <th>12350</th>\n",
       "      <td>2.416705</td>\n",
       "      <td>-0.703378</td>\n",
       "      <td>-0.663515</td>\n",
       "    </tr>\n",
       "    <tr>\n",
       "      <th>12352</th>\n",
       "      <td>-0.630331</td>\n",
       "      <td>0.781159</td>\n",
       "      <td>2.583985</td>\n",
       "    </tr>\n",
       "    <tr>\n",
       "      <th>12353</th>\n",
       "      <td>1.237925</td>\n",
       "      <td>-0.987187</td>\n",
       "      <td>-1.030489</td>\n",
       "    </tr>\n",
       "  </tbody>\n",
       "</table>\n",
       "</div>"
      ],
      "text/plain": [
       "             Recency  Frequency  Monetary\n",
       "CustomerID                               \n",
       "12348      -0.196628  -0.397738  1.524036\n",
       "12349      -0.830501   0.519182  1.464683\n",
       "12350       2.416705  -0.703378 -0.663515\n",
       "12352      -0.630331   0.781159  2.583985\n",
       "12353       1.237925  -0.987187 -1.030489"
      ]
     },
     "execution_count": 7,
     "metadata": {},
     "output_type": "execute_result"
    }
   ],
   "source": [
    "scaler = StandardScaler()\n",
    "scaled_data = pd.DataFrame(scaler.fit_transform(df_k))\n",
    "scaled_data.columns = df_k.columns\n",
    "scaled_data.index = df_k.index\n",
    "scaled_data.head()"
   ]
  },
  {
   "cell_type": "markdown",
   "id": "0106c24a",
   "metadata": {},
   "source": [
    "# KMeans"
   ]
  },
  {
   "cell_type": "code",
   "execution_count": 8,
   "id": "ef1b6414",
   "metadata": {
    "ExecuteTime": {
     "end_time": "2022-05-31T09:34:19.595337Z",
     "start_time": "2022-05-31T09:34:16.881024Z"
    }
   },
   "outputs": [
    {
     "name": "stdout",
     "output_type": "stream",
     "text": [
      "n_clusters = 2 \n",
      "  silhoette score : 0.422\n",
      "n_clusters = 3 \n",
      "  silhoette score : 0.437\n",
      "n_clusters = 4 \n",
      "  silhoette score : 0.387\n",
      "n_clusters = 5 \n",
      "  silhoette score : 0.387\n",
      "n_clusters = 6 \n",
      "  silhoette score : 0.358\n",
      "n_clusters = 7 \n",
      "  silhoette score : 0.330\n",
      "n_clusters = 8 \n",
      "  silhoette score : 0.337\n",
      "n_clusters = 9 \n",
      "  silhoette score : 0.346\n",
      "n_clusters = 10 \n",
      "  silhoette score : 0.318\n"
     ]
    }
   ],
   "source": [
    "x = list(range(2, 11))\n",
    "\n",
    "for num_clusters in x:\n",
    "    kmeans = KMeans(n_clusters=num_clusters,\n",
    "                    max_iter=300, n_init=10, random_state=1)\n",
    "    kmeans.fit(scaled_data)\n",
    "    \n",
    "    clusters = kmeans.predict(scaled_data)\n",
    "    \n",
    "    silhouette_avg = silhouette_score(scaled_data, clusters)\n",
    "    print(f'n_clusters = {num_clusters} \\n  silhoette score : {silhouette_avg:.3f}')"
   ]
  },
  {
   "cell_type": "markdown",
   "id": "3e767604",
   "metadata": {},
   "source": [
    "cluster가 3개일 때, 실루엣 계수가 가장 높다."
   ]
  },
  {
   "cell_type": "code",
   "execution_count": 9,
   "id": "17983d8e",
   "metadata": {
    "ExecuteTime": {
     "end_time": "2022-05-31T09:34:19.643207Z",
     "start_time": "2022-05-31T09:34:19.597330Z"
    }
   },
   "outputs": [
    {
     "data": {
      "text/plain": [
       "array([2, 2, 1, ..., 1, 0, 2])"
      ]
     },
     "execution_count": 9,
     "metadata": {},
     "output_type": "execute_result"
    }
   ],
   "source": [
    "kmeans = KMeans(n_clusters=3, init='k-means++', max_iter=300, random_state=1)\n",
    "kmeans.fit_predict(scaled_data)"
   ]
  },
  {
   "cell_type": "markdown",
   "id": "134e5bbf",
   "metadata": {},
   "source": [
    "## 엘보우 방법"
   ]
  },
  {
   "cell_type": "code",
   "execution_count": 10,
   "id": "c40f023e",
   "metadata": {
    "ExecuteTime": {
     "end_time": "2022-05-31T09:34:20.522971Z",
     "start_time": "2022-05-31T09:34:19.645203Z"
    }
   },
   "outputs": [
    {
     "data": {
      "image/png": "[encoded data removed]",
      "text/plain": [
       "<Figure size 720x576 with 1 Axes>"
      ]
     },
     "metadata": {
      "needs_background": "light"
     },
     "output_type": "display_data"
    }
   ],
   "source": [
    "inertia = []\n",
    "\n",
    "for i in range(2, 11):\n",
    "    km1 = KMeans(n_clusters=i, n_init=10, max_iter=300, random_state=1)\n",
    "    km1.fit(scaled_data)\n",
    "    inertia.append(km1.inertia_)\n",
    "    \n",
    "plt.plot(range(2, 11), inertia, marker='o')\n",
    "plt.xlabel('The number of clusters')\n",
    "plt.ylabel('The value of inertia')\n",
    "plt.tight_layout()\n",
    "plt.show()"
   ]
  },
  {
   "cell_type": "code",
   "execution_count": 11,
   "id": "a981947d",
   "metadata": {
    "ExecuteTime": {
     "end_time": "2022-05-31T09:34:20.538239Z",
     "start_time": "2022-05-31T09:34:20.522971Z"
    }
   },
   "outputs": [
    {
     "data": {
      "text/html": [
       "<div>\n",
       "<style scoped>\n",
       "    .dataframe tbody tr th:only-of-type {\n",
       "        vertical-align: middle;\n",
       "    }\n",
       "\n",
       "    .dataframe tbody tr th {\n",
       "        vertical-align: top;\n",
       "    }\n",
       "\n",
       "    .dataframe thead th {\n",
       "        text-align: right;\n",
       "    }\n",
       "</style>\n",
       "<table border=\"1\" class=\"dataframe\">\n",
       "  <thead>\n",
       "    <tr style=\"text-align: right;\">\n",
       "      <th></th>\n",
       "      <th>Recency</th>\n",
       "      <th>Frequency</th>\n",
       "      <th>Monetary</th>\n",
       "      <th>Cluster</th>\n",
       "    </tr>\n",
       "    <tr>\n",
       "      <th>CustomerID</th>\n",
       "      <th></th>\n",
       "      <th></th>\n",
       "      <th></th>\n",
       "      <th></th>\n",
       "    </tr>\n",
       "  </thead>\n",
       "  <tbody>\n",
       "    <tr>\n",
       "      <th>12348</th>\n",
       "      <td>76</td>\n",
       "      <td>31</td>\n",
       "      <td>1797.24</td>\n",
       "      <td>2</td>\n",
       "    </tr>\n",
       "    <tr>\n",
       "      <th>12349</th>\n",
       "      <td>19</td>\n",
       "      <td>73</td>\n",
       "      <td>1757.55</td>\n",
       "      <td>2</td>\n",
       "    </tr>\n",
       "    <tr>\n",
       "      <th>12350</th>\n",
       "      <td>311</td>\n",
       "      <td>17</td>\n",
       "      <td>334.40</td>\n",
       "      <td>1</td>\n",
       "    </tr>\n",
       "    <tr>\n",
       "      <th>12352</th>\n",
       "      <td>37</td>\n",
       "      <td>85</td>\n",
       "      <td>2506.04</td>\n",
       "      <td>2</td>\n",
       "    </tr>\n",
       "    <tr>\n",
       "      <th>12353</th>\n",
       "      <td>205</td>\n",
       "      <td>4</td>\n",
       "      <td>89.00</td>\n",
       "      <td>1</td>\n",
       "    </tr>\n",
       "  </tbody>\n",
       "</table>\n",
       "</div>"
      ],
      "text/plain": [
       "            Recency  Frequency  Monetary  Cluster\n",
       "CustomerID                                       \n",
       "12348            76         31   1797.24        2\n",
       "12349            19         73   1757.55        2\n",
       "12350           311         17    334.40        1\n",
       "12352            37         85   2506.04        2\n",
       "12353           205          4     89.00        1"
      ]
     },
     "execution_count": 11,
     "metadata": {},
     "output_type": "execute_result"
    }
   ],
   "source": [
    "df_k['Cluster'] = kmeans.labels_\n",
    "df_k.head()"
   ]
  },
  {
   "cell_type": "code",
   "execution_count": 12,
   "id": "31343a5c",
   "metadata": {
    "ExecuteTime": {
     "end_time": "2022-05-31T09:34:20.554194Z",
     "start_time": "2022-05-31T09:34:20.540232Z"
    }
   },
   "outputs": [
    {
     "data": {
      "text/html": [
       "<div>\n",
       "<style scoped>\n",
       "    .dataframe tbody tr th:only-of-type {\n",
       "        vertical-align: middle;\n",
       "    }\n",
       "\n",
       "    .dataframe tbody tr th {\n",
       "        vertical-align: top;\n",
       "    }\n",
       "\n",
       "    .dataframe thead th {\n",
       "        text-align: right;\n",
       "    }\n",
       "</style>\n",
       "<table border=\"1\" class=\"dataframe\">\n",
       "  <thead>\n",
       "    <tr style=\"text-align: right;\">\n",
       "      <th></th>\n",
       "      <th>Recency</th>\n",
       "      <th>Frequency</th>\n",
       "      <th>Monetary</th>\n",
       "      <th>Cluster</th>\n",
       "    </tr>\n",
       "    <tr>\n",
       "      <th>CustomerID</th>\n",
       "      <th></th>\n",
       "      <th></th>\n",
       "      <th></th>\n",
       "      <th></th>\n",
       "    </tr>\n",
       "  </thead>\n",
       "  <tbody>\n",
       "    <tr>\n",
       "      <th>12348</th>\n",
       "      <td>-0.196628</td>\n",
       "      <td>-0.397738</td>\n",
       "      <td>1.524036</td>\n",
       "      <td>2</td>\n",
       "    </tr>\n",
       "    <tr>\n",
       "      <th>12349</th>\n",
       "      <td>-0.830501</td>\n",
       "      <td>0.519182</td>\n",
       "      <td>1.464683</td>\n",
       "      <td>2</td>\n",
       "    </tr>\n",
       "    <tr>\n",
       "      <th>12350</th>\n",
       "      <td>2.416705</td>\n",
       "      <td>-0.703378</td>\n",
       "      <td>-0.663515</td>\n",
       "      <td>1</td>\n",
       "    </tr>\n",
       "    <tr>\n",
       "      <th>12352</th>\n",
       "      <td>-0.630331</td>\n",
       "      <td>0.781159</td>\n",
       "      <td>2.583985</td>\n",
       "      <td>2</td>\n",
       "    </tr>\n",
       "    <tr>\n",
       "      <th>12353</th>\n",
       "      <td>1.237925</td>\n",
       "      <td>-0.987187</td>\n",
       "      <td>-1.030489</td>\n",
       "      <td>1</td>\n",
       "    </tr>\n",
       "  </tbody>\n",
       "</table>\n",
       "</div>"
      ],
      "text/plain": [
       "             Recency  Frequency  Monetary  Cluster\n",
       "CustomerID                                        \n",
       "12348      -0.196628  -0.397738  1.524036        2\n",
       "12349      -0.830501   0.519182  1.464683        2\n",
       "12350       2.416705  -0.703378 -0.663515        1\n",
       "12352      -0.630331   0.781159  2.583985        2\n",
       "12353       1.237925  -0.987187 -1.030489        1"
      ]
     },
     "execution_count": 12,
     "metadata": {},
     "output_type": "execute_result"
    }
   ],
   "source": [
    "scaled_data['Cluster'] = kmeans.labels_\n",
    "scaled_data.head()"
   ]
  },
  {
   "cell_type": "markdown",
   "id": "0524267c",
   "metadata": {},
   "source": [
    "## 데이터 추세의 시각화"
   ]
  },
  {
   "cell_type": "code",
   "execution_count": 13,
   "id": "7e9ae9b0",
   "metadata": {
    "ExecuteTime": {
     "end_time": "2022-05-31T09:34:20.996138Z",
     "start_time": "2022-05-31T09:34:20.556190Z"
    }
   },
   "outputs": [
    {
     "data": {
      "image/png": "[encoded data removed]",
      "text/plain": [
       "<Figure size 720x576 with 1 Axes>"
      ]
     },
     "metadata": {
      "needs_background": "light"
     },
     "output_type": "display_data"
    }
   ],
   "source": [
    "data_melt = pd.melt(scaled_data.reset_index(),\n",
    "                   id_vars=['Cluster'],\n",
    "                   value_vars = ['Recency', 'Frequency', 'Monetary'],\n",
    "                   var_name ='Attribute',\n",
    "                   value_name='Value')\n",
    "\n",
    "plt.title('Snake Plot of standarzized variables')\n",
    "plt.rcParams['figure.figsize'] = [10, 8]\n",
    "sns.lineplot(x='Attribute', y='Value', hue ='Cluster', style = 'Cluster', markers = True, data = data_melt )\n",
    "plt.show()"
   ]
  },
  {
   "cell_type": "markdown",
   "id": "66fcd231",
   "metadata": {},
   "source": [
    "melt : 데이터프레임을 재구조화"
   ]
  },
  {
   "cell_type": "markdown",
   "id": "c1b94eb9",
   "metadata": {},
   "source": [
    "- 0번 클러스터\n",
    "    - R값이 높다 : 최근에 방문하지 않음\n",
    "    - F값이 낮다 : 자주 방문하지 않음\n",
    "    - M값이 낮다 : 구매액이 적음\n",
    "    - 불량 고객군이라고 할 수 있다.\n",
    "    \n",
    "- 2번 클러스터\n",
    "    - R값이 낮다 : 가장 최근에 방문한 집단\n",
    "    - F값이 높다 : 자주 방문\n",
    "    - M값이 높다 : 구매액이 크다\n",
    "    - 우량 고객군이라고 할 수 있다.\n",
    "    \n",
    "- 1번 클러스터\n",
    "    - 최근에 방문했다.\n",
    "    - 자주 방문한 편이다\n",
    "    - 신생 고객군이라고 할 수 있다."
   ]
  },
  {
   "cell_type": "code",
   "execution_count": 14,
   "id": "f2f43344",
   "metadata": {
    "ExecuteTime": {
     "end_time": "2022-05-31T09:34:21.012095Z",
     "start_time": "2022-05-31T09:34:20.997136Z"
    }
   },
   "outputs": [],
   "source": [
    "df_0 = df_k[df_k['Cluster']==0]\n",
    "df_1 = df_k[df_k['Cluster']==1]\n",
    "df_2 = df_k[df_k['Cluster']==2]"
   ]
  },
  {
   "cell_type": "code",
   "execution_count": 15,
   "id": "3ed677a4",
   "metadata": {
    "ExecuteTime": {
     "end_time": "2022-05-31T09:34:21.028054Z",
     "start_time": "2022-05-31T09:34:21.014092Z"
    }
   },
   "outputs": [
    {
     "data": {
      "text/html": [
       "<div>\n",
       "<style scoped>\n",
       "    .dataframe tbody tr th:only-of-type {\n",
       "        vertical-align: middle;\n",
       "    }\n",
       "\n",
       "    .dataframe tbody tr th {\n",
       "        vertical-align: top;\n",
       "    }\n",
       "\n",
       "    .dataframe thead th {\n",
       "        text-align: right;\n",
       "    }\n",
       "</style>\n",
       "<table border=\"1\" class=\"dataframe\">\n",
       "  <thead>\n",
       "    <tr style=\"text-align: right;\">\n",
       "      <th></th>\n",
       "      <th>Recency</th>\n",
       "      <th>Frequency</th>\n",
       "      <th>Monetary</th>\n",
       "      <th>Cluster</th>\n",
       "    </tr>\n",
       "    <tr>\n",
       "      <th>CustomerID</th>\n",
       "      <th></th>\n",
       "      <th></th>\n",
       "      <th></th>\n",
       "      <th></th>\n",
       "    </tr>\n",
       "  </thead>\n",
       "  <tbody>\n",
       "    <tr>\n",
       "      <th>12348</th>\n",
       "      <td>76</td>\n",
       "      <td>31</td>\n",
       "      <td>1797.24</td>\n",
       "      <td>2</td>\n",
       "    </tr>\n",
       "    <tr>\n",
       "      <th>12349</th>\n",
       "      <td>19</td>\n",
       "      <td>73</td>\n",
       "      <td>1757.55</td>\n",
       "      <td>2</td>\n",
       "    </tr>\n",
       "    <tr>\n",
       "      <th>12352</th>\n",
       "      <td>37</td>\n",
       "      <td>85</td>\n",
       "      <td>2506.04</td>\n",
       "      <td>2</td>\n",
       "    </tr>\n",
       "    <tr>\n",
       "      <th>12356</th>\n",
       "      <td>23</td>\n",
       "      <td>59</td>\n",
       "      <td>2811.43</td>\n",
       "      <td>2</td>\n",
       "    </tr>\n",
       "    <tr>\n",
       "      <th>12360</th>\n",
       "      <td>53</td>\n",
       "      <td>129</td>\n",
       "      <td>2662.06</td>\n",
       "      <td>2</td>\n",
       "    </tr>\n",
       "  </tbody>\n",
       "</table>\n",
       "</div>"
      ],
      "text/plain": [
       "            Recency  Frequency  Monetary  Cluster\n",
       "CustomerID                                       \n",
       "12348            76         31   1797.24        2\n",
       "12349            19         73   1757.55        2\n",
       "12352            37         85   2506.04        2\n",
       "12356            23         59   2811.43        2\n",
       "12360            53        129   2662.06        2"
      ]
     },
     "execution_count": 15,
     "metadata": {},
     "output_type": "execute_result"
    }
   ],
   "source": [
    "df_2.head()"
   ]
  },
  {
   "cell_type": "code",
   "execution_count": 16,
   "id": "68876660",
   "metadata": {
    "ExecuteTime": {
     "end_time": "2022-05-31T09:34:21.059968Z",
     "start_time": "2022-05-31T09:34:21.029051Z"
    }
   },
   "outputs": [
    {
     "data": {
      "text/html": [
       "<div>\n",
       "<style scoped>\n",
       "    .dataframe tbody tr th:only-of-type {\n",
       "        vertical-align: middle;\n",
       "    }\n",
       "\n",
       "    .dataframe tbody tr th {\n",
       "        vertical-align: top;\n",
       "    }\n",
       "\n",
       "    .dataframe thead th {\n",
       "        text-align: right;\n",
       "    }\n",
       "</style>\n",
       "<table border=\"1\" class=\"dataframe\">\n",
       "  <thead>\n",
       "    <tr style=\"text-align: right;\">\n",
       "      <th></th>\n",
       "      <th>Recency</th>\n",
       "      <th>Frequency</th>\n",
       "      <th>Monetary</th>\n",
       "      <th>Cluster</th>\n",
       "    </tr>\n",
       "  </thead>\n",
       "  <tbody>\n",
       "    <tr>\n",
       "      <th>count</th>\n",
       "      <td>800.000000</td>\n",
       "      <td>800.000000</td>\n",
       "      <td>800.000000</td>\n",
       "      <td>800.0</td>\n",
       "    </tr>\n",
       "    <tr>\n",
       "      <th>mean</th>\n",
       "      <td>42.788750</td>\n",
       "      <td>113.661250</td>\n",
       "      <td>1713.972763</td>\n",
       "      <td>2.0</td>\n",
       "    </tr>\n",
       "    <tr>\n",
       "      <th>std</th>\n",
       "      <td>45.433571</td>\n",
       "      <td>44.453646</td>\n",
       "      <td>620.695770</td>\n",
       "      <td>0.0</td>\n",
       "    </tr>\n",
       "    <tr>\n",
       "      <th>min</th>\n",
       "      <td>1.000000</td>\n",
       "      <td>4.000000</td>\n",
       "      <td>360.930000</td>\n",
       "      <td>2.0</td>\n",
       "    </tr>\n",
       "    <tr>\n",
       "      <th>25%</th>\n",
       "      <td>11.000000</td>\n",
       "      <td>82.000000</td>\n",
       "      <td>1286.542500</td>\n",
       "      <td>2.0</td>\n",
       "    </tr>\n",
       "    <tr>\n",
       "      <th>50%</th>\n",
       "      <td>27.000000</td>\n",
       "      <td>108.000000</td>\n",
       "      <td>1704.605000</td>\n",
       "      <td>2.0</td>\n",
       "    </tr>\n",
       "    <tr>\n",
       "      <th>75%</th>\n",
       "      <td>58.000000</td>\n",
       "      <td>141.000000</td>\n",
       "      <td>2182.595000</td>\n",
       "      <td>2.0</td>\n",
       "    </tr>\n",
       "    <tr>\n",
       "      <th>max</th>\n",
       "      <td>247.000000</td>\n",
       "      <td>228.000000</td>\n",
       "      <td>2925.910000</td>\n",
       "      <td>2.0</td>\n",
       "    </tr>\n",
       "  </tbody>\n",
       "</table>\n",
       "</div>"
      ],
      "text/plain": [
       "          Recency   Frequency     Monetary  Cluster\n",
       "count  800.000000  800.000000   800.000000    800.0\n",
       "mean    42.788750  113.661250  1713.972763      2.0\n",
       "std     45.433571   44.453646   620.695770      0.0\n",
       "min      1.000000    4.000000   360.930000      2.0\n",
       "25%     11.000000   82.000000  1286.542500      2.0\n",
       "50%     27.000000  108.000000  1704.605000      2.0\n",
       "75%     58.000000  141.000000  2182.595000      2.0\n",
       "max    247.000000  228.000000  2925.910000      2.0"
      ]
     },
     "execution_count": 16,
     "metadata": {},
     "output_type": "execute_result"
    }
   ],
   "source": [
    "df_2.describe()"
   ]
  },
  {
   "cell_type": "markdown",
   "id": "f0acfd25",
   "metadata": {},
   "source": [
    "# 과제 : 4개의 클러스터 구성"
   ]
  },
  {
   "cell_type": "markdown",
   "id": "14240f06",
   "metadata": {},
   "source": [
    "## 데이터 준비"
   ]
  },
  {
   "cell_type": "code",
   "execution_count": 17,
   "id": "fd7da99c",
   "metadata": {
    "ExecuteTime": {
     "end_time": "2022-05-31T09:34:21.091883Z",
     "start_time": "2022-05-31T09:34:21.061963Z"
    }
   },
   "outputs": [
    {
     "data": {
      "text/html": [
       "<div>\n",
       "<style scoped>\n",
       "    .dataframe tbody tr th:only-of-type {\n",
       "        vertical-align: middle;\n",
       "    }\n",
       "\n",
       "    .dataframe tbody tr th {\n",
       "        vertical-align: top;\n",
       "    }\n",
       "\n",
       "    .dataframe thead th {\n",
       "        text-align: right;\n",
       "    }\n",
       "</style>\n",
       "<table border=\"1\" class=\"dataframe\">\n",
       "  <thead>\n",
       "    <tr style=\"text-align: right;\">\n",
       "      <th></th>\n",
       "      <th>Recency</th>\n",
       "      <th>Frequency</th>\n",
       "      <th>Monetary</th>\n",
       "    </tr>\n",
       "    <tr>\n",
       "      <th>CustomerID</th>\n",
       "      <th></th>\n",
       "      <th></th>\n",
       "      <th></th>\n",
       "    </tr>\n",
       "  </thead>\n",
       "  <tbody>\n",
       "    <tr>\n",
       "      <th>12348</th>\n",
       "      <td>-0.196628</td>\n",
       "      <td>-0.397738</td>\n",
       "      <td>1.524036</td>\n",
       "    </tr>\n",
       "    <tr>\n",
       "      <th>12349</th>\n",
       "      <td>-0.830501</td>\n",
       "      <td>0.519182</td>\n",
       "      <td>1.464683</td>\n",
       "    </tr>\n",
       "    <tr>\n",
       "      <th>12350</th>\n",
       "      <td>2.416705</td>\n",
       "      <td>-0.703378</td>\n",
       "      <td>-0.663515</td>\n",
       "    </tr>\n",
       "    <tr>\n",
       "      <th>12352</th>\n",
       "      <td>-0.630331</td>\n",
       "      <td>0.781159</td>\n",
       "      <td>2.583985</td>\n",
       "    </tr>\n",
       "    <tr>\n",
       "      <th>12353</th>\n",
       "      <td>1.237925</td>\n",
       "      <td>-0.987187</td>\n",
       "      <td>-1.030489</td>\n",
       "    </tr>\n",
       "  </tbody>\n",
       "</table>\n",
       "</div>"
      ],
      "text/plain": [
       "             Recency  Frequency  Monetary\n",
       "CustomerID                               \n",
       "12348      -0.196628  -0.397738  1.524036\n",
       "12349      -0.830501   0.519182  1.464683\n",
       "12350       2.416705  -0.703378 -0.663515\n",
       "12352      -0.630331   0.781159  2.583985\n",
       "12353       1.237925  -0.987187 -1.030489"
      ]
     },
     "execution_count": 17,
     "metadata": {},
     "output_type": "execute_result"
    }
   ],
   "source": [
    "df = pd.read_csv('data/rfm.csv')\n",
    "df = df[['CustomerID', 'Recency', 'Frequency', 'Monetary']]\n",
    "df = df.set_index('CustomerID')\n",
    "\n",
    "# 이상치 제거\n",
    "for col in df.columns:\n",
    "    q1 = df[col].quantile(.25)\n",
    "    q3 = df[col].quantile(.75)\n",
    "    iqr = q3 - q1\n",
    "    \n",
    "    df = df[(df[col] >= q1 - 1.5*iqr) & (df[col] <= q3 + 1.5*iqr)]\n",
    "    \n",
    "# 스케일링\n",
    "scaler = StandardScaler()\n",
    "scaled_df = pd.DataFrame(scaler.fit_transform(df), columns=df.columns, index=df.index)\n",
    "scaled_df.head()"
   ]
  },
  {
   "cell_type": "markdown",
   "id": "47f2efbc",
   "metadata": {},
   "source": [
    "## KMeans Clustering"
   ]
  },
  {
   "cell_type": "code",
   "execution_count": 18,
   "id": "856281f2",
   "metadata": {
    "ExecuteTime": {
     "end_time": "2022-05-31T09:34:21.199594Z",
     "start_time": "2022-05-31T09:34:21.092881Z"
    }
   },
   "outputs": [
    {
     "data": {
      "text/html": [
       "<div>\n",
       "<style scoped>\n",
       "    .dataframe tbody tr th:only-of-type {\n",
       "        vertical-align: middle;\n",
       "    }\n",
       "\n",
       "    .dataframe tbody tr th {\n",
       "        vertical-align: top;\n",
       "    }\n",
       "\n",
       "    .dataframe thead th {\n",
       "        text-align: right;\n",
       "    }\n",
       "</style>\n",
       "<table border=\"1\" class=\"dataframe\">\n",
       "  <thead>\n",
       "    <tr style=\"text-align: right;\">\n",
       "      <th></th>\n",
       "      <th>Recency</th>\n",
       "      <th>Frequency</th>\n",
       "      <th>Monetary</th>\n",
       "      <th>Cluster</th>\n",
       "    </tr>\n",
       "    <tr>\n",
       "      <th>CustomerID</th>\n",
       "      <th></th>\n",
       "      <th></th>\n",
       "      <th></th>\n",
       "      <th></th>\n",
       "    </tr>\n",
       "  </thead>\n",
       "  <tbody>\n",
       "    <tr>\n",
       "      <th>12348</th>\n",
       "      <td>76</td>\n",
       "      <td>31</td>\n",
       "      <td>1797.24</td>\n",
       "      <td>3</td>\n",
       "    </tr>\n",
       "    <tr>\n",
       "      <th>12349</th>\n",
       "      <td>19</td>\n",
       "      <td>73</td>\n",
       "      <td>1757.55</td>\n",
       "      <td>3</td>\n",
       "    </tr>\n",
       "    <tr>\n",
       "      <th>12350</th>\n",
       "      <td>311</td>\n",
       "      <td>17</td>\n",
       "      <td>334.40</td>\n",
       "      <td>2</td>\n",
       "    </tr>\n",
       "    <tr>\n",
       "      <th>12352</th>\n",
       "      <td>37</td>\n",
       "      <td>85</td>\n",
       "      <td>2506.04</td>\n",
       "      <td>1</td>\n",
       "    </tr>\n",
       "    <tr>\n",
       "      <th>12353</th>\n",
       "      <td>205</td>\n",
       "      <td>4</td>\n",
       "      <td>89.00</td>\n",
       "      <td>2</td>\n",
       "    </tr>\n",
       "  </tbody>\n",
       "</table>\n",
       "</div>"
      ],
      "text/plain": [
       "            Recency  Frequency  Monetary  Cluster\n",
       "CustomerID                                       \n",
       "12348            76         31   1797.24        3\n",
       "12349            19         73   1757.55        3\n",
       "12350           311         17    334.40        2\n",
       "12352            37         85   2506.04        1\n",
       "12353           205          4     89.00        2"
      ]
     },
     "execution_count": 18,
     "metadata": {},
     "output_type": "execute_result"
    }
   ],
   "source": [
    "kmeans = KMeans(n_clusters=4, init='k-means++', max_iter=300, random_state=1)\n",
    "scaled_df['Cluster'] = kmeans.fit_predict(scaled_df)\n",
    "df['Cluster'] = kmeans.fit_predict(scaled_df)\n",
    "df.head()"
   ]
  },
  {
   "cell_type": "markdown",
   "id": "8b0cfe24",
   "metadata": {},
   "source": [
    "## 추세 시각화"
   ]
  },
  {
   "cell_type": "code",
   "execution_count": 19,
   "id": "895d3253",
   "metadata": {
    "ExecuteTime": {
     "end_time": "2022-05-31T09:34:21.715928Z",
     "start_time": "2022-05-31T09:34:21.200592Z"
    }
   },
   "outputs": [
    {
     "data": {
      "image/png": "[encoded data removed]",
      "text/plain": [
       "<Figure size 720x576 with 1 Axes>"
      ]
     },
     "metadata": {
      "needs_background": "light"
     },
     "output_type": "display_data"
    }
   ],
   "source": [
    "data_melt = pd.melt(scaled_df.reset_index(),\n",
    "                   id_vars=['Cluster'],\n",
    "                   value_vars = ['Recency', 'Frequency', 'Monetary'],\n",
    "                   var_name ='Attribute',\n",
    "                   value_name='Value')\n",
    "\n",
    "plt.title('Snake Plot of standarzized variables')\n",
    "plt.rcParams['figure.figsize'] = [10, 8]\n",
    "sns.lineplot(x='Attribute', y='Value', hue ='Cluster', style = 'Cluster', markers = True, data = data_melt )\n",
    "plt.show()"
   ]
  },
  {
   "cell_type": "markdown",
   "id": "e76814da",
   "metadata": {},
   "source": [
    "2번 집단은 R값이 높고 F,M값이 낮다. 즉, 최근에 방문하지 않았으며, 기존에 방문 빈도도 낮고 사용 금액도 적었다. 따라서 **과거에 이탈한 고객군**이라고 할 수 있다. 과거에 방문 빈도가 낮았으며 사용 금액도 낮았기 떄문에, 이들이 돌아오도록 마케팅 전략을 펼치고 투자를 하는 것은 큰 효과가 없을 것이라 생각한다.\n",
    "\n",
    "반대로 3번 집단은 R값이 가장 낮고 F와 M값은 가장 높다. 즉, 가장 최근에 방문했으며 주문 빈도도 높고 사용 금액도 큰 집단이다. 따라서 **우수 고객 또는 핵심 고객 집단**이라고 할 수 있다. 이들이 이탈하지 않도록 마케팅 캠페인을 꾸준히 실행하는 것이 도움이 될 것이다. \n",
    "\n",
    "1번 집단은 3번 집단보다는 그 값이 낮지만, 3번 집단 다음으로 우수한 고객 집단이라 할 수 있다. 따라서 이들은 3번 집단으로 향할 수 있도록 소비 촉진을 위한 마케팅 캠페인을 실시한다.\n",
    "\n",
    "마지막으로 0번 집단은 최근에 방문한 편이지만, F와 M값은 이탈 고객군(2번 집단)과 유사하다. F와 M값이 낮기 때문에 가치가 낮은 집단이라 생각할 수 있지만, 최근에 방문한 것을 생각하면 반대로 **최근에 고객이 된 신규 고객 집단**이라고 해석할 수도 있다. 따라서 **0번 집단의 고객을 우수 고객 집단으로 바꾸기 위해서 이들을 위한 마케팅 캠페인을 실시**하는 것이 유용할 것이다."
   ]
  }
 ],
 "metadata": {
  "kernelspec": {
   "display_name": "Python 3 (ipykernel)",
   "language": "python",
   "name": "python3"
  },
  "language_info": {
   "codemirror_mode": {
    "name": "ipython",
    "version": 3
   },
   "file_extension": ".py",
   "mimetype": "text/x-python",
   "name": "python",
   "nbconvert_exporter": "python",
   "pygments_lexer": "ipython3",
   "version": "3.9.7"
  },
  "toc": {
   "base_numbering": "0",
   "nav_menu": {},
   "number_sections": true,
   "sideBar": true,
   "skip_h1_title": false,
   "title_cell": "Table of Contents",
   "title_sidebar": "Contents",
   "toc_cell": false,
   "toc_position": {},
   "toc_section_display": true,
   "toc_window_display": false
  }
 },
 "nbformat": 4,
 "nbformat_minor": 5
}
