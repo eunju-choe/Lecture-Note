{
 "cells": [
  {
   "cell_type": "markdown",
   "metadata": {},
   "source": [
    "# CHAPTER 09_함수와 모듈"
   ]
  },
  {
   "cell_type": "markdown",
   "metadata": {},
   "source": [
    "## SECTION 04_함수의 반환값과 매개변수"
   ]
  },
  {
   "cell_type": "markdown",
   "metadata": {},
   "source": [
    "### 2. 함수의 매개변수 전달"
   ]
  },
  {
   "cell_type": "markdown",
   "metadata": {},
   "source": [
    "#### 매개변수의 개수를 지정해 전달하는 방법\n",
    "- 함수에 매개변수의 개수를 지정해 놓으면 정확히 매개변수의 개수에 맞추어 호출"
   ]
  },
  {
   "cell_type": "code",
   "execution_count": 1,
   "metadata": {},
   "outputs": [
    {
     "name": "stdout",
     "output_type": "stream",
     "text": [
      "매개변수가 2개인 함수를 호출한 결과 : 30\n",
      "매개변수가 3개인 함수를 호출한 결과 : 60\n"
     ]
    }
   ],
   "source": [
    "def para2_func(v1, v2) : \n",
    "    result = v1 + v2\n",
    "    return result\n",
    "\n",
    "def para3_func(v1, v2, v3) :\n",
    "    result = v1 + v2 + v3\n",
    "    return result\n",
    "\n",
    "hap = para2_func(10, 20)\n",
    "print('매개변수가 2개인 함수를 호출한 결과 :', hap)\n",
    "hap = para3_func(10, 20, 30)\n",
    "print('매개변수가 3개인 함수를 호출한 결과 :', hap)"
   ]
  },
  {
   "cell_type": "markdown",
   "metadata": {},
   "source": [
    "#### 매개변수에 기본값을 설정해 놓고 전달하는 방법\n",
    "- 함수 하나에서 매개변수를 2개 또는 3개 처리할 때\n",
    "- 가장 많이 사용할 변수를 필요한 개수만큼 준비한 후 각 매개변수에 기본값 설정"
   ]
  },
  {
   "cell_type": "code",
   "execution_count": 2,
   "metadata": {},
   "outputs": [
    {
     "name": "stdout",
     "output_type": "stream",
     "text": [
      "매개변수가 2개인 함수를 호출한 결과 : 30\n",
      "매개변수가 3개인 함수를 호출한 결과 : 60\n"
     ]
    }
   ],
   "source": [
    "def para_func(v1, v2, v3 = 0) : \n",
    "    result = v1 + v2 + v3\n",
    "    return result\n",
    "\n",
    "hap = para_func(10, 20)\n",
    "print('매개변수가 2개인 함수를 호출한 결과 :', hap)\n",
    "hap = para_func(10, 20, 30)\n",
    "print('매개변수가 3개인 함수를 호출한 결과 :', hap)"
   ]
  },
  {
   "cell_type": "markdown",
   "metadata": {},
   "source": [
    "#### 매개변수의 개수를 지정하지 않고 전달하는 방법\n",
    "- 매개변수의 개수에 상관없이 모두 처리하는 방법\n",
    "- 파이썬은 **가변 매개변수** 방식 지원\n",
    "- 함수의 매개변수명 앞에 \\*을 붙이면 매개변수가 튜플 형식으로 넘어와 튜플을 처리하는 방식으로 함수 안에서 사용 가능"
   ]
  },
  {
   "cell_type": "code",
   "execution_count": 3,
   "metadata": {},
   "outputs": [
    {
     "name": "stdout",
     "output_type": "stream",
     "text": [
      "매개변수가 2개인 함수를 호출한 결과 : 30\n",
      "매개변수가 3개인 함수를 호출한 결과 : 60\n"
     ]
    }
   ],
   "source": [
    "def para_func(*para) :\n",
    "    result = 0\n",
    "    for num in para :\n",
    "        result += num\n",
    "        \n",
    "    return result\n",
    "\n",
    "hap = para_func(10, 20)\n",
    "print('매개변수가 2개인 함수를 호출한 결과 :', hap)\n",
    "hap = para_func(10, 20, 30)\n",
    "print('매개변수가 3개인 함수를 호출한 결과 :', hap)"
   ]
  },
  {
   "cell_type": "markdown",
   "metadata": {},
   "source": [
    "- 함수의 매개변수 앞에 \\*\\*을 붙이면 딕셔너리 형식으로 전달받음\n",
    "- 함수를 호출할 때도 딕셔너리 형식의 매개변수를 키=값 형식으로 사용"
   ]
  },
  {
   "cell_type": "code",
   "execution_count": 4,
   "metadata": {
    "scrolled": true
   },
   "outputs": [
    {
     "name": "stdout",
     "output_type": "stream",
     "text": [
      "트와이스 --> 9명입니다.\n",
      "소녀시대 --> 7명입니다.\n",
      "걸스데이 --> 4명입니다.\n",
      "블랙핑크 --> 4명입니다.\n"
     ]
    }
   ],
   "source": [
    "def dic_func(**para) :\n",
    "    for k in para.keys() :\n",
    "        print(f'{k:s} --> {para[k]:d}명입니다.')\n",
    "        \n",
    "dic_func(트와이스 = 9, 소녀시대 = 7, 걸스데이 = 4, 블랙핑크 = 4)"
   ]
  },
  {
   "cell_type": "markdown",
   "metadata": {},
   "source": [
    "### 3. [프로그램 1]의 완성"
   ]
  },
  {
   "cell_type": "code",
   "execution_count": 5,
   "metadata": {
    "scrolled": true
   },
   "outputs": [
    {
     "name": "stdout",
     "output_type": "stream",
     "text": [
      "로또 번호 ==> 2 3 5 9 25 32 "
     ]
    }
   ],
   "source": [
    "import random\n",
    "\n",
    "def getNumber() :\n",
    "    return random.randrange(1, 46)\n",
    "\n",
    "lotto = []\n",
    "\n",
    "while True :\n",
    "    num = getNumber()\n",
    "    \n",
    "    if lotto.count(num) == 0:\n",
    "        lotto.append(num)\n",
    "        \n",
    "    if len(lotto) >= 6:\n",
    "        break\n",
    "        \n",
    "print('로또 번호 ==> ', end = '')\n",
    "lotto.sort()\n",
    "for i in range(6):\n",
    "    print(lotto[i], end = ' ')"
   ]
  },
  {
   "cell_type": "markdown",
   "metadata": {},
   "source": [
    "## SECTION 05_모듈"
   ]
  },
  {
   "cell_type": "markdown",
   "metadata": {},
   "source": [
    "- 모듈 : 함수의 집합\n",
    "- Module.py 파일 생성 -> 다른 py 파일에서 import Module (**이때 py는 붙이지 않음**)"
   ]
  },
  {
   "cell_type": "markdown",
   "metadata": {},
   "source": [
    "### 1. 모듈의 생성과 사용"
   ]
  },
  {
   "cell_type": "markdown",
   "metadata": {},
   "source": [
    "- 모듈로 사용할 파일과 호출할 파일은 모두 같은 폴더에 들어 있어야 함\n",
    "- 모듈파일은 코딩만 하고 실행할 필요 없음"
   ]
  },
  {
   "cell_type": "code",
   "execution_count": null,
   "metadata": {},
   "outputs": [],
   "source": [
    "[Module1.py]\n",
    "\n",
    "def func1() :\n",
    "    print('Module1.py의 func1()이 호출됨')\n",
    "    \n",
    "def func2() :\n",
    "    print('Module1.py의 func2()이 호출됨')\n",
    "    \n",
    "def func3() :\n",
    "    print('Module1.py의 func3()이 호출됨')"
   ]
  },
  {
   "cell_type": "code",
   "execution_count": null,
   "metadata": {},
   "outputs": [],
   "source": [
    "[A.py]\n",
    "\n",
    "import Module1\n",
    "\n",
    "Module1.func1()\n",
    "Module1.func2()\n",
    "Module1.func3()"
   ]
  },
  {
   "cell_type": "markdown",
   "metadata": {},
   "source": [
    "- 모듈명을 생략하고 함수명만 쓰고 싶은 경우"
   ]
  },
  {
   "cell_type": "code",
   "execution_count": null,
   "metadata": {},
   "outputs": [],
   "source": [
    "[B. py]\n",
    "\n",
    "from Module1 import func1, func2, func3   # 또는(from Module1 import *)\n",
    "\n",
    "func1()\n",
    "func2()\n",
    "func3()"
   ]
  },
  {
   "cell_type": "markdown",
   "metadata": {},
   "source": [
    "### 2. 모듈의 종류"
   ]
  },
  {
   "cell_type": "markdown",
   "metadata": {},
   "source": [
    "- 표준 모듈 : 파이썬에서 제공하는 모듈\n",
    "- 사용자 정의 모듈 : 직접 만들어서 사용하는 모듈\n",
    "- 서드 파티 모듈 : 파이썬이 아닌 외부 회사나 단체에서 제공하는 모듈"
   ]
  },
  {
   "cell_type": "markdown",
   "metadata": {},
   "source": [
    "- 파이썬에서 제공하는 표준 모듈의 목록 확인\n",
    "- 이름에 언더바가 붙은 것은 언더바를 떼고 임포트 가능"
   ]
  },
  {
   "cell_type": "code",
   "execution_count": 6,
   "metadata": {
    "scrolled": true
   },
   "outputs": [
    {
     "data": {
      "text/plain": [
       "('_abc', '_ast', '_bisect', '_blake2', '_codecs', '_codecs_cn', '_codecs_hk')"
      ]
     },
     "execution_count": 6,
     "metadata": {},
     "output_type": "execute_result"
    }
   ],
   "source": [
    "import sys\n",
    "sys.builtin_module_names[:7]"
   ]
  },
  {
   "cell_type": "markdown",
   "metadata": {},
   "source": [
    "- 제공하는 모듈과 예약어 확인"
   ]
  },
  {
   "cell_type": "code",
   "execution_count": 7,
   "metadata": {},
   "outputs": [
    {
     "data": {
      "text/plain": [
       "['ArithmeticError',\n",
       " 'AssertionError',\n",
       " 'AttributeError',\n",
       " 'BaseException',\n",
       " 'BlockingIOError']"
      ]
     },
     "execution_count": 7,
     "metadata": {},
     "output_type": "execute_result"
    }
   ],
   "source": [
    "dir(__builtins__)[:5]"
   ]
  },
  {
   "cell_type": "markdown",
   "metadata": {},
   "source": [
    "- 모듈별로 제공되는 함수는 dir()로 확인 가능"
   ]
  },
  {
   "cell_type": "code",
   "execution_count": 8,
   "metadata": {
    "scrolled": true
   },
   "outputs": [
    {
     "data": {
      "text/plain": [
       "['__doc__', '__loader__', '__name__', '__package__', '__spec__']"
      ]
     },
     "execution_count": 8,
     "metadata": {},
     "output_type": "execute_result"
    }
   ],
   "source": [
    "import math\n",
    "dir(math)[:5]"
   ]
  },
  {
   "cell_type": "markdown",
   "metadata": {},
   "source": [
    "#### 함수의 매개변수 전달 방법"
   ]
  },
  {
   "cell_type": "markdown",
   "metadata": {},
   "source": [
    "- **값에 의한 전달** : 일반 변수나 값을 전달할 때 함수에 동일한 크기의 별도의 메모리 공간이 확보되어 값이 복사되는 방식 "
   ]
  },
  {
   "cell_type": "code",
   "execution_count": 9,
   "metadata": {},
   "outputs": [
    {
     "name": "stdout",
     "output_type": "stream",
     "text": [
      "111\n"
     ]
    }
   ],
   "source": [
    "def func(p) : # p는 별도의 메모리 공간을 확보\n",
    "    p = 222\n",
    "    \n",
    "v = 111\n",
    "func(v)\n",
    "print(v)"
   ]
  },
  {
   "cell_type": "markdown",
   "metadata": {},
   "source": [
    "- **참조에 의한 전달** : 리스트(튜플, 딕셔너리, 세트)를 매개변수로 전달하므로 주소가 전달되어 메모리 공간이 공유되는 방식"
   ]
  },
  {
   "cell_type": "code",
   "execution_count": 10,
   "metadata": {},
   "outputs": [
    {
     "name": "stdout",
     "output_type": "stream",
     "text": [
      "222\n"
     ]
    }
   ],
   "source": [
    "def func(p) : # 리스트 p는 리스트 v와 메모리를 공유\n",
    "    p[0] = 222\n",
    "    \n",
    "v = [111]\n",
    "func(v)\n",
    "print(v[0])"
   ]
  },
  {
   "cell_type": "markdown",
   "metadata": {},
   "source": [
    "## SECTION 06_함수의 심화 내용"
   ]
  },
  {
   "cell_type": "markdown",
   "metadata": {},
   "source": [
    "### 1. 패키지"
   ]
  },
  {
   "cell_type": "markdown",
   "metadata": {},
   "source": [
    "- 패키지 : 여러 모듈을 모아놓은 것으로 폴더의 형태로 나타냄\n",
    "- 모듈을 주제별로 분리할 때 주로 사용"
   ]
  },
  {
   "cell_type": "code",
   "execution_count": null,
   "metadata": {},
   "outputs": [],
   "source": [
    "from 패키지명.모듈명 import 함수명"
   ]
  },
  {
   "cell_type": "markdown",
   "metadata": {},
   "source": [
    "### 2. 내부 함수, lambda, map()"
   ]
  },
  {
   "cell_type": "markdown",
   "metadata": {},
   "source": [
    "#### 내부 함수\n",
    "- 함수 안에 함수가 있는 형태\n",
    "- 내부 함수는 지역 변수와 비슷하게 해당 함수 안에서만 사용 가능"
   ]
  },
  {
   "cell_type": "code",
   "execution_count": 11,
   "metadata": {},
   "outputs": [
    {
     "name": "stdout",
     "output_type": "stream",
     "text": [
      "30\n"
     ]
    }
   ],
   "source": [
    "def outFunc(v1, v2):\n",
    "    def inFunc(num1, num2):\n",
    "        return num1 + num2\n",
    "    return inFunc(v1, v2)\n",
    "print(outFunc(10, 20))"
   ]
  },
  {
   "cell_type": "markdown",
   "metadata": {},
   "source": [
    "#### 람다 함수\n",
    "- 함수를 한 줄로 간단하게 만들어 줌"
   ]
  },
  {
   "cell_type": "code",
   "execution_count": 12,
   "metadata": {},
   "outputs": [
    {
     "name": "stdout",
     "output_type": "stream",
     "text": [
      "30\n"
     ]
    }
   ],
   "source": [
    "def hap(num1, num2) :\n",
    "    res = num1 + num2\n",
    "    return res\n",
    "print(hap(10, 20))"
   ]
  },
  {
   "cell_type": "code",
   "execution_count": 13,
   "metadata": {},
   "outputs": [
    {
     "name": "stdout",
     "output_type": "stream",
     "text": [
      "30\n"
     ]
    }
   ],
   "source": [
    "hap2 = lambda num1, num2 : num1 + num2\n",
    "print(hap2(10, 20))"
   ]
  },
  {
   "cell_type": "markdown",
   "metadata": {},
   "source": [
    "- 필요한 경우 매개변수에 기본값 설정 가능\n",
    "- 매개변수를 지정하지 않으면 기본값으로 설정되고, 매개변수를 넘겨주면 기본값은 무시"
   ]
  },
  {
   "cell_type": "code",
   "execution_count": 14,
   "metadata": {},
   "outputs": [
    {
     "name": "stdout",
     "output_type": "stream",
     "text": [
      "30\n",
      "300\n"
     ]
    }
   ],
   "source": [
    "hap3 = lambda num1 = 10, num2 = 20 : num1 + num2\n",
    "print(hap3())\n",
    "print(hap3(100, 200))"
   ]
  },
  {
   "cell_type": "markdown",
   "metadata": {},
   "source": [
    "- 람다 함수는 map() 함수와 함께 사용하는 경우가 많음\n",
    "- map() 함수 : 리스트에 함수 수식을 한꺼번에 적용"
   ]
  },
  {
   "cell_type": "code",
   "execution_count": 15,
   "metadata": {},
   "outputs": [
    {
     "name": "stdout",
     "output_type": "stream",
     "text": [
      "[11, 12, 13, 14, 15]\n"
     ]
    }
   ],
   "source": [
    "myList = [1, 2, 3, 4, 5]\n",
    "def add10(num) :\n",
    "    return num + 10\n",
    "\n",
    "for i in range(len(myList)):\n",
    "    myList[i] = add10(myList[i])\n",
    "print(myList)"
   ]
  },
  {
   "cell_type": "code",
   "execution_count": 16,
   "metadata": {},
   "outputs": [
    {
     "name": "stdout",
     "output_type": "stream",
     "text": [
      "[11, 12, 13, 14, 15]\n"
     ]
    }
   ],
   "source": [
    "myList = [1, 2, 3, 4, 5]\n",
    "add10 = lambda num : num + 10\n",
    "myList = list(map(add10, myList))\n",
    "print(myList)"
   ]
  },
  {
   "cell_type": "code",
   "execution_count": 17,
   "metadata": {},
   "outputs": [
    {
     "name": "stdout",
     "output_type": "stream",
     "text": [
      "[11, 12, 13, 14, 15]\n"
     ]
    }
   ],
   "source": [
    "myList = [1, 2, 3, 4, 5]\n",
    "myList = list(map(lambda num : num + 10, myList))\n",
    "print(myList)"
   ]
  },
  {
   "cell_type": "markdown",
   "metadata": {},
   "source": [
    "- 두 리스트를 한꺼번에 처리 가능"
   ]
  },
  {
   "cell_type": "code",
   "execution_count": 18,
   "metadata": {},
   "outputs": [
    {
     "name": "stdout",
     "output_type": "stream",
     "text": [
      "[11, 22, 33, 44]\n"
     ]
    }
   ],
   "source": [
    "list1 = [1, 2, 3, 4]\n",
    "list2 = [10, 20, 30, 40]\n",
    "haplist = list(map(lambda n1, n2 : n1 + n2, list1, list2))\n",
    "print(haplist)"
   ]
  },
  {
   "cell_type": "markdown",
   "metadata": {},
   "source": [
    "### 3. 재귀 함수\n",
    "- 자신이 자신을 호출하는 함수\n",
    "- 무한 반복에 빠지는 오류를 방지하려면 재귀가 중지되는 조건을 넣어야 함"
   ]
  },
  {
   "cell_type": "code",
   "execution_count": null,
   "metadata": {},
   "outputs": [],
   "source": [
    "def selfCall() :\n",
    "    print('하', end = '')\n",
    "    selfCall()\n",
    "    \n",
    "selfCall()"
   ]
  },
  {
   "cell_type": "code",
   "execution_count": 19,
   "metadata": {},
   "outputs": [
    {
     "name": "stdout",
     "output_type": "stream",
     "text": [
      "10 9 8 7 6 5 4 3 2 1 "
     ]
    }
   ],
   "source": [
    "def count(num) :\n",
    "    if num >= 1 :\n",
    "        print(num, end = ' ')\n",
    "        count(num-1)\n",
    "    else :\n",
    "        return\n",
    "    \n",
    "count(10)"
   ]
  },
  {
   "cell_type": "code",
   "execution_count": 20,
   "metadata": {},
   "outputs": [
    {
     "data": {
      "text/plain": [
       "24"
      ]
     },
     "execution_count": 20,
     "metadata": {},
     "output_type": "execute_result"
    }
   ],
   "source": [
    "def factorial(num) :\n",
    "    if num <= 1:\n",
    "        return num\n",
    "    else :\n",
    "        return num * factorial(num-1)\n",
    "    \n",
    "factorial(4)"
   ]
  },
  {
   "cell_type": "markdown",
   "metadata": {},
   "source": [
    "### 4. 제너레이터와 yield"
   ]
  },
  {
   "cell_type": "markdown",
   "metadata": {},
   "source": [
    "- 함수를 종결하지 않으면서 값을 계속 반환하고 싶을 때 yield 문 사용\n",
    "- 제너레이터 함수 : 함수 안에 yield가 포함된 함수"
   ]
  },
  {
   "cell_type": "code",
   "execution_count": 21,
   "metadata": {},
   "outputs": [
    {
     "name": "stdout",
     "output_type": "stream",
     "text": [
      "[1, 2, 3]\n"
     ]
    }
   ],
   "source": [
    "def genFunc() :\n",
    "    yield 1\n",
    "    yield 2\n",
    "    yield 3\n",
    "    \n",
    "print(list(genFunc()))"
   ]
  },
  {
   "cell_type": "code",
   "execution_count": 22,
   "metadata": {
    "scrolled": true
   },
   "outputs": [
    {
     "name": "stdout",
     "output_type": "stream",
     "text": [
      "0\n",
      "제너레이터 진행 중\n",
      "1\n",
      "제너레이터 진행 중\n",
      "2\n",
      "제너레이터 진행 중\n",
      "3\n",
      "제너레이터 진행 중\n",
      "4\n",
      "제너레이터 진행 중\n"
     ]
    }
   ],
   "source": [
    "def genFunc(num) :\n",
    "    for i in range(num) :\n",
    "        yield i\n",
    "        print('제너레이터 진행 중')\n",
    "for data in genFunc(5) :\n",
    "    print(data)"
   ]
  },
  {
   "cell_type": "markdown",
   "metadata": {},
   "source": [
    "# ================================"
   ]
  },
  {
   "cell_type": "markdown",
   "metadata": {},
   "source": [
    "# CHAPTER 11_파일 입출력"
   ]
  },
  {
   "cell_type": "markdown",
   "metadata": {},
   "source": [
    "## SECTION 02_파일 입출력의 기본"
   ]
  },
  {
   "cell_type": "markdown",
   "metadata": {},
   "source": [
    "### 1. 파일 입출력의 개념"
   ]
  },
  {
   "cell_type": "markdown",
   "metadata": {},
   "source": [
    "- 표준 입력 : 키보드에서 입력되는 것\n",
    "- 표준 출력 : 화면에 출력되는 것\n",
    "- 콘솔 : 키보드 + 화면"
   ]
  },
  {
   "cell_type": "markdown",
   "metadata": {},
   "source": [
    "### 2. 파일 입출력의 기본 과정"
   ]
  },
  {
   "cell_type": "markdown",
   "metadata": {},
   "source": [
    "#### 1단계 : 파일 열기\n",
    "- 파일을 열려면 open() 함수에서 파일명을 입력하고, 읽기 또는 쓰기인지(모드) 지정"
   ]
  },
  {
   "attachments": {
    "image.png": {
     "image/png": "[encoded data removed]"
    }
   },
   "cell_type": "markdown",
   "metadata": {},
   "source": [
    "- 파일의 열기 모드\n",
    "![image.png](attachment:image.png)"
   ]
  },
  {
   "cell_type": "markdown",
   "metadata": {},
   "source": [
    "#### 2단계 : 파일 처리"
   ]
  },
  {
   "cell_type": "markdown",
   "metadata": {},
   "source": [
    "#### 3단계 : 파일 닫기\n",
    "- 파일과 관련된 모든 작업이 끝나면 파일을 정상적으로 닫아야 함"
   ]
  },
  {
   "cell_type": "code",
   "execution_count": null,
   "metadata": {},
   "outputs": [],
   "source": [
    "변수명.close()"
   ]
  },
  {
   "cell_type": "markdown",
   "metadata": {},
   "source": [
    "## SECTION 03_텍스트 파일 입출력"
   ]
  },
  {
   "cell_type": "markdown",
   "metadata": {},
   "source": [
    "### 2. 한 행씩 읽어 들이기"
   ]
  },
  {
   "cell_type": "markdown",
   "metadata": {},
   "source": [
    "- 파일의 내용을 한 행씩 읽어 들일 때는 readline() 함수를 사용\n",
    "- 폴더 경로를 백슬래시가 아닌 슬래시로 표시 : 백슬래시로 표시하려면 2개를 사용"
   ]
  },
  {
   "cell_type": "code",
   "execution_count": 23,
   "metadata": {},
   "outputs": [
    {
     "name": "stdout",
     "output_type": "stream",
     "text": [
      "난 잘할 거라 생각해\n",
      "다 잘 될 거라 생각해\n",
      "세상이 던진 물음표에 당당히 맞설게"
     ]
    }
   ],
   "source": [
    "inFp = open('data1.txt', 'r', encoding = 'UTF-8')\n",
    "\n",
    "inStr = inFp.readline()\n",
    "print(inStr, end ='')\n",
    "\n",
    "inStr = inFp.readline()\n",
    "print(inStr, end ='')\n",
    "\n",
    "inStr = inFp.readline()\n",
    "print(inStr, end ='')\n",
    "\n",
    "inFp.close()"
   ]
  },
  {
   "cell_type": "markdown",
   "metadata": {},
   "source": [
    "- 위의 코드는 텍스트 파일에 행이 1~2개만 있으면 오류가 발생하고, 4개 이상 있어도 3개밖에 읽지 못함\n",
    "- 반복문을 활용한 수정"
   ]
  },
  {
   "cell_type": "code",
   "execution_count": 24,
   "metadata": {},
   "outputs": [
    {
     "name": "stdout",
     "output_type": "stream",
     "text": [
      "난 잘할 거라 생각해\n",
      "다 잘 될 거라 생각해\n",
      "세상이 던진 물음표에 당당히 맞설게"
     ]
    }
   ],
   "source": [
    "inFp =open('data1.txt', 'r', encoding = 'UTF-8')\n",
    "\n",
    "while True :\n",
    "    inStr = inFp.readline()\n",
    "    if inStr == '' :\n",
    "        break\n",
    "    print(inStr, end='')\n",
    "    \n",
    "inFp.close()"
   ]
  },
  {
   "cell_type": "markdown",
   "metadata": {},
   "source": [
    "#### 한 번에 모두 읽어 들이기\n",
    "- readlines() 함수 : 파일의 내용을 통째로 읽어서 리스트에 저장"
   ]
  },
  {
   "cell_type": "code",
   "execution_count": 25,
   "metadata": {},
   "outputs": [
    {
     "name": "stdout",
     "output_type": "stream",
     "text": [
      "['난 잘할 거라 생각해\\n', '다 잘 될 거라 생각해\\n', '세상이 던진 물음표에 당당히 맞설게']\n"
     ]
    }
   ],
   "source": [
    "inFp = open('data1.txt', 'r', encoding = 'UTF-8')\n",
    "\n",
    "inList = inFp.readlines()\n",
    "\n",
    "print(inList)\n",
    "\n",
    "inFp.close()"
   ]
  },
  {
   "cell_type": "code",
   "execution_count": 26,
   "metadata": {
    "scrolled": true
   },
   "outputs": [
    {
     "name": "stdout",
     "output_type": "stream",
     "text": [
      "난 잘할 거라 생각해\n",
      "다 잘 될 거라 생각해\n",
      "세상이 던진 물음표에 당당히 맞설게"
     ]
    }
   ],
   "source": [
    "inFp = open('data1.txt', 'r', encoding = 'UTF-8')\n",
    "\n",
    "inList = inFp.readlines()\n",
    "\n",
    "for inStr in inList :\n",
    "    print(inStr, end = '')\n",
    "    \n",
    "inFp.close()"
   ]
  },
  {
   "cell_type": "markdown",
   "metadata": {},
   "source": [
    "#### with~as 문\n",
    "- close() 함수를 사용하지 않으려면 다음과 같이 with~as 문으로 파일을 연다"
   ]
  },
  {
   "cell_type": "code",
   "execution_count": 27,
   "metadata": {},
   "outputs": [
    {
     "name": "stdout",
     "output_type": "stream",
     "text": [
      "['난 잘할 거라 생각해\\n', '다 잘 될 거라 생각해\\n', '세상이 던진 물음표에 당당히 맞설게']\n"
     ]
    }
   ],
   "source": [
    "with open('data1.txt.', 'r', encoding = 'UTF-8') as inFp :\n",
    "    inList = inFp.readlines()\n",
    "    print(inList)"
   ]
  },
  {
   "cell_type": "markdown",
   "metadata": {},
   "source": [
    "#### with~as 문\n",
    "- close() 함수를 사용하지 않으려면 다음과 같이 with~as 문으로 파일을 연다"
   ]
  },
  {
   "cell_type": "code",
   "execution_count": 28,
   "metadata": {},
   "outputs": [
    {
     "name": "stdout",
     "output_type": "stream",
     "text": [
      "['난 잘할 거라 생각해\\n', '다 잘 될 거라 생각해\\n', '세상이 던진 물음표에 당당히 맞설게']\n"
     ]
    }
   ],
   "source": [
    "with open('data1.txt.', 'r', encoding = 'UTF-8') as inFp :\n",
    "    inList = inFp.readlines()\n",
    "    print(inList)"
   ]
  },
  {
   "cell_type": "markdown",
   "metadata": {},
   "source": [
    "#### 도스 명령어 type의 구현\n",
    "- type 명령어는 지정한 파일의 내용을 화면에 출력"
   ]
  },
  {
   "cell_type": "code",
   "execution_count": null,
   "metadata": {},
   "outputs": [],
   "source": [
    "type 명령어"
   ]
  },
  {
   "cell_type": "code",
   "execution_count": 29,
   "metadata": {},
   "outputs": [
    {
     "name": "stdout",
     "output_type": "stream",
     "text": [
      "파일명을 입력하세요 : C:/Windows/win.ini\n",
      "; for 16-bit app support\n",
      "[fonts]\n",
      "[extensions]\n",
      "[mci extensions]\n",
      "[files]\n",
      "[Mail]\n",
      "MAPI=1\n"
     ]
    }
   ],
   "source": [
    "fName = input('파일명을 입력하세요 : ')\n",
    "inFp = open(fName, 'r', encoding = 'UTF-8')\n",
    "\n",
    "inList = inFp.readlines()\n",
    "for inStr in inList :\n",
    "    print(inStr, end = '')\n",
    "    \n",
    "inFp.close()"
   ]
  },
  {
   "cell_type": "markdown",
   "metadata": {},
   "source": [
    "#### 파일을 열 때 오류 처리"
   ]
  },
  {
   "cell_type": "markdown",
   "metadata": {},
   "source": [
    "- 파일이 없을 때 오류가 발생하지 않게 하려면 os.path.exists(파일명) 형식을 사용"
   ]
  },
  {
   "cell_type": "code",
   "execution_count": 31,
   "metadata": {},
   "outputs": [
    {
     "name": "stdout",
     "output_type": "stream",
     "text": [
      "파일명을 입력하세요 : 없음.txt\n",
      "없음.txt 파일이 없습니다.\n"
     ]
    }
   ],
   "source": [
    "import os\n",
    "\n",
    "fName = input('파일명을 입력하세요 : ')\n",
    "if os.path.exists(fName):\n",
    "    inFp = open(fName, 'r', encoding = 'UTF-8')\n",
    "    inList = inFp.readlines()\n",
    "    for inStr in inList :\n",
    "        print(inStr, end = '')\n",
    "        \n",
    "    inFp.close()\n",
    "    \n",
    "else :\n",
    "    print(f'{fName} 파일이 없습니다.')"
   ]
  },
  {
   "cell_type": "markdown",
   "metadata": {},
   "source": [
    "### 3. 파일을 이용한 출력"
   ]
  },
  {
   "cell_type": "markdown",
   "metadata": {},
   "source": [
    "#### 한 행씩 파일에 쓰기"
   ]
  },
  {
   "cell_type": "code",
   "execution_count": 32,
   "metadata": {},
   "outputs": [
    {
     "name": "stdout",
     "output_type": "stream",
     "text": [
      "내용 입력 : 이 지구가 따뜻해지는 건\n",
      "내용 입력 : 너 때문인 걸 아니\n",
      "내용 입력 : 네 환한 미소 때문인거야\n",
      "내용 입력 : \n",
      "===입력 완료===\n"
     ]
    }
   ],
   "source": [
    "outFp = open('data2.txt', 'w')\n",
    "\n",
    "while True:\n",
    "    outStr = input('내용 입력 : ')\n",
    "    if outStr != '':\n",
    "        outFp.writelines(outStr + '\\n')\n",
    "    else :\n",
    "        break\n",
    "        \n",
    "outFp.close()\n",
    "print('===입력 완료===')"
   ]
  },
  {
   "cell_type": "markdown",
   "metadata": {},
   "source": [
    "#### 도스 copy 명령어의 구현\n",
    "- copy 명령어는 주어진 파일을 복사해 똑같은 파일을 하나 더 생성"
   ]
  },
  {
   "cell_type": "code",
   "execution_count": null,
   "metadata": {},
   "outputs": [],
   "source": [
    "copy 소스파일 타깃파일"
   ]
  },
  {
   "cell_type": "code",
   "execution_count": 33,
   "metadata": {},
   "outputs": [
    {
     "name": "stdout",
     "output_type": "stream",
     "text": [
      "===복사 완료===\n"
     ]
    }
   ],
   "source": [
    "inFp = open('C:/Windows/win.ini', 'r')\n",
    "outFp = open('C:/Temp/data3.txt', 'w')\n",
    "\n",
    "inList = inFp.readlines()\n",
    "for inStr in inList :\n",
    "    outFp.writelines(inStr)\n",
    "    \n",
    "inFp.close()\n",
    "outFp.close()\n",
    "print('===복사 완료===')"
   ]
  },
  {
   "cell_type": "markdown",
   "metadata": {},
   "source": [
    "### 4. [프로그램 1]의 완성"
   ]
  },
  {
   "cell_type": "markdown",
   "metadata": {},
   "source": [
    "- ord(글자) : 글자에 대응하는 고유한 숫자를 알려줌\n",
    "- chr(숫자) : 숫자에 해당하는 글자를 알려줌"
   ]
  },
  {
   "cell_type": "code",
   "execution_count": 34,
   "metadata": {},
   "outputs": [
    {
     "name": "stdout",
     "output_type": "stream",
     "text": [
      "54028\n",
      "파\n"
     ]
    }
   ],
   "source": [
    "print(ord('파'))\n",
    "print(chr(54028))"
   ]
  },
  {
   "cell_type": "code",
   "execution_count": 35,
   "metadata": {},
   "outputs": [
    {
     "name": "stdout",
     "output_type": "stream",
     "text": [
      "1. 암호화 // 2. 암호 해석 : 2\n",
      "입력 파일명 : security.txt\n",
      "출력 파일명 : recovery.txt\n",
      "security.txt --> recovery.txt 변환 완료\n"
     ]
    }
   ],
   "source": [
    "secuYN = input('1. 암호화 // 2. 암호 해석 : ')\n",
    "inFname = input('입력 파일명 : ')\n",
    "outFname = input('출력 파일명 : ')\n",
    "\n",
    "if secuYN == '1':\n",
    "    secu = 100\n",
    "elif secuYN == '2':\n",
    "    secu = -100\n",
    "    \n",
    "inFp = open(inFname, 'r', encoding = 'utf-8')\n",
    "outFp = open(outFname, 'w', encoding = 'utf-8')\n",
    "\n",
    "while True :\n",
    "    inStr = inFp.readline()\n",
    "    if not inStr :\n",
    "        break\n",
    "    \n",
    "    outStr = ''\n",
    "    for i in range(len(inStr)) :\n",
    "        ch = inStr[i]\n",
    "        chNum = ord(ch)\n",
    "        chNum += secu\n",
    "        ch2 = chr(chNum)\n",
    "        outStr = outStr + ch2\n",
    "        \n",
    "    outFp.write(outStr)\n",
    "    \n",
    "outFp.close()\n",
    "inFp.close()\n",
    "print(f'{inFname} --> {outFname} 변환 완료')"
   ]
  },
  {
   "cell_type": "markdown",
   "metadata": {},
   "source": [
    "## SECTION 04. 이진 파일 입출력"
   ]
  },
  {
   "cell_type": "markdown",
   "metadata": {},
   "source": [
    "### 1. 이진 파일의 개념"
   ]
  },
  {
   "cell_type": "markdown",
   "metadata": {},
   "source": [
    "- 텍스트 파일 : 글자로 구성된 파일\n",
    "- 이진 파일 : 글자가 아닌 비트 단위로 의미가 있는 파일\n",
    "- 텍스트 파일을 제외한 나머지 파일\n",
    "- 별도의 소프트웨어에서 열어 사용"
   ]
  },
  {
   "cell_type": "markdown",
   "metadata": {},
   "source": [
    "### 2. 이진 파일의 복사"
   ]
  },
  {
   "cell_type": "markdown",
   "metadata": {},
   "source": [
    "- open() 함수의 encoding 부분 필요 없음\n",
    "- 이진 파일을 처리해야하므로 rb 나 wb로 수정\n",
    "- 한 바이트씩 처리하는 read(), write() 함수로 수정"
   ]
  },
  {
   "cell_type": "code",
   "execution_count": 36,
   "metadata": {},
   "outputs": [
    {
     "name": "stdout",
     "output_type": "stream",
     "text": [
      "==복사 완료==\n"
     ]
    }
   ],
   "source": [
    "inFp = open('C:/Windows/notepad.exe','rb')\n",
    "outFp = open('C:/Temp/notepad.exe', 'wb')\n",
    "\n",
    "while True :\n",
    "    inStr = inFp.read(1)\n",
    "    if not inStr :\n",
    "        break\n",
    "    outFp.write(inStr)\n",
    "    \n",
    "inFp.close()\n",
    "outFp.close()\n",
    "print('==복사 완료==')"
   ]
  },
  {
   "cell_type": "markdown",
   "metadata": {},
   "source": [
    "- read()함수는 무조건 파일의 처음부터 읽어 들임\n",
    "- 파일의 내용을 어느 정도 건너뛰어서 읽고 싶다면 seek(바이트)를 사용\n",
    "- seek(바이트)는 바이트로 지정한 만큼 건너뛰어서 읽기 시작"
   ]
  },
  {
   "cell_type": "markdown",
   "metadata": {},
   "source": [
    "## SECTION 05. 파일 입출력의 심화 내용"
   ]
  },
  {
   "cell_type": "markdown",
   "metadata": {},
   "source": [
    "### 1. 파일 및 디렉터리 다루기"
   ]
  },
  {
   "cell_type": "markdown",
   "metadata": {},
   "source": [
    "#### 파일 및 디렉터리 복사\n",
    "- shutil.copy(소스파일, 타깃파일) : 파일 복사\n",
    "- 복사할 때에는 원본 파일과 복사하려는 폴더가 있어야 함"
   ]
  },
  {
   "cell_type": "code",
   "execution_count": 37,
   "metadata": {},
   "outputs": [
    {
     "data": {
      "text/plain": [
       "'C:/Temp/myNote.exe'"
      ]
     },
     "execution_count": 37,
     "metadata": {},
     "output_type": "execute_result"
    }
   ],
   "source": [
    "import shutil\n",
    "shutil.copy('C:/Windows/notepad.exe', 'C:/Temp/myNote.exe')"
   ]
  },
  {
   "cell_type": "markdown",
   "metadata": {},
   "source": [
    "- shutil.copytree(소스파일, 타깃파일) : 디렉터리를 통째로 복사"
   ]
  },
  {
   "cell_type": "code",
   "execution_count": 39,
   "metadata": {},
   "outputs": [
    {
     "data": {
      "text/plain": [
       "'C:/Temp/Fonts'"
      ]
     },
     "execution_count": 39,
     "metadata": {},
     "output_type": "execute_result"
    }
   ],
   "source": [
    "shutil.copytree('C:/Windows/Fonts', 'C:/Temp/Fonts')"
   ]
  },
  {
   "cell_type": "markdown",
   "metadata": {},
   "source": [
    "#### 디렉터리의 생성 및 삭제\n",
    "- os.mkdir(폴더명) : 디렉터리의 생성. 상위 폴더를 먼저 생성하지 않으면 오류 발생\n",
    "- shutil.rmtree(폴더명) : 디렉터리의 삭제. 폴더 안의 모든 파일 삭제"
   ]
  },
  {
   "cell_type": "code",
   "execution_count": 40,
   "metadata": {},
   "outputs": [],
   "source": [
    "import os\n",
    "import shutil\n",
    "os.mkdir('C:/myDir/')\n",
    "os.mkdir('C:/myDir/dir1')\n",
    "shutil.rmtree('C:/myDir')"
   ]
  },
  {
   "cell_type": "markdown",
   "metadata": {},
   "source": [
    "#### 디렉터리의 목록 모두 보기\n",
    "- os.walk(폴더) : 디렉터리의 모든 파일 및 하위 디렉터리에 접근\n",
    "- dirName : 현재 폴더명\n",
    "- subDirList : 현재 폴더의 하위 디렉터리 목록\n",
    "- fnames : 파일명 목록"
   ]
  },
  {
   "cell_type": "code",
   "execution_count": 41,
   "metadata": {},
   "outputs": [],
   "source": [
    "import os\n",
    "for dirName, subDirList, fnames in os.walk('C:/Windows/debug'):\n",
    "    for fname in fnames :\n",
    "        os.path.join(dirName,fname)"
   ]
  },
  {
   "cell_type": "markdown",
   "metadata": {},
   "source": [
    "#### 파일 또는 폴더가 이미 존재하는지 확인\n",
    "- os.path.exists(파일명 또는 폴더명) : 파일이나 폴더가 이미 있는지 여부 확인\n",
    "- os.path.isfile(파일명) : 파일인지 확인\n",
    "- os.path.isdir(폴더명) : 폴더인지 확인"
   ]
  },
  {
   "cell_type": "code",
   "execution_count": 42,
   "metadata": {},
   "outputs": [
    {
     "name": "stdout",
     "output_type": "stream",
     "text": [
      "True\n",
      "True\n",
      "True\n"
     ]
    }
   ],
   "source": [
    "import os.path\n",
    "print(os.path.exists('C:/Windows/notepad.exe'))\n",
    "print(os.path.isfile('C:/Windows/notepad.exe'))\n",
    "print(os.path.isdir('C:/Windows'))"
   ]
  },
  {
   "cell_type": "markdown",
   "metadata": {},
   "source": [
    "#### 파일 삭제\n",
    "- os.remove : 파일 삭제\n",
    "- 이미 존재하지 않는 파일인 경우 오류 발생"
   ]
  },
  {
   "cell_type": "code",
   "execution_count": 43,
   "metadata": {},
   "outputs": [],
   "source": [
    "import os\n",
    "os.remove('C:/Temp/myNote.exe')"
   ]
  },
  {
   "cell_type": "markdown",
   "metadata": {},
   "source": [
    "#### 파일 크기 확인\n",
    "- os.path.getsize() : 파일의 크기 확인(바이트 단위)"
   ]
  },
  {
   "cell_type": "code",
   "execution_count": 44,
   "metadata": {},
   "outputs": [
    {
     "data": {
      "text/plain": [
       "202240"
      ]
     },
     "execution_count": 44,
     "metadata": {},
     "output_type": "execute_result"
    }
   ],
   "source": [
    "import os.path\n",
    "os.path.getsize('C:/Windows/notepad.exe')"
   ]
  },
  {
   "cell_type": "markdown",
   "metadata": {},
   "source": [
    "#### 파일 압축과 압축 풀기\n",
    "- zipfile 모듈 : 압축 기능"
   ]
  },
  {
   "cell_type": "code",
   "execution_count": 45,
   "metadata": {},
   "outputs": [],
   "source": [
    "import zipfile\n",
    "newZip = zipfile.ZipFile('C:/Temp/new.zip', 'w')\n",
    "newZip.write('C:/Windows/notepad.exe', compress_type = zipfile.ZIP_DEFLATED)\n",
    "newZip.close()"
   ]
  },
  {
   "cell_type": "code",
   "execution_count": 46,
   "metadata": {},
   "outputs": [],
   "source": [
    "extZip = zipfile.ZipFile('C:/Temp/new.zip', 'r')\n",
    "extZip.extractall('C:/Temp/')\n",
    "extZip.close()"
   ]
  },
  {
   "cell_type": "markdown",
   "metadata": {},
   "source": [
    "### 2. 예외 처리"
   ]
  },
  {
   "cell_type": "markdown",
   "metadata": {},
   "source": [
    "#### try, except 문\n",
    "- 예외 처리 : 오류가 발생할 때 파이썬이 처리하지 않고 프로그래머가 작성한 코드를 실행하는 방식"
   ]
  },
  {
   "cell_type": "code",
   "execution_count": 47,
   "metadata": {},
   "outputs": [
    {
     "name": "stdout",
     "output_type": "stream",
     "text": [
      "파일 없음\n"
     ]
    }
   ],
   "source": [
    "import os\n",
    "try :\n",
    "    os.remove('C:/Temp/noFile.exe')\n",
    "    \n",
    "except :\n",
    "    print('파일 없음')"
   ]
  },
  {
   "cell_type": "code",
   "execution_count": 48,
   "metadata": {},
   "outputs": [
    {
     "name": "stdout",
     "output_type": "stream",
     "text": [
      "파이썬 글자 위치 --> [0, 13]\n"
     ]
    }
   ],
   "source": [
    "myStr = '파이썬은 재미 있어요. 파이썬만 매일매일 공부하고 싶어요. ^^'\n",
    "strPosList = []\n",
    "index = 0\n",
    "\n",
    "while True :\n",
    "    try :\n",
    "        index = myStr.index('파이썬', index)\n",
    "        strPosList.append(index)\n",
    "        index = index + 1\n",
    "    except :\n",
    "        break\n",
    "        \n",
    "print('파이썬 글자 위치 -->', strPosList)"
   ]
  },
  {
   "attachments": {
    "image.png": {
     "image/png": "[encoded data removed]"
    }
   },
   "cell_type": "markdown",
   "metadata": {},
   "source": [
    "- except 문 뒤에 아무것도 명시하지 않으면 모든 종류의 오류 처리\n",
    "- 필요한 경우 오류의 종류에 따라서 다른 오류 처리 가능\n",
    "![image.png](attachment:image.png)"
   ]
  },
  {
   "cell_type": "code",
   "execution_count": 49,
   "metadata": {
    "scrolled": true
   },
   "outputs": [
    {
     "name": "stdout",
     "output_type": "stream",
     "text": [
      "숫자1 : 10\n",
      "숫자2 : 0\n",
      "0으로 나눌 수 없습니다.\n"
     ]
    }
   ],
   "source": [
    "num1 = input('숫자1 : ')\n",
    "num2 = input('숫자2 : ')\n",
    "\n",
    "try :\n",
    "    num1 = int(num1)\n",
    "    num2 = int(num2)\n",
    "    res = num1/num2\n",
    "    print(res)\n",
    "    \n",
    "        \n",
    "except ValueError :\n",
    "    print('문자열은 숫자로 변환할 수 없습니다.')\n",
    "\n",
    "except ZeroDivisionError :\n",
    "    print('0으로 나눌 수 없습니다.')\n",
    "    \n",
    "except KeyboardInterrupt :\n",
    "    print('중지')"
   ]
  },
  {
   "cell_type": "markdown",
   "metadata": {},
   "source": [
    "#### try, except, else, finally 문\n",
    "- try 문에서 오류가 발생하면 except 문이 실행되며, 오류가 발생하지 않으면 else 문이 실행됨\n",
    "- finally 문은 오류 여부와 상관없이 무조건 실행됨"
   ]
  },
  {
   "cell_type": "code",
   "execution_count": 51,
   "metadata": {
    "scrolled": true
   },
   "outputs": [
    {
     "name": "stdout",
     "output_type": "stream",
     "text": [
      "숫자1 : 3\n",
      "숫자2 : 5\n",
      "3 / 5 =  0.60\n",
      "실행완료\n"
     ]
    }
   ],
   "source": [
    "num1 = input('숫자1 : ')\n",
    "num2 = input('숫자2 : ')\n",
    "\n",
    "try :\n",
    "    num1 = int(num1)\n",
    "    num2 = int(num2)\n",
    "\n",
    "except :\n",
    "    print('오류')\n",
    "    \n",
    "else :\n",
    "    print(f'{num1} / {num2} = {num1/num2 : .2f}')\n",
    "    \n",
    "finally :\n",
    "    print('실행완료')"
   ]
  },
  {
   "cell_type": "markdown",
   "metadata": {},
   "source": [
    "# ================================"
   ]
  },
  {
   "cell_type": "markdown",
   "metadata": {},
   "source": [
    "# CHAPTER 12_객체지향 프로그래밍"
   ]
  },
  {
   "cell_type": "markdown",
   "metadata": {},
   "source": [
    "## SECTION 02_클래스"
   ]
  },
  {
   "cell_type": "markdown",
   "metadata": {},
   "source": [
    "### 1. 클래스의 개념"
   ]
  },
  {
   "cell_type": "markdown",
   "metadata": {},
   "source": [
    "#### 클래스의 모양과 생성\n",
    "- 클래스 : 현실 세계의 사물을 컴퓨터 안에서 구현하기 위해 고안된 개념"
   ]
  },
  {
   "cell_type": "code",
   "execution_count": null,
   "metadata": {},
   "outputs": [],
   "source": [
    "class 클래스명 :\n",
    "    # 이 부분에 관련 코드 구현"
   ]
  },
  {
   "cell_type": "markdown",
   "metadata": {},
   "source": [
    "<자동차 클래스의 개념을 코드로 구현>\n",
    "- **필드** : 자동차의 속성은 지금까지 사용한 변수처럼 생성\n",
    "- **메서드** : 자동차의 기능은 지금까지 사용한 함수 형식으로 구현"
   ]
  },
  {
   "cell_type": "code",
   "execution_count": null,
   "metadata": {},
   "outputs": [],
   "source": [
    "class Car :\n",
    "    # 자동차의 필드\n",
    "    색상 = ''\n",
    "    현재_속도 = 0\n",
    "    \n",
    "    # 자동차의 메서드\n",
    "    def upSpeed(증가할_속도량) :\n",
    "        # 현재_속도에서 증가할_속도량만큼 속도를 올리는 코드\n",
    "    \n",
    "    def downSpeed(감소할_속도량) :\n",
    "        # 현재_속도에서 감소할_속도량만큼 속도를 내리는 코드"
   ]
  },
  {
   "cell_type": "code",
   "execution_count": 2,
   "metadata": {},
   "outputs": [],
   "source": [
    "class Car :\n",
    "    color = ''\n",
    "    speed = 0\n",
    "    \n",
    "    def upSpeed(self, value) :\n",
    "        self.speed += value\n",
    "    \n",
    "    def downSpeed(self, value) :\n",
    "        self.speed -= value\n",
    "        \n",
    "    def printMessage() :\n",
    "        print('시험 출력')"
   ]
  },
  {
   "cell_type": "markdown",
   "metadata": {},
   "source": [
    "- self는 클래스 자신을 가리킴 (5~6행의 self.speed는 3행의 speed를 의미)\n",
    "- 6행에서 self.speed를 사용하려면 5행에서 매개변수로 self를 받아야 함\n",
    "- **[주의] 5행의 매개변수 self를 실제로 전달받지는 않으며, 5행에서는 value만 전달받음 (upSpeed() 메서드의 매개변수는 value 1개)**\n",
    "- 메서드의 첫 번째 매개변수에 self를 사용하는 이유는 메서드 안에서 필드에 접근하기 위함\n",
    "- 메서드 안에서 필드에 접근할 일이 없다면 self는 생략 가능 (printMessage()와 같이)"
   ]
  },
  {
   "cell_type": "markdown",
   "metadata": {},
   "source": [
    "#### 인스턴스의 생성\n",
    "- 자동차의 클래스를 생성한 것을 자동차 설계도를 그린 것에 비유\n",
    "- 설계도를 기반으로 실제 자동차를 제작하는 작업을 하고, 이렇게 생산되는 자동차를 **인스턴스(객체)**라고 함"
   ]
  },
  {
   "cell_type": "markdown",
   "metadata": {},
   "source": [
    "- 자동차의 클래스를 생성한 것은 자동차 설계도를 그린 것에 비유할 수 있다. 이 설계도를 기반으로 실제 자동차를 제작하는 작업을 해야 한다. 이렇게 실제 생산되는 자동차를 인스턴스(객체)라고 한다.\n",
    "- 자동차 설계도를 그린 후에는 실제로 자동차를 여러 대 생산하는 것처럼, 클래스를 만든 후에는 인스턴스를 여러 개 생성해야한다."
   ]
  },
  {
   "cell_type": "code",
   "execution_count": 4,
   "metadata": {},
   "outputs": [],
   "source": [
    "myCar1 = Car()\n",
    "myCar2 = Car()\n",
    "myCar3 = Car()"
   ]
  },
  {
   "cell_type": "markdown",
   "metadata": {},
   "source": [
    "- 설계도를 그린 후에는 실제로 여러 대의 자동차를 생산하는 것처럼, 클래스를 만든 후에는 인스턴스를 여러 개 생성해야 함\n",
    "- 각 인스턴스는 color, speed 필드를 별도로 가짐"
   ]
  },
  {
   "cell_type": "markdown",
   "metadata": {},
   "source": [
    "#### 필드에 값 대입\n",
    "- 각 인스턴스에는 별도의 필드가 존재하며, 각각 별도의 값을 대입할 수 있음"
   ]
  },
  {
   "cell_type": "code",
   "execution_count": 5,
   "metadata": {},
   "outputs": [],
   "source": [
    "myCar1.color = '빨강'\n",
    "myCar1.speed = 0\n",
    "\n",
    "myCar2.color = '파랑'\n",
    "myCar2.speed = 0\n",
    "\n",
    "myCar3.color = '노랑'\n",
    "myCar3.speed = 0"
   ]
  },
  {
   "cell_type": "markdown",
   "metadata": {},
   "source": [
    "#### 메서드의 호출"
   ]
  },
  {
   "cell_type": "code",
   "execution_count": 6,
   "metadata": {},
   "outputs": [],
   "source": [
    "myCar1.upSpeed(30)\n",
    "myCar2.downSpeed(60)"
   ]
  },
  {
   "cell_type": "markdown",
   "metadata": {},
   "source": [
    "### 2. 클래스의 완전한 작동 구현"
   ]
  },
  {
   "cell_type": "code",
   "execution_count": 10,
   "metadata": {},
   "outputs": [
    {
     "name": "stdout",
     "output_type": "stream",
     "text": [
      "자동차1의 색상 : 빨강, 자동차1의 현재 속도 : 30km\n",
      "자동차2의 색상 : 파랑, 자동차2의 현재 속도 : 60km\n",
      "자동차3의 색상 : 노랑, 자동차3의 현재 속도 : 0km\n"
     ]
    }
   ],
   "source": [
    "## 클래스 선언 부분 ##\n",
    "class Car :\n",
    "    color = ''\n",
    "    speed = 0\n",
    "    \n",
    "    def upSpeed(self, value) :\n",
    "        self.speed += value\n",
    "        \n",
    "    def downSpeed(self, value) :\n",
    "        self.speed -= value\n",
    "        \n",
    "## 메인 코드 부분 ##\n",
    "myCar1 = Car()\n",
    "myCar1.color = '빨강'\n",
    "myCar1. speed = 0\n",
    "\n",
    "myCar2 = Car()\n",
    "myCar2.color = '파랑'\n",
    "myCar2.speed = 0\n",
    "\n",
    "myCar3 = Car()\n",
    "myCar3.color = '노랑'\n",
    "myCar3.speed = 0\n",
    "\n",
    "myCar1.upSpeed(30)\n",
    "print(f'자동차1의 색상 : {myCar1.color}, 자동차1의 현재 속도 : {myCar1.speed}km')\n",
    "\n",
    "myCar2.upSpeed(60)\n",
    "print(f'자동차2의 색상 : {myCar2.color}, 자동차2의 현재 속도 : {myCar2.speed}km')\n",
    "\n",
    "myCar3.upSpeed(0)\n",
    "print(f'자동차3의 색상 : {myCar3.color}, 자동차3의 현재 속도 : {myCar3.speed}km')"
   ]
  },
  {
   "cell_type": "markdown",
   "metadata": {},
   "source": [
    "<클래스 사용 순서>\n",
    "1. 클래스 선언\n",
    "2. 인스턴스 생성\n",
    "3. 필드나 메서드 사용"
   ]
  },
  {
   "cell_type": "markdown",
   "metadata": {},
   "source": [
    "## SECTION 03_생성자"
   ]
  },
  {
   "cell_type": "markdown",
   "metadata": {},
   "source": [
    "<생성자>\n",
    "- 인스턴스를 생성하면 무조건 호출되는 메서드\n",
    "- 인스턴스를 생성하면서 필드값을 초기화시키는 함수"
   ]
  },
  {
   "cell_type": "markdown",
   "metadata": {},
   "source": [
    "### 1. 생성자의 기본\n",
    "- 생성자는 \\__init__()라는 이름을 가짐"
   ]
  },
  {
   "cell_type": "code",
   "execution_count": null,
   "metadata": {},
   "outputs": [],
   "source": [
    "class 클래스명 :\n",
    "    def __init__(self) :\n",
    "        # 이 부분에 초기화할 코드 입력"
   ]
  },
  {
   "cell_type": "code",
   "execution_count": 11,
   "metadata": {},
   "outputs": [],
   "source": [
    "class Car :\n",
    "    color = ''\n",
    "    speed = 0\n",
    "    \n",
    "    def __init__(self) :\n",
    "        self.color = '빨강'\n",
    "        self.speed = 0"
   ]
  },
  {
   "cell_type": "markdown",
   "metadata": {},
   "source": [
    "- 인스턴스를 생성하면 자동으로 생성자를 호출"
   ]
  },
  {
   "cell_type": "markdown",
   "metadata": {},
   "source": [
    "#### 기본 생성자\n",
    "- \\__init__()은 self 외에 별도의 매개변수를 사용하지 않음\n",
    "- 기본생성자 : 매개변수가 self만 있는 생성자"
   ]
  },
  {
   "cell_type": "code",
   "execution_count": 13,
   "metadata": {
    "scrolled": true
   },
   "outputs": [
    {
     "name": "stdout",
     "output_type": "stream",
     "text": [
      "자동차1의 색상 : 빨강, 자동차1의 현재 속도 : 0km\n",
      "자동차2의 색상 : 빨강, 자동차2의 현재 속도 : 0km\n"
     ]
    }
   ],
   "source": [
    "## 클래스 선언 부분 ##\n",
    "class Car :\n",
    "    color = ''\n",
    "    speed = 0\n",
    "    \n",
    "    def __init__(self) :\n",
    "        self.color = '빨강'\n",
    "        self.speed = 0\n",
    "        \n",
    "    def upSpeed(self, value) :\n",
    "        self.speed += value\n",
    "        \n",
    "    def downSpeed(self, value) :\n",
    "        self.speed -= value\n",
    "        \n",
    "## 메인 코드 부분 ##\n",
    "myCar1 = Car()\n",
    "myCar2 = Car()\n",
    "\n",
    "print(f'자동차1의 색상 : {myCar1.color}, 자동차1의 현재 속도 : {myCar1.speed}km')\n",
    "print(f'자동차2의 색상 : {myCar2.color}, 자동차2의 현재 속도 : {myCar2.speed}km')"
   ]
  },
  {
   "cell_type": "markdown",
   "metadata": {},
   "source": [
    "#### 매개변수가 있는 생성자\n",
    "- 생성자도 다른 메서드처럼 매개변수를 사용할 수 있음\n",
    "- **[주의] 매개변수 없이 인스턴스를 생성하면 오류 발생**"
   ]
  },
  {
   "cell_type": "code",
   "execution_count": 17,
   "metadata": {},
   "outputs": [
    {
     "name": "stdout",
     "output_type": "stream",
     "text": [
      "자동차1의 색상 : 빨강, 자동차1의 현재 속도 : 30km\n",
      "자동차2의 색상 : 파랑, 자동차2의 현재 속도 : 60km\n"
     ]
    }
   ],
   "source": [
    "## 클래스 선언 부분 ##\n",
    "class Car :\n",
    "    color = ''\n",
    "    speed = 0\n",
    "    \n",
    "    def __init__(self, value1, value2) :\n",
    "        self.color = value1\n",
    "        self.speed = value2\n",
    "        \n",
    "    def upSpeed(self, value) :\n",
    "        self.speed += value\n",
    "        \n",
    "    def downSpeed(self, value) :\n",
    "        self.speed -= value\n",
    "        \n",
    "## 메인 코드 부분 ##\n",
    "myCar1 = Car('빨강', 30)\n",
    "myCar2 = Car('파랑', 60)\n",
    "\n",
    "print(f'자동차1의 색상 : {myCar1.color}, 자동차1의 현재 속도 : {myCar1.speed}km')\n",
    "print(f'자동차2의 색상 : {myCar2.color}, 자동차2의 현재 속도 : {myCar2.speed}km')"
   ]
  },
  {
   "cell_type": "markdown",
   "metadata": {},
   "source": [
    "### 2. [프로그램 1]의 완성"
   ]
  },
  {
   "cell_type": "code",
   "execution_count": 18,
   "metadata": {
    "scrolled": true
   },
   "outputs": [
    {
     "name": "stdout",
     "output_type": "stream",
     "text": [
      "아우디의 현재 속도 : 0\n",
      "벤츠의 현재 속도 : 30\n"
     ]
    }
   ],
   "source": [
    "## 클래스 선언 부분 ##\n",
    "class Car :\n",
    "    name = ''\n",
    "    speed = 0\n",
    "    \n",
    "    def __init__(self, name, speed) :\n",
    "        self.name = name\n",
    "        self.speed = speed\n",
    "        \n",
    "    def getName(self) :\n",
    "        return self.name\n",
    "    \n",
    "    def getSpeed(self) :\n",
    "        return self.speed\n",
    "    \n",
    "## 메인 코드 부분 ##\n",
    "car1 = Car('아우디', 0)\n",
    "car2 = Car('벤츠', 30)\n",
    "\n",
    "print(f'{car1.getName()}의 현재 속도 : {car1.getSpeed()}')\n",
    "print(f'{car2.getName()}의 현재 속도 : {car2.getSpeed()}')"
   ]
  },
  {
   "cell_type": "markdown",
   "metadata": {},
   "source": [
    "## SECTION 04_인스턴스 변수와 클래스 변수"
   ]
  },
  {
   "cell_type": "markdown",
   "metadata": {},
   "source": [
    "### 1. 인스턴스 변수\n",
    "- **인스턴스 변수** : 인스턴스를 생성해야 비로소 사용할 수 있는 변수\n",
    "- 클래스에는 실제 인스턴스 변수의 공간이 할당되어 있지 않으며, 인스턴스로 만들면 비로소 인스턴스 변수에 공간 할당"
   ]
  },
  {
   "cell_type": "markdown",
   "metadata": {},
   "source": [
    "### 2. 클래스 변수\n",
    "- **클래스 변수** : 클래스 안에 공간이 할당된 변수\n",
    "- 인스턴스에 별도의 공간을 할당하지 않고, 여러 인스턴스가 클래스 변수의 공간을 함께 사용\n",
    "- 클래스 변수에 접근할 때에는 클래스명.클래스변수명 또는 인스턴스.클래스변수명 방식으로 접근 : 접근하는 필드는 클래스 자체에 공간이 생기며, 인스턴스를 생성해도 추가로 공간을 할당하지 않고 클래스에 이미 생성되어 있는 공간을 공유"
   ]
  },
  {
   "cell_type": "code",
   "execution_count": 27,
   "metadata": {},
   "outputs": [
    {
     "name": "stdout",
     "output_type": "stream",
     "text": [
      "자동차1의 현재 속도 : 30km, 생산된 자동차 : 총 1대\n",
      "자동차2의 현재 속도 : 60km, 생산된 자동차 : 총 2대\n"
     ]
    }
   ],
   "source": [
    "## 클래스 선언 부분 ##\n",
    "class Car :\n",
    "    color = ''\n",
    "    speed = 0\n",
    "    count = 0   # 클래스 변수\n",
    "    \n",
    "    def __init__(self):\n",
    "        self.speed = 0\n",
    "        Car.count += 1\n",
    "\n",
    "## 메인 코드 부분 ##\n",
    "myCar1= Car()\n",
    "myCar1.speed = 30\n",
    "print(f'자동차1의 현재 속도 : {myCar1.speed}km, 생산된 자동차 : 총 {Car.count}대')\n",
    "\n",
    "myCar2 = Car()\n",
    "myCar2.speed = 60\n",
    "print(f'자동차2의 현재 속도 : {myCar2.speed}km, 생산된 자동차 : 총 {Car.count}대')"
   ]
  },
  {
   "cell_type": "markdown",
   "metadata": {},
   "source": [
    "- 인스턴스 변수와 클래스 변수를 선언하는 시점에서는 구분할 수 없음\n",
    "- 파이썬에서는 변수를 선언할 필요가 없음 : color, speed, count 변수 모두 선언하지 않아도 됨\n",
    "- 클래스 안에서 필드(변수)에 접근할 때 self를 붙이면 인스턴스 변수, 앞에 클래스명을 붙이면 클래스 변수를 생성"
   ]
  },
  {
   "cell_type": "markdown",
   "metadata": {},
   "source": [
    "## SECTION 05_클래스의 상속\n",
    "- 클래스의 상속 : 기존 클래스에 있는 필드와 메서드를 그대로 물려받는 새로운 클래스를 만드는 것\n",
    "- 상속받은 후에는 새로운 클래스에서 추가로 필드나 메서드를 만들어서 사용 가능"
   ]
  },
  {
   "cell_type": "markdown",
   "metadata": {},
   "source": [
    "### 1. 상속의 개념\n",
    "- 슈퍼 클래스(부모 클래스) : 상위 클래스\n",
    "- 서브 클래스(자식 클래스) : 하위 클래스"
   ]
  },
  {
   "cell_type": "code",
   "execution_count": null,
   "metadata": {},
   "outputs": [],
   "source": [
    "class 서브_클래스(슈퍼_클래스) :\n",
    "    # 이 부분에 서브 클래스의 내용 코딩"
   ]
  },
  {
   "cell_type": "markdown",
   "metadata": {},
   "source": [
    "### 2. 메서드 오버라이딩\n",
    "- 메서드 오버라이딩 : 상위 클래스의 메서드를 서브 클래스에서 재정의"
   ]
  },
  {
   "cell_type": "code",
   "execution_count": 28,
   "metadata": {},
   "outputs": [
    {
     "name": "stdout",
     "output_type": "stream",
     "text": [
      "트럭 --> 현재 속도(슈퍼 클래스) : 200\n",
      "승용차 --> 현재 속도(서브 클래스) : 150\n"
     ]
    }
   ],
   "source": [
    "## 클래스 선언 부분 ##\n",
    "class Car :\n",
    "    speed = 0\n",
    "    def upSpeed(self, value) :\n",
    "        self.speed += value\n",
    "        \n",
    "        print('현재 속도(슈퍼 클래스) :', self.speed)\n",
    "        \n",
    "class Sedan(Car) :\n",
    "    def upSpeed(self, value) :\n",
    "        self.speed += value\n",
    "        \n",
    "        if self.speed > 150 :\n",
    "            self.speed = 150\n",
    "            \n",
    "            print('현재 속도(서브 클래스) :', self.speed)\n",
    "            \n",
    "class Truck(Car) :\n",
    "    pass\n",
    "\n",
    "## 메인 코드 부분 ##\n",
    "truck1 = Truck()\n",
    "sedan1 = Sedan()\n",
    "\n",
    "print('트럭 --> ', end = '')\n",
    "truck1.upSpeed(200)\n",
    "\n",
    "print('승용차 --> ', end = '')\n",
    "sedan1.upSpeed(200)"
   ]
  },
  {
   "cell_type": "markdown",
   "metadata": {},
   "source": [
    "## SECTION 06_객체지향 프로그래밍의 심화 내용"
   ]
  },
  {
   "cell_type": "markdown",
   "metadata": {},
   "source": [
    "### 1. 클래스의 특별한 메서드"
   ]
  },
  {
   "cell_type": "markdown",
   "metadata": {},
   "source": [
    "#### \\__del__() 메서드 : 소멸자\n",
    "- 인스턴스를 삭제할 때 자동으로 호출되는 메서드\n",
    "- del(인스턴스) : 인스턴스 삭제"
   ]
  },
  {
   "cell_type": "markdown",
   "metadata": {},
   "source": [
    "#### \\__repr__() 메서드\n",
    "- 인스턴스를 print() 문으로 출력할 때 실행되는 메서드"
   ]
  },
  {
   "cell_type": "markdown",
   "metadata": {},
   "source": [
    "#### \\__add__() 메서드\n",
    "- 인스턴스 사이에 덧셈 작업이 일어날 때 실행되는 메서드\n",
    "- \\__add__() 메서드를 작성하면 인스턴스 사이의 덧셈 작업 가능"
   ]
  },
  {
   "cell_type": "markdown",
   "metadata": {},
   "source": [
    "#### 비교 메서드\n",
    "- lt : <\n",
    "- le : <=\n",
    "- gt : >\n",
    "- ge : >=\n",
    "- eq : ==\n",
    "- ne : !="
   ]
  },
  {
   "cell_type": "code",
   "execution_count": 29,
   "metadata": {},
   "outputs": [
    {
     "name": "stdout",
     "output_type": "stream",
     "text": [
      "100 길이의 선 생성\n",
      "200 길이의 선 생성\n",
      "선의 길이 : 100\n",
      "두 선의 길이 합 :  300\n",
      "선분 2가 길다\n",
      "100 길이의 선 삭제\n"
     ]
    }
   ],
   "source": [
    "## 클래스 선언 부분 ##\n",
    "class Line :\n",
    "    length = 0\n",
    "    def __init__(self, length) :\n",
    "        self.length = length\n",
    "        print(self.length, '길이의 선 생성')\n",
    "        \n",
    "    def __del__(self) : \n",
    "        print(self.length, '길이의 선 삭제')\n",
    "        \n",
    "    def __repr__(self) :\n",
    "        return '선의 길이 : ' + str(self.length)\n",
    "    \n",
    "    def __add__(self, other) :\n",
    "        return self.length + other.length\n",
    "    \n",
    "    def __lt__(self, other) :\n",
    "        return self.length < other.length\n",
    "    \n",
    "    def __eq__(self, other) :\n",
    "        return self.length == other.length\n",
    "    \n",
    "## 메인 코드 부분 ##\n",
    "myLine1 = Line(100)\n",
    "myLine2 = Line(200)\n",
    "\n",
    "print(myLine1)\n",
    "\n",
    "print('두 선의 길이 합 : ', myLine1 + myLine2)\n",
    "\n",
    "if myLine1 < myLine2 :\n",
    "    print('선분 2가 길다')\n",
    "elif myLine1 == myLine2 :\n",
    "    print('두 선분이 같다')\n",
    "else : \n",
    "    print('모름')\n",
    "    \n",
    "del(myLine1)"
   ]
  },
  {
   "cell_type": "markdown",
   "metadata": {},
   "source": [
    "### 2. 추상 메서드\n",
    "- 서브 클래스에서 메서드를 오버라이딩해서 사용하려면 슈퍼 클래스에서는 빈 메서드만 만들어 높고 내용은 pass로 입력"
   ]
  },
  {
   "cell_type": "code",
   "execution_count": 30,
   "metadata": {},
   "outputs": [
    {
     "name": "stdout",
     "output_type": "stream",
     "text": [
      "SubClass1에서 method()를 오버라이딩\n"
     ]
    }
   ],
   "source": [
    "## 클래스 선언 부분 ##\n",
    "class SuperClass :\n",
    "    def method(self) :\n",
    "        pass\n",
    "    \n",
    "class SubClass1 (SuperClass) :\n",
    "    def method(self) :\n",
    "        print('SubClass1에서 method()를 오버라이딩')\n",
    "        \n",
    "class SubClass2 (SuperClass) :\n",
    "    pass\n",
    "\n",
    "## 메인 코드 부분 ##\n",
    "sub1 = SubClass1()\n",
    "sub2 = SubClass2()\n",
    "\n",
    "sub1.method()\n",
    "sub2.method()"
   ]
  },
  {
   "cell_type": "markdown",
   "metadata": {},
   "source": [
    "- 추상 메서드는 슈퍼 클래스에 본체가 없지만 서브 클래스에서는 반드시 오버라이딩하여 사용\n",
    "- 아래의 코드로 추상메서드 설정\n",
    "- 슈퍼 클래스를 상속받은 서브 클래스에서는 반드시 오버라이딩해서 사용해야 오류가 발생하지 않음"
   ]
  },
  {
   "cell_type": "code",
   "execution_count": null,
   "metadata": {},
   "outputs": [],
   "source": [
    "def method(self) :\n",
    "    raise NotImplementedError()"
   ]
  },
  {
   "cell_type": "markdown",
   "metadata": {},
   "source": [
    "### [3. 멀티 스레드]\n",
    "- 스레드 : 프로그램 하나에서 여러 개를 동시에 처리할 수 있도록 제공하는 기능\n",
    "- 멀티 스레드 : 동시에 스레드 여러 개를 작동하는 것"
   ]
  },
  {
   "cell_type": "markdown",
   "metadata": {},
   "source": [
    "### [4. 멀티 프로세싱]\n",
    "- 파이썬에서 스레드는 내부적으로 CPU를 1개만 사용\n",
    "- 멀티 프로세싱 기법 : 동시에 CPU를 여러 개 사용\n",
    "- 최근 CPU는 대부분 멀티코어를 제공하기 때문에 멀티 프로세싱 기법을 사용하면 처리 속도 향상"
   ]
  },
  {
   "cell_type": "markdown",
   "metadata": {},
   "source": [
    "# ================================"
   ]
  },
  {
   "cell_type": "markdown",
   "metadata": {},
   "source": [
    "# CHAPTER 13_데이터베이스"
   ]
  },
  {
   "cell_type": "markdown",
   "metadata": {},
   "source": [
    "## SECTION 02_데이터베이스의 기본"
   ]
  },
  {
   "cell_type": "markdown",
   "metadata": {},
   "source": [
    "### 1. 데이터베이스의 개념"
   ]
  },
  {
   "cell_type": "markdown",
   "metadata": {},
   "source": [
    "- **데이터베이스** : 대량의 데이터를 체계적으로 저장해 놓은 것\n",
    "- 데이터베이스는 여러 사용자나 시스템이 서로 공유할 수 있어야 함\n",
    "- **데이터베이스 관리 시스템(DBMS)** : 데이터베이스를 관리해 주는 시스템 또는 소프트웨어"
   ]
  },
  {
   "cell_type": "markdown",
   "metadata": {},
   "source": [
    "### 2. 관계형 데이터베이스\n",
    "- DBMS의 종류 : 계층형 DBMS, 망형 DBMS, 관계형 DBMS, 객체지향형 DBMS, 객체관계형 DBMS 등\n",
    "- 관계형 DBMS를 가장 많이 사용하며, 일부 멀티미디어 분야에서는 객체지향형이나 객체관계형 DBMS를 활용하는 추세\n",
    "- 관계형 DBMS의 단점 : 시스템 자원을 많이 차지해서 속도가 전반적으로 느림(최근, 하드웨어의 급속한 발전으로 개선됨)"
   ]
  },
  {
   "cell_type": "markdown",
   "metadata": {},
   "source": [
    "### 3. 데이터베이스 관련 용어\n",
    "- 데이터베이스를 구축하기 위해 데이터베이스 모델링 과정이 필요\n",
    "- **데이터베이스 모델링** : 현실 세계에서 사용되는 데이터를 DBMS 안에 어떻게 옮겨 놓을지 결정하는 과정\n",
    "- DBMS에 정보를 저장할 때, **테이블**이라는 표 형태의 틀에 맞추어 저장"
   ]
  },
  {
   "cell_type": "markdown",
   "metadata": {},
   "source": [
    "<데이터베이스 용어>\n",
    "- 데이터 : 단편적인 정보\n",
    "- 테이블 : 정보를 보관하기 위한 표 형태\n",
    "- 데이터베이스(DB) : 테이블이 저장되는 저장소. 주로 원통 모양으로 표현. 각 DB에는 고유한 이름 필요\n",
    "- DBMS : DB를 관리하는 시스템\n",
    "- 열(컬럼, 필드) : 각 테이블은 1개 이상의 열로 구성\n",
    "- 열 이름 : 각 열을 구분하는 이름으로, 테이블 안에서 중복되지 않아야 함\n",
    "- 데이터 형식 : 열의 데이터 형식으로, 테이블을 생성할 때 열 이름과 함께 지정\n",
    "- 행(로우) : 실질적인 데이터\n",
    "- SQL : DBMS에서 작업을 위해 사용자와 DBMS가 소통하는 언어"
   ]
  },
  {
   "cell_type": "markdown",
   "metadata": {},
   "source": [
    "## SECTION 03_데이터베이스의 구축"
   ]
  },
  {
   "cell_type": "markdown",
   "metadata": {},
   "source": [
    "<DB 구축 및 운영 과정>\n",
    "- 1단계 : DBMS 설치\n",
    "- 2단계 : DB 구축(DB 생성 - 테이블 생성 - 데이터 입력 - 데이터 조회 및 활용)\n",
    "- 3단계 : 응용 프로그램에서 구축된 데이터 활용"
   ]
  },
  {
   "cell_type": "markdown",
   "metadata": {},
   "source": [
    "### 3. [프로그램 1]의 완성"
   ]
  },
  {
   "cell_type": "markdown",
   "metadata": {},
   "source": [
    "#### 데이터베이스 생성\n",
    "- .open DB이름 : 데이터베이스가 있으면 열고, 없으면 새로 생성"
   ]
  },
  {
   "cell_type": "markdown",
   "metadata": {},
   "source": [
    "#### 자주 사용하는 SQLite 명령어\n",
    "- SQL 문은 대소문자를 구분하지 않으며, 모든 SQL 문의 끝에는 세미콜론을 붙임\n",
    "- SQLite 자체 명령어는 소문자로 써야하며, 시작에는 '.'을 붙이고 끝에는 ';'을 붙이지 않아도 됨\\\n",
    "\\\n",
    "**<SQLite 명령어>**\n",
    "- .table : 현재 데이터베이스의 테이블 목록 표시\n",
    "- .schema 테이블이름 : 테이블의 열 및 데이터 형식 등의 정보 표시\n",
    "- .header on : SELECT 문으로 출력할 때 헤더 표시\n",
    "- .mode column : SELECT 문으로 출력할 때 컬럼 모드로 출력\n",
    "- .quit : SQLite 종료"
   ]
  },
  {
   "cell_type": "markdown",
   "metadata": {},
   "source": [
    "#### 테이블 생성"
   ]
  },
  {
   "cell_type": "markdown",
   "metadata": {},
   "source": [
    "- 테이블 생성"
   ]
  },
  {
   "cell_type": "code",
   "execution_count": null,
   "metadata": {},
   "outputs": [],
   "source": [
    "CREATE TABLE 테이블이름(\n",
    "    열이름1 데이터형식,\n",
    "    열이름2 데이터형식);"
   ]
  },
  {
   "cell_type": "markdown",
   "metadata": {},
   "source": [
    "- 테이블 삭제"
   ]
  },
  {
   "cell_type": "code",
   "execution_count": null,
   "metadata": {},
   "outputs": [],
   "source": [
    "DROP TABLE 테이블이름;"
   ]
  },
  {
   "cell_type": "markdown",
   "metadata": {},
   "source": [
    "#### 데이터 입력"
   ]
  },
  {
   "cell_type": "markdown",
   "metadata": {},
   "source": [
    "- 데이터 입력"
   ]
  },
  {
   "cell_type": "code",
   "execution_count": null,
   "metadata": {},
   "outputs": [],
   "source": [
    "INSERT INTO 테이블이름 VALUES(값1, 값2);"
   ]
  },
  {
   "cell_type": "markdown",
   "metadata": {},
   "source": [
    "- 데이터 삭제"
   ]
  },
  {
   "cell_type": "code",
   "execution_count": null,
   "metadata": {},
   "outputs": [],
   "source": [
    "DELETE FROM 테이블이름\n",
    "WHERE 열이름 = 값;"
   ]
  },
  {
   "cell_type": "markdown",
   "metadata": {},
   "source": [
    "- 데이터 수정"
   ]
  },
  {
   "cell_type": "code",
   "execution_count": null,
   "metadata": {},
   "outputs": [],
   "source": [
    "UPDATE 테이블이름\n",
    "SET 열이름 = 새값\n",
    "WHERE 열이름 = 값;"
   ]
  },
  {
   "cell_type": "markdown",
   "metadata": {},
   "source": [
    "#### 데이터 조회 및 활용"
   ]
  },
  {
   "cell_type": "markdown",
   "metadata": {},
   "source": [
    "- 데이터 조회"
   ]
  },
  {
   "cell_type": "code",
   "execution_count": null,
   "metadata": {},
   "outputs": [],
   "source": [
    "SELECT * FROM 테이블이름;"
   ]
  },
  {
   "cell_type": "markdown",
   "metadata": {},
   "source": [
    "- WHERE 조건을 활용한 데이터 조회"
   ]
  },
  {
   "cell_type": "code",
   "execution_count": null,
   "metadata": {},
   "outputs": [],
   "source": [
    "SELECT 열이름1, 열이름2\n",
    "FROM 테이블이름\n",
    "WHERE 조건;"
   ]
  },
  {
   "cell_type": "markdown",
   "metadata": {},
   "source": [
    "- ORDER BY 문 : 조회한 결과의 정렬"
   ]
  },
  {
   "cell_type": "markdown",
   "metadata": {},
   "source": [
    "## SECTION 04_데이터의 입력과 조회"
   ]
  },
  {
   "cell_type": "markdown",
   "metadata": {},
   "source": [
    "### 1. 파이썬에서 데이터를 입력하는 코딩 순서\n",
    "1. 데이터베이스 연결\n",
    "2. 커서 생성\n",
    "3. (테이블 만들기)\n",
    "4. (반복) 데이터 입력\n",
    "5. 입력한 데이터 저장\n",
    "6. 데이터베이스 닫기"
   ]
  },
  {
   "cell_type": "markdown",
   "metadata": {},
   "source": [
    "#### 데이터베이스 연결\n",
    "- SQLite를 사용하려면 먼저 관련 모듈인 sqlite3을 임포트"
   ]
  },
  {
   "cell_type": "code",
   "execution_count": null,
   "metadata": {},
   "outputs": [],
   "source": [
    "연결자 = sqlite3.connect('DB이름')"
   ]
  },
  {
   "cell_type": "markdown",
   "metadata": {},
   "source": [
    "- 'DB이름'이 기존에 있다면 DB에 연결되고, 기존에 없다면 새로 생성한 후 연결"
   ]
  },
  {
   "cell_type": "code",
   "execution_count": 1,
   "metadata": {},
   "outputs": [],
   "source": [
    "import sqlite3\n",
    "con = sqlite3.connect('E:/fpDB')"
   ]
  },
  {
   "cell_type": "markdown",
   "metadata": {},
   "source": [
    "#### 커서 생성\n",
    "- **커서** : DB에 SQL 문을 실행하거나 실행된 결과를 돌려받는 통로"
   ]
  },
  {
   "cell_type": "code",
   "execution_count": null,
   "metadata": {},
   "outputs": [],
   "source": [
    "커서이름 = 연결자.cursor()"
   ]
  },
  {
   "cell_type": "code",
   "execution_count": 2,
   "metadata": {},
   "outputs": [],
   "source": [
    "cur = con.cursor()"
   ]
  },
  {
   "cell_type": "markdown",
   "metadata": {},
   "source": [
    "#### 테이블 만들기"
   ]
  },
  {
   "cell_type": "code",
   "execution_count": null,
   "metadata": {},
   "outputs": [],
   "source": [
    "커서이름.execute('CREATE TABLE 문')"
   ]
  },
  {
   "cell_type": "code",
   "execution_count": 3,
   "metadata": {},
   "outputs": [
    {
     "data": {
      "text/plain": [
       "<sqlite3.Cursor at 0x22ddb616110>"
      ]
     },
     "execution_count": 3,
     "metadata": {},
     "output_type": "execute_result"
    }
   ],
   "source": [
    "cur.execute('CREATE TABLE userTable (id char(4),userName char(15),email char(20),birthYear int)')"
   ]
  },
  {
   "cell_type": "markdown",
   "metadata": {},
   "source": [
    "#### 데이터 입력"
   ]
  },
  {
   "cell_type": "code",
   "execution_count": null,
   "metadata": {},
   "outputs": [],
   "source": [
    "커서이름.execute('INSERT 문')"
   ]
  },
  {
   "cell_type": "code",
   "execution_count": 4,
   "metadata": {},
   "outputs": [
    {
     "data": {
      "text/plain": [
       "<sqlite3.Cursor at 0x22ddb616110>"
      ]
     },
     "execution_count": 4,
     "metadata": {},
     "output_type": "execute_result"
    }
   ],
   "source": [
    "cur.execute(\"INSERT INTO userTable VALUES('john', 'John Bann', 'john@naver.com', 1990)\")\n",
    "cur.execute(\"INSERT INTO userTable VALUES('kim', 'Kim Chi', 'kim@daum.net', 1992)\")\n",
    "cur.execute(\"INSERT INTO userTable VALUES('lee', 'Lee Pal', 'lee@paran.com', 1988)\")\n",
    "cur.execute(\"INSERT INTO userTable VALUES('park', 'Park Su', 'park@gmail.com', 1980)\")"
   ]
  },
  {
   "cell_type": "markdown",
   "metadata": {},
   "source": [
    "#### 입력한 데이터 저장\n",
    "- **커밋** : 임시로 저장되어 있는 것을 확실하게 저장"
   ]
  },
  {
   "cell_type": "code",
   "execution_count": null,
   "metadata": {},
   "outputs": [],
   "source": [
    "연결자.commit()"
   ]
  },
  {
   "cell_type": "code",
   "execution_count": 5,
   "metadata": {},
   "outputs": [],
   "source": [
    "con.commit()"
   ]
  },
  {
   "cell_type": "markdown",
   "metadata": {},
   "source": [
    "#### 데이터베이스 닫기"
   ]
  },
  {
   "cell_type": "code",
   "execution_count": null,
   "metadata": {},
   "outputs": [],
   "source": [
    "연결자.close()"
   ]
  },
  {
   "cell_type": "code",
   "execution_count": 6,
   "metadata": {},
   "outputs": [],
   "source": [
    "con.close()"
   ]
  },
  {
   "cell_type": "markdown",
   "metadata": {},
   "source": [
    "### 2. 데이터 입력 프로그램의 구현"
   ]
  },
  {
   "cell_type": "code",
   "execution_count": 7,
   "metadata": {},
   "outputs": [
    {
     "name": "stdout",
     "output_type": "stream",
     "text": [
      "사용자ID ==> choe\n",
      "사용자이름 ==> CHOE EUNJU\n",
      "이메일 ==> choe@pusan.ac.kr\n",
      "출생연도 ==>1999\n",
      "사용자ID ==> \n"
     ]
    }
   ],
   "source": [
    "import sqlite3\n",
    "\n",
    "con = sqlite3.connect('E:/fpDB')\n",
    "cur = con.cursor()\n",
    "\n",
    "while(True) :\n",
    "    data1 = input('사용자ID ==> ')\n",
    "    if data1 == '' :\n",
    "        break\n",
    "    data2 = input('사용자이름 ==> ')\n",
    "    data3 = input('이메일 ==> ')\n",
    "    data4 = input('출생연도 ==>')\n",
    "    sql = \"INSERT INTO userTable VALUES('\" + data1 + \"','\" + data2 + \"','\" + data3 + \"',\" + data4 + \")\"\n",
    "    cur.execute(sql)\n",
    "    \n",
    "con.commit()\n",
    "con.close()"
   ]
  },
  {
   "cell_type": "markdown",
   "metadata": {},
   "source": [
    "### 3. 파이썬에서 데이터를 조회하는 코딩 순서\n",
    "1. 데이터베이스 연결\n",
    "2. 커서 생성\n",
    "3. 데이터 조회 : 커서이름.execute('SELECT 문')\n",
    "4. (반복) 조회한 데이터 출력 : 커서이름.fetchone()\n",
    "5. 데이터베이스 닫기"
   ]
  },
  {
   "cell_type": "markdown",
   "metadata": {},
   "source": [
    "### 4. 데이터 조회 프로그램의 구현"
   ]
  },
  {
   "cell_type": "code",
   "execution_count": 8,
   "metadata": {},
   "outputs": [
    {
     "name": "stdout",
     "output_type": "stream",
     "text": [
      "사용자ID   사용자이름      이메일              출생연도\n",
      "--------------------------------------------------------\n",
      "john       John Bann       john@naver.com       1990\n",
      "kim        Kim Chi         kim@daum.net         1992\n",
      "lee        Lee Pal         lee@paran.com        1988\n",
      "park       Park Su         park@gmail.com       1980\n",
      "choe       CHOE EUNJU      choe@pusan.ac.kr     1999\n"
     ]
    }
   ],
   "source": [
    "import sqlite3\n",
    "con = sqlite3.connect('E:/fpDB')\n",
    "cur = con.cursor()\n",
    "\n",
    "cur.execute('SELECT * FROM userTable')\n",
    "print('사용자ID   사용자이름      이메일              출생연도')\n",
    "print('--------------------------------------------------------')\n",
    "\n",
    "while True :\n",
    "    row = cur.fetchone()\n",
    "    if row == None :\n",
    "        break\n",
    "    data1 = row[0]\n",
    "    data2 = row[1]\n",
    "    data3 = row[2]\n",
    "    data4 = row[3]\n",
    "    print(f'{data1:10s} {data2:15s} {data3:20s} {data4:d}')\n",
    "    \n",
    "con.close()"
   ]
  },
  {
   "cell_type": "markdown",
   "metadata": {},
   "source": [
    "# ================================"
   ]
  },
  {
   "cell_type": "markdown",
   "metadata": {},
   "source": [
    "# CHAPTER 1_Numpy"
   ]
  },
  {
   "cell_type": "code",
   "execution_count": 1,
   "metadata": {},
   "outputs": [],
   "source": [
    "import numpy as np"
   ]
  },
  {
   "cell_type": "markdown",
   "metadata": {},
   "source": [
    "### Numpy란?\n",
    "- Numpy : 과학적인 계산을 위해 파이썬에서 제작\n",
    "- n차원 배열의 객체이며, 이산수학과 무작위 수 생성 등의 수많은 작업 기능 제공\n",
    "- 벡터와 행렬을 위한 Numpy만의 특수한 배열 형식 제공\n",
    "- List의 겨우 동적으로 메모리가 생성되는 것과 달리 Numpy의 배열은 정적 메모리 할당과 같이 생성될 때 그 크기가 정해짐"
   ]
  },
  {
   "cell_type": "markdown",
   "metadata": {},
   "source": [
    "### Numpy와 빅데이터, 딥러닝\n",
    "- Numpy는 딥러닝을 위한 Tensorflow와 잘 어울림\n",
    "- Tensorflow는 Numpy에서 다루는 데이터 형식을 효과적으로 처리할 수 있도록 호환성과 편리성 제공"
   ]
  },
  {
   "cell_type": "markdown",
   "metadata": {},
   "source": [
    "### zeros()\n",
    "- 괄호 안에 입력된 숫자만큼의 원소를 생성하고 0으로 초기화\n",
    "- 괄호 안에 숫자가 1개이면 벡터(1차원)을, 두 쌍의 괄호 안에 숫자가 2개이면 행렬(2차원)을 생성\n",
    "- 2차원 이상일 때에는 두 쌍 이상의 괄호가 필요"
   ]
  },
  {
   "cell_type": "code",
   "execution_count": 19,
   "metadata": {},
   "outputs": [
    {
     "name": "stdout",
     "output_type": "stream",
     "text": [
      "[0. 0. 0.]\n",
      "(3,)\n"
     ]
    }
   ],
   "source": [
    "x = np.zeros([3])\n",
    "print(x)\n",
    "print(x.shape)"
   ]
  },
  {
   "cell_type": "code",
   "execution_count": 18,
   "metadata": {},
   "outputs": [
    {
     "data": {
      "text/plain": [
       "array([[0., 0.],\n",
       "       [0., 0.],\n",
       "       [0., 0.]])"
      ]
     },
     "execution_count": 18,
     "metadata": {},
     "output_type": "execute_result"
    }
   ],
   "source": [
    "np.zeros([3,2])"
   ]
  },
  {
   "cell_type": "code",
   "execution_count": 3,
   "metadata": {},
   "outputs": [
    {
     "data": {
      "text/plain": [
       "array([[[0., 0., 0., 0.],\n",
       "        [0., 0., 0., 0.],\n",
       "        [0., 0., 0., 0.]],\n",
       "\n",
       "       [[0., 0., 0., 0.],\n",
       "        [0., 0., 0., 0.],\n",
       "        [0., 0., 0., 0.]]])"
      ]
     },
     "execution_count": 3,
     "metadata": {},
     "output_type": "execute_result"
    }
   ],
   "source": [
    "np.zeros([2,3,4])"
   ]
  },
  {
   "cell_type": "markdown",
   "metadata": {},
   "source": [
    "### mean()\n",
    "- 배열에 저장된 원소들의 평균값을 계산"
   ]
  },
  {
   "cell_type": "code",
   "execution_count": 4,
   "metadata": {},
   "outputs": [
    {
     "data": {
      "text/plain": [
       "3.0"
      ]
     },
     "execution_count": 4,
     "metadata": {},
     "output_type": "execute_result"
    }
   ],
   "source": [
    "x = np.array([1, 3, 5])\n",
    "x.mean()"
   ]
  },
  {
   "cell_type": "markdown",
   "metadata": {},
   "source": [
    "### shape 속성\n",
    "- 해당 클래스에서 제공해주는 속성"
   ]
  },
  {
   "cell_type": "code",
   "execution_count": 20,
   "metadata": {},
   "outputs": [
    {
     "data": {
      "text/plain": [
       "(2, 3)"
      ]
     },
     "execution_count": 20,
     "metadata": {},
     "output_type": "execute_result"
    }
   ],
   "source": [
    "x = np.array([[2,3,4], [3, 4, 5]])\n",
    "x.shape"
   ]
  },
  {
   "cell_type": "markdown",
   "metadata": {},
   "source": [
    "### array()\n",
    "- Numpy 형식으로 배열의 원소를 입력할 때는 반드시 리스트 형식으로 입력"
   ]
  },
  {
   "cell_type": "code",
   "execution_count": 11,
   "metadata": {},
   "outputs": [
    {
     "data": {
      "text/plain": [
       "array([1, 3, 5])"
      ]
     },
     "execution_count": 11,
     "metadata": {},
     "output_type": "execute_result"
    }
   ],
   "source": [
    "np.array([1, 3, 5])"
   ]
  },
  {
   "cell_type": "markdown",
   "metadata": {},
   "source": [
    "### reshape()\n",
    "- Numpy의 2차원 배열을 원하는 모양으로 생성 가능"
   ]
  },
  {
   "cell_type": "code",
   "execution_count": 12,
   "metadata": {},
   "outputs": [
    {
     "data": {
      "text/plain": [
       "array([[ 1,  3],\n",
       "       [ 5,  7],\n",
       "       [ 9, 11]])"
      ]
     },
     "execution_count": 12,
     "metadata": {},
     "output_type": "execute_result"
    }
   ],
   "source": [
    "x = np.array([1, 3, 5, 7, 9, 11])\n",
    "x.reshape(3,2)"
   ]
  },
  {
   "cell_type": "markdown",
   "metadata": {},
   "source": [
    "### ones()\n",
    "- Numpy 형식의 2차원 배열을 1의 값들로 채움"
   ]
  },
  {
   "cell_type": "code",
   "execution_count": 13,
   "metadata": {},
   "outputs": [
    {
     "data": {
      "text/plain": [
       "array([[1., 1., 1., 1.],\n",
       "       [1., 1., 1., 1.],\n",
       "       [1., 1., 1., 1.]])"
      ]
     },
     "execution_count": 13,
     "metadata": {},
     "output_type": "execute_result"
    }
   ],
   "source": [
    "np.ones([3, 4])"
   ]
  },
  {
   "cell_type": "markdown",
   "metadata": {},
   "source": [
    "### 출력, print()"
   ]
  },
  {
   "cell_type": "code",
   "execution_count": 21,
   "metadata": {},
   "outputs": [
    {
     "name": "stdout",
     "output_type": "stream",
     "text": [
      "[2 4 6]\n",
      "4.0\n",
      "3.5\n",
      "(2, 3)\n"
     ]
    }
   ],
   "source": [
    "x = np.array([[1, 3, 5], [2, 4, 6]])\n",
    "print(x[1])\n",
    "print(x[1].mean())\n",
    "print(x.mean())\n",
    "print(x.shape)"
   ]
  },
  {
   "cell_type": "markdown",
   "metadata": {},
   "source": [
    "### Numpy 배열의 슬라이싱\n",
    "- list의 경우 모든 원소에 대한 두 번째 항목의 내용을 따로 접근할 수 없음\n",
    "- Numpy에서는 각각의 원소의 특정 인덱스 위치에 일괄적으로 접근이 가능하도록 설계 : 리스트를 Numpy 형식으로 변환 후 슬라이싱\n",
    "- 리스트의 인덱스는 반드시 정수나 슬라이스여야 함"
   ]
  },
  {
   "cell_type": "code",
   "execution_count": 23,
   "metadata": {},
   "outputs": [
    {
     "name": "stdout",
     "output_type": "stream",
     "text": [
      "[11 12 13]\n"
     ]
    }
   ],
   "source": [
    "list1 = [[1, 11], [2, 12], [3, 13]]\n",
    "np_ary = np.array(list1)\n",
    "print(np_ary[:,1])"
   ]
  },
  {
   "cell_type": "markdown",
   "metadata": {},
   "source": [
    "### 파이썬 math 모듈의 sqrt()\n",
    "- 파이썬에서 제공하는 math 모듈은 기본적인 수학적 기능을 제공"
   ]
  },
  {
   "cell_type": "code",
   "execution_count": 24,
   "metadata": {},
   "outputs": [
    {
     "data": {
      "text/plain": [
       "1.4142135623730951"
      ]
     },
     "execution_count": 24,
     "metadata": {},
     "output_type": "execute_result"
    }
   ],
   "source": [
    "import math\n",
    "math.sqrt(2)"
   ]
  },
  {
   "cell_type": "markdown",
   "metadata": {},
   "source": [
    "- 특정 리스트에 저장된 모든 원소들에 대해 제곱근 구하기"
   ]
  },
  {
   "cell_type": "code",
   "execution_count": 25,
   "metadata": {},
   "outputs": [
    {
     "data": {
      "text/plain": [
       "array([1.41421356, 1.73205081, 2.        ])"
      ]
     },
     "execution_count": 25,
     "metadata": {},
     "output_type": "execute_result"
    }
   ],
   "source": [
    "list1 = [2, 3, 4]\n",
    "np.sqrt(list1)"
   ]
  },
  {
   "cell_type": "markdown",
   "metadata": {},
   "source": [
    "### 제로 벡터와 제로 행렬 "
   ]
  },
  {
   "cell_type": "markdown",
   "metadata": {},
   "source": [
    "- 0으로 초기화된 1차원의 zero_cector 생성"
   ]
  },
  {
   "cell_type": "code",
   "execution_count": 26,
   "metadata": {},
   "outputs": [
    {
     "name": "stdout",
     "output_type": "stream",
     "text": [
      "[0. 0. 0.]\n"
     ]
    }
   ],
   "source": [
    "zero_vector = np.zeros(3)\n",
    "print(zero_vector)"
   ]
  },
  {
   "cell_type": "markdown",
   "metadata": {},
   "source": [
    "- 0으로 초기화된 4X3 형식의 2차원 배열 생성"
   ]
  },
  {
   "cell_type": "code",
   "execution_count": 27,
   "metadata": {},
   "outputs": [
    {
     "name": "stdout",
     "output_type": "stream",
     "text": [
      "[[0. 0. 0.]\n",
      " [0. 0. 0.]\n",
      " [0. 0. 0.]\n",
      " [0. 0. 0.]]\n"
     ]
    }
   ],
   "source": [
    "zero_matrix = np.zeros((4,3))\n",
    "print(zero_matrix)"
   ]
  },
  {
   "cell_type": "markdown",
   "metadata": {},
   "source": [
    "- 생성한 제로 벡터나 행렬을 새로운 값으로 재설정"
   ]
  },
  {
   "cell_type": "code",
   "execution_count": 29,
   "metadata": {},
   "outputs": [
    {
     "name": "stdout",
     "output_type": "stream",
     "text": [
      "[[4. 4. 4. 4. 4.]\n",
      " [4. 4. 4. 4. 4.]\n",
      " [4. 4. 4. 4. 4.]]\n"
     ]
    }
   ],
   "source": [
    "my_array = np.zeros(15).reshape(3,5)\n",
    "my_array += 4\n",
    "print(my_array)"
   ]
  },
  {
   "cell_type": "markdown",
   "metadata": {},
   "source": [
    "### 전치행렬\n",
    "- 행과 열을 교환하여 얻어지는 행렬\n",
    "- 행렬의 값들을 주대각선을 기준으로 위치를 바꾼 행렬\n",
    "- 일반적인 리스트로는 전치행렬로 변환이 어려움\n",
    "- Numpy형식의 2차원 배열을 전치 : transpose() 메소드"
   ]
  },
  {
   "cell_type": "code",
   "execution_count": 30,
   "metadata": {},
   "outputs": [
    {
     "name": "stdout",
     "output_type": "stream",
     "text": [
      "[[1 3]\n",
      " [2 4]]\n"
     ]
    }
   ],
   "source": [
    "ary = np.array([[1, 2], [3, 4]])\n",
    "print(ary.transpose())"
   ]
  },
  {
   "cell_type": "markdown",
   "metadata": {},
   "source": [
    "### 사칙연산\n",
    "- 일반적인 리스트는 2개 배열의 합은 리스트의 연장을 의미\n",
    "- Numpy형식의 배열의 합은 인덱스별로 합을 구해 출력\n",
    "- 다른 사칙연산들도 동일하게 작동"
   ]
  },
  {
   "cell_type": "code",
   "execution_count": 33,
   "metadata": {},
   "outputs": [
    {
     "name": "stdout",
     "output_type": "stream",
     "text": [
      "[1, 2, 3, 4, 5, 6]\n"
     ]
    }
   ],
   "source": [
    "list1 = [1, 2, 3]\n",
    "list2 = [4, 5, 6]\n",
    "print(list1 + list2)"
   ]
  },
  {
   "cell_type": "code",
   "execution_count": 36,
   "metadata": {},
   "outputs": [
    {
     "name": "stdout",
     "output_type": "stream",
     "text": [
      "[5 7 9]\n",
      "[ 4 10 18]\n"
     ]
    }
   ],
   "source": [
    "np_list1 = np.array(list1)\n",
    "np_list2 = np.array(list2)\n",
    "print(np_list1 + np_list2)\n",
    "print(np_list1 * np_list2)"
   ]
  },
  {
   "cell_type": "markdown",
   "metadata": {},
   "source": [
    "- Numpy형식의 배열에 1을 더하면 각각의 원소에 1씩 더할 수 있음\n",
    "- 일반적인 리스트는 오류 발생"
   ]
  },
  {
   "cell_type": "code",
   "execution_count": 37,
   "metadata": {},
   "outputs": [
    {
     "data": {
      "text/plain": [
       "array([2, 3, 4])"
      ]
     },
     "execution_count": 37,
     "metadata": {},
     "output_type": "execute_result"
    }
   ],
   "source": [
    "s = np.array([1, 2, 3])\n",
    "s+1"
   ]
  },
  {
   "cell_type": "markdown",
   "metadata": {},
   "source": [
    "### 인덱싱\n",
    "- 2차원 배열은 여러 개의 1차원 배열로 구성"
   ]
  },
  {
   "cell_type": "code",
   "execution_count": 4,
   "metadata": {},
   "outputs": [
    {
     "name": "stdout",
     "output_type": "stream",
     "text": [
      "x배열의 인덱스 1번 내용 출력 :  [4 5 6]\n",
      "각 1차원 배열의 1번의 내용을 출력 :  [2 5 8]\n"
     ]
    }
   ],
   "source": [
    "x = np.array([[1, 2, 3], [4, 5, 6], [7, 8, 9]])\n",
    "print('x배열의 인덱스 1번 내용 출력 : ', x[1])\n",
    "print('각 1차원 배열의 1번의 내용을 출력 : ', x[:, 1])"
   ]
  },
  {
   "cell_type": "code",
   "execution_count": 5,
   "metadata": {},
   "outputs": [
    {
     "name": "stdout",
     "output_type": "stream",
     "text": [
      "2개의 Numpy 배열 간의 계산 :  [ 4 10 16]\n"
     ]
    }
   ],
   "source": [
    "y = np.array([[1, 2, 3], [4, 5, 6], [7, 8, 9]])\n",
    "print('2개의 Numpy 배열 간의 계산 : ', x[:, 1] + y[:, 1])"
   ]
  },
  {
   "cell_type": "code",
   "execution_count": 8,
   "metadata": {},
   "outputs": [
    {
     "name": "stdout",
     "output_type": "stream",
     "text": [
      "리스트를 통하여 인덱싱 :  [20 40 60]\n"
     ]
    }
   ],
   "source": [
    "a = np.array([10, 20, 30, 40, 50, 60, 70])\n",
    "i = [1, 3, 5]\n",
    "print('리스트를 통하여 인덱싱 : ', a[i])"
   ]
  },
  {
   "cell_type": "code",
   "execution_count": 10,
   "metadata": {},
   "outputs": [
    {
     "name": "stdout",
     "output_type": "stream",
     "text": [
      "b :  [20 10 60]\n",
      "a :  [10 20 30 40 50 60 70]\n"
     ]
    }
   ],
   "source": [
    "a = np.array([10, 20, 30, 40, 50, 60, 70])\n",
    "b = np.array(a[1:6:2])  # 복사를 위해서 ndarray로 바꿈\n",
    "b[1] = 10\n",
    "print('b : ', b)\n",
    "print('a : ', a )"
   ]
  },
  {
   "cell_type": "markdown",
   "metadata": {},
   "source": [
    "### 불린\n",
    "- Numpy에서 제공하는 Boolean 배열"
   ]
  },
  {
   "cell_type": "code",
   "execution_count": 11,
   "metadata": {},
   "outputs": [
    {
     "name": "stdout",
     "output_type": "stream",
     "text": [
      "[False False False False False  True  True]\n"
     ]
    }
   ],
   "source": [
    "a = np.array([10, 20, 30, 40, 50, 60, 70])\n",
    "b = a > 50\n",
    "print(b)"
   ]
  },
  {
   "cell_type": "markdown",
   "metadata": {},
   "source": [
    "### 랜덤\n",
    "- Numpy에서는 자체적으로 무작위 값을 생성하는 random 메소드 지원"
   ]
  },
  {
   "cell_type": "code",
   "execution_count": 12,
   "metadata": {},
   "outputs": [
    {
     "name": "stdout",
     "output_type": "stream",
     "text": [
      "[0.14222889 0.7070918  0.41920699 0.22217539 0.65141849]\n",
      "False\n",
      "True\n"
     ]
    }
   ],
   "source": [
    "ary = np.random.random(5)\n",
    "print(ary)\n",
    "print(np.all(ary>0.3))\n",
    "print(np.any(ary>0.7))"
   ]
  },
  {
   "cell_type": "markdown",
   "metadata": {},
   "source": [
    "### 등간격 나누기\n",
    "- Numpy는 시작과 끝의 값을 지정하고 그 사이의 값을 균등하게 배분하는 기능 제공"
   ]
  },
  {
   "cell_type": "markdown",
   "metadata": {},
   "source": [
    "#### linspace()"
   ]
  },
  {
   "cell_type": "code",
   "execution_count": 13,
   "metadata": {},
   "outputs": [
    {
     "data": {
      "text/plain": [
       "array([ 0.,  4.,  8., 12.])"
      ]
     },
     "execution_count": 13,
     "metadata": {},
     "output_type": "execute_result"
    }
   ],
   "source": [
    "np.linspace(0, 12, 4)"
   ]
  },
  {
   "cell_type": "code",
   "execution_count": 14,
   "metadata": {},
   "outputs": [
    {
     "data": {
      "text/plain": [
       "(array([ 0.,  4.,  8., 12.]), 4.0)"
      ]
     },
     "execution_count": 14,
     "metadata": {},
     "output_type": "execute_result"
    }
   ],
   "source": [
    "# retstep = True : 샘플 간의 간격 출력\n",
    "np.linspace(0, 12, 4, retstep = True)"
   ]
  },
  {
   "cell_type": "code",
   "execution_count": 15,
   "metadata": {},
   "outputs": [
    {
     "data": {
      "text/plain": [
       "array([0., 3., 6., 9.])"
      ]
     },
     "execution_count": 15,
     "metadata": {},
     "output_type": "execute_result"
    }
   ],
   "source": [
    "# endpoint = False : 마지막 값을 제외하고 샘플값 생성 (default = True)\n",
    "np.linspace(0, 12, 4, endpoint = False)"
   ]
  },
  {
   "cell_type": "markdown",
   "metadata": {},
   "source": [
    "#### logspae()\n",
    "- 대수(로그) 형태의 간격으로 나누어진 원소들을 배열로 생성"
   ]
  },
  {
   "cell_type": "code",
   "execution_count": 16,
   "metadata": {},
   "outputs": [
    {
     "data": {
      "text/plain": [
       "array([ 10.        ,  17.7827941 ,  31.6227766 ,  56.23413252,\n",
       "       100.        ])"
      ]
     },
     "execution_count": 16,
     "metadata": {},
     "output_type": "execute_result"
    }
   ],
   "source": [
    "np.logspace(np.log10(10), np.log10(100), 5)"
   ]
  },
  {
   "cell_type": "code",
   "execution_count": 17,
   "metadata": {
    "scrolled": true
   },
   "outputs": [
    {
     "data": {
      "text/plain": [
       "array([ 10.        ,  17.7827941 ,  31.6227766 ,  56.23413252,\n",
       "       100.        ])"
      ]
     },
     "execution_count": 17,
     "metadata": {},
     "output_type": "execute_result"
    }
   ],
   "source": [
    "# 로그값을 알고 있다면 그대로 값 입력 가능\n",
    "np.logspace(1, 2, 5)"
   ]
  },
  {
   "cell_type": "markdown",
   "metadata": {},
   "source": [
    "# ================================"
   ]
  },
  {
   "cell_type": "markdown",
   "metadata": {},
   "source": [
    "# CHAPTER 2_Plot"
   ]
  },
  {
   "cell_type": "markdown",
   "metadata": {},
   "source": [
    "### Plotting\n",
    "- 빅데이터 분석에 있어서 플랏의 기능은 매우 중요\n",
    "- 데이터를 분석하고 가공하기 위해 숫자나 문자로 작성된 데이터를 그래프로 확인\n",
    "- Plotting 관련 라이브러리 : Matplotlib\n",
    "- Matlab과 비슷한 문법으로 생성한 결과를 간편하고도 즉각적으로 확인 가능\n",
    "- 파이썬에서는 Pyplot이라는 모듈로 데이터를 시각적 표현 가능"
   ]
  },
  {
   "cell_type": "markdown",
   "metadata": {},
   "source": [
    "### 직선그래프\n",
    "- 그래프를 그리기 전에 %matplotlib inline 명렬을 실행하면 주피터 노트북을 실행한 브라우저에서 바로 그래프의 출력을 볼 수 있음\n",
    "- 문자열을 출력하지 않으려면 plot() 메소드의 명령문 마지막에 ; 붙이기"
   ]
  },
  {
   "cell_type": "code",
   "execution_count": 2,
   "metadata": {},
   "outputs": [],
   "source": [
    "import matplotlib.pyplot as plt\n",
    "%matplotlib inline"
   ]
  },
  {
   "cell_type": "code",
   "execution_count": 26,
   "metadata": {},
   "outputs": [
    {
     "data": {
      "image/png": "[encoded data removed]",
      "text/plain": [
       "<Figure size 432x288 with 1 Axes>"
      ]
     },
     "metadata": {
      "needs_background": "light"
     },
     "output_type": "display_data"
    }
   ],
   "source": [
    "y = [1, 2, 3, 4, 5]\n",
    "plt.plot(y);"
   ]
  },
  {
   "cell_type": "markdown",
   "metadata": {},
   "source": [
    "- plot()메소드의 입력 파라미터의 개수가 2개인 경우\n",
    "- 첫번째 항목은 x축 좌표값, 두번째 항목은 y축 좌표값"
   ]
  },
  {
   "cell_type": "code",
   "execution_count": 25,
   "metadata": {},
   "outputs": [
    {
     "data": {
      "image/png": "[encoded data removed]",
      "text/plain": [
       "<Figure size 432x288 with 1 Axes>"
      ]
     },
     "metadata": {
      "needs_background": "light"
     },
     "output_type": "display_data"
    }
   ],
   "source": [
    "y = [13, 16, 15, 18, 16, 17, 16]\n",
    "plt.plot(range(len(y)), y);"
   ]
  },
  {
   "cell_type": "markdown",
   "metadata": {},
   "source": [
    "- x축에 의미 있는 문자(열) 넣기"
   ]
  },
  {
   "cell_type": "code",
   "execution_count": 28,
   "metadata": {},
   "outputs": [
    {
     "data": {
      "image/png": "[encoded data removed]",
      "text/plain": [
       "<Figure size 432x288 with 1 Axes>"
      ]
     },
     "metadata": {
      "needs_background": "light"
     },
     "output_type": "display_data"
    }
   ],
   "source": [
    "x = ['Mon', 'Tue', 'Wed', 'Thur', 'Fri', 'Sat', 'Sun']\n",
    "y = [13, 16, 15, 18, 16, 17, 16]\n",
    "plt.plot(x, y);"
   ]
  },
  {
   "cell_type": "markdown",
   "metadata": {},
   "source": [
    "- x, y축들이 무엇을 의미하는지 라벨(label) 입력"
   ]
  },
  {
   "cell_type": "code",
   "execution_count": 29,
   "metadata": {},
   "outputs": [
    {
     "data": {
      "image/png": "[encoded data removed]",
      "text/plain": [
       "<Figure size 432x288 with 1 Axes>"
      ]
     },
     "metadata": {
      "needs_background": "light"
     },
     "output_type": "display_data"
    }
   ],
   "source": [
    "x = ['Mon', 'Tue', 'Wed', 'Thur', 'Fri', 'Sat', 'Sun']\n",
    "y = [13, 16, 15, 18, 16, 17, 16]\n",
    "plt.plot(x, y)\n",
    "plt.xlabel('Daily')\n",
    "plt.ylabel('No. of Books sold');"
   ]
  },
  {
   "cell_type": "markdown",
   "metadata": {},
   "source": [
    "- 그래프 추가 : 그래프 2개 동시에 그리기"
   ]
  },
  {
   "cell_type": "code",
   "execution_count": 30,
   "metadata": {},
   "outputs": [
    {
     "data": {
      "image/png": "[encoded data removed]",
      "text/plain": [
       "<Figure size 432x288 with 1 Axes>"
      ]
     },
     "metadata": {
      "needs_background": "light"
     },
     "output_type": "display_data"
    }
   ],
   "source": [
    "x = ['Mon', 'Tue', 'Wed', 'Thur', 'Fri', 'Sat', 'Sun']\n",
    "y1 = [13, 16, 15, 18, 16, 17, 16]\n",
    "y2 = [17, 14, 17, 16, 15,  15,  14]\n",
    "plt.plot(x, y1)\n",
    "plt.plot(x, y2)\n",
    "plt.xlabel('Daily')\n",
    "plt.ylabel('No. of Books sold');"
   ]
  },
  {
   "cell_type": "markdown",
   "metadata": {},
   "source": [
    "- 레전드 : 각각의 그래프가 무엇을 나타내는지 설명하는 범례"
   ]
  },
  {
   "cell_type": "code",
   "execution_count": 32,
   "metadata": {},
   "outputs": [
    {
     "data": {
      "image/png": "[encoded data removed]",
      "text/plain": [
       "<Figure size 432x288 with 1 Axes>"
      ]
     },
     "metadata": {
      "needs_background": "light"
     },
     "output_type": "display_data"
    }
   ],
   "source": [
    "x = ['Mon', 'Tue', 'Wed', 'Thur', 'Fri', 'Sat', 'Sun']\n",
    "y1 = [13, 16, 15, 18, 16, 17, 16]\n",
    "y2 = [17, 14, 17, 16, 15,  15,  14]\n",
    "plt.plot(x, y1, label = 'Sold')\n",
    "plt.plot(x, y2, label = 'On Shelves')\n",
    "plt.xlabel('Daily')\n",
    "plt.ylabel('No. of Books sold')\n",
    "plt.legend(loc = 'upper left');"
   ]
  },
  {
   "cell_type": "markdown",
   "metadata": {},
   "source": [
    "- 제목 넣기"
   ]
  },
  {
   "cell_type": "code",
   "execution_count": 33,
   "metadata": {},
   "outputs": [
    {
     "data": {
      "image/png": "[encoded data removed]",
      "text/plain": [
       "<Figure size 432x288 with 1 Axes>"
      ]
     },
     "metadata": {
      "needs_background": "light"
     },
     "output_type": "display_data"
    }
   ],
   "source": [
    "x = ['Mon', 'Tue', 'Wed', 'Thur', 'Fri', 'Sat', 'Sun']\n",
    "y1 = [13, 16, 15, 18, 16, 17, 16]\n",
    "y2 = [17, 14, 17, 16, 15,  15,  14]\n",
    "plt.plot(x, y1, label = 'Sold')\n",
    "plt.plot(x, y2, label = 'On Shelves')\n",
    "plt.xlabel('Daily')\n",
    "plt.ylabel('No. of Books sold')\n",
    "plt.legend(loc = 'upper left')\n",
    "plt.title('Le Petit Prince : Sold & Left');"
   ]
  },
  {
   "cell_type": "markdown",
   "metadata": {},
   "source": [
    "### 점선 그래프"
   ]
  },
  {
   "cell_type": "code",
   "execution_count": 37,
   "metadata": {},
   "outputs": [
    {
     "data": {
      "image/png": "[encoded data removed]",
      "text/plain": [
       "<Figure size 432x288 with 1 Axes>"
      ]
     },
     "metadata": {
      "needs_background": "light"
     },
     "output_type": "display_data"
    }
   ],
   "source": [
    "x = [1, 2, 3, 4, 5]\n",
    "y = [1, 4, 9, 16, 25]\n",
    "plt.plot(x, y, 'bo');"
   ]
  },
  {
   "cell_type": "markdown",
   "metadata": {},
   "source": [
    "#### <axis() 메소드>\n",
    "- 그래프의 x축, y축 범위를 지정해주어 그래프의 여백 또는 원하는 모양으로 세팅\n",
    "- 입력값은 모두 4개이며 이들을 한 개의 리스트형으로 입력 : [xmin, xmax, ymin, ymax]의 형식"
   ]
  },
  {
   "cell_type": "code",
   "execution_count": 38,
   "metadata": {},
   "outputs": [
    {
     "data": {
      "image/png": "[encoded data removed]",
      "text/plain": [
       "<Figure size 432x288 with 1 Axes>"
      ]
     },
     "metadata": {
      "needs_background": "light"
     },
     "output_type": "display_data"
    }
   ],
   "source": [
    "x = [1, 2, 3, 4, 5]\n",
    "y = [1, 4, 9, 16, 25]\n",
    "plt.plot(x, y, 'bo')\n",
    "plt.axis([0, 6, 0, 30]);"
   ]
  },
  {
   "attachments": {
    "image.png": {
     "image/png": "[encoded data removed]"
    }
   },
   "cell_type": "markdown",
   "metadata": {},
   "source": [
    "![image.png](attachment:image.png)"
   ]
  },
  {
   "cell_type": "markdown",
   "metadata": {},
   "source": [
    "### Numpy를 이용하여 plot 기능 이용"
   ]
  },
  {
   "cell_type": "code",
   "execution_count": 21,
   "metadata": {},
   "outputs": [
    {
     "data": {
      "image/png": "[encoded data removed]",
      "text/plain": [
       "<Figure size 432x288 with 1 Axes>"
      ]
     },
     "metadata": {
      "needs_background": "light"
     },
     "output_type": "display_data"
    }
   ],
   "source": [
    "points = np.array([[1, 1], [1, 2], [1, 3], [2, 1], \n",
    "                   [2, 2], [2, 3], [3, 1], [3, 2], [3,3]])\n",
    "p = np.array([2.5, 2])\n",
    "\n",
    "plt.plot(points[:, 0], points[:, 1], 'ro')\n",
    "plt.plot(p[0], p[1], 'bo');"
   ]
  },
  {
   "cell_type": "markdown",
   "metadata": {},
   "source": [
    "### plot() 메소드 입력 파라미터 개수에 따라 세부적인 기능이 다름"
   ]
  },
  {
   "cell_type": "markdown",
   "metadata": {},
   "source": [
    "#### <입력 값이 하나인 경우>"
   ]
  },
  {
   "cell_type": "code",
   "execution_count": 5,
   "metadata": {},
   "outputs": [
    {
     "data": {
      "image/png": "[encoded data removed]",
      "text/plain": [
       "<Figure size 432x288 with 1 Axes>"
      ]
     },
     "metadata": {
      "needs_background": "light"
     },
     "output_type": "display_data"
    }
   ],
   "source": [
    "x = np.linspace(0, 5, 10)\n",
    "y = x**2\n",
    "plt.plot(x, y);"
   ]
  },
  {
   "cell_type": "markdown",
   "metadata": {},
   "source": [
    "#### <입력 값이 다수인 경우>"
   ]
  },
  {
   "cell_type": "code",
   "execution_count": 6,
   "metadata": {},
   "outputs": [
    {
     "data": {
      "image/png": "[encoded data removed]",
      "text/plain": [
       "<Figure size 432x288 with 1 Axes>"
      ]
     },
     "metadata": {
      "needs_background": "light"
     },
     "output_type": "display_data"
    }
   ],
   "source": [
    "x = np.linspace(0, 10, 20)\n",
    "y = x**2\n",
    "plt.plot(x, y, 'bo-', linewidth = 3, markersize = 5);"
   ]
  },
  {
   "cell_type": "code",
   "execution_count": 7,
   "metadata": {},
   "outputs": [
    {
     "data": {
      "image/png": "[encoded data removed]",
      "text/plain": [
       "<Figure size 432x288 with 1 Axes>"
      ]
     },
     "metadata": {
      "needs_background": "light"
     },
     "output_type": "display_data"
    }
   ],
   "source": [
    "x = np.linspace(0, 10, 20)\n",
    "y = x**2\n",
    "plt.plot(x, y, 'gs-', linewidth = 1, markersize = 3);"
   ]
  },
  {
   "cell_type": "code",
   "execution_count": 10,
   "metadata": {},
   "outputs": [
    {
     "data": {
      "image/png": "[encoded data removed]",
      "text/plain": [
       "<Figure size 432x288 with 1 Axes>"
      ]
     },
     "metadata": {
      "needs_background": "light"
     },
     "output_type": "display_data"
    }
   ],
   "source": [
    "x = np.linspace(0, 10, 20)\n",
    "y1 = x**2\n",
    "y2 = x**1.5\n",
    "plt.plot(x, y1, 'bo-', linewidth = 2, markersize = 12, label = 'First')\n",
    "plt.plot(x, y2, 'gs-', linewidth = 2, markersize = 12, label = 'Second')\n",
    "plt.xlabel('x')\n",
    "plt.ylabel('y')\n",
    "plt.axis([-0.5, 10.5, -5, 105])\n",
    "plt.legend(loc = 'upper left');"
   ]
  },
  {
   "cell_type": "code",
   "execution_count": 11,
   "metadata": {},
   "outputs": [
    {
     "data": {
      "image/png": "[encoded data removed]",
      "text/plain": [
       "<Figure size 432x288 with 1 Axes>"
      ]
     },
     "metadata": {
      "needs_background": "light"
     },
     "output_type": "display_data"
    }
   ],
   "source": [
    "x = np.logspace(-1, 1, 20)\n",
    "y1 = x**2\n",
    "y2 = x**1.5\n",
    "plt.plot(x, y1, 'bo-', linewidth = 2, markersize = 12, label = 'First')\n",
    "plt.plot(x, y2, 'gs-', linewidth = 2, markersize = 12, label = 'Second')\n",
    "plt.xlabel('x')\n",
    "plt.ylabel('y')\n",
    "plt.axis([-0.5, 10.5, -5, 105])\n",
    "plt.legend(loc = 'upper left');"
   ]
  },
  {
   "cell_type": "markdown",
   "metadata": {},
   "source": [
    "### 표준정규분포 그래프"
   ]
  },
  {
   "cell_type": "code",
   "execution_count": 13,
   "metadata": {},
   "outputs": [
    {
     "data": {
      "image/png": "[encoded data removed]",
      "text/plain": [
       "<Figure size 432x288 with 1 Axes>"
      ]
     },
     "metadata": {
      "needs_background": "light"
     },
     "output_type": "display_data"
    }
   ],
   "source": [
    "x = np.random.standard_normal(size = 1000)\n",
    "plt.hist(x);"
   ]
  },
  {
   "cell_type": "code",
   "execution_count": 15,
   "metadata": {},
   "outputs": [
    {
     "data": {
      "image/png": "[encoded data removed]",
      "text/plain": [
       "<Figure size 432x288 with 1 Axes>"
      ]
     },
     "metadata": {
      "needs_background": "light"
     },
     "output_type": "display_data"
    }
   ],
   "source": [
    "# density = True : 빈도수가 아닌 확률\n",
    "plt.hist(x, density = True);"
   ]
  },
  {
   "cell_type": "code",
   "execution_count": 19,
   "metadata": {},
   "outputs": [
    {
     "data": {
      "image/png": "[encoded data removed]",
      "text/plain": [
       "<Figure size 432x288 with 1 Axes>"
      ]
     },
     "metadata": {
      "needs_background": "light"
     },
     "output_type": "display_data"
    }
   ],
   "source": [
    "x = np.random.randn(1000)\n",
    "plt.hist(x);"
   ]
  },
  {
   "cell_type": "markdown",
   "metadata": {},
   "source": [
    "#### <Standard_normal() vs randn()>\n",
    "- standard_normal : ((2,3))\n",
    "- randn : (2,3)"
   ]
  },
  {
   "cell_type": "code",
   "execution_count": 24,
   "metadata": {},
   "outputs": [
    {
     "name": "stdout",
     "output_type": "stream",
     "text": [
      "[ 1.58280878  0.61327596  1.44424501  1.66486297 -1.72263302]\n",
      "[[-0.47108447  0.84712147  1.84421324]\n",
      " [-0.96572778  0.54379643  1.43066265]]\n"
     ]
    }
   ],
   "source": [
    "a = np.random.standard_normal(5)\n",
    "b = np.random.standard_normal((2, 3))\n",
    "print(a)\n",
    "print(b)"
   ]
  },
  {
   "cell_type": "code",
   "execution_count": 27,
   "metadata": {},
   "outputs": [
    {
     "name": "stdout",
     "output_type": "stream",
     "text": [
      "[-3.56644066 -1.223739   -0.04014395  0.46111537 -0.54291916]\n",
      "[[-0.69872932  0.58834501 -0.14822783]\n",
      " [-0.25850692 -0.28495789  0.65901946]]\n"
     ]
    }
   ],
   "source": [
    "a = np.random.randn(5)\n",
    "b = np.random.randn(2, 3)\n",
    "\n",
    "print(a)\n",
    "print(b)"
   ]
  },
  {
   "cell_type": "markdown",
   "metadata": {},
   "source": [
    "### 정규분포 그래프"
   ]
  },
  {
   "cell_type": "code",
   "execution_count": 30,
   "metadata": {},
   "outputs": [
    {
     "data": {
      "image/png": "[encoded data removed]",
      "text/plain": [
       "<Figure size 432x288 with 1 Axes>"
      ]
     },
     "metadata": {
      "needs_background": "light"
     },
     "output_type": "display_data"
    }
   ],
   "source": [
    "a = np.random.randn(10000)\n",
    "b = 3 + 5*np.random.randn(10000)\n",
    "\n",
    "plt.hist(a, bins = 100, density = True, alpha = 0.7, histtype = 'stepfilled')\n",
    "plt.hist(b, bins = 100, density = True, alpha = 0.5, histtype = 'stepfilled')\n",
    "plt.show()"
   ]
  },
  {
   "cell_type": "markdown",
   "metadata": {},
   "source": [
    "- rand : 0~1의 균일분포 표준정규분포 난수 생성\n",
    "- randn : -1~1의 평균 0, 표준편차1의 가우시안 표준정규분포 난수 생성"
   ]
  },
  {
   "cell_type": "markdown",
   "metadata": {},
   "source": [
    "### 종합 예제"
   ]
  },
  {
   "cell_type": "code",
   "execution_count": 36,
   "metadata": {},
   "outputs": [
    {
     "data": {
      "image/png": "[encoded data removed]",
      "text/plain": [
       "<Figure size 432x288 with 1 Axes>"
      ]
     },
     "metadata": {
      "needs_background": "light"
     },
     "output_type": "display_data"
    }
   ],
   "source": [
    "x = np.random.rand(30)\n",
    "y = np.random.randn(30)\n",
    "colors = np.random.rand(30)\n",
    "shape = np.pi * (np.random.rand(30)*20) ** 2\n",
    "plt.scatter(x, y, s = shape, c = colors, marker = '*', alpha = 0.7);"
   ]
  },
  {
   "cell_type": "markdown",
   "metadata": {},
   "source": [
    "# ================================"
   ]
  },
  {
   "cell_type": "markdown",
   "metadata": {},
   "source": [
    "# CHAPTER 3_Pandas"
   ]
  },
  {
   "cell_type": "markdown",
   "metadata": {},
   "source": [
    "### 판다스란?\n",
    "- 판다스 : 1차원, 2차원 데이터를 다루는 모듈"
   ]
  },
  {
   "cell_type": "code",
   "execution_count": 37,
   "metadata": {},
   "outputs": [],
   "source": [
    "import pandas as pd"
   ]
  },
  {
   "cell_type": "markdown",
   "metadata": {},
   "source": [
    "### 판다스의 데이터 형식\n",
    "- 시리즈 : 1차원 배열\n",
    "- 데이터프레임 : 2차원 배열"
   ]
  },
  {
   "cell_type": "markdown",
   "metadata": {},
   "source": [
    "### 시리즈\n",
    "- 복수의 행으로 이루어진 하나의 열 구조\n",
    "- 색인을 가지고 원하는 데이터에 접근할 수 있음\n",
    "- 자동으로 색인을 만들어줌"
   ]
  },
  {
   "cell_type": "code",
   "execution_count": 38,
   "metadata": {},
   "outputs": [
    {
     "data": {
      "text/plain": [
       "0    7\n",
       "1    3\n",
       "2    5\n",
       "3    8\n",
       "dtype: int64"
      ]
     },
     "execution_count": 38,
     "metadata": {},
     "output_type": "execute_result"
    }
   ],
   "source": [
    "pd.Series([7, 3, 5, 8])"
   ]
  },
  {
   "cell_type": "markdown",
   "metadata": {},
   "source": [
    "- 자동으로 색인을 만들지 않고 index 키워드를 사용해 원하는 색인의 이름 입력"
   ]
  },
  {
   "cell_type": "code",
   "execution_count": 40,
   "metadata": {},
   "outputs": [
    {
     "name": "stdout",
     "output_type": "stream",
     "text": [
      "서울    7\n",
      "대구    3\n",
      "부산    5\n",
      "광주    8\n",
      "dtype: int64\n",
      "7\n"
     ]
    }
   ],
   "source": [
    "x = pd.Series([7, 3, 5, 8], index = ['서울', '대구', '부산', '광주'])\n",
    "print(x)\n",
    "print(x['서울'])"
   ]
  },
  {
   "cell_type": "markdown",
   "metadata": {},
   "source": [
    "- 색인을 나열하여 원하는 값들을 출력"
   ]
  },
  {
   "cell_type": "code",
   "execution_count": 42,
   "metadata": {},
   "outputs": [
    {
     "data": {
      "text/plain": [
       "서울    7\n",
       "대구    3\n",
       "dtype: int64"
      ]
     },
     "execution_count": 42,
     "metadata": {},
     "output_type": "execute_result"
    }
   ],
   "source": [
    "x[['서울', '대구']]"
   ]
  },
  {
   "cell_type": "markdown",
   "metadata": {},
   "source": [
    "#### index\n",
    "- 만들어진 시리즈에서 인덱스만을 출력"
   ]
  },
  {
   "cell_type": "code",
   "execution_count": 43,
   "metadata": {},
   "outputs": [
    {
     "data": {
      "text/plain": [
       "Index(['서울', '대구', '부산', '광주'], dtype='object')"
      ]
     },
     "execution_count": 43,
     "metadata": {},
     "output_type": "execute_result"
    }
   ],
   "source": [
    "x.index"
   ]
  },
  {
   "cell_type": "markdown",
   "metadata": {},
   "source": [
    "#### values\n",
    "- 만들어진 시리즈 데이터에서 값들 만을 출력"
   ]
  },
  {
   "cell_type": "code",
   "execution_count": 44,
   "metadata": {},
   "outputs": [
    {
     "data": {
      "text/plain": [
       "array([7, 3, 5, 8], dtype=int64)"
      ]
     },
     "execution_count": 44,
     "metadata": {},
     "output_type": "execute_result"
    }
   ],
   "source": [
    "x.values"
   ]
  },
  {
   "cell_type": "markdown",
   "metadata": {},
   "source": [
    "#### sorted\n",
    "- 인덱스나 값들로 정렬"
   ]
  },
  {
   "cell_type": "code",
   "execution_count": 45,
   "metadata": {},
   "outputs": [
    {
     "name": "stdout",
     "output_type": "stream",
     "text": [
      "['광주', '대구', '부산', '서울']\n",
      "[3, 5, 7, 8]\n"
     ]
    }
   ],
   "source": [
    "print(sorted(x.index))\n",
    "print(sorted(x.values))"
   ]
  },
  {
   "cell_type": "code",
   "execution_count": 46,
   "metadata": {},
   "outputs": [
    {
     "data": {
      "text/plain": [
       "광주    8\n",
       "대구    3\n",
       "부산    5\n",
       "서울    7\n",
       "dtype: int64"
      ]
     },
     "execution_count": 46,
     "metadata": {},
     "output_type": "execute_result"
    }
   ],
   "source": [
    "x.reindex(sorted(x.index))"
   ]
  },
  {
   "cell_type": "code",
   "execution_count": 47,
   "metadata": {},
   "outputs": [
    {
     "data": {
      "text/plain": [
       "3   NaN\n",
       "5   NaN\n",
       "7   NaN\n",
       "8   NaN\n",
       "dtype: float64"
      ]
     },
     "execution_count": 47,
     "metadata": {},
     "output_type": "execute_result"
    }
   ],
   "source": [
    "x.reindex(sorted(x.values))"
   ]
  },
  {
   "cell_type": "markdown",
   "metadata": {},
   "source": [
    "#### 시리즈의 합\n",
    "- 인덱스별로 저장된 값들의 합을 구함\n",
    "- x와 y에 공통된 인덱스가 존재해야 더할 수 있음"
   ]
  },
  {
   "cell_type": "code",
   "execution_count": 48,
   "metadata": {},
   "outputs": [
    {
     "data": {
      "text/plain": [
       "광주     NaN\n",
       "대구    10.0\n",
       "대전     NaN\n",
       "부산     9.0\n",
       "서울     8.0\n",
       "dtype: float64"
      ]
     },
     "execution_count": 48,
     "metadata": {},
     "output_type": "execute_result"
    }
   ],
   "source": [
    "x = pd.Series([3, 8, 5, 9], index = ['서울', '대구', '부산', '광주'])\n",
    "y = pd.Series([2, 4, 5, 1], index = ['대구', '부산', '서울', '대전'])\n",
    "x + y"
   ]
  },
  {
   "cell_type": "markdown",
   "metadata": {},
   "source": [
    "#### unique()\n",
    "- 시리즈로부터 유일한 값들만 반환\n",
    "- 숫자뿐 아니라 문자열도 똑같이 작동"
   ]
  },
  {
   "cell_type": "code",
   "execution_count": 49,
   "metadata": {},
   "outputs": [
    {
     "data": {
      "text/plain": [
       "array([1, 3, 2, 4], dtype=int64)"
      ]
     },
     "execution_count": 49,
     "metadata": {},
     "output_type": "execute_result"
    }
   ],
   "source": [
    "medal = [1, 3, 2, 4, 2, 3]\n",
    "x = pd.Series(medal)\n",
    "pd.unique(x)"
   ]
  },
  {
   "cell_type": "code",
   "execution_count": 51,
   "metadata": {},
   "outputs": [
    {
     "name": "stdout",
     "output_type": "stream",
     "text": [
      "['민준' '현우' '서연' '동현']\n"
     ]
    }
   ],
   "source": [
    "medal = ['민준', '현우', '서연', '동현', '서연', '현우']\n",
    "x = pd.Series(medal)\n",
    "print(pd.unique(x))"
   ]
  },
  {
   "cell_type": "markdown",
   "metadata": {},
   "source": [
    "#### <딕셔너리 형태의 데이터를 series로 변환>"
   ]
  },
  {
   "cell_type": "code",
   "execution_count": 53,
   "metadata": {},
   "outputs": [
    {
     "data": {
      "text/plain": [
       "민준    23\n",
       "현우    42\n",
       "서연    12\n",
       "동현    45\n",
       "dtype: int64"
      ]
     },
     "execution_count": 53,
     "metadata": {},
     "output_type": "execute_result"
    }
   ],
   "source": [
    "age = {'민준' : 23, '현우' : 42, '서연' : 12, '동현' : 45}\n",
    "x = pd.Series(age)\n",
    "x"
   ]
  },
  {
   "attachments": {
    "image.png": {
     "image/png": "[encoded data removed]"
    }
   },
   "cell_type": "markdown",
   "metadata": {},
   "source": [
    "#### <index 슬라이싱 주의점>\n",
    "- Series 구조에서는 이름 앞에 인덱스 번호가 있어서 일반 배열에서의 인덱스와는 다름\n",
    "- Series 구조에서의 인덱스 번호란 자체적으로 내포하고 있는 'index'를 의미\n",
    "![image.png](attachment:image.png)"
   ]
  },
  {
   "cell_type": "code",
   "execution_count": 54,
   "metadata": {},
   "outputs": [
    {
     "name": "stdout",
     "output_type": "stream",
     "text": [
      "0    민준\n",
      "1    서연\n",
      "2    현우\n",
      "3    민서\n",
      "4    동현\n",
      "5    수빈\n",
      "dtype: object\n"
     ]
    }
   ],
   "source": [
    "names = ['민준', '서연', '현우', '민서', '동현', '수빈']\n",
    "pdata = pd.Series(names)\n",
    "print(pdata)"
   ]
  },
  {
   "cell_type": "code",
   "execution_count": 55,
   "metadata": {},
   "outputs": [
    {
     "name": "stdout",
     "output_type": "stream",
     "text": [
      "3    민서\n",
      "4    동현\n",
      "5    수빈\n",
      "dtype: object\n"
     ]
    }
   ],
   "source": [
    "a = pdata[3:6]\n",
    "print(a)"
   ]
  },
  {
   "cell_type": "code",
   "execution_count": 57,
   "metadata": {
    "scrolled": true
   },
   "outputs": [
    {
     "name": "stdout",
     "output_type": "stream",
     "text": [
      "수빈\n"
     ]
    }
   ],
   "source": [
    "# a[2] : 오류발생\n",
    "print(a[5])"
   ]
  },
  {
   "cell_type": "markdown",
   "metadata": {},
   "source": [
    "### 데이터프레임\n",
    "- 데이터프레임 : 2차원 배열의 개념을 가지고 있으며 행과 열로 구성\n",
    "- 일반적으로 열에 대한 각각의 이름을 부여"
   ]
  },
  {
   "cell_type": "code",
   "execution_count": 58,
   "metadata": {},
   "outputs": [
    {
     "data": {
      "text/html": [
       "<div>\n",
       "<style scoped>\n",
       "    .dataframe tbody tr th:only-of-type {\n",
       "        vertical-align: middle;\n",
       "    }\n",
       "\n",
       "    .dataframe tbody tr th {\n",
       "        vertical-align: top;\n",
       "    }\n",
       "\n",
       "    .dataframe thead th {\n",
       "        text-align: right;\n",
       "    }\n",
       "</style>\n",
       "<table border=\"1\" class=\"dataframe\">\n",
       "  <thead>\n",
       "    <tr style=\"text-align: right;\">\n",
       "      <th></th>\n",
       "      <th>name</th>\n",
       "      <th>age</th>\n",
       "      <th>height</th>\n",
       "    </tr>\n",
       "  </thead>\n",
       "  <tbody>\n",
       "    <tr>\n",
       "      <th>0</th>\n",
       "      <td>민준</td>\n",
       "      <td>23</td>\n",
       "      <td>175.3</td>\n",
       "    </tr>\n",
       "    <tr>\n",
       "      <th>1</th>\n",
       "      <td>현우</td>\n",
       "      <td>43</td>\n",
       "      <td>180.3</td>\n",
       "    </tr>\n",
       "    <tr>\n",
       "      <th>2</th>\n",
       "      <td>서연</td>\n",
       "      <td>12</td>\n",
       "      <td>165.8</td>\n",
       "    </tr>\n",
       "    <tr>\n",
       "      <th>3</th>\n",
       "      <td>동현</td>\n",
       "      <td>45</td>\n",
       "      <td>172.7</td>\n",
       "    </tr>\n",
       "  </tbody>\n",
       "</table>\n",
       "</div>"
      ],
      "text/plain": [
       "  name  age  height\n",
       "0   민준   23   175.3\n",
       "1   현우   43   180.3\n",
       "2   서연   12   165.8\n",
       "3   동현   45   172.7"
      ]
     },
     "execution_count": 58,
     "metadata": {},
     "output_type": "execute_result"
    }
   ],
   "source": [
    "data = {'age' : [23, 43, 12, 45],\n",
    "       'name' : ['민준', '현우', '서연', '동현'],\n",
    "       'height' : [175.3, 180.3, 165.8, 172.7]}\n",
    "x = pd.DataFrame(data, columns = ['name', 'age', 'height'])\n",
    "x"
   ]
  },
  {
   "cell_type": "code",
   "execution_count": 59,
   "metadata": {},
   "outputs": [
    {
     "data": {
      "text/plain": [
       "0    민준\n",
       "1    현우\n",
       "2    서연\n",
       "3    동현\n",
       "Name: name, dtype: object"
      ]
     },
     "execution_count": 59,
     "metadata": {},
     "output_type": "execute_result"
    }
   ],
   "source": [
    "x.name"
   ]
  },
  {
   "cell_type": "markdown",
   "metadata": {},
   "source": [
    "- 특정한 위치의 내용들을 출력하기 위해 iloc()메소드를 사용하여 특정한 행이나 위치의 내용들을 지정하여 출력 가능"
   ]
  },
  {
   "cell_type": "code",
   "execution_count": 60,
   "metadata": {},
   "outputs": [
    {
     "data": {
      "text/html": [
       "<div>\n",
       "<style scoped>\n",
       "    .dataframe tbody tr th:only-of-type {\n",
       "        vertical-align: middle;\n",
       "    }\n",
       "\n",
       "    .dataframe tbody tr th {\n",
       "        vertical-align: top;\n",
       "    }\n",
       "\n",
       "    .dataframe thead th {\n",
       "        text-align: right;\n",
       "    }\n",
       "</style>\n",
       "<table border=\"1\" class=\"dataframe\">\n",
       "  <thead>\n",
       "    <tr style=\"text-align: right;\">\n",
       "      <th></th>\n",
       "      <th>First</th>\n",
       "      <th>Second</th>\n",
       "    </tr>\n",
       "  </thead>\n",
       "  <tbody>\n",
       "    <tr>\n",
       "      <th>0</th>\n",
       "      <td>1</td>\n",
       "      <td>2</td>\n",
       "    </tr>\n",
       "    <tr>\n",
       "      <th>1</th>\n",
       "      <td>3</td>\n",
       "      <td>4</td>\n",
       "    </tr>\n",
       "    <tr>\n",
       "      <th>2</th>\n",
       "      <td>5</td>\n",
       "      <td>6</td>\n",
       "    </tr>\n",
       "  </tbody>\n",
       "</table>\n",
       "</div>"
      ],
      "text/plain": [
       "   First  Second\n",
       "0      1       2\n",
       "1      3       4\n",
       "2      5       6"
      ]
     },
     "execution_count": 60,
     "metadata": {},
     "output_type": "execute_result"
    }
   ],
   "source": [
    "ary = [[1, 2], [3, 4], [5, 6]]\n",
    "data = pd.DataFrame(ary, columns = ['First', 'Second'])\n",
    "data"
   ]
  },
  {
   "cell_type": "code",
   "execution_count": 62,
   "metadata": {},
   "outputs": [
    {
     "data": {
      "text/plain": [
       "First     3\n",
       "Second    4\n",
       "Name: 1, dtype: int64"
      ]
     },
     "execution_count": 62,
     "metadata": {},
     "output_type": "execute_result"
    }
   ],
   "source": [
    "data.iloc[1]"
   ]
  },
  {
   "cell_type": "code",
   "execution_count": 64,
   "metadata": {},
   "outputs": [
    {
     "data": {
      "text/plain": [
       "0    2\n",
       "1    4\n",
       "2    6\n",
       "Name: Second, dtype: int64"
      ]
     },
     "execution_count": 64,
     "metadata": {},
     "output_type": "execute_result"
    }
   ],
   "source": [
    "data.iloc[:, -1]"
   ]
  },
  {
   "cell_type": "markdown",
   "metadata": {},
   "source": [
    "#### head()\n",
    "- 첫행부터 입력한 수만큼의 행 출력"
   ]
  },
  {
   "cell_type": "code",
   "execution_count": 65,
   "metadata": {},
   "outputs": [
    {
     "data": {
      "text/html": [
       "<div>\n",
       "<style scoped>\n",
       "    .dataframe tbody tr th:only-of-type {\n",
       "        vertical-align: middle;\n",
       "    }\n",
       "\n",
       "    .dataframe tbody tr th {\n",
       "        vertical-align: top;\n",
       "    }\n",
       "\n",
       "    .dataframe thead th {\n",
       "        text-align: right;\n",
       "    }\n",
       "</style>\n",
       "<table border=\"1\" class=\"dataframe\">\n",
       "  <thead>\n",
       "    <tr style=\"text-align: right;\">\n",
       "      <th></th>\n",
       "      <th>First</th>\n",
       "      <th>Second</th>\n",
       "    </tr>\n",
       "  </thead>\n",
       "  <tbody>\n",
       "    <tr>\n",
       "      <th>0</th>\n",
       "      <td>1</td>\n",
       "      <td>2</td>\n",
       "    </tr>\n",
       "    <tr>\n",
       "      <th>1</th>\n",
       "      <td>3</td>\n",
       "      <td>4</td>\n",
       "    </tr>\n",
       "    <tr>\n",
       "      <th>2</th>\n",
       "      <td>5</td>\n",
       "      <td>6</td>\n",
       "    </tr>\n",
       "  </tbody>\n",
       "</table>\n",
       "</div>"
      ],
      "text/plain": [
       "   First  Second\n",
       "0      1       2\n",
       "1      3       4\n",
       "2      5       6"
      ]
     },
     "execution_count": 65,
     "metadata": {},
     "output_type": "execute_result"
    }
   ],
   "source": [
    "ary = [[1, 2], [3, 4], [5, 6], [7, 8], [9, 10]]\n",
    "data = pd.DataFrame(ary, columns = ['First', 'Second'])\n",
    "data.head(3)"
   ]
  },
  {
   "cell_type": "markdown",
   "metadata": {},
   "source": [
    "#### tail()\n",
    "- 마지막 행부터 입력한 수만큼의 행 출력"
   ]
  },
  {
   "cell_type": "code",
   "execution_count": 66,
   "metadata": {},
   "outputs": [
    {
     "data": {
      "text/html": [
       "<div>\n",
       "<style scoped>\n",
       "    .dataframe tbody tr th:only-of-type {\n",
       "        vertical-align: middle;\n",
       "    }\n",
       "\n",
       "    .dataframe tbody tr th {\n",
       "        vertical-align: top;\n",
       "    }\n",
       "\n",
       "    .dataframe thead th {\n",
       "        text-align: right;\n",
       "    }\n",
       "</style>\n",
       "<table border=\"1\" class=\"dataframe\">\n",
       "  <thead>\n",
       "    <tr style=\"text-align: right;\">\n",
       "      <th></th>\n",
       "      <th>First</th>\n",
       "      <th>Second</th>\n",
       "    </tr>\n",
       "  </thead>\n",
       "  <tbody>\n",
       "    <tr>\n",
       "      <th>2</th>\n",
       "      <td>5</td>\n",
       "      <td>6</td>\n",
       "    </tr>\n",
       "    <tr>\n",
       "      <th>3</th>\n",
       "      <td>7</td>\n",
       "      <td>8</td>\n",
       "    </tr>\n",
       "    <tr>\n",
       "      <th>4</th>\n",
       "      <td>9</td>\n",
       "      <td>10</td>\n",
       "    </tr>\n",
       "  </tbody>\n",
       "</table>\n",
       "</div>"
      ],
      "text/plain": [
       "   First  Second\n",
       "2      5       6\n",
       "3      7       8\n",
       "4      9      10"
      ]
     },
     "execution_count": 66,
     "metadata": {},
     "output_type": "execute_result"
    }
   ],
   "source": [
    "data.tail(3)"
   ]
  },
  {
   "cell_type": "markdown",
   "metadata": {},
   "source": [
    "#### 특정 항목만 선택하여 저장하거나 출력\n",
    "- Boolean 값을 이용하여 True인 것은 선택하고 False인 것은 선택하지 않도록 설정"
   ]
  },
  {
   "cell_type": "code",
   "execution_count": 73,
   "metadata": {},
   "outputs": [
    {
     "data": {
      "text/plain": [
       "1     4\n",
       "2     6\n",
       "4    10\n",
       "Name: Second, dtype: int64"
      ]
     },
     "execution_count": 73,
     "metadata": {},
     "output_type": "execute_result"
    }
   ],
   "source": [
    "ary = [[1, 2], [3, 4], [5, 6], [7, 8], [9, 10]]\n",
    "data = pd.DataFrame(ary, columns = ['First', 'Second'])\n",
    "bools = [False, True, True, False, True]\n",
    "data.Second[bools]"
   ]
  },
  {
   "cell_type": "markdown",
   "metadata": {},
   "source": [
    "#### 수학적 메소드를 이용한 계산"
   ]
  },
  {
   "cell_type": "code",
   "execution_count": 75,
   "metadata": {},
   "outputs": [],
   "source": [
    "data = {'age' : [23, 43, 12, 45],\n",
    "       'name' : ['민준', '현우', '서연', '동현'],\n",
    "       'height' : [175.3, 180.3, 165.8, 172.7]}\n",
    "x = pd.DataFrame(data, columns = ['name', 'age', 'height'])"
   ]
  },
  {
   "cell_type": "code",
   "execution_count": 77,
   "metadata": {},
   "outputs": [
    {
     "name": "stdout",
     "output_type": "stream",
     "text": [
      "age        30.750\n",
      "height    173.525\n",
      "dtype: float64\n"
     ]
    }
   ],
   "source": [
    "print(x.mean(axis=0))"
   ]
  },
  {
   "cell_type": "code",
   "execution_count": 78,
   "metadata": {},
   "outputs": [
    {
     "name": "stdout",
     "output_type": "stream",
     "text": [
      "0     99.15\n",
      "1    111.65\n",
      "2     88.90\n",
      "3    108.85\n",
      "dtype: float64\n"
     ]
    }
   ],
   "source": [
    "print(x.mean(axis=1))"
   ]
  },
  {
   "cell_type": "markdown",
   "metadata": {},
   "source": [
    "#### Pandas의 데이터형\n",
    "- objects : 문자 또는 문자열형\n",
    "- int64 : 정수형\n",
    "- float64 : 실수형"
   ]
  },
  {
   "cell_type": "code",
   "execution_count": 79,
   "metadata": {},
   "outputs": [
    {
     "data": {
      "text/html": [
       "<div>\n",
       "<style scoped>\n",
       "    .dataframe tbody tr th:only-of-type {\n",
       "        vertical-align: middle;\n",
       "    }\n",
       "\n",
       "    .dataframe tbody tr th {\n",
       "        vertical-align: top;\n",
       "    }\n",
       "\n",
       "    .dataframe thead th {\n",
       "        text-align: right;\n",
       "    }\n",
       "</style>\n",
       "<table border=\"1\" class=\"dataframe\">\n",
       "  <thead>\n",
       "    <tr style=\"text-align: right;\">\n",
       "      <th></th>\n",
       "      <th>수온</th>\n",
       "      <th>상온</th>\n",
       "    </tr>\n",
       "  </thead>\n",
       "  <tbody>\n",
       "    <tr>\n",
       "      <th>0</th>\n",
       "      <td>1</td>\n",
       "      <td>2</td>\n",
       "    </tr>\n",
       "    <tr>\n",
       "      <th>1</th>\n",
       "      <td>3</td>\n",
       "      <td>4</td>\n",
       "    </tr>\n",
       "    <tr>\n",
       "      <th>2</th>\n",
       "      <td>5</td>\n",
       "      <td>6</td>\n",
       "    </tr>\n",
       "    <tr>\n",
       "      <th>3</th>\n",
       "      <td>7</td>\n",
       "      <td>8</td>\n",
       "    </tr>\n",
       "    <tr>\n",
       "      <th>4</th>\n",
       "      <td>9</td>\n",
       "      <td>10</td>\n",
       "    </tr>\n",
       "  </tbody>\n",
       "</table>\n",
       "</div>"
      ],
      "text/plain": [
       "   수온  상온\n",
       "0   1   2\n",
       "1   3   4\n",
       "2   5   6\n",
       "3   7   8\n",
       "4   9  10"
      ]
     },
     "execution_count": 79,
     "metadata": {},
     "output_type": "execute_result"
    }
   ],
   "source": [
    "ary = [[1, 2], [3, 4], [5, 6], [7, 8], [9, 10]]\n",
    "data = pd.DataFrame(ary, columns = ['수온', '상온'])\n",
    "data"
   ]
  },
  {
   "cell_type": "markdown",
   "metadata": {},
   "source": [
    "#### Pandas 데이터의 형변환\n",
    "- astype() 메소드 사용"
   ]
  },
  {
   "cell_type": "code",
   "execution_count": 80,
   "metadata": {},
   "outputs": [
    {
     "data": {
      "text/html": [
       "<div>\n",
       "<style scoped>\n",
       "    .dataframe tbody tr th:only-of-type {\n",
       "        vertical-align: middle;\n",
       "    }\n",
       "\n",
       "    .dataframe tbody tr th {\n",
       "        vertical-align: top;\n",
       "    }\n",
       "\n",
       "    .dataframe thead th {\n",
       "        text-align: right;\n",
       "    }\n",
       "</style>\n",
       "<table border=\"1\" class=\"dataframe\">\n",
       "  <thead>\n",
       "    <tr style=\"text-align: right;\">\n",
       "      <th></th>\n",
       "      <th>수온</th>\n",
       "      <th>상온</th>\n",
       "    </tr>\n",
       "  </thead>\n",
       "  <tbody>\n",
       "    <tr>\n",
       "      <th>0</th>\n",
       "      <td>1.0</td>\n",
       "      <td>2</td>\n",
       "    </tr>\n",
       "    <tr>\n",
       "      <th>1</th>\n",
       "      <td>3.0</td>\n",
       "      <td>4</td>\n",
       "    </tr>\n",
       "    <tr>\n",
       "      <th>2</th>\n",
       "      <td>5.0</td>\n",
       "      <td>6</td>\n",
       "    </tr>\n",
       "    <tr>\n",
       "      <th>3</th>\n",
       "      <td>7.0</td>\n",
       "      <td>8</td>\n",
       "    </tr>\n",
       "    <tr>\n",
       "      <th>4</th>\n",
       "      <td>9.0</td>\n",
       "      <td>10</td>\n",
       "    </tr>\n",
       "  </tbody>\n",
       "</table>\n",
       "</div>"
      ],
      "text/plain": [
       "    수온  상온\n",
       "0  1.0   2\n",
       "1  3.0   4\n",
       "2  5.0   6\n",
       "3  7.0   8\n",
       "4  9.0  10"
      ]
     },
     "execution_count": 80,
     "metadata": {},
     "output_type": "execute_result"
    }
   ],
   "source": [
    "data['수온'] = data['수온'].astype('float')\n",
    "data"
   ]
  },
  {
   "cell_type": "markdown",
   "metadata": {},
   "source": [
    "### csv/txt 파일 가져와서 pandas 형식으로 저장"
   ]
  },
  {
   "cell_type": "code",
   "execution_count": null,
   "metadata": {},
   "outputs": [],
   "source": [
    "food = pd.read_csv('food.csv')"
   ]
  },
  {
   "cell_type": "code",
   "execution_count": null,
   "metadata": {},
   "outputs": [],
   "source": [
    "accident = pd.read_csv('acci.csv')\n",
    "# 오류 발생 시\n",
    "accident = pd.read_csv('acci.csv', engine = 'python')"
   ]
  }
 ],
 "metadata": {
  "kernelspec": {
   "display_name": "Python 3",
   "language": "python",
   "name": "python3"
  },
  "language_info": {
   "codemirror_mode": {
    "name": "ipython",
    "version": 3
   },
   "file_extension": ".py",
   "mimetype": "text/x-python",
   "name": "python",
   "nbconvert_exporter": "python",
   "pygments_lexer": "ipython3",
   "version": "3.8.3"
  }
 },
 "nbformat": 4,
 "nbformat_minor": 4
}
