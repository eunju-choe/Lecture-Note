{
 "cells": [
  {
   "cell_type": "markdown",
   "metadata": {},
   "source": [
    "# CHAPTER 01_파이썬 들여다보기 "
   ]
  },
  {
   "cell_type": "markdown",
   "metadata": {},
   "source": [
    "# ================================"
   ]
  },
  {
   "cell_type": "markdown",
   "metadata": {},
   "source": [
    "# CHAPTER 02_미리 만드는 쓸 만한 프로그램"
   ]
  },
  {
   "cell_type": "markdown",
   "metadata": {},
   "source": [
    "## SECTION 02_계산기 프로그램의 기본 기능 구현"
   ]
  },
  {
   "cell_type": "markdown",
   "metadata": {},
   "source": [
    "### 1. 필요한 변수 준비"
   ]
  },
  {
   "cell_type": "code",
   "execution_count": 2,
   "metadata": {},
   "outputs": [],
   "source": [
    "a = 100\n",
    "b = 50"
   ]
  },
  {
   "cell_type": "markdown",
   "metadata": {},
   "source": [
    "### 2. 더하기 기능 구현"
   ]
  },
  {
   "cell_type": "code",
   "execution_count": 4,
   "metadata": {},
   "outputs": [
    {
     "name": "stdout",
     "output_type": "stream",
     "text": [
      "150\n"
     ]
    }
   ],
   "source": [
    "a = 100\n",
    "b = 50\n",
    "result = a + b\n",
    "print(result)"
   ]
  },
  {
   "cell_type": "code",
   "execution_count": 5,
   "metadata": {},
   "outputs": [
    {
     "name": "stdout",
     "output_type": "stream",
     "text": [
      "100 + 50 = 150\n"
     ]
    }
   ],
   "source": [
    "print(a, \"+\", b, \"=\", result)"
   ]
  },
  {
   "cell_type": "markdown",
   "metadata": {},
   "source": [
    "### 3. 빼기, 곱하기, 나누기 기능 구현"
   ]
  },
  {
   "cell_type": "code",
   "execution_count": 6,
   "metadata": {},
   "outputs": [
    {
     "name": "stdout",
     "output_type": "stream",
     "text": [
      "100 - 50 = 50\n"
     ]
    }
   ],
   "source": [
    "result = a - b\n",
    "print(a, \"-\", b, \"=\", result)"
   ]
  },
  {
   "cell_type": "code",
   "execution_count": 7,
   "metadata": {},
   "outputs": [
    {
     "name": "stdout",
     "output_type": "stream",
     "text": [
      "100 * 50 = 5000\n"
     ]
    }
   ],
   "source": [
    "result = a * b\n",
    "print(a, \"*\", b, \"=\", result)"
   ]
  },
  {
   "cell_type": "code",
   "execution_count": 8,
   "metadata": {},
   "outputs": [
    {
     "name": "stdout",
     "output_type": "stream",
     "text": [
      "100 / 50 = 2.0\n"
     ]
    }
   ],
   "source": [
    "result = a / b\n",
    "print(a, \"/\", b, \"=\", result)"
   ]
  },
  {
   "cell_type": "markdown",
   "metadata": {},
   "source": [
    "## SECTION 04_계산기 프로그램 확장"
   ]
  },
  {
   "cell_type": "markdown",
   "metadata": {},
   "source": [
    "### 3. int() 함수를 사용해 정수로 변환"
   ]
  },
  {
   "cell_type": "code",
   "execution_count": 12,
   "metadata": {},
   "outputs": [
    {
     "name": "stdout",
     "output_type": "stream",
     "text": [
      "100\n",
      "100\n"
     ]
    }
   ],
   "source": [
    "print(int(\"100\"))\n",
    "print(int(100.123))"
   ]
  },
  {
   "cell_type": "code",
   "execution_count": 14,
   "metadata": {
    "scrolled": true
   },
   "outputs": [
    {
     "name": "stdout",
     "output_type": "stream",
     "text": [
      "첫 번째 숫자를 입력하세요 : 10\n",
      "두 번째 숫자를 입력하세요 : 2\n",
      "10 + 2 = 12\n",
      "10 - 2 = 8\n",
      "10 * 2 = 20\n",
      "10 / 2 = 5.0\n"
     ]
    }
   ],
   "source": [
    "a = int(input('첫 번째 숫자를 입력하세요 : '))\n",
    "b = int(input('두 번째 숫자를 입력하세요 : '))\n",
    "result = a + b\n",
    "print(a, \"+\", b, \"=\", result)\n",
    "result = a - b\n",
    "print(a, \"-\", b, \"=\", result)\n",
    "result = a * b\n",
    "print(a, \"*\", b, \"=\", result)\n",
    "result = a / b\n",
    "print(a, \"/\", b, \"=\", result)"
   ]
  },
  {
   "cell_type": "markdown",
   "metadata": {},
   "source": [
    "## SECTION 05_터틀 그래픽 프로그램 작성"
   ]
  },
  {
   "cell_type": "code",
   "execution_count": 4,
   "metadata": {},
   "outputs": [],
   "source": [
    "import turtle\n",
    "import random\n",
    "\n",
    "# 함수 선언 부분\n",
    "def screenLeftClick(x, y) :\n",
    "    global r, g, b\n",
    "    turtle.pencolor((r, g, b))\n",
    "    turtle.pendown()\n",
    "    turtle.goto(x, y)\n",
    "    \n",
    "def screenRightClick(x, y):\n",
    "    turtle.penup()\n",
    "    turtle.goto(x, y)\n",
    "\n",
    "def screenMidClick(x, y) :\n",
    "    global r, g, b\n",
    "    tSize = random.randrange(1, 10)\n",
    "    turtle.shapesize(tSize)\n",
    "    r = random.random()\n",
    "    g = random.random()\n",
    "    b = random.random()\n",
    "\n",
    "# 변수 선언 부분\n",
    "pSize = 10\n",
    "r, g, b = 0.0, 0.0, 0.0\n",
    "\n",
    "# 메인 코드 부분\n",
    "turtle.title('거북이로 그림 그리기')\n",
    "turtle.shape('turtle')\n",
    "turtle.pensize(pSize)\n",
    "\n",
    "turtle.onscreenclick(screenLeftClick, 1)\n",
    "turtle.onscreenclick(screenMidClick, 2)\n",
    "turtle.onscreenclick(screenRightClick, 3)\n",
    "\n",
    "turtle.done()"
   ]
  },
  {
   "cell_type": "markdown",
   "metadata": {},
   "source": [
    "# ================================"
   ]
  },
  {
   "cell_type": "markdown",
   "metadata": {},
   "source": [
    "# CHAPTER 03_변수와 데이터형"
   ]
  },
  {
   "cell_type": "markdown",
   "metadata": {},
   "source": [
    "## SECTION 02_print() 함수를 사용한 다양한 출력"
   ]
  },
  {
   "cell_type": "markdown",
   "metadata": {},
   "source": [
    "### 1. print() 함수의 서식"
   ]
  },
  {
   "cell_type": "code",
   "execution_count": 1,
   "metadata": {},
   "outputs": [
    {
     "name": "stdout",
     "output_type": "stream",
     "text": [
      "안녕하세요?\n"
     ]
    }
   ],
   "source": [
    "print(\"안녕하세요?\")"
   ]
  },
  {
   "cell_type": "code",
   "execution_count": 4,
   "metadata": {},
   "outputs": [
    {
     "name": "stdout",
     "output_type": "stream",
     "text": [
      "100\n",
      "100\n"
     ]
    }
   ],
   "source": [
    "print(\"100\")\n",
    "print(\"%d\" % 100)"
   ]
  },
  {
   "cell_type": "code",
   "execution_count": 5,
   "metadata": {},
   "outputs": [
    {
     "name": "stdout",
     "output_type": "stream",
     "text": [
      "100 + 100\n",
      "200\n"
     ]
    }
   ],
   "source": [
    "print(\"100 + 100\")\n",
    "print(\"%d\" % (100 + 100))"
   ]
  },
  {
   "cell_type": "code",
   "execution_count": 6,
   "metadata": {},
   "outputs": [
    {
     "name": "stdout",
     "output_type": "stream",
     "text": [
      "100 200\n"
     ]
    }
   ],
   "source": [
    "print(\"%d %d\" % (100, 200))"
   ]
  },
  {
   "cell_type": "markdown",
   "metadata": {},
   "source": [
    "### 2. print() 함수를 사용한 다양한 출력"
   ]
  },
  {
   "cell_type": "code",
   "execution_count": 7,
   "metadata": {},
   "outputs": [
    {
     "name": "stdout",
     "output_type": "stream",
     "text": [
      "100 / 200 = 0\n"
     ]
    }
   ],
   "source": [
    "print(\"%d / %d = %d\" % (100, 200, 0.5))"
   ]
  },
  {
   "attachments": {
    "image.png": {
     "image/png": "[encoded data removed]"
    }
   },
   "cell_type": "markdown",
   "metadata": {},
   "source": [
    "![image.png](attachment:image.png)"
   ]
  },
  {
   "cell_type": "code",
   "execution_count": 9,
   "metadata": {},
   "outputs": [
    {
     "name": "stdout",
     "output_type": "stream",
     "text": [
      "100 / 200 = 0.5\n"
     ]
    }
   ],
   "source": [
    "print(\"%d / %d = %0.1f\" % (100, 200, 0.5))"
   ]
  },
  {
   "cell_type": "markdown",
   "metadata": {},
   "source": [
    "### 3. print() 함수를 사용한 깔끔한 출력"
   ]
  },
  {
   "cell_type": "code",
   "execution_count": 10,
   "metadata": {},
   "outputs": [
    {
     "name": "stdout",
     "output_type": "stream",
     "text": [
      "123\n",
      "  123\n",
      "00123\n"
     ]
    }
   ],
   "source": [
    "print(\"%d\" % 123)\n",
    "print(\"%5d\" % 123)\n",
    "print(\"%05d\" % 123)"
   ]
  },
  {
   "cell_type": "code",
   "execution_count": 11,
   "metadata": {},
   "outputs": [
    {
     "name": "stdout",
     "output_type": "stream",
     "text": [
      "123.450000\n",
      "123.5\n",
      "123.450\n"
     ]
    }
   ],
   "source": [
    "print(\"%f\" % 123.45)\n",
    "print(\"%5.1f\" % 123.45)\n",
    "print(\"%5.3f\" % 123.45)"
   ]
  },
  {
   "cell_type": "code",
   "execution_count": 12,
   "metadata": {},
   "outputs": [
    {
     "name": "stdout",
     "output_type": "stream",
     "text": [
      "Python\n",
      "    Python\n"
     ]
    }
   ],
   "source": [
    "print(\"%s\" % \"Python\")\n",
    "print(\"%10s\" % \"Python\")"
   ]
  },
  {
   "cell_type": "code",
   "execution_count": 14,
   "metadata": {},
   "outputs": [
    {
     "name": "stdout",
     "output_type": "stream",
     "text": [
      "123   123 00123\n",
      "123   123 00123\n"
     ]
    }
   ],
   "source": [
    "print(\"%d %5d %05d\" % (123, 123, 123))\n",
    "print(\"{0:d} {1:5d} {2:05d}\".format(123, 123, 123))"
   ]
  },
  {
   "cell_type": "code",
   "execution_count": 15,
   "metadata": {},
   "outputs": [
    {
     "name": "stdout",
     "output_type": "stream",
     "text": [
      "300 200 100\n"
     ]
    }
   ],
   "source": [
    "print(\"{2:d} {1:d} {0:d}\".format(100, 200, 300))"
   ]
  },
  {
   "cell_type": "code",
   "execution_count": 22,
   "metadata": {},
   "outputs": [
    {
     "name": "stdout",
     "output_type": "stream",
     "text": [
      "한 행입니다. 또 한 행입니다.\n",
      "한 행입니다. \n",
      "또 한 행입니다.\n"
     ]
    }
   ],
   "source": [
    "print(\"한 행입니다. 또 한 행입니다.\")\n",
    "print(\"한 행입니다. \\n또 한 행입니다.\")"
   ]
  },
  {
   "attachments": {
    "image.png": {
     "image/png": "[encoded data removed]"
    }
   },
   "cell_type": "markdown",
   "metadata": {},
   "source": [
    "![image.png](attachment:image.png)"
   ]
  },
  {
   "cell_type": "code",
   "execution_count": 25,
   "metadata": {},
   "outputs": [
    {
     "name": "stdout",
     "output_type": "stream",
     "text": [
      "\n",
      "줄바꿈\n",
      "연습\n",
      "\t탭키\t연습\n",
      "글자가 \"강조\"되는 효과1\n",
      "글자가 '강조'되는 효과2\n",
      "\\\\\\ 역슬래시 세 개 출력\n",
      "\\n \\t \\\" \\\\를 그대로 출력\n"
     ]
    }
   ],
   "source": [
    "print(\"\\n줄바꿈\\n연습\")\n",
    "print(\"\\t탭키\\t연습\")\n",
    "print(\"글자가 \\\"강조\\\"되는 효과1\")\n",
    "print(\"글자가 \\'강조\\'되는 효과2\")\n",
    "print(\"\\\\\\\\\\\\ 역슬래시 세 개 출력\")\n",
    "print(r\"\\n \\t \\\" \\\\를 그대로 출력\")"
   ]
  },
  {
   "cell_type": "markdown",
   "metadata": {},
   "source": [
    "### 4. [프로그램 1]의 완성"
   ]
  },
  {
   "cell_type": "code",
   "execution_count": 26,
   "metadata": {
    "scrolled": true
   },
   "outputs": [
    {
     "name": "stdout",
     "output_type": "stream",
     "text": [
      "   *   \n",
      "  ***  \n",
      " ***** \n",
      "*******\n",
      " ***** \n",
      "  ***  \n",
      "   *   \n"
     ]
    }
   ],
   "source": [
    "print(\"   *   \")\n",
    "print(\"  ***  \")\n",
    "print(' ***** ')\n",
    "print('*******')\n",
    "print(' ***** ')\n",
    "print(\"  ***  \")\n",
    "print(\"   *   \")"
   ]
  },
  {
   "cell_type": "markdown",
   "metadata": {},
   "source": [
    "## SECTION 03_변수의 선언과 사용"
   ]
  },
  {
   "cell_type": "markdown",
   "metadata": {},
   "source": [
    "### 1. 변수의 선언"
   ]
  },
  {
   "cell_type": "code",
   "execution_count": 27,
   "metadata": {},
   "outputs": [],
   "source": [
    "boolVar = True\n",
    "intVar = 0\n",
    "floatVar = 0.0\n",
    "strVar = \"\""
   ]
  },
  {
   "cell_type": "code",
   "execution_count": 28,
   "metadata": {},
   "outputs": [
    {
     "data": {
      "text/plain": [
       "bool"
      ]
     },
     "execution_count": 28,
     "metadata": {},
     "output_type": "execute_result"
    }
   ],
   "source": [
    "type(boolVar)"
   ]
  },
  {
   "cell_type": "code",
   "execution_count": 29,
   "metadata": {},
   "outputs": [
    {
     "data": {
      "text/plain": [
       "int"
      ]
     },
     "execution_count": 29,
     "metadata": {},
     "output_type": "execute_result"
    }
   ],
   "source": [
    "type(intVar)"
   ]
  },
  {
   "cell_type": "code",
   "execution_count": 30,
   "metadata": {},
   "outputs": [
    {
     "data": {
      "text/plain": [
       "float"
      ]
     },
     "execution_count": 30,
     "metadata": {},
     "output_type": "execute_result"
    }
   ],
   "source": [
    "type(floatVar)"
   ]
  },
  {
   "cell_type": "code",
   "execution_count": 31,
   "metadata": {},
   "outputs": [
    {
     "data": {
      "text/plain": [
       "str"
      ]
     },
     "execution_count": 31,
     "metadata": {},
     "output_type": "execute_result"
    }
   ],
   "source": [
    "type(strVar)"
   ]
  },
  {
   "cell_type": "markdown",
   "metadata": {},
   "source": [
    "### 2. 변수의 사용"
   ]
  },
  {
   "cell_type": "code",
   "execution_count": 32,
   "metadata": {},
   "outputs": [],
   "source": [
    "boolVar = False\n",
    "intVar = 100\n",
    "floatVar = 123.45\n",
    "strVar = \"안녕\""
   ]
  },
  {
   "cell_type": "code",
   "execution_count": 34,
   "metadata": {},
   "outputs": [
    {
     "name": "stdout",
     "output_type": "stream",
     "text": [
      "200\n"
     ]
    }
   ],
   "source": [
    "var2 = 200\n",
    "var1 = var2\n",
    "print(var2)"
   ]
  },
  {
   "cell_type": "code",
   "execution_count": 35,
   "metadata": {},
   "outputs": [
    {
     "name": "stdout",
     "output_type": "stream",
     "text": [
      "200\n"
     ]
    }
   ],
   "source": [
    "var1 = 100 + 100\n",
    "print(var1)"
   ]
  },
  {
   "cell_type": "code",
   "execution_count": 37,
   "metadata": {},
   "outputs": [
    {
     "name": "stdout",
     "output_type": "stream",
     "text": [
      "300\n"
     ]
    }
   ],
   "source": [
    "var2 = 200\n",
    "var1 = var2 + 100\n",
    "print(var1)"
   ]
  },
  {
   "cell_type": "code",
   "execution_count": 39,
   "metadata": {},
   "outputs": [
    {
     "name": "stdout",
     "output_type": "stream",
     "text": [
      "100 100 100 100\n"
     ]
    }
   ],
   "source": [
    "var1 = var2 = var3 = var4 = 100\n",
    "print(var1, var2, var3, var4)"
   ]
  },
  {
   "cell_type": "code",
   "execution_count": 41,
   "metadata": {},
   "outputs": [
    {
     "name": "stdout",
     "output_type": "stream",
     "text": [
      "200\n"
     ]
    }
   ],
   "source": [
    "var1 = 0\n",
    "var1 = var1 + 200\n",
    "print(var1)"
   ]
  },
  {
   "cell_type": "code",
   "execution_count": 32,
   "metadata": {},
   "outputs": [
    {
     "name": "stdout",
     "output_type": "stream",
     "text": [
      "<class 'int'>\n",
      "<class 'float'>\n"
     ]
    }
   ],
   "source": [
    "myVar = 100\n",
    "print(type(myVar))\n",
    "myVar = 100.0\n",
    "print(type(myVar))"
   ]
  },
  {
   "cell_type": "markdown",
   "metadata": {},
   "source": [
    "## SECTION 04_데이터 표현 단위와 진수 변환"
   ]
  },
  {
   "cell_type": "markdown",
   "metadata": {},
   "source": [
    "### 4. 진수 변환"
   ]
  },
  {
   "cell_type": "code",
   "execution_count": 6,
   "metadata": {},
   "outputs": [
    {
     "data": {
      "text/plain": [
       "147"
      ]
     },
     "execution_count": 6,
     "metadata": {},
     "output_type": "execute_result"
    }
   ],
   "source": [
    "# 2진수 : 숫자 앞에 0b/0B 입력\n",
    "0b10010011"
   ]
  },
  {
   "cell_type": "code",
   "execution_count": 7,
   "metadata": {},
   "outputs": [
    {
     "data": {
      "text/plain": [
       "147"
      ]
     },
     "execution_count": 7,
     "metadata": {},
     "output_type": "execute_result"
    }
   ],
   "source": [
    "int('10010011',2)"
   ]
  },
  {
   "cell_type": "code",
   "execution_count": 9,
   "metadata": {},
   "outputs": [
    {
     "data": {
      "text/plain": [
       "147"
      ]
     },
     "execution_count": 9,
     "metadata": {},
     "output_type": "execute_result"
    }
   ],
   "source": [
    "# 16진수 : 숫자 앞에 0x/0X 입력\n",
    "0x93"
   ]
  },
  {
   "cell_type": "code",
   "execution_count": 10,
   "metadata": {},
   "outputs": [
    {
     "data": {
      "text/plain": [
       "147"
      ]
     },
     "execution_count": 10,
     "metadata": {},
     "output_type": "execute_result"
    }
   ],
   "source": [
    "int('93', 16)"
   ]
  },
  {
   "cell_type": "code",
   "execution_count": 14,
   "metadata": {},
   "outputs": [
    {
     "name": "stdout",
     "output_type": "stream",
     "text": [
      "0b1011\n",
      "0b1001\n",
      "0b10001\n"
     ]
    }
   ],
   "source": [
    "# 2진수로 출력 \n",
    "print(bin(11))\n",
    "print(bin(0o11))\n",
    "print(bin(0x11))"
   ]
  },
  {
   "cell_type": "code",
   "execution_count": 15,
   "metadata": {},
   "outputs": [
    {
     "name": "stdout",
     "output_type": "stream",
     "text": [
      "0o13\n",
      "0o11\n",
      "0o21\n"
     ]
    }
   ],
   "source": [
    "# 8진수로 출력\n",
    "print(oct(11))\n",
    "print(oct(0o11))\n",
    "print(oct(0x11))"
   ]
  },
  {
   "cell_type": "code",
   "execution_count": 16,
   "metadata": {
    "scrolled": true
   },
   "outputs": [
    {
     "name": "stdout",
     "output_type": "stream",
     "text": [
      "0xb\n",
      "0x9\n",
      "0x11\n"
     ]
    }
   ],
   "source": [
    "# 16진수로 출력\n",
    "print(hex(11))\n",
    "print(hex(0o11))\n",
    "print(hex(0x11))"
   ]
  },
  {
   "cell_type": "markdown",
   "metadata": {},
   "source": [
    "### 5. [프로그램 2]의 완성"
   ]
  },
  {
   "cell_type": "code",
   "execution_count": 18,
   "metadata": {
    "scrolled": true
   },
   "outputs": [
    {
     "name": "stdout",
     "output_type": "stream",
     "text": [
      "입력 진수 결정(16/10/8/2) : 16\n",
      "갑 입력 : FF\n",
      "16진수 ==> 0xff\n",
      "10진수 ==> 255\n",
      " 8진수 ==> 0o377\n",
      " 2진수 ==> 0b11111111\n"
     ]
    }
   ],
   "source": [
    "sel = int(input('입력 진수 결정(16/10/8/2) : '))\n",
    "num = input(\"값 입력 : \")\n",
    "\n",
    "if sel == 16:\n",
    "    num10 = int(num, 16)\n",
    "if sel == 10:\n",
    "    num10 = int(num, 10)\n",
    "if sel == 8:\n",
    "    num10 = int(num, 8)\n",
    "if sel == 2:\n",
    "    num10 = int(num, 2)\n",
    "    \n",
    "print(\"16진수 ==>\", hex(num10))\n",
    "print(\"10진수 ==>\", num10)\n",
    "print(\" 8진수 ==>\", oct(num10))\n",
    "print(\" 2진수 ==>\", bin(num10))"
   ]
  },
  {
   "cell_type": "markdown",
   "metadata": {},
   "source": [
    "## SECTION 05_기본 데이터형"
   ]
  },
  {
   "cell_type": "markdown",
   "metadata": {},
   "source": [
    "### 1. 숫자형(정수형과 실수형)"
   ]
  },
  {
   "cell_type": "code",
   "execution_count": 42,
   "metadata": {},
   "outputs": [
    {
     "data": {
      "text/plain": [
       "int"
      ]
     },
     "execution_count": 42,
     "metadata": {},
     "output_type": "execute_result"
    }
   ],
   "source": [
    "a = 123\n",
    "type(a)"
   ]
  },
  {
   "cell_type": "code",
   "execution_count": 34,
   "metadata": {},
   "outputs": [
    {
     "name": "stdout",
     "output_type": "stream",
     "text": [
      "100000000000000000000000000000000000000000000000000000000000000000000000000000000000000000000000000000000000000000000000000000000000000000000000000000000000000000000000000000000000000000000000000000000\n"
     ]
    }
   ],
   "source": [
    "a = 100 ** 100\n",
    "print(a)"
   ]
  },
  {
   "cell_type": "code",
   "execution_count": 45,
   "metadata": {},
   "outputs": [
    {
     "name": "stdout",
     "output_type": "stream",
     "text": [
      "255 63 15\n"
     ]
    }
   ],
   "source": [
    "a = 0xFF\n",
    "b = 0o77\n",
    "c = 0b1111\n",
    "print(a, b, c)"
   ]
  },
  {
   "cell_type": "code",
   "execution_count": 46,
   "metadata": {},
   "outputs": [
    {
     "name": "stdout",
     "output_type": "stream",
     "text": [
      "3.14 314000.0\n"
     ]
    }
   ],
   "source": [
    "a = 3.14\n",
    "b = 3.14e5\n",
    "print(a, b)"
   ]
  },
  {
   "cell_type": "code",
   "execution_count": 49,
   "metadata": {},
   "outputs": [
    {
     "name": "stdout",
     "output_type": "stream",
     "text": [
      "30 -10 200 0.5\n",
      "100000000000000000000 10 0\n"
     ]
    }
   ],
   "source": [
    "a, b = 10, 20\n",
    "print(a + b, a - b, a * b, a / b)\n",
    "print(a ** b, a % b, a // b)"
   ]
  },
  {
   "cell_type": "markdown",
   "metadata": {},
   "source": [
    "### 2. 불형"
   ]
  },
  {
   "cell_type": "code",
   "execution_count": 50,
   "metadata": {},
   "outputs": [
    {
     "data": {
      "text/plain": [
       "bool"
      ]
     },
     "execution_count": 50,
     "metadata": {},
     "output_type": "execute_result"
    }
   ],
   "source": [
    "a = True\n",
    "type(a)"
   ]
  },
  {
   "cell_type": "code",
   "execution_count": 51,
   "metadata": {},
   "outputs": [
    {
     "name": "stdout",
     "output_type": "stream",
     "text": [
      "True False\n"
     ]
    }
   ],
   "source": [
    "a = (100==100)\n",
    "b = (10 > 100)\n",
    "print(a, b)"
   ]
  },
  {
   "cell_type": "markdown",
   "metadata": {},
   "source": [
    "### 3. 문자열"
   ]
  },
  {
   "cell_type": "code",
   "execution_count": 52,
   "metadata": {
    "scrolled": false
   },
   "outputs": [
    {
     "name": "stdout",
     "output_type": "stream",
     "text": [
      "파이썬\n"
     ]
    },
    {
     "data": {
      "text/plain": [
       "str"
      ]
     },
     "execution_count": 52,
     "metadata": {},
     "output_type": "execute_result"
    }
   ],
   "source": [
    "a = '파이썬'\n",
    "a\n",
    "print(a)\n",
    "type(a)"
   ]
  },
  {
   "cell_type": "code",
   "execution_count": 36,
   "metadata": {},
   "outputs": [
    {
     "name": "stdout",
     "output_type": "stream",
     "text": [
      "작은따옴표 ' 출력'\n",
      "큰따옴표 \" 출력\"\n"
     ]
    }
   ],
   "source": [
    "print(\"작은따옴표 ' 출력'\")\n",
    "print('큰따옴표 \" 출력\"')"
   ]
  },
  {
   "cell_type": "code",
   "execution_count": 38,
   "metadata": {},
   "outputs": [
    {
     "name": "stdout",
     "output_type": "stream",
     "text": [
      "큰따옴표 \" 출력\n",
      "작은따옴표 ' 출력\n"
     ]
    }
   ],
   "source": [
    "print('큰따옴표 \\\" 출력')\n",
    "print('작은따옴표 \\' 출력')"
   ]
  },
  {
   "cell_type": "code",
   "execution_count": 40,
   "metadata": {},
   "outputs": [
    {
     "name": "stdout",
     "output_type": "stream",
     "text": [
      "첫줄 \n",
      "두번째줄\n"
     ]
    }
   ],
   "source": [
    "print('첫줄 \\n두번째줄')"
   ]
  },
  {
   "cell_type": "code",
   "execution_count": 41,
   "metadata": {},
   "outputs": [
    {
     "name": "stdout",
     "output_type": "stream",
     "text": [
      "첫줄\n",
      "두번째줄\n"
     ]
    }
   ],
   "source": [
    "print(\"\"\"첫줄\n",
    "두번째줄\"\"\")"
   ]
  },
  {
   "cell_type": "code",
   "execution_count": 42,
   "metadata": {},
   "outputs": [
    {
     "name": "stdout",
     "output_type": "stream",
     "text": [
      "메인 함수 부분이 실행됩니다.\n",
      "함수를 호출함.\n",
      "전역 변수 값 : 100\n"
     ]
    }
   ],
   "source": [
    "# 함수 선언 부분\n",
    "def myFunc() :\n",
    "    print('함수를 호출함.')\n",
    "\n",
    "# 전역 변수 선언 부분\n",
    "gVar = 100\n",
    "\n",
    "# 메인코드 부분\n",
    "if __name__ == '__main__' :\n",
    "    print('메인 함수 부분이 실행됩니다.')\n",
    "    myFunc()\n",
    "    print('전역 변수 값 :', gVar)"
   ]
  },
  {
   "cell_type": "code",
   "execution_count": 43,
   "metadata": {},
   "outputs": [
    {
     "name": "stdout",
     "output_type": "stream",
     "text": [
      "메인 함수 부분이 실행됩니다.\n",
      "함수를 호출함.\n",
      "전역 변수 값 : 100\n"
     ]
    }
   ],
   "source": [
    "def main() :\n",
    "    print('메인 함수 부분이 실행됩니다.')\n",
    "    myFunc()\n",
    "    print('전역 변수 값 :', gVar)\n",
    "    \n",
    "if __name__ == '__main__' :\n",
    "    main()"
   ]
  },
  {
   "cell_type": "markdown",
   "metadata": {},
   "source": [
    "# ================================"
   ]
  },
  {
   "cell_type": "markdown",
   "metadata": {},
   "source": [
    "# CHAPTER 04_연산자"
   ]
  },
  {
   "cell_type": "markdown",
   "metadata": {},
   "source": [
    "## SECTION 02_산술연산자"
   ]
  },
  {
   "cell_type": "markdown",
   "metadata": {},
   "source": [
    "### 1. 산술 연산자의 종류"
   ]
  },
  {
   "attachments": {
    "image.png": {
     "image/png": "[encoded data removed]"
    }
   },
   "cell_type": "markdown",
   "metadata": {},
   "source": [
    "![image.png](attachment:image.png)"
   ]
  },
  {
   "cell_type": "markdown",
   "metadata": {},
   "source": [
    "### 4. 산술 연산자와 대입 연산자"
   ]
  },
  {
   "attachments": {
    "image.png": {
     "image/png": "[encoded data removed]"
    }
   },
   "cell_type": "markdown",
   "metadata": {},
   "source": [
    "![image.png](attachment:image.png)"
   ]
  },
  {
   "cell_type": "markdown",
   "metadata": {},
   "source": [
    "### 5. [프로그램 1]의 완성"
   ]
  },
  {
   "cell_type": "code",
   "execution_count": 4,
   "metadata": {
    "scrolled": true
   },
   "outputs": [
    {
     "name": "stdout",
     "output_type": "stream",
     "text": [
      "교환할 돈은 얼마?4368\n",
      "500원 : 8개\n",
      "100원 : 3개\n",
      "50원 : 1개\n",
      "10원 : 1개\n",
      "바꾸지 못한 잔돈 : 8원\n"
     ]
    }
   ],
   "source": [
    "## 변수 선언 부분 ##\n",
    "money, c500, c100, c50, c10 = 0, 0, 0, 0, 0\n",
    "\n",
    "## 메인 코드 부분 ##\n",
    "money = int(input(\"교환할 돈은 얼마?\"))\n",
    "\n",
    "c500 = money // 500\n",
    "money %= 500\n",
    "\n",
    "c100 = money // 100\n",
    "money %= 100\n",
    "\n",
    "c50 = money // 50\n",
    "money %= 50\n",
    "\n",
    "c10 = money // 10\n",
    "money %= 10\n",
    "\n",
    "print(f'500원 : {c500}개')\n",
    "print(f'100원 : {c100}개')\n",
    "print(f'50원 : {c50}개')\n",
    "print(f'10원 : {c10}개')\n",
    "print(f'바꾸지 못한 잔돈 : {money}원')"
   ]
  },
  {
   "cell_type": "markdown",
   "metadata": {},
   "source": [
    "## SECTION 03_관계 연산자"
   ]
  },
  {
   "attachments": {
    "image.png": {
     "image/png": "[encoded data removed]"
    }
   },
   "cell_type": "markdown",
   "metadata": {},
   "source": [
    "![image.png](attachment:image.png)"
   ]
  },
  {
   "cell_type": "markdown",
   "metadata": {},
   "source": [
    "## SECTION 04_논리 연산자"
   ]
  },
  {
   "attachments": {
    "image.png": {
     "image/png": "[encoded data removed]"
    }
   },
   "cell_type": "markdown",
   "metadata": {},
   "source": [
    "![image.png](attachment:image.png)"
   ]
  },
  {
   "cell_type": "markdown",
   "metadata": {},
   "source": [
    "### 2. [프로그램 2]의 완성"
   ]
  },
  {
   "cell_type": "code",
   "execution_count": 44,
   "metadata": {},
   "outputs": [],
   "source": [
    "import turtle\n",
    "import random\n",
    "\n",
    "## 전역 변수 선언 부분 ##\n",
    "swidth, sheight, pSize, exitCount = 300, 300, 3, 0\n",
    "r, g, b, angle, dist, curX, curY = [0] * 7\n",
    "\n",
    "## 메인 코드 부분 ##\n",
    "turtle.title('거북이가 마음대로 다니기')\n",
    "turtle.shape('turtle')\n",
    "turtle.pensize(pSize)\n",
    "turtle.setup(width = swidth + 30, height = sheight + 30)\n",
    "turtle.screensize(swidth, sheight)\n",
    "\n",
    "while True:\n",
    "    r = random.random()\n",
    "    g = random.random()\n",
    "    b = random.random()\n",
    "    turtle. pencolor((r, g, b))\n",
    "    \n",
    "    angle = random.randrange(0, 360)\n",
    "    dist = random.randrange(1, 100)\n",
    "    turtle.left(angle)\n",
    "    turtle.forward(dist)\n",
    "    curX = turtle.xcor()\n",
    "    curY = turtle.ycor()\n",
    "    \n",
    "    if ((-swidth / 2 <= curX and curX <= swidth / 2) \n",
    "        and (-sheight / 2 <= curY and curY <= sheight / 2)) :\n",
    "        pass\n",
    "    else : \n",
    "        turtle.penup()\n",
    "        turtle.goto(0,0)\n",
    "        turtle.pendown()\n",
    "        \n",
    "        exitCount += 1\n",
    "        if exitCount >=5:\n",
    "            break\n",
    "            \n",
    "turtle.done()"
   ]
  },
  {
   "cell_type": "markdown",
   "metadata": {},
   "source": [
    "## SECTION 05_비트 연산자"
   ]
  },
  {
   "attachments": {
    "image.png": {
     "image/png": "[encoded data removed]"
    }
   },
   "cell_type": "markdown",
   "metadata": {},
   "source": [
    "![image.png](attachment:image.png)"
   ]
  },
  {
   "cell_type": "markdown",
   "metadata": {},
   "source": [
    "# ================================"
   ]
  },
  {
   "cell_type": "markdown",
   "metadata": {},
   "source": [
    "# CHAPTER 05_조건문"
   ]
  },
  {
   "cell_type": "markdown",
   "metadata": {},
   "source": [
    "## SECTION 02_기본 if 문"
   ]
  },
  {
   "cell_type": "markdown",
   "metadata": {},
   "source": [
    "### 1. if 문"
   ]
  },
  {
   "cell_type": "code",
   "execution_count": 32,
   "metadata": {},
   "outputs": [
    {
     "name": "stdout",
     "output_type": "stream",
     "text": [
      "100보다 작다\n"
     ]
    }
   ],
   "source": [
    "a = 99\n",
    "if a < 100 :\n",
    "    print('100보다 작다')"
   ]
  },
  {
   "cell_type": "code",
   "execution_count": 1,
   "metadata": {},
   "outputs": [
    {
     "name": "stdout",
     "output_type": "stream",
     "text": [
      "프로그램 끝\n"
     ]
    }
   ],
   "source": [
    "a = 200\n",
    "if a < 100 :\n",
    "    print('100보다 작다')\n",
    "    print('거짓이면 안보임')\n",
    "    \n",
    "print('프로그램 끝')"
   ]
  },
  {
   "cell_type": "markdown",
   "metadata": {},
   "source": [
    "### 2. if~else 문"
   ]
  },
  {
   "cell_type": "code",
   "execution_count": 2,
   "metadata": {},
   "outputs": [
    {
     "name": "stdout",
     "output_type": "stream",
     "text": [
      "100보다 크다\n"
     ]
    }
   ],
   "source": [
    "a = 200\n",
    "\n",
    "if a <100 :\n",
    "    print('100보다 작다')\n",
    "else :\n",
    "    print('100보다 크다')"
   ]
  },
  {
   "cell_type": "code",
   "execution_count": 35,
   "metadata": {},
   "outputs": [
    {
     "name": "stdout",
     "output_type": "stream",
     "text": [
      "정수를 입력하세요 : 15\n",
      "홀수\n"
     ]
    }
   ],
   "source": [
    "a = int(input('정수를 입력하세요 : '))\n",
    "\n",
    "if a % 2 == 0 :\n",
    "    print('짝수')\n",
    "else :\n",
    "    print('홀수')"
   ]
  },
  {
   "cell_type": "markdown",
   "metadata": {},
   "source": [
    "## SECTION 03_중첩 if 문"
   ]
  },
  {
   "cell_type": "markdown",
   "metadata": {},
   "source": [
    "### 1. if\\~else\\~if\\~else 문"
   ]
  },
  {
   "cell_type": "code",
   "execution_count": 36,
   "metadata": {},
   "outputs": [
    {
     "name": "stdout",
     "output_type": "stream",
     "text": [
      "50보다 크고, 100보다 작다\n"
     ]
    }
   ],
   "source": [
    "a = 75\n",
    "\n",
    "if a > 50 :\n",
    "    if a < 100:\n",
    "        print('50보다 크고, 100보다 작다')\n",
    "    else :\n",
    "        print('100보다 크다')\n",
    "else :\n",
    "    print('50보다 작다')"
   ]
  },
  {
   "cell_type": "code",
   "execution_count": 7,
   "metadata": {},
   "outputs": [
    {
     "name": "stdout",
     "output_type": "stream",
     "text": [
      "점수를 입력하세요 : 85\n",
      "B\n",
      "출력 완료\n"
     ]
    }
   ],
   "source": [
    "score = int(input('점수를 입력하세요 : '))\n",
    "\n",
    "if score >= 90 :\n",
    "    print('A')\n",
    "else : \n",
    "    if score >= 80 :\n",
    "        print('B')\n",
    "    else :\n",
    "        if score >= 70 :\n",
    "            print('C')\n",
    "        else :\n",
    "            if score >= 60 :\n",
    "                print('D')\n",
    "            else :\n",
    "                print('F')\n",
    "                \n",
    "print('출력 완료')"
   ]
  },
  {
   "cell_type": "markdown",
   "metadata": {},
   "source": [
    "### 2. if\\~elif\\~else 문"
   ]
  },
  {
   "cell_type": "code",
   "execution_count": 8,
   "metadata": {},
   "outputs": [
    {
     "name": "stdout",
     "output_type": "stream",
     "text": [
      "점수를 입력하세요 : 85\n",
      "B\n",
      "출력 완료\n"
     ]
    }
   ],
   "source": [
    "score = int(input('점수를 입력하세요 : '))\n",
    "\n",
    "if score >= 90 :\n",
    "    print('A')\n",
    "elif score >= 80 :\n",
    "    print('B')\n",
    "elif score >=70 :\n",
    "    print('C')\n",
    "elif score >= 60 :\n",
    "    print('D')\n",
    "else :\n",
    "    print('F')\n",
    "    \n",
    "print('출력 완료')"
   ]
  },
  {
   "cell_type": "markdown",
   "metadata": {},
   "source": [
    "### 3. 삼항 연산자를 사용한 if 문"
   ]
  },
  {
   "cell_type": "code",
   "execution_count": 9,
   "metadata": {},
   "outputs": [
    {
     "name": "stdout",
     "output_type": "stream",
     "text": [
      "불합격\n"
     ]
    }
   ],
   "source": [
    "score = 55\n",
    "if score >= 60 :\n",
    "    print('합격')\n",
    "else :\n",
    "    print('불합격')"
   ]
  },
  {
   "cell_type": "code",
   "execution_count": 10,
   "metadata": {},
   "outputs": [
    {
     "data": {
      "text/plain": [
       "'불합격'"
      ]
     },
     "execution_count": 10,
     "metadata": {},
     "output_type": "execute_result"
    }
   ],
   "source": [
    "score = 55\n",
    "'합격' if score >= 60 else '불합격'"
   ]
  },
  {
   "cell_type": "markdown",
   "metadata": {},
   "source": [
    "### 4. [프로그램 1]의 완성"
   ]
  },
  {
   "cell_type": "code",
   "execution_count": 12,
   "metadata": {},
   "outputs": [],
   "source": [
    "import turtle\n",
    "\n",
    "swidth, sheight = 500, 500\n",
    "\n",
    "turtle.title('무지개색 원그리기')\n",
    "turtle.shape('turtle')\n",
    "turtle.setup(width = swidth + 50, height = sheight + 50)\n",
    "turtle.screensize(swidth, sheight)\n",
    "turtle.penup()\n",
    "turtle.goto(0, -sheight / 2)\n",
    "turtle.pendown()\n",
    "turtle.speed(0)\n",
    "\n",
    "for radius in range(1, 250) :\n",
    "    if radius % 7 == 1:\n",
    "        turtle.pencolor('red')\n",
    "    elif radius % 7 == 2 :\n",
    "        turtle.pencolor('orange')\n",
    "    elif radius % 7 == 3 :\n",
    "        turtle.pencolor('yellow')\n",
    "    elif radius % 7 == 4 :\n",
    "        turtle.pencolor('green')\n",
    "    elif radius % 7 == 5 :\n",
    "        turtle.pencolor('blue')\n",
    "    elif radius % 7 == 6 :\n",
    "        turtle.pencolor('navyblue')\n",
    "    else :\n",
    "        turtle.pencolor('purple')\n",
    "        \n",
    "    turtle.circle(radius)\n",
    "    \n",
    "turtle.done()"
   ]
  },
  {
   "cell_type": "markdown",
   "metadata": {},
   "source": [
    "## SECTION 04_if 문 응용"
   ]
  },
  {
   "cell_type": "markdown",
   "metadata": {},
   "source": [
    "### 1. 리스트와 함께 사용"
   ]
  },
  {
   "cell_type": "code",
   "execution_count": 13,
   "metadata": {},
   "outputs": [
    {
     "name": "stdout",
     "output_type": "stream",
     "text": [
      "['사과', '배', '딸기', '포도']\n"
     ]
    }
   ],
   "source": [
    "fruit = ['사과', '배', '딸기', '포도']\n",
    "print(fruit)"
   ]
  },
  {
   "cell_type": "code",
   "execution_count": 14,
   "metadata": {},
   "outputs": [
    {
     "name": "stdout",
     "output_type": "stream",
     "text": [
      "['사과', '배', '딸기', '포도', '귤']\n"
     ]
    }
   ],
   "source": [
    "fruit.append('귤')\n",
    "print(fruit)"
   ]
  },
  {
   "cell_type": "code",
   "execution_count": 17,
   "metadata": {},
   "outputs": [
    {
     "name": "stdout",
     "output_type": "stream",
     "text": [
      "있음\n"
     ]
    }
   ],
   "source": [
    "if '딸기' in fruit :\n",
    "    print('있음')"
   ]
  },
  {
   "cell_type": "code",
   "execution_count": 18,
   "metadata": {
    "scrolled": true
   },
   "outputs": [
    {
     "name": "stdout",
     "output_type": "stream",
     "text": [
      "생성된 리스트 :  [2, 6, 0, 2, 5, 5, 4, 7, 5, 3]\n",
      "1 : 리스트에 없다.\n",
      "8 : 리스트에 없다.\n",
      "9 : 리스트에 없다.\n"
     ]
    }
   ],
   "source": [
    "import random\n",
    "\n",
    "numbers = []\n",
    "for num in range(0, 10):\n",
    "    numbers.append(random.randrange(0, 10))\n",
    "    \n",
    "print('생성된 리스트 : ', numbers)\n",
    "\n",
    "for num in range(0, 10):\n",
    "    if num not in numbers :\n",
    "        print(f'{num} : 리스트에 없다.')"
   ]
  },
  {
   "cell_type": "markdown",
   "metadata": {},
   "source": [
    "### 2. [프로그램 2]의 완성"
   ]
  },
  {
   "cell_type": "code",
   "execution_count": 20,
   "metadata": {
    "scrolled": true
   },
   "outputs": [
    {
     "name": "stdout",
     "output_type": "stream",
     "text": [
      "1. 입력한 수식 계산 ; 2. 두 수 사이의 합계 : 2\n",
      " *** 첫 번째 숫자 : 3\n",
      " *** 두 번째 숫자 : 7\n",
      "3+...+7 = 25\n"
     ]
    }
   ],
   "source": [
    "answer = 0\n",
    "\n",
    "select = int(input('1. 입력한 수식 계산 ; 2. 두 수 사이의 합계 : '))\n",
    "\n",
    "if select == 1 :\n",
    "    numStr = input(' *** 수식 입력 : ')\n",
    "    answer = eval(numStr)\n",
    "    print(f'{numStr} 결과 : {answer : .2f}')\n",
    "elif select == 2 :\n",
    "    num1 = int(input(' *** 첫 번째 숫자 : '))\n",
    "    num2 = int(input(' *** 두 번째 숫자 : '))\n",
    "    for i in range(num1, num2 + 1) :\n",
    "        answer += i\n",
    "    print(f'{num1}+...+{num2} = {answer}')\n",
    "else :\n",
    "    print('1 또는 2만 입력')"
   ]
  },
  {
   "cell_type": "markdown",
   "metadata": {},
   "source": [
    "# ================================"
   ]
  },
  {
   "cell_type": "markdown",
   "metadata": {},
   "source": [
    "# CHAPTER 06_반복문"
   ]
  },
  {
   "cell_type": "markdown",
   "metadata": {},
   "source": [
    "## SECTION 02_기본 for 문"
   ]
  },
  {
   "cell_type": "markdown",
   "metadata": {},
   "source": [
    "### 1. 반복문의 개념과 필요성"
   ]
  },
  {
   "cell_type": "code",
   "execution_count": 8,
   "metadata": {},
   "outputs": [
    {
     "name": "stdout",
     "output_type": "stream",
     "text": [
      "안녕하세요\n",
      "안녕하세요\n",
      "안녕하세요\n"
     ]
    }
   ],
   "source": [
    "print('안녕하세요')\n",
    "print('안녕하세요')\n",
    "print('안녕하세요')"
   ]
  },
  {
   "cell_type": "code",
   "execution_count": 9,
   "metadata": {},
   "outputs": [
    {
     "name": "stdout",
     "output_type": "stream",
     "text": [
      "안녕하세요\n",
      "안녕하세요\n",
      "안녕하세요\n"
     ]
    }
   ],
   "source": [
    "for i in range(0, 3, 1):\n",
    "    print('안녕하세요')"
   ]
  },
  {
   "cell_type": "markdown",
   "metadata": {},
   "source": [
    "### 2. for 문의 개념"
   ]
  },
  {
   "cell_type": "code",
   "execution_count": 11,
   "metadata": {},
   "outputs": [
    {
     "name": "stdout",
     "output_type": "stream",
     "text": [
      "0 : 안녕하세요\n",
      "1 : 안녕하세요\n",
      "2 : 안녕하세요\n"
     ]
    }
   ],
   "source": [
    "for i in range(0, 3, 1):\n",
    "    print(f'{i} : 안녕하세요')"
   ]
  },
  {
   "cell_type": "code",
   "execution_count": 13,
   "metadata": {},
   "outputs": [
    {
     "name": "stdout",
     "output_type": "stream",
     "text": [
      "안녕하세요\n",
      "안녕하세요\n",
      "안녕하세요\n"
     ]
    }
   ],
   "source": [
    "for _ in range(0, 3, 1):\n",
    "    print('안녕하세요')"
   ]
  },
  {
   "cell_type": "code",
   "execution_count": 14,
   "metadata": {},
   "outputs": [
    {
     "name": "stdout",
     "output_type": "stream",
     "text": [
      "2 : 안녕하세요\n",
      "1 : 안녕하세요\n",
      "0 : 안녕하세요\n"
     ]
    }
   ],
   "source": [
    "for i in range(2, -1, -1):\n",
    "    print(f'{i} : 안녕하세요')"
   ]
  },
  {
   "cell_type": "markdown",
   "metadata": {},
   "source": [
    "### 3. for 문을 활용한 합계 구하기"
   ]
  },
  {
   "cell_type": "code",
   "execution_count": 21,
   "metadata": {},
   "outputs": [
    {
     "name": "stdout",
     "output_type": "stream",
     "text": [
      "1부터 10까지 합계 :  55\n"
     ]
    }
   ],
   "source": [
    "hap = 0\n",
    "for i in range(1, 11, 1) :\n",
    "    hap += i\n",
    "\n",
    "print('1부터 10까지 합계 : ', hap)"
   ]
  },
  {
   "cell_type": "code",
   "execution_count": 22,
   "metadata": {},
   "outputs": [
    {
     "name": "stdout",
     "output_type": "stream",
     "text": [
      "500~1000사이 홀수의 합 :  187500\n"
     ]
    }
   ],
   "source": [
    "hap = 0\n",
    "\n",
    "for i in range(501, 1001, 2):\n",
    "    hap += i\n",
    "    \n",
    "print('500~1000사이 홀수의 합 : ', hap)"
   ]
  },
  {
   "cell_type": "markdown",
   "metadata": {},
   "source": [
    "### 4. 키보드로 입력한 값까지 합계 구하기"
   ]
  },
  {
   "cell_type": "code",
   "execution_count": 23,
   "metadata": {},
   "outputs": [
    {
     "name": "stdout",
     "output_type": "stream",
     "text": [
      "값을 입력하세요 : 100\n",
      "1부터 100까지의 합계 : 5050\n"
     ]
    }
   ],
   "source": [
    "hap = 0\n",
    "\n",
    "num = int(input('값을 입력하세요 : '))\n",
    "for i in range(num + 1) :\n",
    "    hap += i\n",
    "    \n",
    "print(f'1부터 {num}까지의 합계 : {hap}')"
   ]
  },
  {
   "cell_type": "code",
   "execution_count": 24,
   "metadata": {},
   "outputs": [
    {
     "name": "stdout",
     "output_type": "stream",
     "text": [
      "시작값 : 2\n",
      "끝값 : 300\n",
      "증가값 : 3\n",
      "2부터 300까지 3씩 증가시킨 값의 합계 : 15050\n"
     ]
    }
   ],
   "source": [
    "hap = 0\n",
    "\n",
    "num1 = int(input('시작값 : '))\n",
    "num2 = int(input('끝값 : '))\n",
    "num3 = int(input('증가값 : '))\n",
    "\n",
    "for i in range(num1, num2 + 1, num3) :\n",
    "    hap += i\n",
    "    \n",
    "print(f'{num1}부터 {num2}까지 {num3}씩 증가시킨 값의 합계 : {hap}')"
   ]
  },
  {
   "cell_type": "code",
   "execution_count": 25,
   "metadata": {},
   "outputs": [
    {
     "name": "stdout",
     "output_type": "stream",
     "text": [
      "단을 입력하세요 : 7\n",
      "7 * 1 =  7\n",
      "7 * 2 = 14\n",
      "7 * 3 = 21\n",
      "7 * 4 = 28\n",
      "7 * 5 = 35\n",
      "7 * 6 = 42\n",
      "7 * 7 = 49\n",
      "7 * 8 = 56\n",
      "7 * 9 = 63\n"
     ]
    }
   ],
   "source": [
    "dan = int(input('단을 입력하세요 : '))\n",
    "\n",
    "for i in range(1, 10, 1):\n",
    "    print(f'{dan} * {i} = {dan * i:2d}')"
   ]
  },
  {
   "cell_type": "markdown",
   "metadata": {},
   "source": [
    "## SECTION 03_중첩 for 문"
   ]
  },
  {
   "cell_type": "markdown",
   "metadata": {},
   "source": [
    "### 1. 중첩 for 문의 개념"
   ]
  },
  {
   "cell_type": "code",
   "execution_count": 27,
   "metadata": {},
   "outputs": [
    {
     "name": "stdout",
     "output_type": "stream",
     "text": [
      "i = 0, j = 0\n",
      "i = 0, j = 1\n",
      "i = 1, j = 0\n",
      "i = 1, j = 1\n",
      "i = 2, j = 0\n",
      "i = 2, j = 1\n"
     ]
    }
   ],
   "source": [
    "for i in range(0, 3) :\n",
    "    for j in range(0, 2) :\n",
    "        print(f'i = {i}, j = {j}')"
   ]
  },
  {
   "cell_type": "markdown",
   "metadata": {},
   "source": [
    "### 2. 중첩 for 문의 활용"
   ]
  },
  {
   "cell_type": "code",
   "execution_count": 29,
   "metadata": {
    "collapsed": true
   },
   "outputs": [
    {
     "name": "stdout",
     "output_type": "stream",
     "text": [
      "2 * 1 = 2\n",
      "2 * 2 = 4\n",
      "2 * 3 = 6\n",
      "2 * 4 = 8\n",
      "2 * 5 = 10\n",
      "2 * 6 = 12\n",
      "2 * 7 = 14\n",
      "2 * 8 = 16\n",
      "2 * 9 = 18\n",
      " \n",
      "3 * 1 = 3\n",
      "3 * 2 = 6\n",
      "3 * 3 = 9\n",
      "3 * 4 = 12\n",
      "3 * 5 = 15\n",
      "3 * 6 = 18\n",
      "3 * 7 = 21\n",
      "3 * 8 = 24\n",
      "3 * 9 = 27\n",
      " \n",
      "4 * 1 = 4\n",
      "4 * 2 = 8\n",
      "4 * 3 = 12\n",
      "4 * 4 = 16\n",
      "4 * 5 = 20\n",
      "4 * 6 = 24\n",
      "4 * 7 = 28\n",
      "4 * 8 = 32\n",
      "4 * 9 = 36\n",
      " \n",
      "5 * 1 = 5\n",
      "5 * 2 = 10\n",
      "5 * 3 = 15\n",
      "5 * 4 = 20\n",
      "5 * 5 = 25\n",
      "5 * 6 = 30\n",
      "5 * 7 = 35\n",
      "5 * 8 = 40\n",
      "5 * 9 = 45\n",
      " \n",
      "6 * 1 = 6\n",
      "6 * 2 = 12\n",
      "6 * 3 = 18\n",
      "6 * 4 = 24\n",
      "6 * 5 = 30\n",
      "6 * 6 = 36\n",
      "6 * 7 = 42\n",
      "6 * 8 = 48\n",
      "6 * 9 = 54\n",
      " \n",
      "7 * 1 = 7\n",
      "7 * 2 = 14\n",
      "7 * 3 = 21\n",
      "7 * 4 = 28\n",
      "7 * 5 = 35\n",
      "7 * 6 = 42\n",
      "7 * 7 = 49\n",
      "7 * 8 = 56\n",
      "7 * 9 = 63\n",
      " \n",
      "8 * 1 = 8\n",
      "8 * 2 = 16\n",
      "8 * 3 = 24\n",
      "8 * 4 = 32\n",
      "8 * 5 = 40\n",
      "8 * 6 = 48\n",
      "8 * 7 = 56\n",
      "8 * 8 = 64\n",
      "8 * 9 = 72\n",
      " \n",
      "9 * 1 = 9\n",
      "9 * 2 = 18\n",
      "9 * 3 = 27\n",
      "9 * 4 = 36\n",
      "9 * 5 = 45\n",
      "9 * 6 = 54\n",
      "9 * 7 = 63\n",
      "9 * 8 = 72\n",
      "9 * 9 = 81\n",
      " \n"
     ]
    }
   ],
   "source": [
    "for i in range(2, 10) :\n",
    "    for j in range(1, 10) :\n",
    "        print(f'{i} * {j} = {i * j}')\n",
    "    print(' ')"
   ]
  },
  {
   "cell_type": "markdown",
   "metadata": {},
   "source": [
    "### 3. [프로그램 1]의 완성"
   ]
  },
  {
   "cell_type": "code",
   "execution_count": 53,
   "metadata": {},
   "outputs": [
    {
     "name": "stdout",
     "output_type": "stream",
     "text": [
      "#   2단  #  #   3단  #  #   4단  #  #   5단  #  #   6단  #  #   7단  #  #   8단  #  #   9단  #  \n",
      " 2 * 0=   0  3 * 0=   0  4 * 0=   0  5 * 0=   0  6 * 0=   0  7 * 0=   0  8 * 0=   0  9 * 0=   0 \n",
      " 2 * 1=   2  3 * 1=   3  4 * 1=   4  5 * 1=   5  6 * 1=   6  7 * 1=   7  8 * 1=   8  9 * 1=   9 \n",
      " 2 * 2=   4  3 * 2=   6  4 * 2=   8  5 * 2=  10  6 * 2=  12  7 * 2=  14  8 * 2=  16  9 * 2=  18 \n",
      " 2 * 3=   6  3 * 3=   9  4 * 3=  12  5 * 3=  15  6 * 3=  18  7 * 3=  21  8 * 3=  24  9 * 3=  27 \n",
      " 2 * 4=   8  3 * 4=  12  4 * 4=  16  5 * 4=  20  6 * 4=  24  7 * 4=  28  8 * 4=  32  9 * 4=  36 \n",
      " 2 * 5=  10  3 * 5=  15  4 * 5=  20  5 * 5=  25  6 * 5=  30  7 * 5=  35  8 * 5=  40  9 * 5=  45 \n",
      " 2 * 6=  12  3 * 6=  18  4 * 6=  24  5 * 6=  30  6 * 6=  36  7 * 6=  42  8 * 6=  48  9 * 6=  54 \n",
      " 2 * 7=  14  3 * 7=  21  4 * 7=  28  5 * 7=  35  6 * 7=  42  7 * 7=  49  8 * 7=  56  9 * 7=  63 \n",
      " 2 * 8=  16  3 * 8=  24  4 * 8=  32  5 * 8=  40  6 * 8=  48  7 * 8=  56  8 * 8=  64  9 * 8=  72 \n",
      " 2 * 9=  18  3 * 9=  27  4 * 9=  36  5 * 9=  45  6 * 9=  54  7 * 9=  63  8 * 9=  72  9 * 9=  81 \n"
     ]
    }
   ],
   "source": [
    "line = ''\n",
    "for i in range(2, 10):\n",
    "    line += f'#   {i}단  #  '\n",
    "    \n",
    "print(line)\n",
    "\n",
    "for i in range(10):\n",
    "    line = ''\n",
    "    for j in range(2, 10):\n",
    "        line += f'{j : 2d} *{i : 2d}= {i * j : 3d} '\n",
    "    print(line)"
   ]
  },
  {
   "cell_type": "markdown",
   "metadata": {},
   "source": [
    "## SECTION 04_while 문"
   ]
  },
  {
   "cell_type": "markdown",
   "metadata": {},
   "source": [
    "### 1. for 문과 while 문 비교"
   ]
  },
  {
   "cell_type": "code",
   "execution_count": 2,
   "metadata": {},
   "outputs": [
    {
     "name": "stdout",
     "output_type": "stream",
     "text": [
      "0 : 안녕하세요\n",
      "1 : 안녕하세요\n",
      "2 : 안녕하세요\n"
     ]
    }
   ],
   "source": [
    "for i in range(0, 3) :\n",
    "    print(f'{i} : 안녕하세요')"
   ]
  },
  {
   "cell_type": "code",
   "execution_count": 4,
   "metadata": {},
   "outputs": [
    {
     "name": "stdout",
     "output_type": "stream",
     "text": [
      "0 : 안녕하세요\n",
      "1 : 안녕하세요\n",
      "2 : 안녕하세요\n"
     ]
    }
   ],
   "source": [
    "i = 0\n",
    "while i < 3 :\n",
    "    print(f'{i} : 안녕하세요')\n",
    "    i += 1"
   ]
  },
  {
   "cell_type": "code",
   "execution_count": 54,
   "metadata": {
    "scrolled": true
   },
   "outputs": [
    {
     "name": "stdout",
     "output_type": "stream",
     "text": [
      "1에서 10까지의 합계 : 55\n"
     ]
    }
   ],
   "source": [
    "hap = 0 \n",
    "\n",
    "i = 1\n",
    "while i < 11 :\n",
    "    hap += i\n",
    "    i += 1\n",
    "    \n",
    "print('1에서 10까지의 합계 :', hap)"
   ]
  },
  {
   "cell_type": "markdown",
   "metadata": {},
   "source": [
    "### 2. 무한 루프를 하는 while 문"
   ]
  },
  {
   "cell_type": "raw",
   "metadata": {
    "collapsed": true
   },
   "source": [
    "while True :\n",
    "    print('ㅋ', end='')"
   ]
  },
  {
   "cell_type": "raw",
   "metadata": {
    "collapsed": true
   },
   "source": [
    "hap = 0\n",
    "a = 0\n",
    "b = 0\n",
    "\n",
    "while True :\n",
    "    a = int(input('더할 첫 번째 수를 입력하세요 : '))\n",
    "    b = int(input('더할 두 번째 수를 입력하세요 : '))\n",
    "    hap = a + b\n",
    "    print(f'{a} + {b} = {hap}')"
   ]
  },
  {
   "cell_type": "raw",
   "metadata": {
    "collapsed": true
   },
   "source": [
    "ch = ''\n",
    "a = 0\n",
    "b = 0\n",
    "\n",
    "while True :\n",
    "    a = int(input('계산할 첫 번째 수를 입력하세요 : '))\n",
    "    b = int(input('계산할 첫 번째 수를 입력하세요 : '))\n",
    "    ch = input('계산할 연산자를 입력하세요 : ')\n",
    "    \n",
    "    if (ch == '+') :\n",
    "        print(f'{a} + {b} = {a + b}')\n",
    "    elif (ch == '-') :\n",
    "        print(f'{a} - {b} = {a - b}')\n",
    "    elif (ch == '*') :\n",
    "        print(f'{a} * {b} = {a * b}')\n",
    "    elif (ch == '/') :\n",
    "        print(f'{a} / {b} = {a / b}')\n",
    "    elif (ch == '%') :\n",
    "        print(f'{a} % {b} = {a % b}')\n",
    "    elif (ch == '//') :\n",
    "        print(f'{a} // {b} = {a // b}')\n",
    "    elif (ch == '**') :\n",
    "        print(f'{a} ** {b} = {a ** b}')\n",
    "    else :\n",
    "        print('연산자를 잘못 입력했습니다.')"
   ]
  },
  {
   "cell_type": "markdown",
   "metadata": {},
   "source": [
    "## SECTION 05_break 문과 continue 문"
   ]
  },
  {
   "cell_type": "markdown",
   "metadata": {},
   "source": [
    "### 1. 반복문을 탈출시키는 break 문"
   ]
  },
  {
   "cell_type": "code",
   "execution_count": 14,
   "metadata": {},
   "outputs": [
    {
     "name": "stdout",
     "output_type": "stream",
     "text": [
      "for 문을 1번 실행\n"
     ]
    }
   ],
   "source": [
    "for i in range (1, 100):\n",
    "    print(f'for 문을 {i}번 실행')\n",
    "    break"
   ]
  },
  {
   "cell_type": "code",
   "execution_count": 55,
   "metadata": {},
   "outputs": [
    {
     "name": "stdout",
     "output_type": "stream",
     "text": [
      "더할 첫 번째 수를 입력하세요 : 55\n",
      "더할 두 번째 수를 입력하세요 : 22\n",
      "55 + 22 = 77\n",
      "더할 첫 번째 수를 입력하세요 : 0\n",
      "0을 입력해 반복문을 탈출했습니다.\n"
     ]
    }
   ],
   "source": [
    "while True :\n",
    "    a = int(input('더할 첫 번째 수를 입력하세요 : '))\n",
    "    if a == 0 :\n",
    "        break\n",
    "    b = int(input('더할 두 번째 수를 입력하세요 : '))\n",
    "    hap = a + b\n",
    "    print(f'{a} + {b} = {hap}')\n",
    "    \n",
    "print('0을 입력해 반복문을 탈출했습니다.')"
   ]
  },
  {
   "cell_type": "code",
   "execution_count": 16,
   "metadata": {},
   "outputs": [
    {
     "name": "stdout",
     "output_type": "stream",
     "text": [
      "1~100의 합계를 최초로 1000을 넘게 하는 숫자 : 45\n"
     ]
    }
   ],
   "source": [
    "hap = 0\n",
    "\n",
    "for i in range(1, 101) :\n",
    "    hap += i\n",
    "    \n",
    "    if hap >= 1000:\n",
    "        break\n",
    "print('1~100의 합계를 최초로 1000을 넘게 하는 숫자 :', i)"
   ]
  },
  {
   "cell_type": "markdown",
   "metadata": {},
   "source": [
    "### 2. 반복문으로 다시 돌아가게 하는 continue 문"
   ]
  },
  {
   "cell_type": "code",
   "execution_count": 18,
   "metadata": {
    "scrolled": true
   },
   "outputs": [
    {
     "name": "stdout",
     "output_type": "stream",
     "text": [
      "1~100의 합계(3의 배수 제외) : 3367\n"
     ]
    }
   ],
   "source": [
    "hap = 0\n",
    "\n",
    "for i in range(1, 101):\n",
    "    if i % 3 == 0 :\n",
    "        continue\n",
    "    hap += i\n",
    "    \n",
    "print('1~100의 합계(3의 배수 제외) :', hap)"
   ]
  },
  {
   "cell_type": "markdown",
   "metadata": {},
   "source": [
    "### 3. [프로그램 2]의 완성"
   ]
  },
  {
   "cell_type": "code",
   "execution_count": 24,
   "metadata": {
    "scrolled": true
   },
   "outputs": [
    {
     "name": "stdout",
     "output_type": "stream",
     "text": [
      "        ★\n",
      "      ★★★\n",
      "    ★★★★★\n",
      "  ★★★★★★★\n",
      "★★★★★★★★★\n",
      "  ★★★★★★★\n",
      "    ★★★★★\n",
      "      ★★★\n",
      "        ★\n"
     ]
    }
   ],
   "source": [
    "i = 0\n",
    "while i < 9 :\n",
    "    if i < 5 :\n",
    "        k = 0\n",
    "        while k < 4-i :\n",
    "            print('  ', end = '')\n",
    "            k += 1\n",
    "        k = 0\n",
    "        while k < i*2+1 :\n",
    "            print('\\u2605', end = '')\n",
    "            k += 1\n",
    "    else :\n",
    "        k = 0\n",
    "        while k < i - 4 :\n",
    "            print('  ', end = '')\n",
    "            k += 1\n",
    "        k = 0\n",
    "        while k < (9-i)*2-1 :\n",
    "            print('\\u2605', end ='')\n",
    "            k += 1\n",
    "    print()\n",
    "    i += 1"
   ]
  },
  {
   "cell_type": "markdown",
   "metadata": {},
   "source": [
    "# ================================"
   ]
  },
  {
   "cell_type": "markdown",
   "metadata": {},
   "source": [
    "# CHAPTER 07_리스트, 튜플, 딕셔너리"
   ]
  },
  {
   "cell_type": "markdown",
   "metadata": {},
   "source": [
    "## SECTION 02_리스트의 기본"
   ]
  },
  {
   "cell_type": "markdown",
   "metadata": {},
   "source": [
    "### 2. 리스트의 필요성"
   ]
  },
  {
   "cell_type": "code",
   "execution_count": 25,
   "metadata": {
    "scrolled": false
   },
   "outputs": [
    {
     "name": "stdout",
     "output_type": "stream",
     "text": [
      "1번째 숫자 : 1\n",
      "2번째 숫자 : 2\n",
      "3번째 숫자 : 3\n",
      "4번째 숫자 : 4\n",
      "합계 : 10\n"
     ]
    }
   ],
   "source": [
    "aa = [0, 0, 0, 0]\n",
    "\n",
    "aa[0] = int(input('1번째 숫자 : '))\n",
    "aa[1] = int(input('2번째 숫자 : '))\n",
    "aa[2] = int(input('3번째 숫자 : '))\n",
    "aa[3] = int(input('4번째 숫자 : '))\n",
    "\n",
    "hap = aa[0] + aa[1] + aa[2] + aa[3]\n",
    "print('합계 :', hap)"
   ]
  },
  {
   "cell_type": "markdown",
   "metadata": {},
   "source": [
    "### 3. 리스트의 일반적인 사용"
   ]
  },
  {
   "cell_type": "code",
   "execution_count": 1,
   "metadata": {},
   "outputs": [
    {
     "name": "stdout",
     "output_type": "stream",
     "text": [
      "[0, 0, 0, 0]\n"
     ]
    }
   ],
   "source": [
    "aa = []\n",
    "aa.append(0)\n",
    "aa.append(0)\n",
    "aa.append(0)\n",
    "aa.append(0)\n",
    "print(aa)"
   ]
  },
  {
   "cell_type": "code",
   "execution_count": 30,
   "metadata": {},
   "outputs": [
    {
     "data": {
      "text/plain": [
       "100"
      ]
     },
     "execution_count": 30,
     "metadata": {},
     "output_type": "execute_result"
    }
   ],
   "source": [
    "aa = []\n",
    "for i in range(0, 100):\n",
    "    aa.append(0)\n",
    "len(aa)"
   ]
  },
  {
   "cell_type": "code",
   "execution_count": 3,
   "metadata": {
    "scrolled": true
   },
   "outputs": [
    {
     "name": "stdout",
     "output_type": "stream",
     "text": [
      "1번째 숫자 : 1\n",
      "2번째 숫자 : 2\n",
      "3번째 숫자 : 3\n",
      "4번째 숫자 : 4\n",
      "합계 : 10\n"
     ]
    }
   ],
   "source": [
    "aa = []\n",
    "for i in range(0, 4):\n",
    "    aa.append(0)\n",
    "hap = 0\n",
    "\n",
    "for i in range(0, 4):\n",
    "    aa[i] = int(input(str(i + 1) + '번째 숫자 : '))\n",
    "\n",
    "for i in range(4):\n",
    "    hap += aa[i]\n",
    "\n",
    "print('합계 :', hap)"
   ]
  },
  {
   "cell_type": "markdown",
   "metadata": {},
   "source": [
    "### 4. 리스트의 생성과 초기화"
   ]
  },
  {
   "cell_type": "code",
   "execution_count": 4,
   "metadata": {
    "scrolled": true
   },
   "outputs": [
    {
     "name": "stdout",
     "output_type": "stream",
     "text": [
      "0 198\n"
     ]
    }
   ],
   "source": [
    "aa = []\n",
    "bb = []\n",
    "value = 0\n",
    "\n",
    "for _ in range(100):\n",
    "    aa.append(value)\n",
    "    value += 2\n",
    "    \n",
    "for i in range(100):\n",
    "    bb.append(aa[99-i])\n",
    "    \n",
    "print(aa[0], bb[0])"
   ]
  },
  {
   "cell_type": "markdown",
   "metadata": {},
   "source": [
    "### 5. 리스트 값에 접근하는 다양한 방법"
   ]
  },
  {
   "cell_type": "code",
   "execution_count": 5,
   "metadata": {},
   "outputs": [
    {
     "name": "stdout",
     "output_type": "stream",
     "text": [
      "40\n",
      "30\n"
     ]
    }
   ],
   "source": [
    "aa = [10, 20, 30, 40]\n",
    "print(aa[-1])\n",
    "print(aa[-2])"
   ]
  },
  {
   "cell_type": "code",
   "execution_count": 7,
   "metadata": {},
   "outputs": [
    {
     "name": "stdout",
     "output_type": "stream",
     "text": [
      "[10, 20, 30]\n",
      "[30, 40]\n"
     ]
    }
   ],
   "source": [
    "aa = [10, 20, 30, 40]\n",
    "print(aa[0:3])\n",
    "print(aa[2:4])"
   ]
  },
  {
   "cell_type": "code",
   "execution_count": 9,
   "metadata": {},
   "outputs": [
    {
     "name": "stdout",
     "output_type": "stream",
     "text": [
      "[30, 40]\n",
      "[10, 20]\n"
     ]
    }
   ],
   "source": [
    "aa = [10, 20, 30, 40]\n",
    "print(aa[2:])\n",
    "print(aa[:2])"
   ]
  },
  {
   "cell_type": "code",
   "execution_count": 10,
   "metadata": {},
   "outputs": [
    {
     "name": "stdout",
     "output_type": "stream",
     "text": [
      "[10, 20, 30, 40, 50, 60]\n",
      "[10, 20, 30, 10, 20, 30]\n"
     ]
    }
   ],
   "source": [
    "aa = [10, 20, 30]\n",
    "bb = [40, 50, 60]\n",
    "print(aa + bb)\n",
    "print(aa * 2)"
   ]
  },
  {
   "cell_type": "code",
   "execution_count": 12,
   "metadata": {
    "scrolled": true
   },
   "outputs": [
    {
     "name": "stdout",
     "output_type": "stream",
     "text": [
      "[10, 30, 50, 70]\n",
      "[70, 60, 50, 40, 30, 20, 10]\n"
     ]
    }
   ],
   "source": [
    "aa = [10, 20, 30, 40, 50, 60, 70]\n",
    "print(aa[::2])\n",
    "print(aa[::-1])"
   ]
  },
  {
   "cell_type": "markdown",
   "metadata": {},
   "source": [
    "### 6. 리스트 값의 변경"
   ]
  },
  {
   "cell_type": "code",
   "execution_count": 13,
   "metadata": {},
   "outputs": [
    {
     "data": {
      "text/plain": [
       "[10, 200, 30]"
      ]
     },
     "execution_count": 13,
     "metadata": {},
     "output_type": "execute_result"
    }
   ],
   "source": [
    "aa = [10, 20, 30]\n",
    "aa[1] = 200\n",
    "aa"
   ]
  },
  {
   "cell_type": "code",
   "execution_count": 14,
   "metadata": {},
   "outputs": [
    {
     "data": {
      "text/plain": [
       "[10, 200, 201, 30]"
      ]
     },
     "execution_count": 14,
     "metadata": {},
     "output_type": "execute_result"
    }
   ],
   "source": [
    "aa = [10, 20, 30]\n",
    "aa[1:2] = [200, 201]\n",
    "aa"
   ]
  },
  {
   "cell_type": "code",
   "execution_count": 15,
   "metadata": {},
   "outputs": [
    {
     "data": {
      "text/plain": [
       "[10, [200, 201], 30]"
      ]
     },
     "execution_count": 15,
     "metadata": {},
     "output_type": "execute_result"
    }
   ],
   "source": [
    "aa = [10, 20, 30]\n",
    "aa[1] = [200, 201]\n",
    "aa"
   ]
  },
  {
   "cell_type": "code",
   "execution_count": 26,
   "metadata": {},
   "outputs": [
    {
     "data": {
      "text/plain": [
       "[10, 30]"
      ]
     },
     "execution_count": 26,
     "metadata": {},
     "output_type": "execute_result"
    }
   ],
   "source": [
    "aa = [10, 20, 30]\n",
    "del(aa[1])\n",
    "aa"
   ]
  },
  {
   "cell_type": "code",
   "execution_count": 27,
   "metadata": {},
   "outputs": [
    {
     "data": {
      "text/plain": [
       "[10, 50]"
      ]
     },
     "execution_count": 27,
     "metadata": {},
     "output_type": "execute_result"
    }
   ],
   "source": [
    "aa = [10, 20, 30, 40, 50]\n",
    "aa[1:4] = []\n",
    "aa"
   ]
  },
  {
   "cell_type": "code",
   "execution_count": 28,
   "metadata": {},
   "outputs": [
    {
     "data": {
      "text/plain": [
       "[]"
      ]
     },
     "execution_count": 28,
     "metadata": {},
     "output_type": "execute_result"
    }
   ],
   "source": [
    "aa = [10, 20, 30]\n",
    "aa = []\n",
    "aa"
   ]
  },
  {
   "cell_type": "code",
   "execution_count": 29,
   "metadata": {},
   "outputs": [],
   "source": [
    "aa = [10, 20, 30]\n",
    "aa = None\n",
    "aa"
   ]
  },
  {
   "cell_type": "code",
   "execution_count": 30,
   "metadata": {},
   "outputs": [
    {
     "ename": "NameError",
     "evalue": "name 'aa' is not defined",
     "output_type": "error",
     "traceback": [
      "\u001b[1;31m---------------------------------------------------------------------------\u001b[0m",
      "\u001b[1;31mNameError\u001b[0m                                 Traceback (most recent call last)",
      "\u001b[1;32m<ipython-input-30-84f87d80b12c>\u001b[0m in \u001b[0;36m<module>\u001b[1;34m\u001b[0m\n\u001b[0;32m      1\u001b[0m \u001b[0maa\u001b[0m \u001b[1;33m=\u001b[0m \u001b[1;33m[\u001b[0m\u001b[1;36m10\u001b[0m\u001b[1;33m,\u001b[0m \u001b[1;36m20\u001b[0m\u001b[1;33m,\u001b[0m \u001b[1;36m30\u001b[0m\u001b[1;33m]\u001b[0m\u001b[1;33m\u001b[0m\u001b[1;33m\u001b[0m\u001b[0m\n\u001b[0;32m      2\u001b[0m \u001b[1;32mdel\u001b[0m\u001b[1;33m(\u001b[0m\u001b[0maa\u001b[0m\u001b[1;33m)\u001b[0m\u001b[1;33m\u001b[0m\u001b[1;33m\u001b[0m\u001b[0m\n\u001b[1;32m----> 3\u001b[1;33m \u001b[0maa\u001b[0m\u001b[1;33m\u001b[0m\u001b[1;33m\u001b[0m\u001b[0m\n\u001b[0m",
      "\u001b[1;31mNameError\u001b[0m: name 'aa' is not defined"
     ]
    }
   ],
   "source": [
    "aa = [10, 20, 30]\n",
    "del(aa)\n",
    "aa"
   ]
  },
  {
   "cell_type": "markdown",
   "metadata": {},
   "source": [
    "### 7. 리스트 조작 함수"
   ]
  },
  {
   "cell_type": "code",
   "execution_count": 53,
   "metadata": {},
   "outputs": [
    {
     "data": {
      "text/plain": [
       "[30, 10, 20]"
      ]
     },
     "execution_count": 53,
     "metadata": {},
     "output_type": "execute_result"
    }
   ],
   "source": [
    "aa = [30, 10, 20]\n",
    "aa"
   ]
  },
  {
   "cell_type": "code",
   "execution_count": 54,
   "metadata": {},
   "outputs": [
    {
     "data": {
      "text/plain": [
       "[30, 10, 20, 40]"
      ]
     },
     "execution_count": 54,
     "metadata": {},
     "output_type": "execute_result"
    }
   ],
   "source": [
    "aa.append(40)\n",
    "aa"
   ]
  },
  {
   "cell_type": "code",
   "execution_count": 55,
   "metadata": {},
   "outputs": [
    {
     "name": "stdout",
     "output_type": "stream",
     "text": [
      "pop()으로 추출한 값 40\n",
      "pop() 후의 리스트 [30, 10, 20]\n"
     ]
    }
   ],
   "source": [
    "# pop : 리스트 맨 뒤의 항목을 빼낸다.(리스트에서 해당 항목 삭제)\n",
    "print('pop()으로 추출한 값', aa.pop())\n",
    "print('pop() 후의 리스트', aa)"
   ]
  },
  {
   "cell_type": "code",
   "execution_count": 56,
   "metadata": {},
   "outputs": [
    {
     "data": {
      "text/plain": [
       "[10, 20, 30]"
      ]
     },
     "execution_count": 56,
     "metadata": {},
     "output_type": "execute_result"
    }
   ],
   "source": [
    "aa.sort()\n",
    "aa"
   ]
  },
  {
   "cell_type": "code",
   "execution_count": 57,
   "metadata": {},
   "outputs": [
    {
     "data": {
      "text/plain": [
       "[30, 20, 10]"
      ]
     },
     "execution_count": 57,
     "metadata": {},
     "output_type": "execute_result"
    }
   ],
   "source": [
    "aa.reverse()\n",
    "aa"
   ]
  },
  {
   "cell_type": "code",
   "execution_count": 58,
   "metadata": {},
   "outputs": [
    {
     "name": "stdout",
     "output_type": "stream",
     "text": [
      "20 값의 위치 :  1\n"
     ]
    }
   ],
   "source": [
    "print('20 값의 위치 : ', aa.index(20))"
   ]
  },
  {
   "cell_type": "code",
   "execution_count": 59,
   "metadata": {},
   "outputs": [
    {
     "data": {
      "text/plain": [
       "[30, 20, 222, 10]"
      ]
     },
     "execution_count": 59,
     "metadata": {},
     "output_type": "execute_result"
    }
   ],
   "source": [
    "aa.insert(2, 222)\n",
    "aa"
   ]
  },
  {
   "cell_type": "code",
   "execution_count": 60,
   "metadata": {},
   "outputs": [
    {
     "data": {
      "text/plain": [
       "[30, 20, 10]"
      ]
     },
     "execution_count": 60,
     "metadata": {},
     "output_type": "execute_result"
    }
   ],
   "source": [
    "aa.remove(222)\n",
    "aa"
   ]
  },
  {
   "cell_type": "code",
   "execution_count": 61,
   "metadata": {},
   "outputs": [
    {
     "data": {
      "text/plain": [
       "[30, 20, 10, 77, 88, 77]"
      ]
     },
     "execution_count": 61,
     "metadata": {},
     "output_type": "execute_result"
    }
   ],
   "source": [
    "aa.extend([77, 88, 77])\n",
    "aa"
   ]
  },
  {
   "cell_type": "code",
   "execution_count": 62,
   "metadata": {},
   "outputs": [
    {
     "name": "stdout",
     "output_type": "stream",
     "text": [
      "77의 개수 :  2\n"
     ]
    }
   ],
   "source": [
    "print('77의 개수 : ', aa.count(77))"
   ]
  },
  {
   "cell_type": "code",
   "execution_count": 63,
   "metadata": {
    "scrolled": true
   },
   "outputs": [
    {
     "name": "stdout",
     "output_type": "stream",
     "text": [
      "bb =  [10, 20, 30]\n",
      "aa =  [30, 10, 20]\n"
     ]
    }
   ],
   "source": [
    "aa = [30, 10, 20]\n",
    "bb = sorted(aa)\n",
    "print('bb = ', bb)\n",
    "print('aa = ', aa)"
   ]
  },
  {
   "cell_type": "markdown",
   "metadata": {},
   "source": [
    "## SECTION 03_2차원 리스트"
   ]
  },
  {
   "cell_type": "markdown",
   "metadata": {},
   "source": [
    "### 1. 2차원 리스트의 개념"
   ]
  },
  {
   "cell_type": "code",
   "execution_count": 64,
   "metadata": {},
   "outputs": [
    {
     "data": {
      "text/plain": [
       "[[1, 2, 3, 4], [5, 6, 7, 8], [9, 10, 11, 12]]"
      ]
     },
     "execution_count": 64,
     "metadata": {},
     "output_type": "execute_result"
    }
   ],
   "source": [
    "aa = [[1, 2, 3, 4],\n",
    "     [5, 6, 7, 8],\n",
    "     [9, 10, 11, 12]]\n",
    "aa"
   ]
  },
  {
   "cell_type": "code",
   "execution_count": 65,
   "metadata": {},
   "outputs": [
    {
     "name": "stdout",
     "output_type": "stream",
     "text": [
      "[[1, 2, 3, 4], [5, 6, 7, 8], [9, 10, 11, 12]]\n"
     ]
    }
   ],
   "source": [
    "list1 = []\n",
    "list2 = []\n",
    "value = 1\n",
    "for i in range(3) :\n",
    "    for j in range(4):\n",
    "        list1.append(value)\n",
    "        value += 1\n",
    "    list2.append(list1)\n",
    "    list1 = []\n",
    "    \n",
    "print(list2)"
   ]
  },
  {
   "cell_type": "code",
   "execution_count": 67,
   "metadata": {},
   "outputs": [
    {
     "data": {
      "text/plain": [
       "[[1, 2, 3, 4], [5, 6], [7, 8, 9]]"
      ]
     },
     "execution_count": 67,
     "metadata": {},
     "output_type": "execute_result"
    }
   ],
   "source": [
    "aa = [[1, 2, 3, 4],\n",
    "     [5, 6],\n",
    "     [7, 8, 9]]\n",
    "aa"
   ]
  },
  {
   "cell_type": "markdown",
   "metadata": {},
   "source": [
    "## SECTION 04_튜플"
   ]
  },
  {
   "cell_type": "markdown",
   "metadata": {},
   "source": [
    "### 1. 튜플의 생성"
   ]
  },
  {
   "cell_type": "code",
   "execution_count": 68,
   "metadata": {},
   "outputs": [
    {
     "data": {
      "text/plain": [
       "(10, 20, 30)"
      ]
     },
     "execution_count": 68,
     "metadata": {},
     "output_type": "execute_result"
    }
   ],
   "source": [
    "tt1 = (10, 20, 30)\n",
    "tt1"
   ]
  },
  {
   "cell_type": "code",
   "execution_count": 70,
   "metadata": {},
   "outputs": [
    {
     "data": {
      "text/plain": [
       "(10, 20, 30)"
      ]
     },
     "execution_count": 70,
     "metadata": {},
     "output_type": "execute_result"
    }
   ],
   "source": [
    "tt2 = 10, 20, 30\n",
    "tt2"
   ]
  },
  {
   "cell_type": "code",
   "execution_count": 71,
   "metadata": {},
   "outputs": [
    {
     "data": {
      "text/plain": [
       "10"
      ]
     },
     "execution_count": 71,
     "metadata": {},
     "output_type": "execute_result"
    }
   ],
   "source": [
    "tt3 = (10)\n",
    "tt3"
   ]
  },
  {
   "cell_type": "code",
   "execution_count": 72,
   "metadata": {},
   "outputs": [
    {
     "data": {
      "text/plain": [
       "10"
      ]
     },
     "execution_count": 72,
     "metadata": {},
     "output_type": "execute_result"
    }
   ],
   "source": [
    "tt4 = 10\n",
    "tt4"
   ]
  },
  {
   "cell_type": "code",
   "execution_count": 74,
   "metadata": {},
   "outputs": [
    {
     "data": {
      "text/plain": [
       "(10,)"
      ]
     },
     "execution_count": 74,
     "metadata": {},
     "output_type": "execute_result"
    }
   ],
   "source": [
    "tt5 = (10, )\n",
    "tt5"
   ]
  },
  {
   "cell_type": "code",
   "execution_count": 76,
   "metadata": {},
   "outputs": [
    {
     "data": {
      "text/plain": [
       "(10,)"
      ]
     },
     "execution_count": 76,
     "metadata": {},
     "output_type": "execute_result"
    }
   ],
   "source": [
    "tt6 = 10,\n",
    "tt6"
   ]
  },
  {
   "cell_type": "code",
   "execution_count": 77,
   "metadata": {},
   "outputs": [],
   "source": [
    "del(tt1)\n",
    "del(tt2)"
   ]
  },
  {
   "cell_type": "markdown",
   "metadata": {},
   "source": [
    "### 2. 튜플의 사용"
   ]
  },
  {
   "cell_type": "code",
   "execution_count": 78,
   "metadata": {},
   "outputs": [
    {
     "name": "stdout",
     "output_type": "stream",
     "text": [
      "10\n",
      "60\n"
     ]
    }
   ],
   "source": [
    "tt1 = (10, 20, 30, 40)\n",
    "print(tt1[0])\n",
    "print(tt1[0] + tt1[1] + tt1[2])"
   ]
  },
  {
   "cell_type": "code",
   "execution_count": 79,
   "metadata": {},
   "outputs": [
    {
     "name": "stdout",
     "output_type": "stream",
     "text": [
      "(20, 30)\n",
      "(20, 30, 40)\n",
      "(10, 20)\n"
     ]
    }
   ],
   "source": [
    "print(tt1[1:3])\n",
    "print(tt1[1:])\n",
    "print(tt1[:2])"
   ]
  },
  {
   "cell_type": "code",
   "execution_count": 80,
   "metadata": {},
   "outputs": [
    {
     "name": "stdout",
     "output_type": "stream",
     "text": [
      "(10, 20, 30, 40, 'A', 'B')\n",
      "('A', 'B', 'A', 'B')\n"
     ]
    }
   ],
   "source": [
    "tt1 = (10, 20, 30, 40)\n",
    "tt2 = ('A', 'B')\n",
    "print(tt1 + tt2)\n",
    "print(tt2 * 2)"
   ]
  },
  {
   "cell_type": "code",
   "execution_count": 81,
   "metadata": {
    "scrolled": true
   },
   "outputs": [
    {
     "data": {
      "text/plain": [
       "(10, 20, 30, 40)"
      ]
     },
     "execution_count": 81,
     "metadata": {},
     "output_type": "execute_result"
    }
   ],
   "source": [
    "tup1 = (10, 20, 30)\n",
    "list1 = list(tup1)\n",
    "list1.append(40)\n",
    "tup1 = tuple(list1)\n",
    "tup1"
   ]
  },
  {
   "cell_type": "markdown",
   "metadata": {},
   "source": [
    "## SECTION 05_딕셔너리"
   ]
  },
  {
   "cell_type": "markdown",
   "metadata": {},
   "source": [
    "### 1. 딕셔너리의 생성"
   ]
  },
  {
   "cell_type": "code",
   "execution_count": 82,
   "metadata": {},
   "outputs": [
    {
     "data": {
      "text/plain": [
       "{1: 'A', 2: 'B', 3: 'C'}"
      ]
     },
     "execution_count": 82,
     "metadata": {},
     "output_type": "execute_result"
    }
   ],
   "source": [
    "dic1 = {1 : 'A', 2 : 'B', 3 : 'C'}\n",
    "dic1"
   ]
  },
  {
   "cell_type": "code",
   "execution_count": 84,
   "metadata": {},
   "outputs": [
    {
     "data": {
      "text/plain": [
       "{'A': 1, 'B': 2, 'C': 3}"
      ]
     },
     "execution_count": 84,
     "metadata": {},
     "output_type": "execute_result"
    }
   ],
   "source": [
    "dic2 = {'A' : 1, 'B' : 2, 'C' : 3}\n",
    "dic2"
   ]
  },
  {
   "cell_type": "code",
   "execution_count": 85,
   "metadata": {},
   "outputs": [
    {
     "data": {
      "text/plain": [
       "{'학번': 201843324, '이름': '최은주', '학과': '경영학과'}"
      ]
     },
     "execution_count": 85,
     "metadata": {},
     "output_type": "execute_result"
    }
   ],
   "source": [
    "student1 = {'학번' : 201843324, '이름' : '최은주', '학과' : '경영학과'}\n",
    "student1"
   ]
  },
  {
   "cell_type": "code",
   "execution_count": 87,
   "metadata": {},
   "outputs": [
    {
     "data": {
      "text/plain": [
       "{'학번': 201843324, '이름': '최은주', '학과': '경영학과', '연락처': '010-7584-1413'}"
      ]
     },
     "execution_count": 87,
     "metadata": {},
     "output_type": "execute_result"
    }
   ],
   "source": [
    "student1['연락처'] = '010-7584-1413'\n",
    "student1"
   ]
  },
  {
   "cell_type": "code",
   "execution_count": 88,
   "metadata": {},
   "outputs": [
    {
     "data": {
      "text/plain": [
       "{'학번': 201843324, '이름': '최은주', '학과': '핀테크융합전공', '연락처': '010-7584-1413'}"
      ]
     },
     "execution_count": 88,
     "metadata": {},
     "output_type": "execute_result"
    }
   ],
   "source": [
    "student1['학과'] = '핀테크융합전공'\n",
    "student1"
   ]
  },
  {
   "cell_type": "code",
   "execution_count": 89,
   "metadata": {},
   "outputs": [
    {
     "data": {
      "text/plain": [
       "{'학번': 201843324, '이름': '최은주', '연락처': '010-7584-1413'}"
      ]
     },
     "execution_count": 89,
     "metadata": {},
     "output_type": "execute_result"
    }
   ],
   "source": [
    "del(student1['학과'])\n",
    "student1"
   ]
  },
  {
   "cell_type": "code",
   "execution_count": 90,
   "metadata": {},
   "outputs": [
    {
     "data": {
      "text/plain": [
       "{'학번': 201843324, '이름': '최은주', '학과': '경영학과'}"
      ]
     },
     "execution_count": 90,
     "metadata": {},
     "output_type": "execute_result"
    }
   ],
   "source": [
    "student1 = {'학번' : 1000, '이름' : '최은주', '학과' : '경영학과', '학번' : 201843324}\n",
    "student1"
   ]
  },
  {
   "cell_type": "markdown",
   "metadata": {},
   "source": [
    "### 2. 딕셔너리의 사용"
   ]
  },
  {
   "cell_type": "code",
   "execution_count": 91,
   "metadata": {},
   "outputs": [
    {
     "data": {
      "text/plain": [
       "201843324"
      ]
     },
     "execution_count": 91,
     "metadata": {},
     "output_type": "execute_result"
    }
   ],
   "source": [
    "student1['학번']"
   ]
  },
  {
   "cell_type": "code",
   "execution_count": 92,
   "metadata": {},
   "outputs": [
    {
     "data": {
      "text/plain": [
       "'최은주'"
      ]
     },
     "execution_count": 92,
     "metadata": {},
     "output_type": "execute_result"
    }
   ],
   "source": [
    "student1.get('이름')"
   ]
  },
  {
   "cell_type": "code",
   "execution_count": 93,
   "metadata": {},
   "outputs": [
    {
     "data": {
      "text/plain": [
       "dict_keys(['학번', '이름', '학과'])"
      ]
     },
     "execution_count": 93,
     "metadata": {},
     "output_type": "execute_result"
    }
   ],
   "source": [
    "student1.keys()"
   ]
  },
  {
   "cell_type": "code",
   "execution_count": 94,
   "metadata": {},
   "outputs": [
    {
     "data": {
      "text/plain": [
       "['학번', '이름', '학과']"
      ]
     },
     "execution_count": 94,
     "metadata": {},
     "output_type": "execute_result"
    }
   ],
   "source": [
    "list(student1.keys())"
   ]
  },
  {
   "cell_type": "code",
   "execution_count": 97,
   "metadata": {},
   "outputs": [
    {
     "data": {
      "text/plain": [
       "dict_values([201843324, '최은주', '경영학과'])"
      ]
     },
     "execution_count": 97,
     "metadata": {},
     "output_type": "execute_result"
    }
   ],
   "source": [
    "student1.values()"
   ]
  },
  {
   "cell_type": "code",
   "execution_count": 96,
   "metadata": {},
   "outputs": [
    {
     "data": {
      "text/plain": [
       "dict_items([('학번', 201843324), ('이름', '최은주'), ('학과', '경영학과')])"
      ]
     },
     "execution_count": 96,
     "metadata": {},
     "output_type": "execute_result"
    }
   ],
   "source": [
    "student1.items()"
   ]
  },
  {
   "cell_type": "code",
   "execution_count": 98,
   "metadata": {},
   "outputs": [
    {
     "data": {
      "text/plain": [
       "True"
      ]
     },
     "execution_count": 98,
     "metadata": {},
     "output_type": "execute_result"
    }
   ],
   "source": [
    "'이름' in student1"
   ]
  },
  {
   "cell_type": "code",
   "execution_count": 99,
   "metadata": {},
   "outputs": [
    {
     "data": {
      "text/plain": [
       "False"
      ]
     },
     "execution_count": 99,
     "metadata": {},
     "output_type": "execute_result"
    }
   ],
   "source": [
    "'주소' in student1"
   ]
  },
  {
   "cell_type": "code",
   "execution_count": 1,
   "metadata": {},
   "outputs": [
    {
     "name": "stdout",
     "output_type": "stream",
     "text": [
      "이름 --> 페퍼톤스\n",
      "구성원 수 --> 2\n",
      "데뷔 --> 21st Century Magic\n",
      "대표곡 --> 행운을 빌어요\n"
     ]
    }
   ],
   "source": [
    "singer = {}\n",
    "\n",
    "singer['이름'] = '페퍼톤스'\n",
    "singer['구성원 수'] = 2\n",
    "singer['데뷔'] = '21st Century Magic'\n",
    "singer['대표곡'] = '행운을 빌어요'\n",
    "\n",
    "for k in singer.keys():\n",
    "    print(f'{k} --> {singer[k]}')"
   ]
  },
  {
   "cell_type": "markdown",
   "metadata": {},
   "source": [
    "### 3. 딕셔너리의 정렬"
   ]
  },
  {
   "cell_type": "code",
   "execution_count": 104,
   "metadata": {},
   "outputs": [
    {
     "name": "stdout",
     "output_type": "stream",
     "text": [
      "[('Edward', '에드워드'), ('Gothen', '고든'), ('Henry', '헨리'), ('James', '제임스'), ('Thomas', '토마스')]\n"
     ]
    }
   ],
   "source": [
    "import operator\n",
    "\n",
    "trainDic = {'Thomas' : '토마스', 'Edward' : '에드워드', 'Henry' : '헨리',\n",
    "           'Gothen' : '고든', 'James' : '제임스'}\n",
    "trainList = sorted(trainDic.items(), key = operator.itemgetter(0))\n",
    "\n",
    "print(trainList)"
   ]
  },
  {
   "cell_type": "markdown",
   "metadata": {},
   "source": [
    "### 4. [프로그램 2]의 완성"
   ]
  },
  {
   "cell_type": "code",
   "execution_count": 106,
   "metadata": {
    "scrolled": true
   },
   "outputs": [
    {
     "name": "stdout",
     "output_type": "stream",
     "text": [
      "['떡볶이', '짜장면', '라면', '피자', '맥주', '치킨', '삼겹살'] 중 좋아하는 음식 : 떡볶이\n",
      "떡볶이 궁합 음식은 오뎅입니다.\n"
     ]
    }
   ],
   "source": [
    "foods = {'떡볶이' : '오뎅',\n",
    "       '짜장면' : '단무지',\n",
    "       '라면' : '김치',\n",
    "       '피자' : '피클',\n",
    "       '맥주' : '땅콩',\n",
    "       '치킨' : '치킨무',\n",
    "       '삼겹살' : '상추'}\n",
    "\n",
    "myfood = input(str(list(foods.keys())) + ' 중 좋아하는 음식 : ')\n",
    "if myfood in foods :\n",
    "    print(f'{myfood} 궁합 음식은 {foods.get(myfood)}입니다.')\n",
    "else :\n",
    "    print('입력 오류')"
   ]
  },
  {
   "cell_type": "markdown",
   "metadata": {},
   "source": [
    "## SECTION 06_리스트, 튜플, 딕셔너리의 심화 내용"
   ]
  },
  {
   "cell_type": "markdown",
   "metadata": {},
   "source": [
    "### 1. 세트"
   ]
  },
  {
   "cell_type": "code",
   "execution_count": 2,
   "metadata": {},
   "outputs": [
    {
     "data": {
      "text/plain": [
       "{1, 2, 3, 4}"
      ]
     },
     "execution_count": 2,
     "metadata": {},
     "output_type": "execute_result"
    }
   ],
   "source": [
    "myset1 = {1, 2, 3, 3, 3, 4}\n",
    "myset1"
   ]
  },
  {
   "cell_type": "code",
   "execution_count": 3,
   "metadata": {},
   "outputs": [],
   "source": [
    "myset1 = {1, 2, 3, 4, 5}\n",
    "myset2 = {4, 5, 6, 7}"
   ]
  },
  {
   "cell_type": "code",
   "execution_count": 4,
   "metadata": {},
   "outputs": [
    {
     "data": {
      "text/plain": [
       "{4, 5}"
      ]
     },
     "execution_count": 4,
     "metadata": {},
     "output_type": "execute_result"
    }
   ],
   "source": [
    "# 교집합\n",
    "myset1 & myset2"
   ]
  },
  {
   "cell_type": "code",
   "execution_count": 8,
   "metadata": {},
   "outputs": [
    {
     "data": {
      "text/plain": [
       "{4, 5}"
      ]
     },
     "execution_count": 8,
     "metadata": {},
     "output_type": "execute_result"
    }
   ],
   "source": [
    "myset1.intersection(myset2)"
   ]
  },
  {
   "cell_type": "code",
   "execution_count": 5,
   "metadata": {},
   "outputs": [
    {
     "data": {
      "text/plain": [
       "{1, 2, 3, 4, 5, 6, 7}"
      ]
     },
     "execution_count": 5,
     "metadata": {},
     "output_type": "execute_result"
    }
   ],
   "source": [
    "# 합집합\n",
    "myset1 | myset2"
   ]
  },
  {
   "cell_type": "code",
   "execution_count": 10,
   "metadata": {},
   "outputs": [
    {
     "data": {
      "text/plain": [
       "{1, 2, 3, 4, 5, 6, 7}"
      ]
     },
     "execution_count": 10,
     "metadata": {},
     "output_type": "execute_result"
    }
   ],
   "source": [
    "myset1.union(myset2)"
   ]
  },
  {
   "cell_type": "code",
   "execution_count": 6,
   "metadata": {},
   "outputs": [
    {
     "data": {
      "text/plain": [
       "{1, 2, 3}"
      ]
     },
     "execution_count": 6,
     "metadata": {},
     "output_type": "execute_result"
    }
   ],
   "source": [
    "# 차집합\n",
    "myset1 - myset2"
   ]
  },
  {
   "cell_type": "code",
   "execution_count": 11,
   "metadata": {},
   "outputs": [
    {
     "data": {
      "text/plain": [
       "{1, 2, 3}"
      ]
     },
     "execution_count": 11,
     "metadata": {},
     "output_type": "execute_result"
    }
   ],
   "source": [
    "myset1.difference(myset2)"
   ]
  },
  {
   "cell_type": "code",
   "execution_count": 7,
   "metadata": {},
   "outputs": [
    {
     "data": {
      "text/plain": [
       "{1, 2, 3, 6, 7}"
      ]
     },
     "execution_count": 7,
     "metadata": {},
     "output_type": "execute_result"
    }
   ],
   "source": [
    "# 대칭 차집합\n",
    "myset1 ^ myset2"
   ]
  },
  {
   "cell_type": "code",
   "execution_count": 12,
   "metadata": {},
   "outputs": [
    {
     "data": {
      "text/plain": [
       "{1, 2, 3, 6, 7}"
      ]
     },
     "execution_count": 12,
     "metadata": {},
     "output_type": "execute_result"
    }
   ],
   "source": [
    "myset1.symmetric_difference(myset2)"
   ]
  },
  {
   "cell_type": "markdown",
   "metadata": {},
   "source": [
    "### 2. 컴프리헨션"
   ]
  },
  {
   "cell_type": "code",
   "execution_count": 13,
   "metadata": {},
   "outputs": [
    {
     "data": {
      "text/plain": [
       "[1, 2, 3, 4, 5]"
      ]
     },
     "execution_count": 13,
     "metadata": {},
     "output_type": "execute_result"
    }
   ],
   "source": [
    "numlist = [num for num in range(1,6)]\n",
    "numlist"
   ]
  },
  {
   "cell_type": "code",
   "execution_count": 15,
   "metadata": {},
   "outputs": [
    {
     "data": {
      "text/plain": [
       "[1, 4, 9, 16, 25]"
      ]
     },
     "execution_count": 15,
     "metadata": {},
     "output_type": "execute_result"
    }
   ],
   "source": [
    "numlist = [num * num for num in range(1,6)]\n",
    "numlist"
   ]
  },
  {
   "cell_type": "code",
   "execution_count": 16,
   "metadata": {},
   "outputs": [
    {
     "data": {
      "text/plain": [
       "[3, 6, 9, 12, 15, 18]"
      ]
     },
     "execution_count": 16,
     "metadata": {},
     "output_type": "execute_result"
    }
   ],
   "source": [
    "numlist = [num for num in range(1, 21) if num % 3 == 0]\n",
    "numlist"
   ]
  },
  {
   "cell_type": "markdown",
   "metadata": {},
   "source": [
    "### 3. 동시에 여러 리스트에 접근"
   ]
  },
  {
   "cell_type": "code",
   "execution_count": 17,
   "metadata": {},
   "outputs": [
    {
     "name": "stdout",
     "output_type": "stream",
     "text": [
      "떡볶이 -> 오뎅\n",
      "짜장면 -> 단무지\n",
      "라면 -> 김치\n"
     ]
    }
   ],
   "source": [
    "foods = ['떡볶이', '짜장면', '라면', '피자', '맥주', '치킨', '삼겹살']\n",
    "sides = ['오뎅', '단무지', '김치']\n",
    "for food, side in zip(foods, sides) :\n",
    "    print(food, '->', side)"
   ]
  },
  {
   "cell_type": "code",
   "execution_count": 18,
   "metadata": {},
   "outputs": [
    {
     "name": "stdout",
     "output_type": "stream",
     "text": [
      "[('떡볶이', '오뎅'), ('짜장면', '단무지'), ('라면', '김치')]\n",
      "{'떡볶이': '오뎅', '짜장면': '단무지', '라면': '김치'}\n"
     ]
    }
   ],
   "source": [
    "foods = ['떡볶이', '짜장면', '라면', '피자', '맥주', '치킨', '삼겹살']\n",
    "sides = ['오뎅', '단무지', '김치']\n",
    "tuplist = list(zip(foods, sides))\n",
    "dic = dict(zip(foods, sides))\n",
    "print(tuplist)\n",
    "print(dic)"
   ]
  },
  {
   "cell_type": "markdown",
   "metadata": {},
   "source": [
    "### 4. 리스트의 복사"
   ]
  },
  {
   "cell_type": "code",
   "execution_count": 19,
   "metadata": {},
   "outputs": [
    {
     "name": "stdout",
     "output_type": "stream",
     "text": [
      "['짜장면', '군만두', '탕수육']\n",
      "['짬뽕', '군만두', '탕수육', '깐풍기']\n"
     ]
    }
   ],
   "source": [
    "oldlist = ['짜장면', '군만두', '탕수육']\n",
    "newlist = oldlist\n",
    "print(newlist)\n",
    "oldlist[0] = '짬뽕'\n",
    "oldlist.append('깐풍기')\n",
    "print(newlist)"
   ]
  },
  {
   "cell_type": "code",
   "execution_count": 20,
   "metadata": {},
   "outputs": [
    {
     "name": "stdout",
     "output_type": "stream",
     "text": [
      "['짜장면', '군만두', '탕수육']\n",
      "['짜장면', '군만두', '탕수육']\n"
     ]
    }
   ],
   "source": [
    "oldlist = ['짜장면', '군만두', '탕수육']\n",
    "newlist = oldlist[:]\n",
    "# == newlist = lidlist.copy()\n",
    "print(newlist)\n",
    "oldlist[0] = '짬뽕'\n",
    "oldlist.append('깐풍기')\n",
    "print(newlist)"
   ]
  },
  {
   "cell_type": "markdown",
   "metadata": {},
   "source": [
    "### 5. 리스트를 이용한 스택 구현"
   ]
  },
  {
   "cell_type": "code",
   "execution_count": 24,
   "metadata": {},
   "outputs": [],
   "source": [
    "parking = []\n",
    "top = 0"
   ]
  },
  {
   "cell_type": "code",
   "execution_count": 25,
   "metadata": {},
   "outputs": [],
   "source": [
    "parking.append('A')\n",
    "top += 1"
   ]
  },
  {
   "cell_type": "code",
   "execution_count": 26,
   "metadata": {},
   "outputs": [],
   "source": [
    "parking.append('B')\n",
    "top += 1\n",
    "parking.append('C')\n",
    "top += 1"
   ]
  },
  {
   "cell_type": "code",
   "execution_count": 27,
   "metadata": {},
   "outputs": [
    {
     "name": "stdout",
     "output_type": "stream",
     "text": [
      "C\n"
     ]
    }
   ],
   "source": [
    "top -= 1\n",
    "outCar = parking.pop()\n",
    "print(outCar)"
   ]
  },
  {
   "cell_type": "markdown",
   "metadata": {},
   "source": [
    "# ================================"
   ]
  },
  {
   "cell_type": "markdown",
   "metadata": {},
   "source": [
    "# CHAPTER 08_문자열"
   ]
  },
  {
   "cell_type": "markdown",
   "metadata": {},
   "source": [
    "## SECTION 02_문자열 기본"
   ]
  },
  {
   "cell_type": "markdown",
   "metadata": {},
   "source": [
    "### 1. 문자열의 개념"
   ]
  },
  {
   "cell_type": "code",
   "execution_count": 1,
   "metadata": {},
   "outputs": [
    {
     "name": "stdout",
     "output_type": "stream",
     "text": [
      "프\n",
      "로그\n",
      "래밍\n"
     ]
    }
   ],
   "source": [
    "ss = '프로그래밍'\n",
    "print(ss[0])\n",
    "print(ss[1:3])\n",
    "print(ss[3:])"
   ]
  },
  {
   "cell_type": "code",
   "execution_count": 2,
   "metadata": {},
   "outputs": [
    {
     "data": {
      "text/plain": [
       "'프로그래밍'"
      ]
     },
     "execution_count": 2,
     "metadata": {},
     "output_type": "execute_result"
    }
   ],
   "source": [
    "ss = '프로' + '그래밍'\n",
    "ss"
   ]
  },
  {
   "cell_type": "code",
   "execution_count": 4,
   "metadata": {},
   "outputs": [
    {
     "data": {
      "text/plain": [
       "'파이썬파이썬파이썬'"
      ]
     },
     "execution_count": 4,
     "metadata": {},
     "output_type": "execute_result"
    }
   ],
   "source": [
    "ss = '파이썬' * 3\n",
    "ss"
   ]
  },
  {
   "cell_type": "code",
   "execution_count": 5,
   "metadata": {},
   "outputs": [
    {
     "data": {
      "text/plain": [
       "5"
      ]
     },
     "execution_count": 5,
     "metadata": {},
     "output_type": "execute_result"
    }
   ],
   "source": [
    "ss = '프로그래밍'\n",
    "len(ss)"
   ]
  },
  {
   "cell_type": "code",
   "execution_count": 6,
   "metadata": {},
   "outputs": [
    {
     "name": "stdout",
     "output_type": "stream",
     "text": [
      "프&로&그&래&밍&"
     ]
    }
   ],
   "source": [
    "ss = '프로그래밍'\n",
    "\n",
    "for i in range(len(ss)):\n",
    "    print(ss[i] + '&', end = '')"
   ]
  },
  {
   "cell_type": "markdown",
   "metadata": {},
   "source": [
    "### 2. [프로그램 1]의 완성"
   ]
  },
  {
   "cell_type": "code",
   "execution_count": 10,
   "metadata": {
    "scrolled": true
   },
   "outputs": [
    {
     "name": "stdout",
     "output_type": "stream",
     "text": [
      "문자열을 입력하세요 : 안녕하세요\n",
      "내용을 거꾸로 출력 --> 요세하녕안\n"
     ]
    }
   ],
   "source": [
    "inStr = input('문자열을 입력하세요 : ')\n",
    "outStr = ''\n",
    "\n",
    "for i in range(len(inStr)) :\n",
    "    outStr += inStr[len(inStr) - (i+1)]\n",
    "    \n",
    "print('내용을 거꾸로 출력 -->', outStr)"
   ]
  },
  {
   "cell_type": "markdown",
   "metadata": {},
   "source": [
    "## SECTION 03_문자열 함수"
   ]
  },
  {
   "cell_type": "markdown",
   "metadata": {},
   "source": [
    "### 1. 문자열 함수의 사용"
   ]
  },
  {
   "cell_type": "code",
   "execution_count": 11,
   "metadata": {},
   "outputs": [
    {
     "name": "stdout",
     "output_type": "stream",
     "text": [
      "PYTHON IS EASY. 그래서 PROGRAMMING이 재미있다.\n",
      "python is easy. 그래서 programming이 재미있다.\n",
      "pYTHON IS eASY. 그래서 PROGRAMMING이 재미있다.\n",
      "Python Is Easy. 그래서 Programming이 재미있다.\n"
     ]
    }
   ],
   "source": [
    "ss = 'Python is Easy. 그래서 programming이 재미있다.'\n",
    "print(ss.upper())\n",
    "print(ss.lower())\n",
    "print(ss.swapcase())\n",
    "print(ss.title())"
   ]
  },
  {
   "cell_type": "code",
   "execution_count": 25,
   "metadata": {},
   "outputs": [
    {
     "name": "stdout",
     "output_type": "stream",
     "text": [
      "2\n",
      "4 21 21 -1\n",
      "4 21 21\n",
      "True False True\n"
     ]
    }
   ],
   "source": [
    "ss = '파이썬 공부는 즐겁습니다. 물론 모든 공부가 다 재미있지는 않죠.'\n",
    "print(ss.count('공부'))\n",
    "print(ss.find('공부'), ss.rfind('공부'), ss.find('공부', 5), ss.find('없다'))\n",
    "print(ss.index('공부'), ss.rindex('공부'), ss.index('공부', 5))\n",
    "print(ss.startswith('파이썬'), ss.startswith('파이썬', 10), ss.endswith('.'))"
   ]
  },
  {
   "cell_type": "code",
   "execution_count": 26,
   "metadata": {},
   "outputs": [
    {
     "name": "stdout",
     "output_type": "stream",
     "text": [
      "입력 문자열 ==> 파이썬 열골\n",
      "출력 문자열 ==> (파이썬 열골)"
     ]
    }
   ],
   "source": [
    "ss = input('입력 문자열 ==> ')\n",
    "print('출력 문자열 ==> ', end = '')\n",
    "\n",
    "if ss.startswith('(') == False:\n",
    "    print('(', end = '')\n",
    "    \n",
    "print(ss, end = '')\n",
    "\n",
    "if ss.endswith(')') == False:\n",
    "    print(')', end = '')"
   ]
  },
  {
   "cell_type": "code",
   "execution_count": 27,
   "metadata": {},
   "outputs": [
    {
     "name": "stdout",
     "output_type": "stream",
     "text": [
      "파  이  썬\n",
      "   파  이  썬\n",
      "파  이  썬     \n"
     ]
    }
   ],
   "source": [
    "ss = '   파  이  썬     '\n",
    "print(ss.strip())\n",
    "print(ss.rstrip())\n",
    "print(ss.lstrip())"
   ]
  },
  {
   "cell_type": "code",
   "execution_count": 28,
   "metadata": {},
   "outputs": [
    {
     "name": "stdout",
     "output_type": "stream",
     "text": [
      "파--이--썬\n"
     ]
    }
   ],
   "source": [
    "ss = '----파--이--썬----'\n",
    "print(ss.strip('-'))"
   ]
  },
  {
   "cell_type": "code",
   "execution_count": 29,
   "metadata": {},
   "outputs": [
    {
     "name": "stdout",
     "output_type": "stream",
     "text": [
      "파 << 이 >> 썬\n"
     ]
    }
   ],
   "source": [
    "ss = '<<<파 << 이 >> 썬>>>'\n",
    "print(ss.strip('<>'))"
   ]
  },
  {
   "cell_type": "code",
   "execution_count": 30,
   "metadata": {},
   "outputs": [
    {
     "name": "stdout",
     "output_type": "stream",
     "text": [
      "원래 문자열 ==>    한글 python 프로그래밍   \n",
      "공백 삭제 문자열 ==> 한글python프로그래밍\n"
     ]
    }
   ],
   "source": [
    "inStr = '  한글 python 프로그래밍   '\n",
    "outStr = ''\n",
    "\n",
    "for i in range(len(inStr)):\n",
    "    if inStr[i] != ' ' :\n",
    "        outStr += inStr[i]\n",
    "        \n",
    "print('원래 문자열 ==> ', inStr)\n",
    "print('공백 삭제 문자열 ==>', outStr)"
   ]
  },
  {
   "cell_type": "code",
   "execution_count": 31,
   "metadata": {},
   "outputs": [
    {
     "data": {
      "text/plain": [
       "'Python 프로그래밍'"
      ]
     },
     "execution_count": 31,
     "metadata": {},
     "output_type": "execute_result"
    }
   ],
   "source": [
    "ss = '파이썬 프로그래밍'\n",
    "ss.replace('파이썬', 'Python')"
   ]
  },
  {
   "cell_type": "code",
   "execution_count": 33,
   "metadata": {},
   "outputs": [
    {
     "name": "stdout",
     "output_type": "stream",
     "text": [
      "입력 문자열 ==> IT CookBook for Python\n",
      "출력 문자열 ==> IT C$$kB$$k f$r Pyth$n"
     ]
    }
   ],
   "source": [
    "ss = input('입력 문자열 ==> ')\n",
    "\n",
    "print('출력 문자열 ==> ', end = '')\n",
    "for i in range(len(ss)):\n",
    "    if ss[i] != 'o' :\n",
    "        print(ss[i], end = '')\n",
    "    else : \n",
    "        print('$', end = '')"
   ]
  },
  {
   "cell_type": "code",
   "execution_count": 34,
   "metadata": {},
   "outputs": [
    {
     "name": "stdout",
     "output_type": "stream",
     "text": [
      "입력 문자열 ==> IT CookBook for Python\n",
      "출력 문자열 ==>  IT C$$kB$$k f$r Pyth$n\n"
     ]
    }
   ],
   "source": [
    "ss = input('입력 문자열 ==> ')\n",
    "\n",
    "print('출력 문자열 ==> ', ss.replace('o', '$'))"
   ]
  },
  {
   "cell_type": "code",
   "execution_count": 35,
   "metadata": {},
   "outputs": [
    {
     "data": {
      "text/plain": [
       "['Python을', '열심히', '공부', '중']"
      ]
     },
     "execution_count": 35,
     "metadata": {},
     "output_type": "execute_result"
    }
   ],
   "source": [
    "ss = 'Python을 열심히 공부 중'\n",
    "ss.split()"
   ]
  },
  {
   "cell_type": "code",
   "execution_count": 36,
   "metadata": {},
   "outputs": [
    {
     "data": {
      "text/plain": [
       "['하나', '둘', '셋']"
      ]
     },
     "execution_count": 36,
     "metadata": {},
     "output_type": "execute_result"
    }
   ],
   "source": [
    "ss = '하나:둘:셋'\n",
    "ss.split(':')"
   ]
  },
  {
   "cell_type": "code",
   "execution_count": 37,
   "metadata": {},
   "outputs": [
    {
     "data": {
      "text/plain": [
       "['하나', '둘', '셋']"
      ]
     },
     "execution_count": 37,
     "metadata": {},
     "output_type": "execute_result"
    }
   ],
   "source": [
    "ss = '하나\\n둘\\n셋'\n",
    "ss.splitlines()"
   ]
  },
  {
   "cell_type": "code",
   "execution_count": 38,
   "metadata": {},
   "outputs": [
    {
     "data": {
      "text/plain": [
       "'파%이%썬'"
      ]
     },
     "execution_count": 38,
     "metadata": {},
     "output_type": "execute_result"
    }
   ],
   "source": [
    "ss = '%'\n",
    "ss.join('파이썬')"
   ]
  },
  {
   "cell_type": "code",
   "execution_count": 40,
   "metadata": {},
   "outputs": [
    {
     "name": "stdout",
     "output_type": "stream",
     "text": [
      "날짜(연/월/일) 입력 ==> 2019/12/31\n",
      "입력한 날짜의 10년 후 ==> 2029년 12월 31일\n"
     ]
    }
   ],
   "source": [
    "ss = input('날짜(연/월/일) 입력 ==> ')\n",
    "\n",
    "ssList = ss.split('/')\n",
    "\n",
    "print(f'입력한 날짜의 10년 후 ==> {int(ssList[0])+10}년 {ssList[1]}월 {ssList[2]}일')\n"
   ]
  },
  {
   "cell_type": "code",
   "execution_count": 41,
   "metadata": {},
   "outputs": [
    {
     "data": {
      "text/plain": [
       "[2019, 12, 31]"
      ]
     },
     "execution_count": 41,
     "metadata": {},
     "output_type": "execute_result"
    }
   ],
   "source": [
    "before = ['2019', '12', '31']\n",
    "after = list(map(int, before))\n",
    "after"
   ]
  },
  {
   "cell_type": "code",
   "execution_count": 42,
   "metadata": {},
   "outputs": [
    {
     "name": "stdout",
     "output_type": "stream",
     "text": [
      "   파이썬    \n",
      "---파이썬----\n",
      "파이썬       \n",
      "       파이썬\n",
      "0000000파이썬\n"
     ]
    }
   ],
   "source": [
    "ss = '파이썬'\n",
    "print(ss.center(10))\n",
    "print(ss.center(10, '-'))\n",
    "print(ss.ljust(10))\n",
    "print(ss.rjust(10))\n",
    "print(ss.zfill(10))"
   ]
  },
  {
   "cell_type": "code",
   "execution_count": 44,
   "metadata": {},
   "outputs": [
    {
     "name": "stdout",
     "output_type": "stream",
     "text": [
      "True\n",
      "True\n",
      "True\n",
      "True\n",
      "True\n",
      "True\n"
     ]
    }
   ],
   "source": [
    "print('1234'.isdigit())\n",
    "print('abcd'.isalpha())\n",
    "print('abc123'.isalnum())\n",
    "print('abcd'.islower())\n",
    "print('ABCD'.isupper())\n",
    "print('  '.isspace())"
   ]
  },
  {
   "cell_type": "markdown",
   "metadata": {},
   "source": [
    "### 2. [프로그램 2]의 완성"
   ]
  },
  {
   "cell_type": "code",
   "execution_count": null,
   "metadata": {},
   "outputs": [],
   "source": [
    "import turtle\n",
    "import random\n",
    "from tkinter.simpledialog import *\n",
    "\n",
    "swidth = 300\n",
    "sheight = 300\n",
    "\n",
    "turtle.title('거북이 글자쓰기')\n",
    "turtle.shape('turtle')\n",
    "turtle.setup(width = swidth + 50, height = sheight + 50)\n",
    "turtle.screensize(swidth, sheight)\n",
    "turtle.penup()\n",
    "\n",
    "inStr = askstring('문자열 입력', '거북이 쓸 문자열을 입력')\n",
    "\n",
    "for ch in inStr :\n",
    "    tX = random.randrange(-swidth / 2, swidth / 2)\n",
    "    tY = random.randrange(-sheight / 2, sheight / 2)\n",
    "    r = random.random()\n",
    "    g = random.random()\n",
    "    b = random.random()\n",
    "    txtSize = random.randrange(10, 50)\n",
    "    \n",
    "    turtle.goto(tX, tY)\n",
    "    turtle.pencolor((r, g, b))\n",
    "    turtle.write(ch, font = ('맑은 고딕', txtSize, 'bold'))\n",
    "    \n",
    "turtle.done()"
   ]
  },
  {
   "cell_type": "markdown",
   "metadata": {},
   "source": [
    "# ================================"
   ]
  },
  {
   "cell_type": "markdown",
   "metadata": {},
   "source": [
    "# CHAPTER 09_함수와 모듈"
   ]
  },
  {
   "cell_type": "markdown",
   "metadata": {},
   "source": [
    "## SECTION 02_함수 기본"
   ]
  },
  {
   "cell_type": "markdown",
   "metadata": {},
   "source": [
    "### 2. 함수의 형식과 활용"
   ]
  },
  {
   "cell_type": "code",
   "execution_count": 4,
   "metadata": {},
   "outputs": [
    {
     "name": "stdout",
     "output_type": "stream",
     "text": [
      "100과 200의 plus() 함수 결과는 300\n"
     ]
    }
   ],
   "source": [
    "def plus(v1, v2) :\n",
    "    result = v1 + v2\n",
    "    return result\n",
    "\n",
    "hap = plus(100, 200)\n",
    "print('100과 200의 plus() 함수 결과는', hap)"
   ]
  },
  {
   "cell_type": "code",
   "execution_count": 7,
   "metadata": {
    "scrolled": true
   },
   "outputs": [
    {
     "name": "stdout",
     "output_type": "stream",
     "text": [
      "계산을 입력하세요 (+, -, *, /) :*\n",
      "첫 번째 수를 입력하세요 : 7\n",
      "두 번째 수를 입력하세요 : 8\n",
      "## 계산기 : 7 * 8 = 56\n"
     ]
    }
   ],
   "source": [
    "def calc(v1, v2, op):\n",
    "    if op == '+':\n",
    "        result = v1 + v2\n",
    "    elif op == '-':\n",
    "        result = v1 - v2\n",
    "    elif op == '*':\n",
    "        result = v1 * v2\n",
    "    elif op == '/':\n",
    "        result = v1 / v2\n",
    "        \n",
    "    return result\n",
    "        \n",
    "oper = input('계산을 입력하세요 (+, -, *, /) :')\n",
    "var1 = int(input('첫 번째 수를 입력하세요 : '))\n",
    "var2 = int(input('두 번째 수를 입력하세요 : '))\n",
    "\n",
    "res = calc(var1, var2, oper)\n",
    "\n",
    "print(f'## 계산기 : {var1} {oper} {var2} = {res}')"
   ]
  },
  {
   "cell_type": "markdown",
   "metadata": {},
   "source": [
    "## SECTION 03_지역 변수, 전역 변수"
   ]
  },
  {
   "cell_type": "markdown",
   "metadata": {},
   "source": [
    "### 1. 지역 변수와 전역 변수의 이해"
   ]
  },
  {
   "cell_type": "code",
   "execution_count": 1,
   "metadata": {},
   "outputs": [
    {
     "name": "stdout",
     "output_type": "stream",
     "text": [
      "func1()에서 a 값 10\n",
      "func2()에서 a 값 20\n"
     ]
    }
   ],
   "source": [
    "def func1() :\n",
    "    a = 10\n",
    "    print('func1()에서 a 값', a)\n",
    "    \n",
    "def func2() :\n",
    "    print('func2()에서 a 값', a)\n",
    "    \n",
    "    \n",
    "a = 20\n",
    "\n",
    "func1()\n",
    "func2()"
   ]
  },
  {
   "cell_type": "markdown",
   "metadata": {},
   "source": [
    "### 2. global 예약어"
   ]
  },
  {
   "cell_type": "code",
   "execution_count": 3,
   "metadata": {
    "scrolled": true
   },
   "outputs": [
    {
     "name": "stdout",
     "output_type": "stream",
     "text": [
      "func1()에서 a 값 10\n",
      "func2()에서 a 값 10\n"
     ]
    }
   ],
   "source": [
    "def func1() :\n",
    "    global a\n",
    "    a = 10\n",
    "    print('func1()에서 a 값', a)\n",
    "    \n",
    "def func2() :\n",
    "    print('func2()에서 a 값', a)\n",
    "    \n",
    "a = 20\n",
    "\n",
    "func1()\n",
    "func2()"
   ]
  },
  {
   "cell_type": "markdown",
   "metadata": {},
   "source": [
    "## SECTION 04_함수의 반환값과 매개변수"
   ]
  },
  {
   "cell_type": "markdown",
   "metadata": {},
   "source": [
    "### 1. 함수의 반환값"
   ]
  },
  {
   "cell_type": "code",
   "execution_count": 4,
   "metadata": {},
   "outputs": [
    {
     "name": "stdout",
     "output_type": "stream",
     "text": [
      "func1()의 반환값 ==> 100\n",
      "반환값이 없는 함수 실행\n"
     ]
    }
   ],
   "source": [
    "def func1() :\n",
    "    result = 100\n",
    "    return result\n",
    "\n",
    "def func2() :\n",
    "    print('반환값이 없는 함수 실행')\n",
    "    \n",
    "hap = 0\n",
    "\n",
    "hap = func1()\n",
    "print('func1()의 반환값 ==>', hap)\n",
    "func2()"
   ]
  },
  {
   "cell_type": "code",
   "execution_count": 5,
   "metadata": {},
   "outputs": [
    {
     "name": "stdout",
     "output_type": "stream",
     "text": [
      "multi의 반환값 300 -100\n"
     ]
    }
   ],
   "source": [
    "def multi(v1, v2) :\n",
    "    retList = []\n",
    "    res1 = v1 + v2\n",
    "    res2 = v1 - v2\n",
    "    retList.append(res1)\n",
    "    retList.append(res2)\n",
    "    return retList\n",
    "\n",
    "myList = multi(100, 200)\n",
    "hap = myList[0]\n",
    "sub = myList[1]\n",
    "print('multi의 반환값', hap, sub)"
   ]
  },
  {
   "cell_type": "code",
   "execution_count": 6,
   "metadata": {},
   "outputs": [
    {
     "name": "stdout",
     "output_type": "stream",
     "text": [
      "multi의 반환값 300 -100\n"
     ]
    }
   ],
   "source": [
    "def multi(v1, v2) :\n",
    "    retList = []\n",
    "    res1 = v1 + v2\n",
    "    res2 = v1 - v2\n",
    "    retList.append(res1)\n",
    "    retList.append(res2)\n",
    "    return retList\n",
    "\n",
    "hap, sub = multi(100, 200)\n",
    "print('multi의 반환값', hap, sub)"
   ]
  },
  {
   "cell_type": "code",
   "execution_count": 7,
   "metadata": {},
   "outputs": [
    {
     "name": "stdout",
     "output_type": "stream",
     "text": [
      "multi의 반환값 300 -100\n"
     ]
    }
   ],
   "source": [
    "def multi(v1, v2) :\n",
    "    retList = []\n",
    "    res1 = v1 + v2\n",
    "    res2 = v1 - v2\n",
    "    return res1, res2\n",
    "\n",
    "hap, sub = multi(100, 200)\n",
    "print('multi의 반환값', hap, sub)"
   ]
  },
  {
   "cell_type": "code",
   "execution_count": 8,
   "metadata": {},
   "outputs": [],
   "source": [
    "def myFunc() :\n",
    "    pass"
   ]
  },
  {
   "cell_type": "code",
   "execution_count": 9,
   "metadata": {},
   "outputs": [],
   "source": [
    "if True :\n",
    "    pass\n",
    "else :\n",
    "    print('거짓')"
   ]
  },
  {
   "cell_type": "markdown",
   "metadata": {},
   "source": [
    "---\n",
    "중간고사\n",
    "\n",
    "---"
   ]
  },
  {
   "cell_type": "markdown",
   "metadata": {},
   "source": [
    "### 2. 함수의 매개변수 전달"
   ]
  },
  {
   "cell_type": "markdown",
   "metadata": {},
   "source": [
    "#### 매개변수의 개수를 지정해 전달하는 방법"
   ]
  },
  {
   "cell_type": "code",
   "execution_count": 2,
   "metadata": {},
   "outputs": [
    {
     "name": "stdout",
     "output_type": "stream",
     "text": [
      "매개변수가 2개인 함수를 호출한 결과 : 30\n",
      "매개변수가 3개인 함수를 호출한 결과 : 60\n"
     ]
    }
   ],
   "source": [
    "def para2_func(v1, v2) : \n",
    "    result = v1 + v2\n",
    "    return result\n",
    "\n",
    "def para3_func(v1, v2, v3) :\n",
    "    result = v1 + v2 + v3\n",
    "    return result\n",
    "\n",
    "hap = para2_func(10, 20)\n",
    "print('매개변수가 2개인 함수를 호출한 결과 :', hap)\n",
    "hap = para3_func(10, 20, 30)\n",
    "print('매개변수가 3개인 함수를 호출한 결과 :', hap)"
   ]
  },
  {
   "cell_type": "markdown",
   "metadata": {},
   "source": [
    "#### 매개변수에 기본값을 설정해 놓고 전달하는 방법"
   ]
  },
  {
   "cell_type": "code",
   "execution_count": 3,
   "metadata": {},
   "outputs": [
    {
     "name": "stdout",
     "output_type": "stream",
     "text": [
      "매개변수가 2개인 함수를 호출한 결과 : 30\n",
      "매개변수가 3개인 함수를 호출한 결과 : 60\n"
     ]
    }
   ],
   "source": [
    "def para_func(v1, v2, v3 = 0) : \n",
    "    result = v1 + v2 + v3\n",
    "    return result\n",
    "\n",
    "hap = para_func(10, 20)\n",
    "print('매개변수가 2개인 함수를 호출한 결과 :', hap)\n",
    "hap = para_func(10, 20, 30)\n",
    "print('매개변수가 3개인 함수를 호출한 결과 :', hap)"
   ]
  },
  {
   "cell_type": "markdown",
   "metadata": {},
   "source": [
    "#### 매개변수의 개수를 지정하지 않고 전달하는 방법"
   ]
  },
  {
   "cell_type": "code",
   "execution_count": 4,
   "metadata": {},
   "outputs": [
    {
     "name": "stdout",
     "output_type": "stream",
     "text": [
      "매개변수가 2개인 함수를 호출한 결과 : 30\n",
      "매개변수가 3개인 함수를 호출한 결과 : 60\n"
     ]
    }
   ],
   "source": [
    "def para_func(*para) :\n",
    "    result = 0\n",
    "    for num in para :\n",
    "        result += num\n",
    "        \n",
    "    return result\n",
    "\n",
    "hap = para_func(10, 20)\n",
    "print('매개변수가 2개인 함수를 호출한 결과 :', hap)\n",
    "hap = para_func(10, 20, 30)\n",
    "print('매개변수가 3개인 함수를 호출한 결과 :', hap)"
   ]
  },
  {
   "cell_type": "code",
   "execution_count": 5,
   "metadata": {
    "scrolled": true
   },
   "outputs": [
    {
     "name": "stdout",
     "output_type": "stream",
     "text": [
      "트와이스 --> 9명입니다.\n",
      "소녀시대 --> 7명입니다.\n",
      "걸스데이 --> 4명입니다.\n",
      "블랙핑크 --> 4명입니다.\n"
     ]
    }
   ],
   "source": [
    "def dic_func(**para) :\n",
    "    for k in para.keys() :\n",
    "        print(f'{k:s} --> {para[k]:d}명입니다.')\n",
    "        \n",
    "dic_func(트와이스 = 9, 소녀시대 = 7, 걸스데이 = 4, 블랙핑크 = 4)"
   ]
  },
  {
   "cell_type": "markdown",
   "metadata": {},
   "source": [
    "### 3. [프로그램 1]의 완성"
   ]
  },
  {
   "cell_type": "code",
   "execution_count": 8,
   "metadata": {
    "scrolled": true
   },
   "outputs": [
    {
     "name": "stdout",
     "output_type": "stream",
     "text": [
      "로또 번호 ==> 8 23 28 29 36 45 "
     ]
    }
   ],
   "source": [
    "import random\n",
    "\n",
    "def getNumber() :\n",
    "    return random.randrange(1, 46)\n",
    "\n",
    "lotto = []\n",
    "\n",
    "while True :\n",
    "    num = getNumber()\n",
    "    \n",
    "    if lotto.count(num) == 0:\n",
    "        lotto.append(num)\n",
    "        \n",
    "    if len(lotto) >= 6:\n",
    "        break\n",
    "        \n",
    "print('로또 번호 ==> ', end = '')\n",
    "lotto.sort()\n",
    "for i in range(6):\n",
    "    print(lotto[i], end = ' ')"
   ]
  },
  {
   "cell_type": "markdown",
   "metadata": {},
   "source": [
    "## SECTION 05_모듈"
   ]
  },
  {
   "cell_type": "markdown",
   "metadata": {},
   "source": [
    "### 1. 모듈의 생성과 사용"
   ]
  },
  {
   "cell_type": "raw",
   "metadata": {},
   "source": [
    "def func1() :\n",
    "    print('Module1.py의 func1()이 호출됨')\n",
    "    \n",
    "def func2() :\n",
    "    print('Module1.py의 func2()이 호출됨')\n",
    "    \n",
    "def func3() :\n",
    "    print('Module1.py의 func3()이 호출됨')"
   ]
  },
  {
   "cell_type": "raw",
   "metadata": {},
   "source": [
    "import Module1\n",
    "\n",
    "Module1.func1()\n",
    "Module1.func2()\n",
    "Module1.func3()"
   ]
  },
  {
   "cell_type": "raw",
   "metadata": {},
   "source": [
    "from 모듈명 import 함수1, 함수2, 함수3 (또는 from 모듈명 import *)\n",
    "\n",
    "func1()\n",
    "func2()\n",
    "func3()"
   ]
  },
  {
   "cell_type": "markdown",
   "metadata": {},
   "source": [
    "### 2. 모듈의 종류"
   ]
  },
  {
   "cell_type": "code",
   "execution_count": 13,
   "metadata": {
    "scrolled": true
   },
   "outputs": [
    {
     "data": {
      "text/plain": [
       "('_abc',\n",
       " '_ast',\n",
       " '_bisect',\n",
       " '_blake2',\n",
       " '_codecs',\n",
       " '_codecs_cn',\n",
       " '_codecs_hk',\n",
       " '_codecs_iso2022',\n",
       " '_codecs_jp',\n",
       " '_codecs_kr',\n",
       " '_codecs_tw',\n",
       " '_collections',\n",
       " '_contextvars',\n",
       " '_csv',\n",
       " '_datetime',\n",
       " '_functools',\n",
       " '_heapq',\n",
       " '_imp',\n",
       " '_io',\n",
       " '_json',\n",
       " '_locale',\n",
       " '_lsprof',\n",
       " '_md5',\n",
       " '_multibytecodec',\n",
       " '_opcode',\n",
       " '_operator',\n",
       " '_pickle',\n",
       " '_random',\n",
       " '_sha1',\n",
       " '_sha256',\n",
       " '_sha3',\n",
       " '_sha512',\n",
       " '_signal',\n",
       " '_sre',\n",
       " '_stat',\n",
       " '_statistics',\n",
       " '_string',\n",
       " '_struct',\n",
       " '_symtable',\n",
       " '_thread',\n",
       " '_tracemalloc',\n",
       " '_warnings',\n",
       " '_weakref',\n",
       " '_winapi',\n",
       " '_xxsubinterpreters',\n",
       " 'array',\n",
       " 'atexit',\n",
       " 'audioop',\n",
       " 'binascii',\n",
       " 'builtins',\n",
       " 'cmath',\n",
       " 'errno',\n",
       " 'faulthandler',\n",
       " 'gc',\n",
       " 'itertools',\n",
       " 'marshal',\n",
       " 'math',\n",
       " 'mmap',\n",
       " 'msvcrt',\n",
       " 'nt',\n",
       " 'parser',\n",
       " 'sys',\n",
       " 'time',\n",
       " 'winreg',\n",
       " 'xxsubtype',\n",
       " 'zlib')"
      ]
     },
     "execution_count": 13,
     "metadata": {},
     "output_type": "execute_result"
    }
   ],
   "source": [
    "import sys\n",
    "sys.builtin_module_names"
   ]
  },
  {
   "cell_type": "code",
   "execution_count": 14,
   "metadata": {
    "scrolled": true
   },
   "outputs": [
    {
     "data": {
      "text/plain": [
       "['__doc__',\n",
       " '__loader__',\n",
       " '__name__',\n",
       " '__package__',\n",
       " '__spec__',\n",
       " 'acos',\n",
       " 'acosh',\n",
       " 'asin',\n",
       " 'asinh',\n",
       " 'atan',\n",
       " 'atan2',\n",
       " 'atanh',\n",
       " 'ceil',\n",
       " 'comb',\n",
       " 'copysign',\n",
       " 'cos',\n",
       " 'cosh',\n",
       " 'degrees',\n",
       " 'dist',\n",
       " 'e',\n",
       " 'erf',\n",
       " 'erfc',\n",
       " 'exp',\n",
       " 'expm1',\n",
       " 'fabs',\n",
       " 'factorial',\n",
       " 'floor',\n",
       " 'fmod',\n",
       " 'frexp',\n",
       " 'fsum',\n",
       " 'gamma',\n",
       " 'gcd',\n",
       " 'hypot',\n",
       " 'inf',\n",
       " 'isclose',\n",
       " 'isfinite',\n",
       " 'isinf',\n",
       " 'isnan',\n",
       " 'isqrt',\n",
       " 'ldexp',\n",
       " 'lgamma',\n",
       " 'log',\n",
       " 'log10',\n",
       " 'log1p',\n",
       " 'log2',\n",
       " 'modf',\n",
       " 'nan',\n",
       " 'perm',\n",
       " 'pi',\n",
       " 'pow',\n",
       " 'prod',\n",
       " 'radians',\n",
       " 'remainder',\n",
       " 'sin',\n",
       " 'sinh',\n",
       " 'sqrt',\n",
       " 'tan',\n",
       " 'tanh',\n",
       " 'tau',\n",
       " 'trunc']"
      ]
     },
     "execution_count": 14,
     "metadata": {},
     "output_type": "execute_result"
    }
   ],
   "source": [
    "import math\n",
    "dir(math)"
   ]
  },
  {
   "cell_type": "markdown",
   "metadata": {},
   "source": [
    "#### 함수의 매개변수 전달 방법"
   ]
  },
  {
   "cell_type": "code",
   "execution_count": 16,
   "metadata": {},
   "outputs": [
    {
     "name": "stdout",
     "output_type": "stream",
     "text": [
      "111\n"
     ]
    }
   ],
   "source": [
    "# 값에 의한 전달\n",
    "def func(p) : # p는 별도의 메모리 공간을 확보\n",
    "    p = 222\n",
    "    \n",
    "v = 111\n",
    "func(v)\n",
    "print(v)"
   ]
  },
  {
   "cell_type": "code",
   "execution_count": 17,
   "metadata": {},
   "outputs": [
    {
     "name": "stdout",
     "output_type": "stream",
     "text": [
      "222\n"
     ]
    }
   ],
   "source": [
    "# 참조에 의한 전달\n",
    "def func(p) : # 리스트 p는 리스트 v와 메모리를 공유\n",
    "    p[0] = 222\n",
    "    \n",
    "v = [111]\n",
    "func(v)\n",
    "print(v[0])"
   ]
  },
  {
   "cell_type": "markdown",
   "metadata": {},
   "source": [
    "## SECTION 06_함수의 심화 내용"
   ]
  },
  {
   "cell_type": "markdown",
   "metadata": {},
   "source": [
    "### 1. 패키지"
   ]
  },
  {
   "cell_type": "raw",
   "metadata": {},
   "source": [
    "from 패키지명.모듈명 import 함수명"
   ]
  },
  {
   "cell_type": "markdown",
   "metadata": {},
   "source": [
    "### 2. 내부 함수, lambda, map()"
   ]
  },
  {
   "cell_type": "markdown",
   "metadata": {},
   "source": [
    "#### 내부 함수"
   ]
  },
  {
   "cell_type": "code",
   "execution_count": 18,
   "metadata": {},
   "outputs": [
    {
     "name": "stdout",
     "output_type": "stream",
     "text": [
      "30\n"
     ]
    }
   ],
   "source": [
    "def outFunc(v1, v2):\n",
    "    def inFunc(num1, num2):\n",
    "        return num1 + num2\n",
    "    return inFunc(v1, v2)\n",
    "print(outFunc(10, 20))"
   ]
  },
  {
   "cell_type": "markdown",
   "metadata": {},
   "source": [
    "#### 람다 함수"
   ]
  },
  {
   "cell_type": "code",
   "execution_count": 19,
   "metadata": {},
   "outputs": [
    {
     "name": "stdout",
     "output_type": "stream",
     "text": [
      "30\n"
     ]
    }
   ],
   "source": [
    "def hap(num1, num2) :\n",
    "    res = num1 + num2\n",
    "    return res\n",
    "print(hap(10, 20))"
   ]
  },
  {
   "cell_type": "code",
   "execution_count": 20,
   "metadata": {},
   "outputs": [
    {
     "name": "stdout",
     "output_type": "stream",
     "text": [
      "30\n"
     ]
    }
   ],
   "source": [
    "hap2 = lambda num1, num2 : num1 + num2\n",
    "print(hap2(10, 20))"
   ]
  },
  {
   "cell_type": "code",
   "execution_count": 21,
   "metadata": {},
   "outputs": [
    {
     "name": "stdout",
     "output_type": "stream",
     "text": [
      "30\n",
      "300\n"
     ]
    }
   ],
   "source": [
    "hap3 = lambda num1 = 10, num2 = 20 : num1 + num2\n",
    "print(hap3())\n",
    "print(hap3(100, 200))"
   ]
  },
  {
   "cell_type": "code",
   "execution_count": 22,
   "metadata": {},
   "outputs": [
    {
     "name": "stdout",
     "output_type": "stream",
     "text": [
      "[11, 12, 13, 14, 15]\n"
     ]
    }
   ],
   "source": [
    "myList = [1, 2, 3, 4, 5]\n",
    "def add10(num) :\n",
    "    return num + 10\n",
    "\n",
    "for i in range(len(myList)):\n",
    "    myList[i] = add10(myList[i])\n",
    "print(myList)"
   ]
  },
  {
   "cell_type": "code",
   "execution_count": 23,
   "metadata": {},
   "outputs": [
    {
     "name": "stdout",
     "output_type": "stream",
     "text": [
      "[11, 12, 13, 14, 15]\n"
     ]
    }
   ],
   "source": [
    "myList = [1, 2, 3, 4, 5]\n",
    "add10 = lambda num : num + 10\n",
    "myList = list(map(add10, myList))\n",
    "print(myList)"
   ]
  },
  {
   "cell_type": "code",
   "execution_count": 25,
   "metadata": {},
   "outputs": [
    {
     "name": "stdout",
     "output_type": "stream",
     "text": [
      "[11, 12, 13, 14, 15]\n"
     ]
    }
   ],
   "source": [
    "myList = [1, 2, 3, 4, 5]\n",
    "myList = list(map(lambda num : num + 10, myList))\n",
    "print(myList)"
   ]
  },
  {
   "cell_type": "code",
   "execution_count": 27,
   "metadata": {},
   "outputs": [
    {
     "name": "stdout",
     "output_type": "stream",
     "text": [
      "[11, 22, 33, 44]\n"
     ]
    }
   ],
   "source": [
    "list1 = [1, 2, 3, 4]\n",
    "list2 = [10, 20, 30, 40]\n",
    "haplist = list(map(lambda n1, n2 : n1 + n2, list1, list2))\n",
    "print(haplist)"
   ]
  },
  {
   "cell_type": "markdown",
   "metadata": {},
   "source": [
    "### 3. 재귀 함수"
   ]
  },
  {
   "cell_type": "raw",
   "metadata": {},
   "source": [
    "def selfCall() :\n",
    "    print('하', end = '')\n",
    "    selfCall()\n",
    "    \n",
    "selfCall()"
   ]
  },
  {
   "cell_type": "code",
   "execution_count": 32,
   "metadata": {},
   "outputs": [
    {
     "name": "stdout",
     "output_type": "stream",
     "text": [
      "10 9 8 7 6 5 4 3 2 1 "
     ]
    }
   ],
   "source": [
    "def count(num) :\n",
    "    if num >= 1 :\n",
    "        print(num, end = ' ')\n",
    "        count(num-1)\n",
    "    else :\n",
    "        return\n",
    "    \n",
    "count(10)"
   ]
  },
  {
   "cell_type": "code",
   "execution_count": 33,
   "metadata": {},
   "outputs": [
    {
     "data": {
      "text/plain": [
       "24"
      ]
     },
     "execution_count": 33,
     "metadata": {},
     "output_type": "execute_result"
    }
   ],
   "source": [
    "def factorial(num) :\n",
    "    if num <= 1:\n",
    "        return num\n",
    "    else :\n",
    "        return num * factorial(num-1)\n",
    "    \n",
    "factorial(4)"
   ]
  },
  {
   "cell_type": "markdown",
   "metadata": {},
   "source": [
    "### 4. 제너레이터와 yield"
   ]
  },
  {
   "cell_type": "code",
   "execution_count": 36,
   "metadata": {},
   "outputs": [
    {
     "name": "stdout",
     "output_type": "stream",
     "text": [
      "[1, 2, 3]\n"
     ]
    }
   ],
   "source": [
    "def genFunc() :\n",
    "    yield 1\n",
    "    yield 2\n",
    "    yield 3\n",
    "    \n",
    "print(list(genFunc()))"
   ]
  },
  {
   "cell_type": "code",
   "execution_count": 39,
   "metadata": {
    "scrolled": true
   },
   "outputs": [
    {
     "name": "stdout",
     "output_type": "stream",
     "text": [
      "0\n",
      "제너레이터 진행 중\n",
      "1\n",
      "제너레이터 진행 중\n",
      "2\n",
      "제너레이터 진행 중\n",
      "3\n",
      "제너레이터 진행 중\n",
      "4\n",
      "제너레이터 진행 중\n"
     ]
    }
   ],
   "source": [
    "def genFunc(num) :\n",
    "    for i in range(num) :\n",
    "        yield i\n",
    "        print('제너레이터 진행 중')\n",
    "for data in genFunc(5) :\n",
    "    print(data)"
   ]
  },
  {
   "cell_type": "markdown",
   "metadata": {},
   "source": [
    "# ================================"
   ]
  },
  {
   "cell_type": "markdown",
   "metadata": {},
   "source": [
    "# CHAPTER 11_파일 입출력"
   ]
  },
  {
   "cell_type": "markdown",
   "metadata": {},
   "source": [
    "## SECTION 03_텍스트 파일 입출력"
   ]
  },
  {
   "cell_type": "markdown",
   "metadata": {},
   "source": [
    "### 2. 한 행씩 읽어 들이기"
   ]
  },
  {
   "cell_type": "code",
   "execution_count": 6,
   "metadata": {},
   "outputs": [
    {
     "name": "stdout",
     "output_type": "stream",
     "text": [
      "난 잘할 거라 생각해\n",
      "다 잘 될 거라 생각해\n",
      "세상이 던진 물음표에 당당히 맞설게\n",
      "난 힘들어도 갈테니까\n",
      "한 걸음 더 갈테니까\n",
      "날 지켜봐줘 더 나은 내 내일아"
     ]
    }
   ],
   "source": [
    "inFp = open('data1.txt', 'r', encoding = 'UTF-8')\n",
    "\n",
    "inStr = inFp.readline()\n",
    "print(inStr, end ='')\n",
    "\n",
    "inStr = inFp.readline()\n",
    "print(inStr, end ='')\n",
    "\n",
    "inStr = inFp.readline()\n",
    "print(inStr, end ='')\n",
    "\n",
    "inStr = inFp.readline()\n",
    "print(inStr, end ='')\n",
    "\n",
    "inStr = inFp.readline()\n",
    "print(inStr, end ='')\n",
    "\n",
    "inStr = inFp.readline()\n",
    "print(inStr, end ='')\n",
    "\n",
    "inFp.close()"
   ]
  },
  {
   "cell_type": "code",
   "execution_count": 7,
   "metadata": {},
   "outputs": [
    {
     "name": "stdout",
     "output_type": "stream",
     "text": [
      "난 잘할 거라 생각해\n",
      "다 잘 될 거라 생각해\n",
      "세상이 던진 물음표에 당당히 맞설게\n",
      "난 힘들어도 갈테니까\n",
      "한 걸음 더 갈테니까\n",
      "날 지켜봐줘 더 나은 내 내일아"
     ]
    }
   ],
   "source": [
    "inFp =open('data1.txt', 'r', encoding = 'UTF-8')\n",
    "\n",
    "while True :\n",
    "    inStr = inFp.readline()\n",
    "    if inStr == '' :\n",
    "        break\n",
    "    print(inStr, end='')\n",
    "    \n",
    "inFp.close()"
   ]
  },
  {
   "cell_type": "code",
   "execution_count": 10,
   "metadata": {},
   "outputs": [
    {
     "name": "stdout",
     "output_type": "stream",
     "text": [
      "['난 잘할 거라 생각해\\n', '다 잘 될 거라 생각해\\n', '세상이 던진 물음표에 당당히 맞설게\\n', '난 힘들어도 갈테니까\\n', '한 걸음 더 갈테니까\\n', '날 지켜봐줘 더 나은 내 내일아']\n"
     ]
    }
   ],
   "source": [
    "inFp = open('data1.txt', 'r', encoding = 'UTF-8')\n",
    "\n",
    "inList = inFp.readlines()\n",
    "print(inList)\n",
    "\n",
    "ifFp.close()"
   ]
  },
  {
   "cell_type": "markdown",
   "metadata": {},
   "source": [
    "#### with~as 문"
   ]
  },
  {
   "cell_type": "code",
   "execution_count": 11,
   "metadata": {},
   "outputs": [
    {
     "name": "stdout",
     "output_type": "stream",
     "text": [
      "['난 잘할 거라 생각해\\n', '다 잘 될 거라 생각해\\n', '세상이 던진 물음표에 당당히 맞설게\\n', '난 힘들어도 갈테니까\\n', '한 걸음 더 갈테니까\\n', '날 지켜봐줘 더 나은 내 내일아']\n"
     ]
    }
   ],
   "source": [
    "with open('data1.txt.', 'r', encoding = 'UTF-8') as inFp :\n",
    "    inList = inFp.readlines()\n",
    "    print(inList)"
   ]
  },
  {
   "cell_type": "code",
   "execution_count": 15,
   "metadata": {},
   "outputs": [
    {
     "name": "stdout",
     "output_type": "stream",
     "text": [
      "난 잘할 거라 생각해\n",
      "다 잘 될 거라 생각해\n",
      "세상이 던진 물음표에 당당히 맞설게\n",
      "난 힘들어도 갈테니까\n",
      "한 걸음 더 갈테니까\n",
      "날 지켜봐줘 더 나은 내 내일아"
     ]
    }
   ],
   "source": [
    "inFp = open('data1.txt', 'r', encoding = 'UTF-8')\n",
    "\n",
    "inList = inFp.readlines()\n",
    "for inStr in inList :\n",
    "    print(inStr, end = '')\n",
    "    \n",
    "inFp.close()"
   ]
  },
  {
   "cell_type": "code",
   "execution_count": 1,
   "metadata": {},
   "outputs": [
    {
     "name": "stdout",
     "output_type": "stream",
     "text": [
      "파일명을 입력하세요 : C:/Windows/win.ini\n",
      "; for 16-bit app support\n",
      "[fonts]\n",
      "[extensions]\n",
      "[mci extensions]\n",
      "[files]\n",
      "[Mail]\n",
      "MAPI=1\n"
     ]
    }
   ],
   "source": [
    "fName = input('파일명을 입력하세요 : ')\n",
    "inFp = open(fName, 'r', encoding = 'UTF-8')\n",
    "\n",
    "inList = inFp.readlines()\n",
    "for inStr in inList :\n",
    "    print(inStr, end = '')\n",
    "    \n",
    "inFp.close()"
   ]
  },
  {
   "cell_type": "code",
   "execution_count": 2,
   "metadata": {},
   "outputs": [
    {
     "name": "stdout",
     "output_type": "stream",
     "text": [
      "파일명을 입력하세요 : djqtek.txt\n",
      "djqtek.txt 파일이 없습니다.\n"
     ]
    }
   ],
   "source": [
    "import os\n",
    "\n",
    "fName = input('파일명을 입력하세요 : ')\n",
    "if os.path.exists(fName):\n",
    "    inFp = open(fName, 'r', encoding = 'UTF-8')\n",
    "    inList = inFp.readlines()\n",
    "    for inStr in inList :\n",
    "        print(inStr, end = '')\n",
    "        \n",
    "    inFp.close()\n",
    "    \n",
    "else :\n",
    "    print(f'{fName} 파일이 없습니다.')"
   ]
  },
  {
   "cell_type": "markdown",
   "metadata": {},
   "source": [
    "### 3. 파일을 이용한 출력"
   ]
  },
  {
   "cell_type": "code",
   "execution_count": 5,
   "metadata": {},
   "outputs": [
    {
     "name": "stdout",
     "output_type": "stream",
     "text": [
      "내용 입력 : 그래 난 잘할거라 생각해\n",
      "내용 입력 : 다 잘 될거라 생각해\n",
      "내용 입력 : 내 물음표를 느낌표로 멋지게 바꿀게\n",
      "내용 입력 : \n",
      "===입력 완료===\n"
     ]
    }
   ],
   "source": [
    "outFp = open('data2.txt', 'w')\n",
    "\n",
    "while True:\n",
    "    outStr = input('내용 입력 : ')\n",
    "    if outStr != '':\n",
    "        outFp.writelines(outStr + '\\n')\n",
    "    else :\n",
    "        break\n",
    "        \n",
    "outFp.close()\n",
    "print('===입력 완료===')"
   ]
  },
  {
   "cell_type": "code",
   "execution_count": 8,
   "metadata": {},
   "outputs": [
    {
     "name": "stdout",
     "output_type": "stream",
     "text": [
      "===복사 완료===\n"
     ]
    }
   ],
   "source": [
    "inFp = open('C:/Windows/win.ini', 'r')\n",
    "outFp = open('C:/Temp/data3.txt', 'w')\n",
    "\n",
    "inList = inFp.readlines()\n",
    "for inStr in inList :\n",
    "    outFp.writelines(inStr)\n",
    "    \n",
    "inFp.close()\n",
    "outFp.close()\n",
    "print('===복사 완료===')"
   ]
  },
  {
   "cell_type": "markdown",
   "metadata": {},
   "source": [
    "### 4. [프로그램 1]의 완성"
   ]
  },
  {
   "cell_type": "code",
   "execution_count": 10,
   "metadata": {},
   "outputs": [
    {
     "name": "stdout",
     "output_type": "stream",
     "text": [
      "54028\n",
      "파\n"
     ]
    }
   ],
   "source": [
    "print(ord('파'))\n",
    "print(chr(54028))"
   ]
  },
  {
   "cell_type": "code",
   "execution_count": 15,
   "metadata": {},
   "outputs": [
    {
     "name": "stdout",
     "output_type": "stream",
     "text": [
      "1. 암호화 // 2. 암호 해석 : 2\n",
      "입력 파일명 : security.txt\n",
      "출력 파일명 : recovery.txt\n",
      "security.txt --> recovery.txt 변환 완료\n"
     ]
    }
   ],
   "source": [
    "secuYN = input('1. 암호화 // 2. 암호 해석 : ')\n",
    "inFname = input('입력 파일명 : ')\n",
    "outFname = input('출력 파일명 : ')\n",
    "\n",
    "if secuYN == '1':\n",
    "    secu = 100\n",
    "elif secuYN == '2':\n",
    "    secu = -100\n",
    "    \n",
    "inFp = open(inFname, 'r', encoding = 'utf-8')\n",
    "outFp = open(outFname, 'w', encoding = 'utf-8')\n",
    "\n",
    "while True :\n",
    "    inStr = inFp.readline()\n",
    "    if not inStr :\n",
    "        break\n",
    "    \n",
    "    outStr = ''\n",
    "    for i in range(len(inStr)) :\n",
    "        ch = inStr[i]\n",
    "        chNum = ord(ch)\n",
    "        chNum += secu\n",
    "        ch2 = chr(chNum)\n",
    "        outStr = outStr + ch2\n",
    "        \n",
    "    outFp.write(outStr)\n",
    "    \n",
    "outFp.close()\n",
    "inFp.close()\n",
    "print(f'{inFname} --> {outFname} 변환 완료')"
   ]
  },
  {
   "cell_type": "markdown",
   "metadata": {},
   "source": [
    "## SECTION 04. 이진 파일 입출력"
   ]
  },
  {
   "cell_type": "markdown",
   "metadata": {},
   "source": [
    "### 2. 이진 파일의 복사"
   ]
  },
  {
   "cell_type": "code",
   "execution_count": 17,
   "metadata": {},
   "outputs": [
    {
     "name": "stdout",
     "output_type": "stream",
     "text": [
      "==복사 완료==\n"
     ]
    }
   ],
   "source": [
    "inFp = open('C:/Windows/notepad.exe','rb')\n",
    "outFp = open('C:/Temp/notepad.exe', 'wb')\n",
    "\n",
    "while True :\n",
    "    inStr = inFp.read(1)\n",
    "    if not inStr :\n",
    "        break\n",
    "    outFp.write(inStr)\n",
    "    \n",
    "inFp.close()\n",
    "outFp.close()\n",
    "print('==복사 완료==')"
   ]
  },
  {
   "cell_type": "markdown",
   "metadata": {},
   "source": [
    "## SECTION 05. 파일 입출력의 심화 내용"
   ]
  },
  {
   "cell_type": "markdown",
   "metadata": {},
   "source": [
    "### 1. 파일 및 디렉터리 다루기"
   ]
  },
  {
   "cell_type": "markdown",
   "metadata": {},
   "source": [
    "#### 파일 및 디렉터리 복사"
   ]
  },
  {
   "cell_type": "code",
   "execution_count": 20,
   "metadata": {},
   "outputs": [
    {
     "data": {
      "text/plain": [
       "'C:/Temp/myNote.exe'"
      ]
     },
     "execution_count": 20,
     "metadata": {},
     "output_type": "execute_result"
    }
   ],
   "source": [
    "import shutil\n",
    "shutil.copy('C:/Windows/notepad.exe', 'C:/Temp/myNote.exe')"
   ]
  },
  {
   "cell_type": "raw",
   "metadata": {},
   "source": [
    "# 디렉터리를 통째로 복사\n",
    "shutil.copytree(소스파일, 타겟파일)"
   ]
  },
  {
   "cell_type": "markdown",
   "metadata": {},
   "source": [
    "#### 디렉터리의 생성 및 삭제"
   ]
  },
  {
   "cell_type": "code",
   "execution_count": 21,
   "metadata": {},
   "outputs": [],
   "source": [
    "import os\n",
    "import shutil\n",
    "os.mkdir('C:/myDir/')\n",
    "os.mkdir('C:/myDir/dir1')\n",
    "shutil.rmtree('C:/myDir')"
   ]
  },
  {
   "cell_type": "markdown",
   "metadata": {},
   "source": [
    "#### 디렉터리의 목록 모두 보기"
   ]
  },
  {
   "cell_type": "code",
   "execution_count": 26,
   "metadata": {},
   "outputs": [],
   "source": [
    "import os\n",
    "for dirName, subDirList, fnames in os.walk('C:\\\\Windows\\\\debug'):\n",
    "    for fname in fnames :\n",
    "        os.path.join(dirName,fname)"
   ]
  },
  {
   "cell_type": "markdown",
   "metadata": {},
   "source": [
    "#### 파일 또는 폴더가 이미 존재하는지 확인"
   ]
  },
  {
   "cell_type": "code",
   "execution_count": 28,
   "metadata": {},
   "outputs": [
    {
     "name": "stdout",
     "output_type": "stream",
     "text": [
      "True\n",
      "True\n",
      "True\n"
     ]
    }
   ],
   "source": [
    "import os.path\n",
    "print(os.path.exists('C:/Windows/notepad.exe'))\n",
    "print(os.path.isfile('C:/Windows/notepad.exe'))\n",
    "print(os.path.isdir('C:/Windows'))"
   ]
  },
  {
   "cell_type": "markdown",
   "metadata": {},
   "source": [
    "#### 파일 삭제"
   ]
  },
  {
   "cell_type": "raw",
   "metadata": {},
   "source": [
    "import os\n",
    "os.remove('')"
   ]
  },
  {
   "cell_type": "markdown",
   "metadata": {},
   "source": [
    "#### 파일 크기 확인"
   ]
  },
  {
   "cell_type": "code",
   "execution_count": 29,
   "metadata": {},
   "outputs": [
    {
     "data": {
      "text/plain": [
       "202240"
      ]
     },
     "execution_count": 29,
     "metadata": {},
     "output_type": "execute_result"
    }
   ],
   "source": [
    "import os.path\n",
    "os.path.getsize('C:/Windows/notepad.exe')"
   ]
  },
  {
   "cell_type": "markdown",
   "metadata": {},
   "source": [
    "#### 파일 압축과 압축 풀기"
   ]
  },
  {
   "cell_type": "code",
   "execution_count": 33,
   "metadata": {},
   "outputs": [],
   "source": [
    "import zipfile\n",
    "newZip = zipfile.ZipFile('C:/Temp/new.zip', 'w')\n",
    "newZip.write('C:/Windows/notepad.exe', compress_type = zipfile.ZIP_DEFLATED)\n",
    "newZip.close()"
   ]
  },
  {
   "cell_type": "code",
   "execution_count": 38,
   "metadata": {},
   "outputs": [],
   "source": [
    "extZip = zipfile.ZipFile('C:/Temp/new.zip', 'r')\n",
    "extZip.extractall('C:/Temp/')\n",
    "extZip.close()"
   ]
  },
  {
   "cell_type": "markdown",
   "metadata": {},
   "source": [
    "### 2. 예외 처리"
   ]
  },
  {
   "cell_type": "markdown",
   "metadata": {},
   "source": [
    "#### try, except 문"
   ]
  },
  {
   "cell_type": "code",
   "execution_count": 39,
   "metadata": {},
   "outputs": [
    {
     "name": "stdout",
     "output_type": "stream",
     "text": [
      "파일 없음\n"
     ]
    }
   ],
   "source": [
    "import os\n",
    "try :\n",
    "    os.remove('C:/Temp/noFile.exe')\n",
    "    \n",
    "except :\n",
    "    print('파일 없음')"
   ]
  },
  {
   "cell_type": "code",
   "execution_count": 45,
   "metadata": {},
   "outputs": [
    {
     "name": "stdout",
     "output_type": "stream",
     "text": [
      "파이썬 글자 위치 --> [0, 13]\n"
     ]
    }
   ],
   "source": [
    "myStr = '파이썬은 재미 있어요. 파이썬만 매일매일 공부하고 싶어요. ^^'\n",
    "strPosList = []\n",
    "index = 0\n",
    "\n",
    "while True :\n",
    "    try :\n",
    "        index = myStr.index('파이썬', index)\n",
    "        strPosList.append(index)\n",
    "        index = index + 1\n",
    "    except :\n",
    "        break\n",
    "        \n",
    "print('파이썬 글자 위치 -->', strPosList)"
   ]
  },
  {
   "cell_type": "code",
   "execution_count": 47,
   "metadata": {
    "scrolled": true
   },
   "outputs": [
    {
     "name": "stdout",
     "output_type": "stream",
     "text": [
      "숫자1 : 3\n",
      "숫자2 : 6\n",
      "0.5\n"
     ]
    }
   ],
   "source": [
    "num1 = input('숫자1 : ')\n",
    "num2 = input('숫자2 : ')\n",
    "\n",
    "try :\n",
    "    num1 = int(num1)\n",
    "    num2 = int(num2)\n",
    "    res = num1/num2\n",
    "    print(res)\n",
    "    \n",
    "        \n",
    "except ValueError :\n",
    "    print('문자열은 숫자로 변환할 수 없습니다.')\n",
    "\n",
    "except ZeroDivisionError :\n",
    "    print('0으로 나눌 수 없습니다.')\n",
    "    \n",
    "except KeyboardInterrupt :\n",
    "    print('중지')"
   ]
  },
  {
   "cell_type": "markdown",
   "metadata": {},
   "source": [
    "#### try, except, else, finally 문"
   ]
  },
  {
   "cell_type": "code",
   "execution_count": 49,
   "metadata": {},
   "outputs": [
    {
     "name": "stdout",
     "output_type": "stream",
     "text": [
      "숫자1 : 3\n",
      "숫자2 : 7\n",
      "3 / 7 = 0.42857142857142855\n",
      "실행완료\n"
     ]
    }
   ],
   "source": [
    "num1 = input('숫자1 : ')\n",
    "num2 = input('숫자2 : ')\n",
    "\n",
    "try :\n",
    "    num1 = int(num1)\n",
    "    num2 = int(num2)\n",
    "\n",
    "except :\n",
    "    print('오류')\n",
    "    \n",
    "else :\n",
    "    print(f'{num1} / {num2} = {num1/num2}')\n",
    "    \n",
    "finally :\n",
    "    print('실행완료')"
   ]
  },
  {
   "cell_type": "code",
   "execution_count": null,
   "metadata": {},
   "outputs": [],
   "source": []
  }
 ],
 "metadata": {
  "kernelspec": {
   "display_name": "Python 3",
   "language": "python",
   "name": "python3"
  },
  "language_info": {
   "codemirror_mode": {
    "name": "ipython",
    "version": 3
   },
   "file_extension": ".py",
   "mimetype": "text/x-python",
   "name": "python",
   "nbconvert_exporter": "python",
   "pygments_lexer": "ipython3",
   "version": "3.8.3"
  }
 },
 "nbformat": 4,
 "nbformat_minor": 4
}
